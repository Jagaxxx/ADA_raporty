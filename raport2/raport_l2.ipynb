{
 "cells": [
  {
   "cell_type": "markdown",
   "id": "6a51b8e5",
   "metadata": {},
   "source": [
    "$$\\Huge \\text{RAPORT}$$\n",
    "$$\\huge \\text{LISTA 2}$$\n",
    "$$\\large \\text{Autorzy: Katarzyna Rudzińska, Jagoda Płócienniczak}$$"
   ]
  },
  {
   "cell_type": "code",
   "execution_count": 8,
   "id": "4f87534f",
   "metadata": {},
   "outputs": [],
   "source": [
    "import numpy as np\n",
    "import pandas as pd\n",
    "import matplotlib.pyplot as plt\n",
    "import seaborn as sns\n",
    "from scipy.stats import chi2_contingency, fisher_exact, kendalltau, beta, chi2  "
   ]
  },
  {
   "cell_type": "code",
   "execution_count": 171,
   "id": "01020079",
   "metadata": {},
   "outputs": [],
   "source": [
    "# np.set_printoptions(legacy='1.25')"
   ]
  },
  {
   "cell_type": "markdown",
   "id": "093c9407",
   "metadata": {},
   "source": [
    "Niniejszy raport stanowi kontynuację analizy opinii pracowników na temat szkoleń organizowanych przez firmę, rozpoczętej w poprzednim opracowaniu. Główna część analizy dotyczy oceny skuteczności szkolenia „Efektywna komunikacja w zespole” oraz identyfikacji czynników demograficznych (takich jak płeć, wiek czy staż pracy), które mogą mieć wpływ na poziom zadowolenia uczestników. W dalszej części przeprowadzono testy statystyczne służące weryfikacji hipotez dotyczących rozkładów odpowiedzi oraz zależności pomiędzy zmiennymi. Zastosowano między innymi testy chi-kwadrat, testy Fishera oraz testy Freemana-Haltona."
   ]
  },
  {
   "cell_type": "markdown",
   "id": "c0887008",
   "metadata": {},
   "source": [
    "Ze względu na fakt, iż przeprowadzona analiza obejmuje rozwiązanie zadań podzielonych na pięć głównych części, a w niektórych z nich odwołano się do wcześniej zdefiniowanych pojęć i zmiennych z poprzedniego raportu, ich implementacja została powtórzona również w niniejszym opracowaniu. Pozwala to na zachowanie spójności analizy oraz zapewnia pełną czytelność bieżącego raportu."
   ]
  },
  {
   "cell_type": "code",
   "execution_count": 2,
   "id": "3bea168e",
   "metadata": {},
   "outputs": [],
   "source": [
    "data = pd.read_csv('ankieta.csv', encoding='Windows-1250', sep=';')\n",
    "data['DZIAŁ'] = data['DZIAŁ'].astype(\"category\")\n",
    "data['CZY_KIER'] = data['CZY_KIER'].astype(\"category\")\n",
    "data['PŁEĆ'] = data['PŁEĆ'].astype(\"category\")"
   ]
  },
  {
   "cell_type": "code",
   "execution_count": 3,
   "id": "eef03409",
   "metadata": {},
   "outputs": [],
   "source": [
    "def categorize_age(age):\n",
    "    if age <= 35:\n",
    "        return \"<=35\"\n",
    "    elif 36 <= age <= 45:\n",
    "        return \"36-45\"\n",
    "    elif 46 <= age <= 55:\n",
    "        return \"46-55\"\n",
    "    else:\n",
    "        return \">55\"\n",
    "\n",
    "data[\"WIEK_KAT\"] = data[\"WIEK\"].apply(categorize_age)\n",
    "data['WIEK_KAT'] = data['WIEK_KAT'].astype(\"category\")"
   ]
  },
  {
   "cell_type": "code",
   "execution_count": 4,
   "id": "095fb9d7",
   "metadata": {},
   "outputs": [],
   "source": [
    "def is_satisfied(satisfaction_lvl):\n",
    "    if satisfaction_lvl == -2 or satisfaction_lvl == -1:\n",
    "        return 'NIE'\n",
    "    else:\n",
    "        return 'TAK'\n",
    "\n",
    "data[\"CZY_ZADOW\"] = data[\"PYT_2\"].apply(is_satisfied)\n",
    "data[\"CZY_ZADOW\"] = data[\"CZY_ZADOW\"].astype(\"category\")"
   ]
  },
  {
   "cell_type": "markdown",
   "id": "c01f8564",
   "metadata": {},
   "source": [
    "## CZĘŚĆ I"
   ]
  },
  {
   "cell_type": "markdown",
   "id": "754b7204",
   "metadata": {},
   "source": [
    "### ZADANIE 1\n",
    "    W ankiecie przedstawionej na poprzedniej liście pracownicy zostali poproszeni o wyrażenie opinii na temat skuteczności szkolenia \"Efektywna komunikacja w zespole\" zorganizowanego przez firmę. Wśród próbki 200 pracowników (losowanie proste ze zwracaniem) uzyskano wyniki:\n",
    "        • 14 pracowników - bardzo niezadowolonych,\n",
    "        • 17 pracowników - niezadowolonych,\n",
    "        • 40 pracowników - nie ma zdania,\n",
    "        • 100 pracowników - zadowolonych,\n",
    "        • 29 pracowników - bardzo zadowolonych,\n",
    "    Na podstawie danych wyznacz przedział ufności dla wektora prawodobieństw opisującego stopień zadowolenia ze szkolenia. Przyjmij poziom ufności 0,95."
   ]
  },
  {
   "cell_type": "code",
   "execution_count": 7,
   "id": "12730461",
   "metadata": {},
   "outputs": [
    {
     "data": {
      "text/html": [
       "<div>\n",
       "<style scoped>\n",
       "    .dataframe tbody tr th:only-of-type {\n",
       "        vertical-align: middle;\n",
       "    }\n",
       "\n",
       "    .dataframe tbody tr th {\n",
       "        vertical-align: top;\n",
       "    }\n",
       "\n",
       "    .dataframe thead th {\n",
       "        text-align: right;\n",
       "    }\n",
       "</style>\n",
       "<table border=\"1\" class=\"dataframe\">\n",
       "  <thead>\n",
       "    <tr style=\"text-align: right;\">\n",
       "      <th></th>\n",
       "      <th>Kategoria</th>\n",
       "      <th>Liczba</th>\n",
       "      <th>Proporcja</th>\n",
       "      <th>Dolna granica CI</th>\n",
       "      <th>Górna granica CI</th>\n",
       "    </tr>\n",
       "  </thead>\n",
       "  <tbody>\n",
       "    <tr>\n",
       "      <th>0</th>\n",
       "      <td>bardzo niezadowoleni</td>\n",
       "      <td>14</td>\n",
       "      <td>0.070</td>\n",
       "      <td>0.0388</td>\n",
       "      <td>0.1147</td>\n",
       "    </tr>\n",
       "    <tr>\n",
       "      <th>1</th>\n",
       "      <td>niezadowoleni</td>\n",
       "      <td>17</td>\n",
       "      <td>0.085</td>\n",
       "      <td>0.0503</td>\n",
       "      <td>0.1326</td>\n",
       "    </tr>\n",
       "    <tr>\n",
       "      <th>2</th>\n",
       "      <td>neutralni</td>\n",
       "      <td>40</td>\n",
       "      <td>0.200</td>\n",
       "      <td>0.1469</td>\n",
       "      <td>0.2622</td>\n",
       "    </tr>\n",
       "    <tr>\n",
       "      <th>3</th>\n",
       "      <td>zadowoleni</td>\n",
       "      <td>100</td>\n",
       "      <td>0.500</td>\n",
       "      <td>0.4287</td>\n",
       "      <td>0.5713</td>\n",
       "    </tr>\n",
       "    <tr>\n",
       "      <th>4</th>\n",
       "      <td>bardzo zadowoleni</td>\n",
       "      <td>29</td>\n",
       "      <td>0.145</td>\n",
       "      <td>0.0993</td>\n",
       "      <td>0.2016</td>\n",
       "    </tr>\n",
       "  </tbody>\n",
       "</table>\n",
       "</div>"
      ],
      "text/plain": [
       "              Kategoria  Liczba  Proporcja  Dolna granica CI  Górna granica CI\n",
       "0  bardzo niezadowoleni      14      0.070            0.0388            0.1147\n",
       "1         niezadowoleni      17      0.085            0.0503            0.1326\n",
       "2             neutralni      40      0.200            0.1469            0.2622\n",
       "3            zadowoleni     100      0.500            0.4287            0.5713\n",
       "4     bardzo zadowoleni      29      0.145            0.0993            0.2016"
      ]
     },
     "execution_count": 7,
     "metadata": {},
     "output_type": "execute_result"
    }
   ],
   "source": [
    "n = 200\n",
    "counts = np.array([14, 17, 40, 100, 29])\n",
    "labels = [\"bardzo niezadowoleni\", \"niezadowoleni\", \"neutralni\", \"zadowoleni\", \"bardzo zadowoleni\"]\n",
    "proportions = counts / n\n",
    "alpha = 0.05\n",
    "\n",
    "ci_lower = []\n",
    "ci_upper = []\n",
    "\n",
    "for x in counts:\n",
    "    lower = beta.ppf(alpha / 2, x, n - x + 1)\n",
    "    upper = beta.ppf(1 - alpha / 2, x + 1, n - x)\n",
    "    ci_lower.append(lower)\n",
    "    ci_upper.append(upper)\n",
    "\n",
    "ci_df = pd.DataFrame({\n",
    "    \"Kategoria\": labels,\n",
    "    \"Liczba\": counts,\n",
    "    \"Proporcja\": proportions,\n",
    "    \"Dolna granica CI\": ci_lower,\n",
    "    \"Górna granica CI\": ci_upper\n",
    "})\n",
    "\n",
    "ci_df = ci_df.round(4)\n",
    "ci_df\n"
   ]
  },
  {
   "cell_type": "markdown",
   "id": "37deeb04",
   "metadata": {},
   "source": [
    "Na podstawie próby 200 pracowników oszacowano proporcje ocen szkolenia „Efektywna komunikacja w zespole” w pięciu kategoriach. Dla każdej kategorii wyznaczono 95% przedział ufności metodą Cloppera-Pearsona, co pozwala oszacować niepewność tych proporcji w populacji wszystkich pracowników.\n",
    "\n",
    "Najwięcej osób zadeklarowało, że są **zadowoleni** (50% próby), a ich przedział ufności to (42.87%, 57.13%). Drugą najliczniejszą grupą byli pracownicy **neutralni** (20%, CI: 14.69%, 26.22%). Stosunkowo niewielki odsetek osób był **bardzo niezadowolony** (7%) lub **niezadowolony** (8.5%).Przedziały te informują nas, że z 95% pewnością prawdziwe proporcje ocen w całej populacji znajdują się w wyznaczonych granicach. Największa niepewność dotyczy skrajnych kategorii (bardzo niezadowoleni i bardzo zadowoleni), co wynika z mniejszej liczby obserwacji w tych grupach."
   ]
  },
  {
   "cell_type": "markdown",
   "id": "9d5d43fc",
   "metadata": {},
   "source": [
    "### ZADANIE 2 \n",
    "    Napisz funkcję, która wyznacza wartość poziomu krytycznego w następujących testach:\n",
    "        • chi-kwadrat Pearsona\n",
    "        • chi-kwadrat największej wiarogodności\n",
    "    służących do weryfikacji hipotezy H0 : p = p0 przy hipotezie alternatywnej H1 : p = p0 na podstawie obserwacji x wektora losowego X z rozkładu wielomianowego z parametrami n i p."
   ]
  },
  {
   "cell_type": "code",
   "execution_count": 45,
   "id": "802f1093",
   "metadata": {},
   "outputs": [],
   "source": [
    "def test_chi_squared(x, p0, n):\n",
    "    import numpy as np\n",
    "    from scipy.stats import chi2\n",
    "\n",
    "    x = np.array(x)\n",
    "    p0 = np.array(p0)\n",
    "\n",
    "    if not np.isclose(np.sum(p0), 1):\n",
    "        raise ValueError(\"Rozkład p0 musi sumować się do 1.\")\n",
    "    if not np.isclose(np.sum(x), n):\n",
    "        raise ValueError(\"Suma obserwacji x musi być równa n.\")\n",
    "\n",
    "    expected = n * p0\n",
    "    mask = expected > 0\n",
    "    df = np.count_nonzero(mask) - 1\n",
    "\n",
    "    # Pearson chi^2\n",
    "    chi2_pearson = np.sum((x[mask] - expected[mask]) ** 2 / expected[mask])\n",
    "    p_pearson = 1 - chi2.cdf(chi2_pearson, df)\n",
    "\n",
    "    # Likelihood-ratio chi^2 (G-test)\n",
    "    with np.errstate(divide='ignore', invalid='ignore'):\n",
    "        terms = np.where(x != 0, x * np.log(x / expected), 0)\n",
    "    chi2_likelihood = 2 * np.sum(terms)\n",
    "    p_likelihood = 1 - chi2.cdf(chi2_likelihood, df)\n",
    "\n",
    "    return {\n",
    "        \"Pearson chi^2\": chi2_pearson,\n",
    "        \"Pearson p-value\": p_pearson,\n",
    "        \"Likelihood ratio chi^2\": chi2_likelihood,\n",
    "        \"Likelihood ratio p-value\": p_likelihood\n",
    "    }\n"
   ]
  },
  {
   "cell_type": "code",
   "execution_count": 46,
   "id": "6d396880",
   "metadata": {},
   "outputs": [
    {
     "data": {
      "text/plain": [
       "{'Pearson chi^2': 6.3,\n",
       " 'Pearson p-value': 0.1778363264982168,\n",
       " 'Likelihood ratio chi^2': 6.038144239875159,\n",
       " 'Likelihood ratio p-value': 0.1963176909242157}"
      ]
     },
     "execution_count": 46,
     "metadata": {},
     "output_type": "execute_result"
    }
   ],
   "source": [
    "x = [14, 17, 40, 100, 29]\n",
    "n = sum(x)\n",
    "p0 = [0.1, 0.1, 0.2, 0.5, 0.1]  # przykładowy teoretyczny rozkład\n",
    "\n",
    "test_chi_squared(x, p0, n)"
   ]
  },
  {
   "cell_type": "markdown",
   "id": "d887e3f3",
   "metadata": {},
   "source": [
    "W zadaniu rozważamy dwa testy statystyczne służące do weryfikacji hipotezy zerowej $ H_0: \\mathbf{p} = \\mathbf{p}_0 $, gdzie $ \\mathbf{p} $ to nieznany wektor prawdopodobieństw rozkładu wielomianowego, a $ \\mathbf{p}_0 $ to hipotetyczny (zadany) rozkład teoretyczny. Oba testy opierają się na porównaniu zaobserwowanych liczności $ \\mathbf{x} = (x_1, \\ldots, x_k) $ z licznościami oczekiwanymi $ \\mathbf{E} = n \\cdot \\mathbf{p}_0 $, gdzie $ n $ to liczność próby.\n",
    "\n",
    "#### 1. Test chi-kwadrat Pearsona\n",
    "\n",
    "Statystyka testowa Pearsona dana jest wzorem:\n",
    "$\n",
    "\\chi^2_P = \\sum_{i=1}^k \\frac{(x_i - np_{0i})^2}{np_{0i}}\n",
    "$\n",
    "\n",
    "Wartość tej statystyki porównuje się z rozkładem chi-kwadrat o $ k-1 $ stopniach swobody. Jeżeli obliczona statystyka przekracza wartość krytyczną, odrzucamy hipotezę zerową.\n",
    "\n",
    "#### 2. Test chi-kwadrat największej wiarygodności (test log-likelihood ratio)\n",
    "\n",
    "Drugi test oparty jest na statystyce logarytmu stosunku wiarygodności (likelihood ratio):\n",
    "$\n",
    "\\chi^2_{LR} = 2 \\sum_{i=1}^k x_i \\ln\\left( \\frac{x_i}{np_{0i}} \\right)\n",
    "$\n",
    "z konwencją, że $ 0 \\cdot \\ln(0) = 0 $. Podobnie jak w teście Pearsona, ta statystyka ma asymptotycznie rozkład chi-kwadrat z $ k - 1 $ stopniami swobody.\n",
    "\n",
    "#### Poziom krytyczny i wartość p\n",
    "\n",
    "Poziom krytyczny to wartość statystyki testowej, dla której $ p $ -value równa się przyjętemu poziomowi istotności (np. 0.05). W praktyce oblicza się wartość statystyki testowej dla danych obserwacji, a następnie wyznacza się tzw. wartość p (p-value), czyli prawdopodobieństwo otrzymania równie ekstremalnej lub bardziej ekstremalnej wartości przy założeniu, że $ H_0 $ jest prawdziwa:\n",
    "\n",
    "$\n",
    "\\text{p-value} = P(\\chi^2 > \\text{statystyka testowa})\n",
    "$\n",
    "\n",
    "Jeśli $ \\text{p-value} < \\alpha $, gdzie $ \\alpha $ to poziom istotności (np. 0.05), to hipoteza $ H_0 $ jest odrzucana.\n",
    "\n",
    "Oba testy są asymptotycznie równoważne przy dużych próbach, jednak test największej wiarygodności lepiej radzi sobie przy małych licznościach (zwłaszcza gdy niektóre wartości oczekiwane są < 5).\n"
   ]
  },
  {
   "cell_type": "markdown",
   "id": "3d156dcf",
   "metadata": {},
   "source": [
    "### ZADANIE 3\n",
    "    Na podstawie danych z ankiety z poprzedniej listy zweryfikuj hipotezę, że w grupie pracowników zatrudnionwych w Dziale Produktowym rozkład odpowiedzi na pytanie \"Jak bardzo zgadzasz się ze stwierdzeniem, że firma zapewnia odpowiednie wsparcie i materiały umożliwiające skuteczne wykorzystanie w praktyce wiedzy zdobytej w trakcie szkoleń?\" jest równomierny, tzn. jest jednakowe prawdopodobieństwo, że pracownik zatrudniony w Dziale Produkcjnym udzielił odpowiedzi \"zdecydowanie się nie zgadzam\", \"nie zgadzam się\", \"nie mam zdania\", \"zgadzam się\", \"zdecydowanie się zgadzam\" na pytanie PYT_1. Przyjmij poziom istotności 0,05. Skorzystaj z funkcji napisanej w zadaniu 2."
   ]
  },
  {
   "cell_type": "code",
   "execution_count": 53,
   "id": "10d960d4",
   "metadata": {},
   "outputs": [
    {
     "name": "stdout",
     "output_type": "stream",
     "text": [
      "Pearson chi^2: 89.4943\n",
      "Pearson p-value: 0.0000\n",
      "Likelihood ratio chi^2: 85.9514\n",
      "Likelihood ratio p-value: 0.0000\n"
     ]
    }
   ],
   "source": [
    "df_pd = data[data[\"DZIAŁ\"] == \"PD\"]\n",
    "df_pd = df_pd.copy()\n",
    "\n",
    "\n",
    "odpowiedzi_map = {\n",
    "    -3: \"zdecydowanie się nie zgadzam\",\n",
    "    -2: \"nie zgadzam się\",\n",
    "    -1: \"nie mam zdania\",\n",
    "     0: \"zgadzam się\",\n",
    "     1: \"zdecydowanie się zgadzam\"\n",
    "}\n",
    "\n",
    "kategorie = [\n",
    "    \"zdecydowanie się nie zgadzam\",\n",
    "    \"nie zgadzam się\",\n",
    "    \"nie mam zdania\",\n",
    "    \"zgadzam się\",\n",
    "    \"zdecydowanie się zgadzam\"\n",
    "]\n",
    "\n",
    "df_pd[\"PYT_1_opis\"] = df_pd[\"PYT_1\"].map(odpowiedzi_map)\n",
    "\n",
    "x = df_pd[\"PYT_1_opis\"].value_counts().reindex(kategorie, fill_value=0).values\n",
    "n = x.sum()\n",
    "p0 = [1/5] * 5\n",
    "\n",
    "wynik = test_chi_squared(x, p0, n)\n",
    "\n",
    "for nazwa, wartosc in wynik.items():\n",
    "    print(f\"{nazwa}: {wartosc:.4f}\")\n"
   ]
  },
  {
   "cell_type": "markdown",
   "id": "5046b75c",
   "metadata": {},
   "source": [
    "## CZĘŚĆ II"
   ]
  },
  {
   "cell_type": "markdown",
   "id": "b81b2a72",
   "metadata": {},
   "source": [
    "### ZADANIE 4\n",
    "    Zapoznaj się z funkcjami służącymi do wykonania testu Fishera oraz testu Freemana-Haltona."
   ]
  },
  {
   "cell_type": "code",
   "execution_count": null,
   "id": "5589e2ca",
   "metadata": {},
   "outputs": [
    {
     "name": "stdout",
     "output_type": "stream",
     "text": [
      "Test Fishera:\n",
      "Odsetek szans: 1.5\n",
      "Wartość p: 0.7536263339838003\n"
     ]
    }
   ],
   "source": [
    "from scipy.stats import fisher_exact\n",
    "\n",
    "table_fisher = np.array([[10, 20], [5, 15]])\n",
    "\n",
    "oddsratio, p_value_fisher = fisher_exact(table_fisher)\n",
    "\n",
    "print(\"Test Fishera:\")\n",
    "print(f\"Odsetek szans: {oddsratio}\")\n",
    "print(f\"Wartość p: {p_value_fisher}\")\n"
   ]
  },
  {
   "cell_type": "code",
   "execution_count": 69,
   "id": "84658c55",
   "metadata": {},
   "outputs": [],
   "source": [
    "def freeman_halton(observed, num_simulations=10000, random_state=None):\n",
    "    \"\"\"\n",
    "    Dokładny test Freemana-Haltona (Monte Carlo) dla tabel kontyngencji większych niż 2x2.\n",
    "    \n",
    "    Parameters:\n",
    "        observed (np.array): Tablica kontyngencji (2D).\n",
    "        num_simulations (int): Liczba permutacji Monte Carlo (np. 10000).\n",
    "        random_state (int): Opcjonalny seed generatora.\n",
    "\n",
    "    Returns:\n",
    "        stat_obs (float): Statystyka testowa (chi^2 z danych).\n",
    "        p_value (float): P-wartość oszacowana metodą Monte Carlo.\n",
    "    \"\"\"\n",
    "    rng = np.random.default_rng(random_state)\n",
    "    observed = np.array(observed)\n",
    "    \n",
    "    # Sprawdzenie wejścia\n",
    "    if observed.ndim != 2:\n",
    "        raise ValueError(\"Tylko tablice 2D są obsługiwane.\")\n",
    "    \n",
    "    row_totals = np.sum(observed, axis=1)\n",
    "    col_totals = np.sum(observed, axis=0)\n",
    "    total = np.sum(observed)\n",
    "\n",
    "    # Oblicz statystykę z oryginalnych danych\n",
    "    stat_obs, _, _, _ = chi2_contingency(observed, correction=False)\n",
    "\n",
    "    # Generuj permutacje i licz ile razy statystyka >= stat_obs\n",
    "    count = 0\n",
    "    for _ in range(num_simulations):\n",
    "        # Wylosuj permutację zgodną z marginesami (row/col sums)\n",
    "        table = np.zeros_like(observed)\n",
    "        flat = np.concatenate([\n",
    "            [i] * row_totals[i] for i in range(len(row_totals))\n",
    "        ])\n",
    "        rng.shuffle(flat)\n",
    "        idx = 0\n",
    "        for j in range(len(col_totals)):\n",
    "            col = flat[idx:idx + col_totals[j]]\n",
    "            for i in range(len(row_totals)):\n",
    "                table[i, j] = np.sum(col == i)\n",
    "            idx += col_totals[j]\n",
    "\n",
    "        stat_sim, _, _, _ = chi2_contingency(table, correction=False)\n",
    "        if stat_sim >= stat_obs:\n",
    "            count += 1\n",
    "\n",
    "    p_value = count / num_simulations\n",
    "    return stat_obs, p_value\n"
   ]
  },
  {
   "cell_type": "code",
   "execution_count": 58,
   "id": "c0fa2483",
   "metadata": {},
   "outputs": [
    {
     "name": "stdout",
     "output_type": "stream",
     "text": [
      "Statystyka chi^2: 3.9722\n",
      "P-wartość (Monte Carlo): 0.1317\n"
     ]
    }
   ],
   "source": [
    "observed = np.array([\n",
    "    [10, 15, 5],\n",
    "    [20, 10, 5]\n",
    "])\n",
    "\n",
    "stat, p = freeman_halton(observed, num_simulations=10000, random_state=42)\n",
    "print(f\"Statystyka chi^2: {stat:.4f}\")\n",
    "print(f\"P-wartość (Monte Carlo): {p:.4f}\")\n"
   ]
  },
  {
   "cell_type": "markdown",
   "id": "6c84805f",
   "metadata": {},
   "source": [
    "### Test Freemana-Haltona \n",
    "\n",
    "Test Freemana-Haltona jest rozszerzeniem testu dokładnego Fishera dla tabel kontyngencji większych niż 2×2. Służy do testowania niezależności między dwiema zmiennymi kategorycznymi, gdy obserwacje przedstawione są w postaci dwuwymiarowej tablicy częstości.\n",
    "\n",
    "Podobnie jak test Fishera, test Freemana-Haltona opiera się na dokładnych wyliczeniach prawdopodobieństw dla wszystkich możliwych tabel o tych samych marginesach (czyli sumach wierszy i kolumn) co tabela zaobserwowana. Dzięki temu unika się stosowania rozkładu asymptotycznego, co jest szczególnie istotne w analizie małych prób, gdzie założenia testu chi-kwadrat mogą być niespełnione.\n",
    "\n",
    "#### Zasada działania testu\n",
    "\n",
    "Hipoteza zerowa (H₀) w tym teście zakłada, że badane zmienne są niezależne, a więc zaobserwowana tablica mogła powstać losowo przy zadanych marginesach. W praktyce polega to na tym, że przy ustalonych sumach wierszy i kolumn rozważane są wszystkie możliwe tablice kontyngencji, jakie mogą wystąpić. Każdej z tych tabel przypisuje się prawdopodobieństwo wystąpienia pod warunkiem prawdziwości hipotezy zerowej. Następnie porównuje się wartość statystyki testowej (najczęściej chi-kwadrat Pearsona) obliczoną dla tabeli zaobserwowanej z wartościami tej statystyki dla wszystkich możliwych tabel. P-wartość w teście określana jest jako proporcja tych tabel, dla których statystyka testowa przyjmuje wartości większe lub równe niż w przypadku danych obserwowanych.\n",
    "\n",
    "Najczęściej stosowaną statystyką jest klasyczna statystyka chi-kwadrat Pearsona:\n",
    "\n",
    "$\n",
    "\\chi^2 = \\sum_{i,j} \\frac{(O_{ij} - E_{ij})^2}{E_{ij}}\n",
    "$\n",
    "\n",
    "gdzie:\n",
    "- $ O_{ij} $ – liczba zaobserwowana w komórce (i, j),\n",
    "- $ E_{ij} $ - wartość oczekiwana w tej komórce pod założeniem niezależności zmiennych.\n",
    "\n",
    "#### Symulacja Monte Carlo\n",
    "\n",
    "Ponieważ liczba możliwych tablic dla większych wymiarów rośnie bardzo szybko (eksponencjalnie), pełne przeliczenie wszystkich wariantów jest praktycznie niemożliwe. Dlatego w praktyce test Freemana-Haltona przeprowadza się metodą Monte Carlo:\n",
    "\n",
    "1. Generujemy losowo dużą liczbę tablic kontyngencji o tych samych marginesach co tabela obserwowana.\n",
    "2. Dla każdej z tych tablic wyznaczamy wartość statystyki testowej.\n",
    "3. Obliczamy p-wartość jako odsetek tablic, dla których wartość statystyki jest większa lub równa statystyce z danych.\n",
    "\n",
    "P-wartość z Monte Carlo obliczamy jako:\n",
    "\n",
    "$\n",
    "p\\text{-value} = \\frac{\\text{liczba tabel z } \\chi^2_{\\text{perm}} \\geq \\chi^2_{\\text{dane}}}{\\text{liczba permutacji}}\n",
    "$\n"
   ]
  },
  {
   "cell_type": "markdown",
   "id": "216d5f8a",
   "metadata": {},
   "source": [
    "### ZADANIE 5\n",
    "    Korzystajac z testu Fishera, na poziomie istotnosci 0.05, zweryfikuj hipotezę, że zmienna 'PŁEć' i zmienna 'CZY_KIER' są niezależne. Czy na poziomie istotności 0.05 możemy wnioskować, że prawdopodobieństwo tego, że na stanowisku kierowniczym pracuje kobieta jest równe prawdopodobieństwu tego, że na stanowisku kierowniczym pracuje mężczyzna? Uzasadnij odpowiedź."
   ]
  },
  {
   "cell_type": "code",
   "execution_count": null,
   "id": "916216e1",
   "metadata": {},
   "outputs": [
    {
     "name": "stdout",
     "output_type": "stream",
     "text": [
      "\n",
      "Test Fishera:\n",
      "Odsetek szans: 0.7351712614870509\n",
      "Wartość p: 0.6659028889666552\n",
      "Nie odrzucamy hipotezy zerowej: Zmienne PŁEĆ i CZY_KIER są niezależne.\n"
     ]
    }
   ],
   "source": [
    "# Liczymy liczbę kobiet i mężczyzn na stanowiskach kierowniczych\n",
    "num_women_kierownik = len(data[(data['PŁEĆ'] == 'K') & (data['CZY_KIER'] == 'Tak')])\n",
    "num_men_kierownik = len(data[(data['PŁEĆ'] == 'M') & (data['CZY_KIER'] == 'Tak')])\n",
    "\n",
    "# Liczymy liczbę kobiet i mężczyzn, którzy nie są na stanowiskach kierowniczych\n",
    "num_women_non_kierownik = len(data[(data['PŁEĆ'] == 'K') & (data['CZY_KIER'] == 'Nie')])\n",
    "num_men_non_kierownik = len(data[(data['PŁEĆ'] == 'M') & (data['CZY_KIER'] == 'Nie')])\n",
    "\n",
    "table_fisher = np.array([[num_women_kierownik, num_women_non_kierownik],\n",
    "                         [num_men_kierownik, num_men_non_kierownik]])\n",
    " \n",
    "oddsratio, p_value_fisher = fisher_exact(table_fisher)\n",
    "\n",
    "print(\"\\nTest Fishera:\")\n",
    "print(f\"Odsetek szans: {oddsratio}\")\n",
    "print(f\"Wartość p: {p_value_fisher}\")\n",
    "\n",
    "alpha = 0.05\n",
    "if p_value_fisher < alpha:\n",
    "    print(\"Odrzucamy hipotezę zerową: Zmienne PŁEĆ i CZY_KIER są zależne.\")\n",
    "else:\n",
    "    print(\"Nie odrzucamy hipotezy zerowej: Zmienne PŁEĆ i CZY_KIER są niezależne.\")\n"
   ]
  },
  {
   "cell_type": "markdown",
   "id": "380e422e",
   "metadata": {},
   "source": [
    "1. Czy zmienne PŁEĆ i CZY_KIER są niezależne?\n",
    "    \n",
    "    Na podstawie wyników testu Fishera, zmienne PŁEĆ i CZY_KIER są niezależne. Wynika to z faktu, że wartość p-value wynosi 0.6659, co jest znacznie większe niż 0.05, więc nie ma podstaw do odrzucenia hipotezy zerowej o niezależności tych zmiennych.\n",
    "\n",
    "\n",
    "2. Czy na poziomie istotności 0.05 możemy wnioskować, że prawdopodobieństwo tego, że na stanowisku kierowniczym pracuje kobieta, jest równe prawdopodobieństwu tego, że na stanowisku kierowniczym pracuje mężczyzna?\n",
    "    \n",
    "    Ponieważ zmienne PŁEĆ i CZY_KIER są niezależne, możemy wnioskować, że prawdopodobieństwo tego, że na stanowisku kierowniczym pracuje kobieta, jest równe prawdopodobieństwu tego, że na stanowisku kierowniczym pracuje mężczyzna. Wynik testu Fishera wskazuje, że brak zależności między tymi zmiennymi sugeruje, iż nie ma statystycznie istotnej różnicy w proporcjach kobiet i mężczyzn na stanowiskach kierowniczych."
   ]
  },
  {
   "cell_type": "markdown",
   "id": "a91bdd0d",
   "metadata": {},
   "source": [
    "### ZDANIE 6\n",
    "    Korzystajac z testu Freemana-Haltona na poziomie istotności 0,05 zweryfikuj następujące hipotezy:\n",
    "        a) zajmowanie stanowiska kierowniczego nie zależy od wieku (CZY_KIER oraz WIEK_KAT),\n",
    "        b) zajmowanie stanowiska kierowniczego nie zależy od stażu pracy (CZY_KIER oraz STAŻ),\n",
    "        c) stopień zadowolenia ze szkoleń w kontekście dopasowania do indywidualnych potrzeb w pierwszym badanym okresie nie zależy od zajmowanego stanowiska (PYT_2 oraz CZY_KIER),\n",
    "        d) stopień zadowolenia ze szkoleń w kontekście dopasowania do indywidualnych potrzeb w pierwszym badanym okresie nie zależy od stażu (PYT_2 oraz STAŻ),\n",
    "        e) stopień zadowolenia ze szkoleń w kontekście dopasowania do indywidualnych potrzeb w pierwszym badanym okresie nie zależy od płci (PYT_2 oraz PŁEĆ),\n",
    "        f) stopień zadowolenia ze szkoleń w kontekście dopasowania do indywidualnych potrzeb w pierwszym badanym okresie nie zależy od wieku (PYT_2 oraz WIEK_KAT).\n",
    "    Wykonaj podpunkty c), d), e) oraz d) zastępujęc zmienną PYT_2 przez zmienną CZY_ZADOW zdefiniowaną w zadaniu 1. w części I z poprzedniej listy. Porównaj wyniki."
   ]
  },
  {
   "cell_type": "markdown",
   "id": "670363d8",
   "metadata": {},
   "source": [
    "a) zajmowanie stanowiska kierowniczego nie zależy od wieku (CZY_KIER oraz WIEK_KAT)"
   ]
  },
  {
   "cell_type": "code",
   "execution_count": 59,
   "id": "e0c5ad5a",
   "metadata": {},
   "outputs": [
    {
     "name": "stdout",
     "output_type": "stream",
     "text": [
      "Statystyka chi-kwadrat: 1.0803155311825832\n",
      "P-wartość: 0.7988\n",
      "Brak podstaw do odrzucenia hipotezy zerowej: brak istotnej zależności.\n"
     ]
    }
   ],
   "source": [
    "contingency_table_a = pd.crosstab(data['CZY_KIER'], data['WIEK_KAT'])\n",
    "\n",
    "chi2_stat, p = freeman_halton(contingency_table_a.values)\n",
    "\n",
    "print(\"Statystyka chi-kwadrat:\", chi2_stat)\n",
    "print(\"P-wartość:\", p)\n",
    "\n",
    "alpha = 0.05\n",
    "if p < alpha:\n",
    "    print(\"Odrzucamy hipotezę zerową: istnieje zależność między CZY_KIER a WIEK_KAT.\")\n",
    "else:\n",
    "    print(\"Brak podstaw do odrzucenia hipotezy zerowej: brak istotnej zależności.\")"
   ]
  },
  {
   "cell_type": "markdown",
   "id": "cb4a5081",
   "metadata": {},
   "source": [
    "b) zajmowanie stanowiska kierowniczego nie zależy od stażu pracy (CZY_KIER oraz STAŻ)"
   ]
  },
  {
   "cell_type": "code",
   "execution_count": 60,
   "id": "afb8000e",
   "metadata": {},
   "outputs": [
    {
     "name": "stdout",
     "output_type": "stream",
     "text": [
      "Statystyka chi-kwadrat: 23.179908824020515\n",
      "P-wartość: 0.0001\n",
      "Odrzucamy hipotezę zerową: istnieje zależność między CZY_KIER a STAŻ.\n"
     ]
    }
   ],
   "source": [
    "contingency_table_b = pd.crosstab(data['CZY_KIER'], data['STAŻ'])\n",
    "\n",
    "chi2_stat, p = freeman_halton(contingency_table_b.values)\n",
    "\n",
    "print(\"Statystyka chi-kwadrat:\", chi2_stat)\n",
    "print(\"P-wartość:\", p)\n",
    "\n",
    "alpha = 0.05\n",
    "if p < alpha:\n",
    "    print(\"Odrzucamy hipotezę zerową: istnieje zależność między CZY_KIER a STAŻ.\")\n",
    "else:\n",
    "    print(\"Brak podstaw do odrzucenia hipotezy zerowej: brak istotnej zależności.\")"
   ]
  },
  {
   "cell_type": "markdown",
   "id": "9de7c4c3",
   "metadata": {},
   "source": [
    "c) stopień zadowolenia ze szkoleń w kontekście dopasowania do indywidualnych potrzeb w pierwszym badanym okresie nie zależy od zajmowanego stanowiska (PYT_2 oraz CZY_KIER)"
   ]
  },
  {
   "cell_type": "code",
   "execution_count": 61,
   "id": "69019067",
   "metadata": {},
   "outputs": [
    {
     "name": "stdout",
     "output_type": "stream",
     "text": [
      "Statystyka chi-kwadrat: 13.11369172640849\n",
      "P-wartość: 0.0172\n",
      "Odrzucamy hipotezę zerową: istnieje zależność między PYT_2 a CZY_KIER.\n"
     ]
    }
   ],
   "source": [
    "contingency_table_c = pd.crosstab(data['PYT_2'], data['CZY_KIER'])\n",
    "\n",
    "chi2_stat, p = freeman_halton(contingency_table_c.values)\n",
    "\n",
    "print(\"Statystyka chi-kwadrat:\", chi2_stat)\n",
    "print(\"P-wartość:\", p)\n",
    "\n",
    "alpha = 0.05\n",
    "if p < alpha:\n",
    "    print(\"Odrzucamy hipotezę zerową: istnieje zależność między PYT_2 a CZY_KIER.\")\n",
    "else:\n",
    "    print(\"Brak podstaw do odrzucenia hipotezy zerowej: brak istotnej zależności.\")"
   ]
  },
  {
   "cell_type": "markdown",
   "id": "d79f5167",
   "metadata": {},
   "source": [
    "d) stopień zadowolenia ze szkoleń w kontekście dopasowania do indywidualnych potrzeb w pierwszym badanym okresie nie zależy od stażu (PYT_2 oraz STAŻ)"
   ]
  },
  {
   "cell_type": "code",
   "execution_count": 62,
   "id": "69c75612",
   "metadata": {},
   "outputs": [
    {
     "name": "stdout",
     "output_type": "stream",
     "text": [
      "Statystyka chi-kwadrat: 26.1193138645\n",
      "P-wartość: 0.0009\n",
      "Odrzucamy hipotezę zerową: istnieje zależność między PYT_2 a STAŻ.\n"
     ]
    }
   ],
   "source": [
    "contingency_table_d = pd.crosstab(data['PYT_2'], data['STAŻ'])\n",
    "\n",
    "chi2_stat, p = freeman_halton(contingency_table_d.values)\n",
    "\n",
    "print(\"Statystyka chi-kwadrat:\", chi2_stat)\n",
    "print(\"P-wartość:\", p)\n",
    "\n",
    "alpha = 0.05\n",
    "if p < alpha:\n",
    "    print(\"Odrzucamy hipotezę zerową: istnieje zależność między PYT_2 a STAŻ.\")\n",
    "else:\n",
    "    print(\"Brak podstaw do odrzucenia hipotezy zerowej: brak istotnej zależności.\")"
   ]
  },
  {
   "cell_type": "markdown",
   "id": "7787df40",
   "metadata": {},
   "source": [
    "e) stopień zadowolenia ze szkoleń w kontekście dopasowania do indywidualnych potrzeb w pierwszym badanym okresie nie zależy od płci (PYT_2 oraz PŁEĆ)"
   ]
  },
  {
   "cell_type": "code",
   "execution_count": 63,
   "id": "7f21dc9a",
   "metadata": {},
   "outputs": [
    {
     "name": "stdout",
     "output_type": "stream",
     "text": [
      "Statystyka chi-kwadrat: 2.2700823224897917\n",
      "P-wartość: 0.5471\n",
      "Brak podstaw do odrzucenia hipotezy zerowej: brak istotnej zależności.\n"
     ]
    }
   ],
   "source": [
    "contingency_table_e = pd.crosstab(data['PYT_2'], data['PŁEĆ'])\n",
    "\n",
    "chi2_stat, p = freeman_halton(contingency_table_e.values)\n",
    "\n",
    "print(\"Statystyka chi-kwadrat:\", chi2_stat)\n",
    "print(\"P-wartość:\", p)\n",
    "\n",
    "alpha = 0.05\n",
    "if p < alpha:\n",
    "    print(\"Odrzucamy hipotezę zerową: istnieje zależność między PYT_2 a PŁEĆ.\")\n",
    "else:\n",
    "    print(\"Brak podstaw do odrzucenia hipotezy zerowej: brak istotnej zależności.\")"
   ]
  },
  {
   "cell_type": "markdown",
   "id": "475cdfc2",
   "metadata": {},
   "source": [
    "f) stopień zadowolenia ze szkoleń w kontekście dopasowania do indywidualnych potrzeb w pierwszym badanym okresie nie zależy od wieku (PYT_2 oraz WIEK_KAT)"
   ]
  },
  {
   "cell_type": "code",
   "execution_count": 64,
   "id": "17fab711",
   "metadata": {},
   "outputs": [
    {
     "name": "stdout",
     "output_type": "stream",
     "text": [
      "Statystyka chi-kwadrat: 9.845826003518312\n",
      "P-wartość: 0.3513\n",
      "Brak podstaw do odrzucenia hipotezy zerowej: brak istotnej zależności.\n"
     ]
    }
   ],
   "source": [
    "contingency_table_f = pd.crosstab(data['PYT_2'], data['WIEK_KAT'])\n",
    "\n",
    "chi2_stat, p = freeman_halton(contingency_table_f.values)\n",
    "\n",
    "print(\"Statystyka chi-kwadrat:\", chi2_stat)\n",
    "print(\"P-wartość:\", p)\n",
    "\n",
    "alpha = 0.05\n",
    "if p < alpha:\n",
    "    print(\"Odrzucamy hipotezę zerową: istnieje zależność między PYT_2 a WIEK_KAT.\")\n",
    "else:\n",
    "    print(\"Brak podstaw do odrzucenia hipotezy zerowej: brak istotnej zależności.\")"
   ]
  },
  {
   "cell_type": "markdown",
   "id": "c5ba5553",
   "metadata": {},
   "source": [
    "#### podpunkty c), d), e) oraz d) zastępujęc zmienną PYT_2 przez zmienną CZY_ZADOW"
   ]
  },
  {
   "cell_type": "markdown",
   "id": "f00c044c",
   "metadata": {},
   "source": [
    "c) CZY_ZADOW oraz CZY_KIER"
   ]
  },
  {
   "cell_type": "code",
   "execution_count": 65,
   "id": "a5f4b0a7",
   "metadata": {},
   "outputs": [
    {
     "name": "stdout",
     "output_type": "stream",
     "text": [
      "Statystyka chi-kwadrat: 0.08183603554685095\n",
      "P-wartość: 0.8425\n",
      "Brak podstaw do odrzucenia hipotezy zerowej: brak istotnej zależności.\n"
     ]
    }
   ],
   "source": [
    "contingency_table_c_2 = pd.crosstab(data['CZY_ZADOW'], data['CZY_KIER'])\n",
    "\n",
    "chi2_stat, p = freeman_halton(contingency_table_c_2.values)\n",
    "\n",
    "print(\"Statystyka chi-kwadrat:\", chi2_stat)\n",
    "print(\"P-wartość:\", p)\n",
    "\n",
    "alpha = 0.05\n",
    "if p < alpha:\n",
    "    print(\"Odrzucamy hipotezę zerową: istnieje zależność między CZY_ZADOW a CZY_KIER.\")\n",
    "else:\n",
    "    print(\"Brak podstaw do odrzucenia hipotezy zerowej: brak istotnej zależności.\")"
   ]
  },
  {
   "cell_type": "markdown",
   "id": "165639b8",
   "metadata": {},
   "source": [
    "d) CZY_ZADOW oraz STAŻ"
   ]
  },
  {
   "cell_type": "code",
   "execution_count": 66,
   "id": "f6b82035",
   "metadata": {},
   "outputs": [
    {
     "name": "stdout",
     "output_type": "stream",
     "text": [
      "Statystyka chi-kwadrat: 1.7773575924124572\n",
      "P-wartość: 0.4064\n",
      "Brak podstaw do odrzucenia hipotezy zerowej: brak istotnej zależności.\n"
     ]
    }
   ],
   "source": [
    "contingency_table_d_2 = pd.crosstab(data['CZY_ZADOW'], data['STAŻ'])\n",
    "\n",
    "chi2_stat, p = freeman_halton(contingency_table_d_2.values)\n",
    "\n",
    "print(\"Statystyka chi-kwadrat:\", chi2_stat)\n",
    "print(\"P-wartość:\", p)\n",
    "\n",
    "alpha = 0.05\n",
    "if p < alpha:\n",
    "    print(\"Odrzucamy hipotezę zerową: istnieje zależność między CZY_ZADOW a STAŻ.\")\n",
    "else:\n",
    "    print(\"Brak podstaw do odrzucenia hipotezy zerowej: brak istotnej zależności.\")"
   ]
  },
  {
   "cell_type": "markdown",
   "id": "f6d818e2",
   "metadata": {},
   "source": [
    "e) CZY_ZADOW oraz PŁEĆ"
   ]
  },
  {
   "cell_type": "code",
   "execution_count": 67,
   "id": "86b08dbb",
   "metadata": {},
   "outputs": [
    {
     "name": "stdout",
     "output_type": "stream",
     "text": [
      "Statystyka chi-kwadrat: 0.23290747005849552\n",
      "P-wartość: 0.6541\n",
      "Brak podstaw do odrzucenia hipotezy zerowej: brak istotnej zależności.\n"
     ]
    }
   ],
   "source": [
    "contingency_table_e_2 = pd.crosstab(data['CZY_ZADOW'], data['PŁEĆ'])\n",
    "\n",
    "chi2_stat, p = freeman_halton(contingency_table_e_2.values)\n",
    "\n",
    "print(\"Statystyka chi-kwadrat:\", chi2_stat)\n",
    "print(\"P-wartość:\", p)\n",
    "\n",
    "alpha = 0.05\n",
    "if p < alpha:\n",
    "    print(\"Odrzucamy hipotezę zerową: istnieje zależność między CZY_ZADOW a PŁEĆ.\")\n",
    "else:\n",
    "    print(\"Brak podstaw do odrzucenia hipotezy zerowej: brak istotnej zależności.\")"
   ]
  },
  {
   "cell_type": "markdown",
   "id": "47e85707",
   "metadata": {},
   "source": [
    "f) CZY_ZADOW oraz WIEK_KAT"
   ]
  },
  {
   "cell_type": "code",
   "execution_count": 68,
   "id": "5a74db5a",
   "metadata": {},
   "outputs": [
    {
     "name": "stdout",
     "output_type": "stream",
     "text": [
      "Statystyka chi-kwadrat: 3.5157335639069873\n",
      "P-wartość: 0.3237\n",
      "Brak podstaw do odrzucenia hipotezy zerowej: brak istotnej zależności.\n"
     ]
    }
   ],
   "source": [
    "contingency_table_f_2 = pd.crosstab(data['CZY_ZADOW'], data['WIEK_KAT'])\n",
    "\n",
    "chi2_stat, p = freeman_halton(contingency_table_f_2.values)\n",
    "\n",
    "print(\"Statystyka chi-kwadrat:\", chi2_stat)\n",
    "print(\"P-wartość:\", p)\n",
    "\n",
    "alpha = 0.05\n",
    "if p < alpha:\n",
    "    print(\"Odrzucamy hipotezę zerową: istnieje zależność między CZY_ZADOW a WIEK_KAT.\")\n",
    "else:\n",
    "    print(\"Brak podstaw do odrzucenia hipotezy zerowej: brak istotnej zależności.\")"
   ]
  },
  {
   "cell_type": "markdown",
   "id": "bc394d7f",
   "metadata": {},
   "source": [
    "### ZADANIE 7\n",
    "    Zapoznaj się z funkcją służącą do wykonania testu niezależności chi-kwadrat."
   ]
  },
  {
   "cell_type": "markdown",
   "id": "f4f6e86e",
   "metadata": {},
   "source": [
    "Do przeprowadzenia testu niezależności chi-kwadrat wykorzystano wbudowaną funkcję *chi2_contingency* z biblioteki *scipy.stats*. Funkcja ta oblicza wartość statystyki chi-kwadrat oraz odpowiadającą jej p-wartość, zakładając hipotezę zerową o statystycznej niezależności zmiennych reprezentowanych w tabeli kontyngencji (tabeli krzyżowej). Funkcja zwraca również oczekiwane liczebności, które są wyznaczane na podstawie iloczynów sum marginalnych, zgodnie z założeniem niezależności zmiennych.\n",
    "\n",
    "Sformułowanie hipotez statystycznych w teście chi-kwadrat:\n",
    "\n",
    "$H_0$ : Zmienne są statystycznie niezależne\n",
    "\n",
    "$H_1$ : Zmienne są statystycznie zależne"
   ]
  },
  {
   "cell_type": "markdown",
   "id": "a613102b",
   "metadata": {},
   "source": [
    "- implementacja dla przykładowych parametrów"
   ]
  },
  {
   "cell_type": "code",
   "execution_count": 175,
   "id": "b51d6708",
   "metadata": {},
   "outputs": [
    {
     "data": {
      "text/plain": [
       "Chi2ContingencyResult(statistic=np.float64(2.7777777777777777), pvalue=np.float64(0.2493522087772962), dof=2, expected_freq=array([[12., 12., 16.],\n",
       "       [18., 18., 24.]]))"
      ]
     },
     "execution_count": 175,
     "metadata": {},
     "output_type": "execute_result"
    }
   ],
   "source": [
    "obs_freq = np.array([[10, 10, 20], [20, 20, 20]])\n",
    "res = chi2_contingency(obs_freq)\n",
    "\n",
    "# print('Statystyka: ', res.statistic)\n",
    "# print('p-wartość: ', res.pvalue)\n",
    "# print('Stopnie swobody: ', res.dof)\n",
    "# print('Oczekiwane częstotliwości/liczebności: ', res.expected_freq)\n",
    "\n",
    "res"
   ]
  },
  {
   "cell_type": "markdown",
   "id": "f8c77f57",
   "metadata": {},
   "source": [
    "### ZADANIE 8\n",
    "    Korzystając z funkcji poznanej w zadaniu 7. zweryfikuj hipotezę, że stopień zadowolenia ze szkoleń w kontekście dopasowania do indywidualnych potrzeb w pierwszym badanym okresie nie zależy od zajmowanego stanowiska. Przyjmij poziom istotności 0.01. Wynik testu porównaj z wynikiem uzyskanym w zadaniu 6. Zaprezentuj reszty wyznaczane w teście na wykresie asocjacyjnym i dokonaj jego interpretacji."
   ]
  },
  {
   "cell_type": "markdown",
   "id": "c1419b57",
   "metadata": {},
   "source": [
    "- Czy stopień zadowolenia ze szkoleń w kontekście dopasowania do indywidualnych potrzeb zależy od zajmowanego stanowsika?"
   ]
  },
  {
   "cell_type": "code",
   "execution_count": 176,
   "id": "636862f0",
   "metadata": {},
   "outputs": [],
   "source": [
    "crosstab_P2CzK = pd.crosstab(data['PYT_2'], data['CZY_KIER'])\n",
    "chi2_P2CzK = chi2_contingency(crosstab_P2CzK.values)"
   ]
  },
  {
   "cell_type": "code",
   "execution_count": 177,
   "id": "826fe0e4",
   "metadata": {},
   "outputs": [
    {
     "name": "stdout",
     "output_type": "stream",
     "text": [
      "p-wartość:  0.0043970813557677796\n"
     ]
    }
   ],
   "source": [
    "print('p-wartość: ', chi2_P2CzK.pvalue)"
   ]
  },
  {
   "cell_type": "markdown",
   "id": "6835ab15",
   "metadata": {},
   "source": [
    "W tym przypadku przyjęto poziom istotności $\\alpha = 0.01$. Porównując go z otrzymaną p-wartością:\n",
    "$$ \\text{p-wartość} = 0.004 < \\alpha = 0.01$$\n",
    "W związku z tym istnieją podstawy do odrzucenia hipotezy zerowej. Można zatem stwierdzić, że stopień zadowolenia ze szkoleń w kontekście dopasowania do indywidualnych potrzeb w pierwszym badanym okresie istotnie zależy od zajmowanego stanowiska."
   ]
  },
  {
   "cell_type": "markdown",
   "id": "61ab3745",
   "metadata": {},
   "source": [
    "- Wykres asocjacyjny"
   ]
  },
  {
   "cell_type": "code",
   "execution_count": 178,
   "id": "1c5562bc",
   "metadata": {},
   "outputs": [],
   "source": [
    "chi2_P2CzK_stand_res = (crosstab_P2CzK.values - chi2_P2CzK.expected_freq) / np.sqrt(chi2_P2CzK.expected_freq)"
   ]
  },
  {
   "cell_type": "code",
   "execution_count": 179,
   "id": "50c64a3f",
   "metadata": {},
   "outputs": [
    {
     "data": {
      "image/png": "[encoded data removed]",
      "text/plain": [
       "<Figure size 600x400 with 2 Axes>"
      ]
     },
     "metadata": {},
     "output_type": "display_data"
    }
   ],
   "source": [
    "plt.figure(figsize=(6, 4))\n",
    "\n",
    "sns.heatmap(\n",
    "    chi2_P2CzK_stand_res,\n",
    "    center=-0.05,\n",
    "    annot=True,\n",
    "    fmt=\".3f\",\n",
    "    cmap=\"coolwarm\",\n",
    "    cbar=True,\n",
    "    xticklabels=crosstab_P2CzK.columns,\n",
    "    yticklabels=crosstab_P2CzK.index,\n",
    "    linewidths=1\n",
    ")\n",
    "\n",
    "plt.ylabel('PYT_2')\n",
    "plt.xlabel('CZY_KIER')\n",
    "plt.tight_layout()\n",
    "plt.show()"
   ]
  },
  {
   "cell_type": "markdown",
   "id": "884bd49d",
   "metadata": {},
   "source": [
    "### ZADANIE 9\n",
    "    Zapoznaj się z funkcję służącą do generowania realizacji wektorów losowych z rozkładu wielomianowego, a następnie korzystając z niej przeprowadź symulacje w celu oszacowania mocy testu Fishera oraz mocy testu chi-kwadrat Pearsona, generując dane z tabeli 2×2, w której p11 = 1/40, p12 = 3/40, p21 = 19/40,    p22 = 17/40. Symulacje wykonaj dla n = 50, n = 100 oraz n = 1000. Sformułuj wnioski."
   ]
  },
  {
   "cell_type": "code",
   "execution_count": 180,
   "id": "96ff6ace",
   "metadata": {},
   "outputs": [],
   "source": [
    "p = [1/40, 3/40, 19/40, 17/40]\n",
    "alpha = 0.05\n",
    "tab_size = (2,2)\n",
    "n = [50, 100, 1000]"
   ]
  },
  {
   "cell_type": "markdown",
   "id": "e0e604f0",
   "metadata": {},
   "source": [
    "$\\huge \\text{tutaj zweryfikować - dla domyślnej lambda\\_ (Pearson) chi2 nie działa}$"
   ]
  },
  {
   "cell_type": "code",
   "execution_count": 181,
   "id": "15729d61",
   "metadata": {},
   "outputs": [],
   "source": [
    "def test_power(p, alpha, tab_size, n, M=500):\n",
    "    chi2_rejected = 0\n",
    "    fisher_rejected = 0\n",
    "    for i in range(M):\n",
    "        random_vector = np.random.multinomial(n, p)\n",
    "        random_vector = random_vector.reshape(tab_size)\n",
    "\n",
    "        chi2_results = chi2_contingency(random_vector, lambda_=\"log-likelihood\")\n",
    "        fisher_results = fisher_exact(random_vector)\n",
    "\n",
    "        if chi2_results.pvalue < alpha:\n",
    "            chi2_rejected += 1\n",
    "        if fisher_results.pvalue < alpha:\n",
    "            fisher_rejected += 1   \n",
    "                     \n",
    "    power_chi2 = chi2_rejected / M\n",
    "    power_fisher = fisher_rejected / M\n",
    "\n",
    "    return power_chi2, power_fisher"
   ]
  },
  {
   "cell_type": "code",
   "execution_count": 182,
   "id": "f2259103",
   "metadata": {},
   "outputs": [
    {
     "ename": "ValueError",
     "evalue": "The internally computed table of expected frequencies has a zero element at (np.int64(0), np.int64(0)).",
     "output_type": "error",
     "traceback": [
      "\u001b[1;31m---------------------------------------------------------------------------\u001b[0m",
      "\u001b[1;31mValueError\u001b[0m                                Traceback (most recent call last)",
      "Cell \u001b[1;32mIn[182], line 5\u001b[0m\n\u001b[0;32m      2\u001b[0m fisher_power \u001b[38;5;241m=\u001b[39m np\u001b[38;5;241m.\u001b[39mzeros(\u001b[38;5;28mlen\u001b[39m(n))\n\u001b[0;32m      4\u001b[0m \u001b[38;5;28;01mfor\u001b[39;00m i, n_i \u001b[38;5;129;01min\u001b[39;00m \u001b[38;5;28menumerate\u001b[39m(n):\n\u001b[1;32m----> 5\u001b[0m     chi2_power[i], fisher_power[i] \u001b[38;5;241m=\u001b[39m \u001b[43mtest_power\u001b[49m\u001b[43m(\u001b[49m\u001b[43mp\u001b[49m\u001b[43m,\u001b[49m\u001b[43m \u001b[49m\u001b[43malpha\u001b[49m\u001b[43m,\u001b[49m\u001b[43m \u001b[49m\u001b[43mtab_size\u001b[49m\u001b[43m,\u001b[49m\u001b[43m \u001b[49m\u001b[43mn_i\u001b[49m\u001b[43m)\u001b[49m\n",
      "Cell \u001b[1;32mIn[181], line 8\u001b[0m, in \u001b[0;36mtest_power\u001b[1;34m(p, alpha, tab_size, n, M)\u001b[0m\n\u001b[0;32m      5\u001b[0m random_vector \u001b[38;5;241m=\u001b[39m np\u001b[38;5;241m.\u001b[39mrandom\u001b[38;5;241m.\u001b[39mmultinomial(n, p)\n\u001b[0;32m      6\u001b[0m random_vector \u001b[38;5;241m=\u001b[39m random_vector\u001b[38;5;241m.\u001b[39mreshape(tab_size)\n\u001b[1;32m----> 8\u001b[0m chi2_results \u001b[38;5;241m=\u001b[39m \u001b[43mchi2_contingency\u001b[49m\u001b[43m(\u001b[49m\u001b[43mrandom_vector\u001b[49m\u001b[43m,\u001b[49m\u001b[43m \u001b[49m\u001b[43mlambda_\u001b[49m\u001b[38;5;241;43m=\u001b[39;49m\u001b[38;5;124;43m\"\u001b[39;49m\u001b[38;5;124;43mlog-likelihood\u001b[39;49m\u001b[38;5;124;43m\"\u001b[39;49m\u001b[43m)\u001b[49m\n\u001b[0;32m      9\u001b[0m fisher_results \u001b[38;5;241m=\u001b[39m fisher_exact(random_vector)\n\u001b[0;32m     11\u001b[0m \u001b[38;5;28;01mif\u001b[39;00m chi2_results\u001b[38;5;241m.\u001b[39mpvalue \u001b[38;5;241m<\u001b[39m alpha:\n",
      "File \u001b[1;32m~\\AppData\\Roaming\\Python\\Python312\\site-packages\\scipy\\stats\\contingency.py:340\u001b[0m, in \u001b[0;36mchi2_contingency\u001b[1;34m(observed, correction, lambda_)\u001b[0m\n\u001b[0;32m    336\u001b[0m \u001b[38;5;28;01mif\u001b[39;00m np\u001b[38;5;241m.\u001b[39many(expected \u001b[38;5;241m==\u001b[39m \u001b[38;5;241m0\u001b[39m):\n\u001b[0;32m    337\u001b[0m     \u001b[38;5;66;03m# Include one of the positions where expected is zero in\u001b[39;00m\n\u001b[0;32m    338\u001b[0m     \u001b[38;5;66;03m# the exception message.\u001b[39;00m\n\u001b[0;32m    339\u001b[0m     zeropos \u001b[38;5;241m=\u001b[39m \u001b[38;5;28mlist\u001b[39m(\u001b[38;5;28mzip\u001b[39m(\u001b[38;5;241m*\u001b[39mnp\u001b[38;5;241m.\u001b[39mnonzero(expected \u001b[38;5;241m==\u001b[39m \u001b[38;5;241m0\u001b[39m)))[\u001b[38;5;241m0\u001b[39m]\n\u001b[1;32m--> 340\u001b[0m     \u001b[38;5;28;01mraise\u001b[39;00m \u001b[38;5;167;01mValueError\u001b[39;00m(\u001b[38;5;124m\"\u001b[39m\u001b[38;5;124mThe internally computed table of expected \u001b[39m\u001b[38;5;124m\"\u001b[39m\n\u001b[0;32m    341\u001b[0m                      \u001b[38;5;124mf\u001b[39m\u001b[38;5;124m\"\u001b[39m\u001b[38;5;124mfrequencies has a zero element at \u001b[39m\u001b[38;5;132;01m{\u001b[39;00mzeropos\u001b[38;5;132;01m}\u001b[39;00m\u001b[38;5;124m.\u001b[39m\u001b[38;5;124m\"\u001b[39m)\n\u001b[0;32m    343\u001b[0m \u001b[38;5;66;03m# The degrees of freedom\u001b[39;00m\n\u001b[0;32m    344\u001b[0m dof \u001b[38;5;241m=\u001b[39m expected\u001b[38;5;241m.\u001b[39msize \u001b[38;5;241m-\u001b[39m \u001b[38;5;28msum\u001b[39m(expected\u001b[38;5;241m.\u001b[39mshape) \u001b[38;5;241m+\u001b[39m expected\u001b[38;5;241m.\u001b[39mndim \u001b[38;5;241m-\u001b[39m \u001b[38;5;241m1\u001b[39m\n",
      "\u001b[1;31mValueError\u001b[0m: The internally computed table of expected frequencies has a zero element at (np.int64(0), np.int64(0))."
     ]
    }
   ],
   "source": [
    "chi2_power = np.zeros(len(n))\n",
    "fisher_power = np.zeros(len(n))\n",
    "\n",
    "for i, n_i in enumerate(n):\n",
    "    chi2_power[i], fisher_power[i] = test_power(p, alpha, tab_size, n_i)"
   ]
  },
  {
   "cell_type": "code",
   "execution_count": null,
   "id": "9c50e40f",
   "metadata": {},
   "outputs": [
    {
     "data": {
      "text/html": [
       "<div>\n",
       "<style scoped>\n",
       "    .dataframe tbody tr th:only-of-type {\n",
       "        vertical-align: middle;\n",
       "    }\n",
       "\n",
       "    .dataframe tbody tr th {\n",
       "        vertical-align: top;\n",
       "    }\n",
       "\n",
       "    .dataframe thead th {\n",
       "        text-align: right;\n",
       "    }\n",
       "</style>\n",
       "<table border=\"1\" class=\"dataframe\">\n",
       "  <thead>\n",
       "    <tr style=\"text-align: right;\">\n",
       "      <th></th>\n",
       "      <th>n</th>\n",
       "      <th>Moc testu chi-kwadrat</th>\n",
       "      <th>Moc testu Fishera</th>\n",
       "    </tr>\n",
       "  </thead>\n",
       "  <tbody>\n",
       "    <tr>\n",
       "      <th>0</th>\n",
       "      <td>50</td>\n",
       "      <td>0.094</td>\n",
       "      <td>0.132</td>\n",
       "    </tr>\n",
       "    <tr>\n",
       "      <th>1</th>\n",
       "      <td>100</td>\n",
       "      <td>0.264</td>\n",
       "      <td>0.310</td>\n",
       "    </tr>\n",
       "    <tr>\n",
       "      <th>2</th>\n",
       "      <td>1000</td>\n",
       "      <td>1.000</td>\n",
       "      <td>1.000</td>\n",
       "    </tr>\n",
       "  </tbody>\n",
       "</table>\n",
       "</div>"
      ],
      "text/plain": [
       "      n  Moc testu chi-kwadrat  Moc testu Fishera\n",
       "0    50                  0.094              0.132\n",
       "1   100                  0.264              0.310\n",
       "2  1000                  1.000              1.000"
      ]
     },
     "execution_count": 108,
     "metadata": {},
     "output_type": "execute_result"
    }
   ],
   "source": [
    "data_test_power = {\n",
    "    \"n\": n,\n",
    "    \"Moc testu chi-kwadrat\": chi2_power,\n",
    "    \"Moc testu Fishera\": fisher_power\n",
    "}\n",
    "\n",
    "df_test_power = pd.DataFrame(data_test_power)\n",
    "df_test_power"
   ]
  },
  {
   "cell_type": "code",
   "execution_count": null,
   "id": "6b9d67ae",
   "metadata": {},
   "outputs": [
    {
     "data": {
      "image/png": "[encoded data removed]",
      "text/plain": [
       "<Figure size 640x480 with 1 Axes>"
      ]
     },
     "metadata": {},
     "output_type": "display_data"
    }
   ],
   "source": [
    "plt.plot(n, chi2_power, label='Chi-kwadrat', marker='o')\n",
    "plt.plot(n, fisher_power, label='Fisher', marker='o')\n",
    "\n",
    "plt.legend()\n",
    "plt.title('Moc testu chi2 i Fishera')\n",
    "plt.grid(True, linestyle='--')\n",
    "plt.xscale('log')\n",
    "plt.xlabel('n (w skali logarytmicznej)')\n",
    "plt.ylabel('Moc testu')\n",
    "plt.show()"
   ]
  },
  {
   "cell_type": "code",
   "execution_count": null,
   "id": "f7b8ae28",
   "metadata": {},
   "outputs": [],
   "source": [
    "# def test_power(p, alpha, tab_size, n, test_func, M=500):\n",
    "#     rejected_count = 0\n",
    "#     valid_runs = 0\n",
    "\n",
    "#     for _ in range(M):\n",
    "#         random_vector = np.random.multinomial(n, p)\n",
    "#         random_vector = random_vector.reshape(tab_size)\n",
    "\n",
    "#         try:\n",
    "#             result = test_func(random_vector)\n",
    "#             p_value = result.pvalue if hasattr(result, 'pvalue') else result[1]\n",
    "\n",
    "#             if p_value < alpha:\n",
    "#                 rejected_count += 1\n",
    "#             valid_runs += 1\n",
    "\n",
    "#         except ValueError:\n",
    "#             continue\n",
    "\n",
    "#     if valid_runs == 0:\n",
    "#         return np.nan \n",
    "\n",
    "#     return rejected_count / valid_runs\n"
   ]
  },
  {
   "cell_type": "markdown",
   "id": "3cccb41e",
   "metadata": {},
   "source": [
    "### ZADANIE 10\n",
    "    Napisz funkcję, która dla danych z tablicy dwudzielczej oblicza wartość poziomu krytycznego w teście niezależnosci opartym na ilorazie wiarogodnosci. Korzystając z napisanej funkcji, wykonaj test dla danych przeanalizowanych w zadaniu 8."
   ]
  },
  {
   "cell_type": "markdown",
   "id": "d0288909",
   "metadata": {},
   "source": [
    "$\\huge \\text{tutaj zweryfikować}$"
   ]
  },
  {
   "cell_type": "code",
   "execution_count": null,
   "id": "8f79c246",
   "metadata": {},
   "outputs": [],
   "source": [
    "# G-test: Funkcja scipy.stats.chi2_contingency z parametrem lambda_=\"log-likelihood\" wykonuje test niezależności oparty na ilorazie wiarygodności (czyli tzw. G-test)\n",
    "\n",
    "def likelihood_ratio_test_g(obs):\n",
    "    stat, p, dof, _ = chi2_contingency(obs, lambda_=\"log-likelihood\")\n",
    "    return stat, p, dof"
   ]
  },
  {
   "cell_type": "markdown",
   "id": "8d1fc083",
   "metadata": {},
   "source": [
    "- test dla danych przeanalizowanych w zadaniu 8 (pamiętajmy, że przyjmujemy $\\alpha=0.01$)"
   ]
  },
  {
   "cell_type": "code",
   "execution_count": null,
   "id": "d6f131fb",
   "metadata": {},
   "outputs": [
    {
     "name": "stdout",
     "output_type": "stream",
     "text": [
      "Statystyka G: 8.3285, p-value: 0.0397, stopnie swobody: 3\n"
     ]
    }
   ],
   "source": [
    "stat, p, dof = likelihood_ratio_test_g(crosstab_P2CzK.values)\n",
    "\n",
    "print(f\"Statystyka G: {stat:.4f}, p-value: {p:.4f}, stopnie swobody: {dof}\")"
   ]
  },
  {
   "cell_type": "markdown",
   "id": "533a9726",
   "metadata": {},
   "source": [
    "Jak można zauważyć:\n",
    "$$ p{-}wartość = 0.0397 > \\alpha = 0.01 $$\n",
    "Oznacza to, że nie ma podstaw do odrzucenia hipotezy zerowej, zakładającej brak związku pomiędzy stopniem zadowolenia ze szkoleń w kontekście ich dopasowania do indywidualnych potrzeb w pierwszym badanym okresie a zajmowanym stanowiskiem.\n",
    "\n",
    "W konsekwencji, przy poziomie istotności 1%, nie stwierdzono statystycznie istotnej zależności pomiędzy tymi zmiennymi — obserwowane różnice mogą być przypadkowe i nie wskazują na rzeczywisty związek w populacji."
   ]
  },
  {
   "cell_type": "markdown",
   "id": "5c06ac6f",
   "metadata": {},
   "source": [
    "## CZĘŚĆ IV i V"
   ]
  },
  {
   "cell_type": "markdown",
   "id": "003707a5",
   "metadata": {},
   "source": [
    "### ZADANIE 11\n",
    "    Przeprowadzone wsród brytyjskich mężczyzn badanie trwające 20 lat wykazało, że odsetek zmarłych (na rok) z powodu raka płuc wynosił 0,00140 wsród osób palących papierosy i 0,00010 wsród osób niepalących. Odsetek zmarłych z powodu choroby niedokrwiennej serca wynosił 0,00669 dla palaczy i 0,00413 dla osób niepalących. Opisz związek pomiędzy paleniem papierosów a śmiercią z powodu raka płuc oraz związek pomiędzy paleniem papierosów a śmiercią z powodu choroby serca. Skorzystaj z różnicy proporcji, ryzyka względnego i ilorazu szans. Zinterpretuj wartości. Związek której pary zmiennych jest silniejszy?"
   ]
  },
  {
   "cell_type": "markdown",
   "id": "f654046b",
   "metadata": {},
   "source": [
    "Skorzystamy z następujących definicji:\n",
    "\n",
    "- Ryzyko względne (RR): porównuje prawdopodobieństwo wystąpienia danego zdarzenia w grupie badanej (interwencyjnej) do grupy kontrolnej\n",
    "\n",
    "$$\n",
    "RR = \\dfrac{IE/(IE + IN)}{CE/(CE + CN)}\n",
    "$$\n",
    "\n",
    "gdzie: \n",
    "\n",
    "$RR$ - ryzyko względne, \t\n",
    "\n",
    "$IE$ - liczba przypadków zdarzenia w grupie interwencyjnej,\n",
    "\n",
    "$IN$ - liczba przypadków braku zdarzenia w grupie interwencyjnej,\n",
    "\n",
    "$CE$ - liczba przypadków zdarzenia w grupie kontrolnej,\n",
    "\n",
    "$CN$ - liczba przypadków braku zdarzenia w grupie kontrolnej.\n",
    "\n",
    "Wyniki można interpretować następująco:\n",
    "\n",
    "RR > 1: ryzyko wystąpienia zdarzenia jest większe w grupie interwencyjnej niż w kontrolnej,\n",
    "\n",
    "RR < 1: ryzyko wystąpienia zdarzenia jest mniejsze w grupie interwencyjnej,\n",
    "\n",
    "RR = 1: brak różnicy pomiędzy grupami."
   ]
  },
  {
   "cell_type": "markdown",
   "id": "53f5c7f7",
   "metadata": {},
   "source": [
    "- Iloraz szans (ang. OR, odds ratio): stosunek szans wystąpienia danego zdarzenia w jednej grupie do szansy jego wystąpienia w innej grupie\n",
    "\n",
    "$$\n",
    "OR_{A/B} = \\dfrac{\\mathbb {P}(A)\\cdot(1-\\mathbb {P}(B))}{\\mathbb {P}(B)\\cdot(1-\\mathbb {P}(A))}\n",
    "$$\n",
    "\n",
    "gdzie: $\\mathbb {P}(A)$ to prawdopodobieństwo wystąpienia zdarzenia w grupie $A$.\n",
    "\n",
    "Wyniki można interpretować następująco:\n",
    "\n",
    "OR > 1: wyższe szanse wystąpienia zdarzenia w grupie A względem grupy B,\n",
    "\n",
    "OR < 1: niższe szanse wystąpienia zdarzenia w grupie A,\n",
    "\n",
    "OR = 1: brak różnicy w szansach między grupami."
   ]
  },
  {
   "cell_type": "code",
   "execution_count": null,
   "id": "64c5c9e3",
   "metadata": {},
   "outputs": [],
   "source": [
    "# Odsetek zmarłych z powodu raka płuc wśród palaczy i niepalaczy\n",
    "lung_cancer_rate_smokers = 0.00140\n",
    "lung_cancer_rate_nonsmokers  = 0.00010\n",
    "\n",
    "lung_cancer_rate_diff = lung_cancer_rate_smokers - lung_cancer_rate_nonsmokers\n",
    "lung_cancer_RR = lung_cancer_rate_smokers / lung_cancer_rate_nonsmokers\n",
    "lung_cancer_OR = (lung_cancer_rate_smokers / (1 - lung_cancer_rate_smokers)) / (lung_cancer_rate_nonsmokers / (1 - lung_cancer_rate_nonsmokers))\n",
    "\n",
    "# Odsetek zmarłych z powodu choroby niedokrwiennej serca wśród palaczy i niepalaczy\n",
    "heart_disease_rate_smokers = 0.00669\n",
    "heart_disease_rate_nonsmokers = 0.00413\n",
    "\n",
    "heart_disease_rate_diff = heart_disease_rate_smokers - heart_disease_rate_nonsmokers\n",
    "heart_disease_RR = heart_disease_rate_smokers / heart_disease_rate_nonsmokers\n",
    "heart_disease_OR = (heart_disease_rate_smokers / (1 - heart_disease_rate_smokers)) / (heart_disease_rate_nonsmokers / (1 - heart_disease_rate_nonsmokers))"
   ]
  },
  {
   "cell_type": "code",
   "execution_count": null,
   "id": "169e8a36",
   "metadata": {},
   "outputs": [
    {
     "data": {
      "text/html": [
       "<div>\n",
       "<style scoped>\n",
       "    .dataframe tbody tr th:only-of-type {\n",
       "        vertical-align: middle;\n",
       "    }\n",
       "\n",
       "    .dataframe tbody tr th {\n",
       "        vertical-align: top;\n",
       "    }\n",
       "\n",
       "    .dataframe thead th {\n",
       "        text-align: right;\n",
       "    }\n",
       "</style>\n",
       "<table border=\"1\" class=\"dataframe\">\n",
       "  <thead>\n",
       "    <tr style=\"text-align: right;\">\n",
       "      <th></th>\n",
       "      <th>Choroba</th>\n",
       "      <th>Odsetek zmarłych (palacze)</th>\n",
       "      <th>Odsetek zmarłych (niepalacze)</th>\n",
       "      <th>Różnica proporcji</th>\n",
       "      <th>Ryzyko względne (RR)</th>\n",
       "      <th>Iloraz szans (OR)</th>\n",
       "    </tr>\n",
       "  </thead>\n",
       "  <tbody>\n",
       "    <tr>\n",
       "      <th>0</th>\n",
       "      <td>Rak płuc</td>\n",
       "      <td>0.0014</td>\n",
       "      <td>0.0001</td>\n",
       "      <td>0.0013</td>\n",
       "      <td>14.00</td>\n",
       "      <td>14.02</td>\n",
       "    </tr>\n",
       "    <tr>\n",
       "      <th>1</th>\n",
       "      <td>Choroba niedokrwienna serca</td>\n",
       "      <td>0.0067</td>\n",
       "      <td>0.0041</td>\n",
       "      <td>0.0026</td>\n",
       "      <td>1.62</td>\n",
       "      <td>1.62</td>\n",
       "    </tr>\n",
       "  </tbody>\n",
       "</table>\n",
       "</div>"
      ],
      "text/plain": [
       "                       Choroba Odsetek zmarłych (palacze)  \\\n",
       "0                     Rak płuc                     0.0014   \n",
       "1  Choroba niedokrwienna serca                     0.0067   \n",
       "\n",
       "  Odsetek zmarłych (niepalacze) Różnica proporcji Ryzyko względne (RR)  \\\n",
       "0                        0.0001            0.0013                14.00   \n",
       "1                        0.0041            0.0026                 1.62   \n",
       "\n",
       "  Iloraz szans (OR)  \n",
       "0             14.02  \n",
       "1              1.62  "
      ]
     },
     "execution_count": 153,
     "metadata": {},
     "output_type": "execute_result"
    }
   ],
   "source": [
    "data_british_man = {\n",
    "    \"Choroba\": [\"Rak płuc\", \"Choroba niedokrwienna serca\"],\n",
    "    \"Odsetek zmarłych (palacze)\": [lung_cancer_rate_smokers, heart_disease_rate_smokers],\n",
    "    \"Odsetek zmarłych (niepalacze)\": [lung_cancer_rate_nonsmokers, heart_disease_rate_nonsmokers],\n",
    "    \"Różnica proporcji\": [lung_cancer_rate_diff, heart_disease_rate_diff],\n",
    "    \"Ryzyko względne (RR)\": [lung_cancer_RR, heart_disease_RR],\n",
    "    \"Iloraz szans (OR)\": [lung_cancer_OR, heart_disease_OR]\n",
    "}\n",
    "\n",
    "df_british_man = pd.DataFrame(data_british_man)\n",
    "df_british_man[\"Odsetek zmarłych (palacze)\"] = df_british_man[\"Odsetek zmarłych (palacze)\"].apply(lambda x: f\"{x:.4f}\")\n",
    "df_british_man[\"Odsetek zmarłych (niepalacze)\"] = df_british_man[\"Odsetek zmarłych (niepalacze)\"].apply(lambda x: f\"{x:.4f}\")\n",
    "df_british_man[\"Różnica proporcji\"] = df_british_man[\"Różnica proporcji\"].apply(lambda x: f\"{x:.4f}\")\n",
    "df_british_man[\"Ryzyko względne (RR)\"] = df_british_man[\"Ryzyko względne (RR)\"].apply(lambda x: f\"{x:.2f}\")\n",
    "df_british_man[\"Iloraz szans (OR)\"] = df_british_man[\"Iloraz szans (OR)\"].apply(lambda x: f\"{x:.2f}\")\n",
    "\n",
    "df_british_man"
   ]
  },
  {
   "cell_type": "markdown",
   "id": "b51380ee",
   "metadata": {},
   "source": [
    "Analizując otrzymane wyniki:\n",
    "\n",
    "a) Rak płuc\n",
    "\n",
    "Na podstawie różnicy proporcji można stwierdzić, że osoby palące charakteryzują się wyraźnie wyższą zachorowalnością na raka płuc w porównaniu do osób niepalących – różnica ta wynosi około 0.13%.\n",
    "\n",
    "Dodatkowo, wartość ryzyka względnego wynosząca RR = 14 oznacza, że ryzyko zachorowania na raka płuc wśród palaczy jest 14 razy wyższe niż wśród osób niepalących. Podobnie, iloraz szans OR = 14.02 również wskazuje na znacznie wyższe szanse wystąpienia choroby w grupie palaczy.\n",
    "\n",
    "Otrzymane wyniki są zgodne z intuicją oraz dotychczasową wiedzą medyczną – palenie papierosów znacząco zwiększa ryzyko zachorowania na raka płuc.\n",
    "\n",
    "b) Choroba niedokrwienia serca\n",
    "\n",
    "W przypadku choroby niedokrwiennej serca zaobserwowano mniejszą, lecz nadal zauważalną zależność pomiędzy paleniem a zachorowalnością. Różnica proporcji wynosi 0.26%, co oznacza, że osoby palące częściej chorują na niedokrwienie serca niż osoby niepalące.\n",
    "\n",
    "Jednakże wartości ryzyka względnego i ilorazu szans (RR = 1.62, OR = 1.62) wskazują, że zależność ta jest znacznie słabsza niż w przypadku raka płuc. Oznacza to, że średnie ryzyko zachorowania na chorobę niedokrwienną serca wśród palaczy jest około 1.6 razy wyższe niż u niepalących."
   ]
  },
  {
   "cell_type": "markdown",
   "id": "f606a015",
   "metadata": {},
   "source": [
    "### ZADANIE 12\n",
    "    Tabela 1 przedstawia wyniki dotyczące śmiertelności kierowców i pasażerów w wypadkach samochodowych na Florydzie w 2008 roku, w zależności od tego, czy osoba miała zapięty pas bezpieczeństwa czy nie.\n",
    "\n",
    "<div align=\"center\">\n",
    "\n",
    "| | Śmiertelny | Nieśmiertelny |\n",
    "| ----------- | ----------- | ----------- |\n",
    "| **Bez pasów** | 1085 | 55 623 |\n",
    "| **Z pasami** | 703 | 441 239 |\n",
    "\n",
    "</div> \n",
    "<br>\n",
    "<div align=\"center\">\n",
    "Table 1: Wyniki dotyczące śmiertelności w wypadkach samochodowych na Florydzie w 2008 roku.\n",
    "</div>\n",
    "\n",
    "        a) Oszacuj warunkowe prawdopodobieństwo śmierci w wypadku ze względu na drugą zmienną, tj. dla kierowców i pasażerów, którzy użyli pasa bezpieczeństwa oraz dla kierowców i pasażerów, który nie użyli pasa bezpieczeństwa.\n",
    "        b) Oszacuj warunkowe prawdopodobieństwo użycia pasa bezpieczeństwa ze względu na drugą zmienną, tj. dla kierowców i pasażerów ze śmiertelnymi obrażeniami oraz dla kierowców i pasażerów, którzy przeżyli wypadek.\n",
    "        c) Jaki jest najbardziej naturalny wybór dla zmiennej objaśnianej w tym badaniu? Dla takiego wyboru wyznacz i zinterpretuj różnice proporcji, ryzyko względne oraz iloraz szans. Dlaczego wartości ryzyka względnego i ilorazu szans przyjmują zbliżone wartości?"
   ]
  },
  {
   "cell_type": "code",
   "execution_count": null,
   "id": "aaf8809b",
   "metadata": {},
   "outputs": [],
   "source": [
    "death_with_belts = 703\n",
    "death_no_belts = 1085\n",
    "total_death = death_with_belts + death_no_belts\n",
    "\n",
    "alive_with_belts = 441239\n",
    "alive_no_belts = 55623\n",
    "total_alive = alive_with_belts + alive_no_belts\n",
    "\n",
    "total = total_death + total_alive"
   ]
  },
  {
   "cell_type": "markdown",
   "id": "c940a9be",
   "metadata": {},
   "source": [
    "a) Warunkowe prawdopodobieństwo śmierci w zależności od użycia pasów bezpieczeństwa"
   ]
  },
  {
   "cell_type": "code",
   "execution_count": null,
   "id": "aa244b18",
   "metadata": {},
   "outputs": [
    {
     "name": "stdout",
     "output_type": "stream",
     "text": [
      "Prawdopodobieństwo śmierci pod warunkiem użycia pasów bezpieczeństwa:  0.0015907064727950727\n",
      "Prawdopodobieństwo śmierci pod warunkiem nieużycia pasów bezpieczeństwa:  0.019133102913169216\n"
     ]
    }
   ],
   "source": [
    "# pod warunkiem użycia pasów\n",
    "cond_prob_death_with_belts = death_with_belts / (death_with_belts + alive_with_belts)\n",
    "print(\"Prawdopodobieństwo śmierci pod warunkiem użycia pasów bezpieczeństwa: \", cond_prob_death_with_belts)\n",
    "\n",
    "# pod warunkiem nieużycia pasów\n",
    "cond_prob_death_no_belts = death_no_belts / (death_no_belts + alive_no_belts)\n",
    "print(\"Prawdopodobieństwo śmierci pod warunkiem nieużycia pasów bezpieczeństwa: \", cond_prob_death_no_belts)"
   ]
  },
  {
   "cell_type": "markdown",
   "id": "74ceec67",
   "metadata": {},
   "source": [
    "Zgodnie ze zdroworozsądkowym założeniem, stosowanie pasów bezpieczeństwa powinno obniżać ryzyko śmierci w wypadkach drogowych. Wyniki potwierdzają tę hipotezę. Prawdopodobieństwo śmierci pod warunkiem użycia pasów bezpieczeństwa wynosi 0.00159, podczas gdy pod warunkiem nieużycia pasów bezpieczeństwa wynosi 0.01935."
   ]
  },
  {
   "cell_type": "markdown",
   "id": "6263e12a",
   "metadata": {},
   "source": [
    "b) Warunkowe prawdopodobieństwo użycia pasów w zależności od wyniku wypadku"
   ]
  },
  {
   "cell_type": "code",
   "execution_count": null,
   "id": "a77ece6a",
   "metadata": {},
   "outputs": [
    {
     "name": "stdout",
     "output_type": "stream",
     "text": [
      "Prawdopodobieństwo użycia pasów bezpieczeństwa pod warunkiem śmierci:  0.3931767337807606\n",
      "Prawdopodobieństwo użycia pasów bezpieczeństwa po warunkiem przeżycia:  0.8880514106532599\n"
     ]
    }
   ],
   "source": [
    "# pod warunkiem użycia pasów\n",
    "cond_prob_with_belts_death = death_with_belts / (death_with_belts + death_no_belts)\n",
    "print(\"Prawdopodobieństwo użycia pasów bezpieczeństwa pod warunkiem śmierci: \", cond_prob_with_belts_death)\n",
    "\n",
    "# pod warunkiem użycia pasów\n",
    "cond_prob_no_belts_alive = alive_with_belts / (alive_with_belts + alive_no_belts)\n",
    "print(\"Prawdopodobieństwo użycia pasów bezpieczeństwa po warunkiem przeżycia: \", cond_prob_no_belts_alive)"
   ]
  },
  {
   "cell_type": "markdown",
   "id": "8f1f17fb",
   "metadata": {},
   "source": [
    "Rozpatrując sytuację odwrotnie, można oszacować, jak fakt przeżycia lub śmierci wpływa na prawdopodobieństwo użycia pasów bezpieczeństwa. Prawdopodobieństwo użycia pasów wśród osób, które przeżyły wynosi $0.888$. Prawdopodobieństwo użycia pasów wśród osób, które zginęły: $0.393$\n",
    "\n",
    "Zatem osoby, które przeżyły wypadek, znacznie częściej (ponad dwukrotnie częściej) miały zapięte pasy w porównaniu do tych, które poniosły śmierć."
   ]
  },
  {
   "cell_type": "markdown",
   "id": "afc7f11e",
   "metadata": {},
   "source": [
    "c) Zmienna objaśniana i miary efektu\n",
    "\n",
    "NNajbardziej naturalnym wyborem dla zmiennej objaśnianej jest status osoby po wypadku (śmierć vs. przeżycie), a zmienną objaśniającą – użycie pasów bezpieczeństwa. Taki wybór wynika z chęci zbadania wpływu stosowania pasów na ryzyko śmierci.\n",
    "\n",
    "- różnica proporcji"
   ]
  },
  {
   "cell_type": "code",
   "execution_count": null,
   "id": "e990ab28",
   "metadata": {},
   "outputs": [
    {
     "data": {
      "text/plain": [
       "0.017542396440374145"
      ]
     },
     "execution_count": 157,
     "metadata": {},
     "output_type": "execute_result"
    }
   ],
   "source": [
    "death_belts_prop_diff = cond_prob_death_no_belts - cond_prob_death_with_belts \n",
    "death_belts_prop_diff"
   ]
  },
  {
   "cell_type": "markdown",
   "id": "a370c09f",
   "metadata": {},
   "source": [
    "Oznacza to, że brak pasów zwiększa bezwzględne ryzyko śmierci o $1.75 \\%$."
   ]
  },
  {
   "cell_type": "markdown",
   "id": "dc73db46",
   "metadata": {},
   "source": [
    "- ryzyko względne (RR)"
   ]
  },
  {
   "cell_type": "code",
   "execution_count": null,
   "id": "632b1686",
   "metadata": {},
   "outputs": [
    {
     "data": {
      "text/plain": [
       "12.028053723544565"
      ]
     },
     "execution_count": 158,
     "metadata": {},
     "output_type": "execute_result"
    }
   ],
   "source": [
    "death_belts_RR = cond_prob_death_no_belts / cond_prob_death_with_belts\n",
    "death_belts_RR"
   ]
  },
  {
   "cell_type": "markdown",
   "id": "3413bd2f",
   "metadata": {},
   "source": [
    "Osoby bez pasów są około 12 razy bardziej narażone na śmierć niż osoby z zapiętymi pasami."
   ]
  },
  {
   "cell_type": "markdown",
   "id": "1d15435b",
   "metadata": {},
   "source": [
    "- iloraz szans (OR)"
   ]
  },
  {
   "cell_type": "code",
   "execution_count": null,
   "id": "87bb2f7b",
   "metadata": {},
   "outputs": [
    {
     "data": {
      "text/plain": [
       "12.243170461046063"
      ]
     },
     "execution_count": 159,
     "metadata": {},
     "output_type": "execute_result"
    }
   ],
   "source": [
    "death_belts_OR = (cond_prob_death_no_belts / (1 - cond_prob_death_no_belts)) / (cond_prob_death_with_belts / (1 - cond_prob_death_with_belts))\n",
    "death_belts_OR"
   ]
  },
  {
   "cell_type": "markdown",
   "id": "401f18ac",
   "metadata": {},
   "source": [
    "Zarówno RR, jak i OR mają zbliżone wartości (ok. 12), co jest typowe dla rzadkich zdarzeń (takich jak śmierć w wypadku), ponieważ w takich przypadkach szanse i prawdopodobieństwa przyjmują podobne wartości, a różnice między nimi są minimalne."
   ]
  },
  {
   "cell_type": "markdown",
   "id": "0670efa7",
   "metadata": {},
   "source": [
    "### ZADANIE 13\n",
    "    Oblicz wartości odpowiednich miar współzmienności (współczynnik tau lub współczynnik gamma) dla zmiennych:\n",
    "        • stopień zadowolenia ze szkoleń w kontekście dopasowania do indywidualnych potrzeb w pierwszym badanym okresie i zajmowane stanowisko,\n",
    "        • stopień zadowolenia ze szkoleń w kontekście dopasowania do indywidualnych potrzeb w pierwszym badanym okresie i staż pracy,\n",
    "        • zajmowane stanowisko i staż pracy."
   ]
  },
  {
   "cell_type": "markdown",
   "id": "23eb58f7",
   "metadata": {},
   "source": [
    "- stopień zadowolenia ze szkoleń w kontekście dopasowania do indywidualnych potrzeb w pierwszym badanym okresie i zajmowane stanowisko"
   ]
  },
  {
   "cell_type": "code",
   "execution_count": null,
   "id": "d8a3c18a",
   "metadata": {},
   "outputs": [
    {
     "data": {
      "text/plain": [
       "SignificanceResult(statistic=np.float64(-0.013012659367902335), pvalue=np.float64(0.8485756001088873))"
      ]
     },
     "execution_count": 165,
     "metadata": {},
     "output_type": "execute_result"
    }
   ],
   "source": [
    "kendalltau(data['PYT_2'], data['CZY_KIER'])"
   ]
  },
  {
   "cell_type": "markdown",
   "id": "81586529",
   "metadata": {},
   "source": [
    "- stopień zadowolenia ze szkoleń w kontekście dopasowania do indywidualnych potrzeb w pierwszym badanym okresie i staż pracy"
   ]
  },
  {
   "cell_type": "code",
   "execution_count": null,
   "id": "00507cfb",
   "metadata": {},
   "outputs": [
    {
     "data": {
      "text/plain": [
       "SignificanceResult(statistic=np.float64(0.04805720025595951), pvalue=np.float64(0.467191021174312))"
      ]
     },
     "execution_count": 166,
     "metadata": {},
     "output_type": "execute_result"
    }
   ],
   "source": [
    "kendalltau(data['PYT_2'], data['STAŻ'])"
   ]
  },
  {
   "cell_type": "markdown",
   "id": "f16c81c3",
   "metadata": {},
   "source": [
    "- zajmowane stanowisko i staż pracy"
   ]
  },
  {
   "cell_type": "code",
   "execution_count": null,
   "id": "62ef88ca",
   "metadata": {},
   "outputs": [
    {
     "data": {
      "text/plain": [
       "SignificanceResult(statistic=np.float64(0.28161663064776427), pvalue=np.float64(4.199376879536726e-05))"
      ]
     },
     "execution_count": 167,
     "metadata": {},
     "output_type": "execute_result"
    }
   ],
   "source": [
    "kendalltau(data['CZY_KIER'], data['STAŻ'])"
   ]
  },
  {
   "cell_type": "markdown",
   "id": "1c4b1f35",
   "metadata": {},
   "source": [
    "### ZADANIE 14\n",
    "    Na podstawie informacji przedstawionych na wykładzie napisz własną funkcję do przeprowadzania analizy korespondencji. Funkcja powinna przyjmować jako argument tablicę dwudzielczą i zwracać obliczone wartości odpowiednich wektorów i macierzy, współrzędnych punktów oraz odpowiedni wykres. Korzystając z napisanej funkcji wykonaj analizę korespondencji dla danych dotyczących stopnia zadowolenia ze szkoleń w kontekście dopasowania do indywidualnych potrzeb w pierwszym badanym okresie oraz stażu pracy."
   ]
  },
  {
   "cell_type": "markdown",
   "id": "f7ea5f7d",
   "metadata": {},
   "source": [
    "-------------------------------------------------------"
   ]
  },
  {
   "cell_type": "markdown",
   "id": "1f87e29e",
   "metadata": {},
   "source": [
    "## ZADANIA DODATKOWE"
   ]
  },
  {
   "cell_type": "markdown",
   "id": "c06ef7bc",
   "metadata": {},
   "source": [
    "### ZADANIE *1\n",
    "    Napisz funkcję, która dla dwóch wektorów danych oblicza wartość poziomu krytycznego (p-value) w teście opartym na korelacji odległości. Następnie dla wygenerowanych danych zweryfikuj hipotezę o niezależności przy użyciu napisanej funkcji."
   ]
  },
  {
   "cell_type": "markdown",
   "id": "ae114348",
   "metadata": {},
   "source": [
    "**Korelacja odległości (distance correlation)** jest miarą zależności między zmiennymi losowymi, która – w odróżnieniu od klasycznego współczynnika korelacji Pearsona – wykrywa zarówno zależności liniowe, jak i nieliniowe. Wartość korelacji odległości wynosi zero wtedy i tylko wtedy, gdy zmienne są niezależne. Jest to zatem silne narzędzie statystyczne do testowania hipotezy niezależności.\n",
    "\n",
    "Aby zweryfikować hipotezę:\n",
    "\n",
    "- $ H_0 $: zmienne X i Y są niezależne,  \n",
    "- $ H_1 $: zmienne X i Y są zależne,\n",
    "\n",
    "stosowany jest **test permutacyjny**, który polega na porównaniu wartości obserwowanej statystyki korelacji odległości z rozkładem tej statystyki uzyskanym poprzez wielokrotne losowe permutowanie jednej ze zmiennych. Wartość p oblicza się jako stosunek liczby permutacji, dla których permutowana statystyka była większa lub równa statystyce obserwowanej, do liczby wszystkich permutacji.\n"
   ]
  },
  {
   "cell_type": "code",
   "execution_count": 70,
   "id": "9b86d017",
   "metadata": {},
   "outputs": [],
   "source": [
    "from scipy.spatial.distance import pdist, squareform\n",
    "\n",
    "def distance_matrix(X):\n",
    "    return squareform(pdist(X[:, None] if X.ndim == 1 else X, metric='euclidean'))\n",
    "\n",
    "def double_centered(A):\n",
    "    n = A.shape[0]\n",
    "    row_mean = A.mean(axis=1, keepdims=True)\n",
    "    col_mean = A.mean(axis=0, keepdims=True)\n",
    "    total_mean = A.mean()\n",
    "    return A - row_mean - col_mean + total_mean\n",
    "\n",
    "def distance_covariance(X, Y):\n",
    "    A = double_centered(distance_matrix(X))\n",
    "    B = double_centered(distance_matrix(Y))\n",
    "    return np.mean(A * B)\n",
    "\n",
    "def distance_correlation(X, Y):\n",
    "    dcov_xy = distance_covariance(X, Y)\n",
    "    dcov_xx = distance_covariance(X, X)\n",
    "    dcov_yy = distance_covariance(Y, Y)\n",
    "    if dcov_xx == 0 or dcov_yy == 0:\n",
    "        return 0\n",
    "    return np.sqrt(dcov_xy) / np.sqrt(np.sqrt(dcov_xx * dcov_yy))\n",
    "\n",
    "def distance_correlation_test(X, Y, num_permutations=1000, seed=None):\n",
    "    np.random.seed(seed)\n",
    "    observed = distance_correlation(X, Y)\n",
    "    count = 0\n",
    "    for _ in range(num_permutations):\n",
    "        permuted_Y = np.random.permutation(Y)\n",
    "        permuted_corr = distance_correlation(X, permuted_Y)\n",
    "        if permuted_corr >= observed:\n",
    "            count += 1\n",
    "    p_value = count / num_permutations\n",
    "    return observed, p_value"
   ]
  },
  {
   "cell_type": "code",
   "execution_count": 72,
   "id": "cbd0ff4a",
   "metadata": {},
   "outputs": [
    {
     "name": "stdout",
     "output_type": "stream",
     "text": [
      "Korelacja odległości: 0.40269666862692627\n",
      "P-value: 0.0\n"
     ]
    }
   ],
   "source": [
    "np.random.seed(0)\n",
    "n = 100\n",
    "X = np.random.normal(0, 1, n)\n",
    "Y = X**2 + np.random.normal(0, 1, n)  # nieliniowa zależność\n",
    "\n",
    "stat, p_val = distance_correlation_test(X, Y, num_permutations=1000)\n",
    "print(f\"Korelacja odległości: {stat}\")\n",
    "print(f\"P-value: {p_val}\")\n"
   ]
  },
  {
   "cell_type": "markdown",
   "id": "b1e223b3",
   "metadata": {},
   "source": [
    "### ZADANIE *2\n",
    "    Dla zadanych π1 oraz π2 pokaż, że wartość ryzyka względnego (RR) nie jest bardziej oddalona od wartości 1 (wartość odpowiadająca niezależności) niż wartość odpowiadającego ilorazu szans (OR)."
   ]
  },
  {
   "cell_type": "markdown",
   "id": "430745ff",
   "metadata": {},
   "source": [
    "### ZADANIE *3\n",
    "    Niech D oznacza posiadanie pewnej choroby, a E pozostawanie wystawionym na pewny czynnik ryzyka. W badaniach epidemiologicznych definuje się miarę AR nazywaną ryzykiem przypisanym (ang. attributable risk).\n",
    "        a) Niech P(E′) = 1−P(E), wówczas AR = [P(D)−P(D|E′)]/P(D). Wyjaśnij interpretację miary na podstawie wzoru.\n",
    "        b) Pokaż, że AR ma związek z ryzykiem względnym, tzn.:\n",
    "                AR=[P(E)(RR−1)]/[1+P(E)(RR−1)]"
   ]
  }
 ],
 "metadata": {
  "kernelspec": {
   "display_name": "base",
   "language": "python",
   "name": "python3"
  },
  "language_info": {
   "codemirror_mode": {
    "name": "ipython",
    "version": 3
   },
   "file_extension": ".py",
   "mimetype": "text/x-python",
   "name": "python",
   "nbconvert_exporter": "python",
   "pygments_lexer": "ipython3",
   "version": "3.9.12"
  }
 },
 "nbformat": 4,
 "nbformat_minor": 5
}
