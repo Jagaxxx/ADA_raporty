{
 "cells": [
  {
   "cell_type": "markdown",
   "id": "9dc981b0",
   "metadata": {},
   "source": [
    "$$\\Huge \\text{RAPORT}$$\n",
    "$$\\huge \\text{LISTA 2}$$\n",
    "$$\\large \\text{Autorzy: Katarzyna Rudzińska, Jagoda Płócienniczak}$$"
   ]
  },
  {
   "cell_type": "code",
   "execution_count": null,
   "id": "6bd3b6d7",
   "metadata": {},
   "outputs": [],
   "source": []
  },
  {
   "cell_type": "markdown",
   "id": "e8b6f517",
   "metadata": {},
   "source": [
    "## CZĘŚĆ I"
   ]
  },
  {
   "cell_type": "markdown",
   "id": "776732db",
   "metadata": {},
   "source": [
    "### ZADANIE 1\n",
    "    W ankiecie przedstawionej na poprzedniej liście pracownicy zostali poproszeni o wyrażenie opinii na temat skuteczności szkolenia \"Efektywna komunikacja w zespole\" zorganizowanego przez firmę. Wśród próbki 200 pracowników (losowanie proste ze zwracaniem) uzyskano wyniki:\n",
    "    • 14 pracowników - bardzo niezadowolonych,\n",
    "    • 17 pracowników - niezadowolonych,\n",
    "    • 40 pracowników - nie ma zdania,\n",
    "    • 100 pracowników - zadowolonych,\n",
    "    • 29 pracowników - bardzo zadowolonych,\n",
    "    Na podstawie danych wyznacz przedział ufności dla wektora prawodobieństw opisującego stopień zadowolenia ze szkolenia. Przyjmij poziom ufności 0,95."
   ]
  },
  {
   "cell_type": "code",
   "execution_count": null,
   "id": "b5cfed2e",
   "metadata": {},
   "outputs": [],
   "source": []
  },
  {
   "cell_type": "markdown",
   "id": "b8f18f51",
   "metadata": {},
   "source": [
    "### ZADANIE 2 \n",
    "    Napisz funkcję, która wyznacza wartość poziomu krytycznego w następujących\n",
    "    testach:\n",
    "        • chi-kwadrat Pearsona\n",
    "        • chi-kwadrat największej wiarogodności\n",
    "    służących do weryfikacji hipotezy H0 : p = p0 przy hipotezie alternatywnej H1 : p = p0 na podstawie obserwacji x wektora losowego X z rozkładu wielomianowego z parametrami n i p."
   ]
  },
  {
   "cell_type": "code",
   "execution_count": null,
   "id": "0b172f24",
   "metadata": {},
   "outputs": [],
   "source": []
  },
  {
   "cell_type": "markdown",
   "id": "f86aa23d",
   "metadata": {},
   "source": [
    "### ZADANIE 3\n",
    "    Na podstawie danych z ankiety z poprzedniej listy zweryfikuj hipotezę, że w grupie\n",
    "    pracowników zatrudnionwych w Dziale Produktowym rozkład odpowiedzi na pytanie \"Jak\n",
    "    bardzo zgadzasz się ze stwierdzeniem, że firma zapewnia odpowiednie wsparcie i materiały\n",
    "    umożliwiające skuteczne wykorzystanie w praktyce wiedzy zdobytej w trakcie szkoleń?\" jest\n",
    "    równomierny, tzn. jest jednakowe prawdopodobieństwo, że pracownik zatrudniony w Dziale Produkcjnym udzielił odpowiedzi \"zdecydowanie się nie zgadzam\", \"nie zgadzam się\", \"nie\n",
    "    mam zdania\", \"zgadzam się\", \"zdecydowanie się zgadzam\" na pytanie PYT_1. Przyjmij poziom\n",
    "    istotności 0,05. Skorzystaj z funkcji napisanej w zadaniu 2."
   ]
  },
  {
   "cell_type": "code",
   "execution_count": null,
   "id": "6f91b7c8",
   "metadata": {},
   "outputs": [],
   "source": []
  },
  {
   "cell_type": "markdown",
   "id": "0ce4269b",
   "metadata": {},
   "source": [
    "## CZĘŚĆ II"
   ]
  },
  {
   "cell_type": "markdown",
   "id": "81c93647",
   "metadata": {},
   "source": [
    "### ZADANIE 4\n",
    "    Zapoznaj się z funkcjami służącymi do wykonania testu Fishera oraz testu Freemana-Haltona."
   ]
  },
  {
   "cell_type": "code",
   "execution_count": null,
   "id": "a96df1fc",
   "metadata": {},
   "outputs": [],
   "source": []
  },
  {
   "cell_type": "markdown",
   "id": "fd6a4a07",
   "metadata": {},
   "source": [
    "### ZADANIE 5\n",
    "    Korzystajac z testu Fishera, na poziomie istotnosci 0.05, zweryfikuj hipotezę, że zmienna 'PŁEć' i zmienna 'CZY_KIER' są niezależne. Czy na poziomie istotności 0.05 możemy wnioskować, że prawdopodobieństwo tego, że na stanowisku kierowniczym pracuje kobieta jest równe prawdopodobieństwu tego, że na stanowisku kierowniczym pracuje mężczyzna? Uzasadnij odpowiedź."
   ]
  },
  {
   "cell_type": "code",
   "execution_count": null,
   "id": "91e1bdf3",
   "metadata": {},
   "outputs": [],
   "source": []
  },
  {
   "cell_type": "markdown",
   "id": "61c8dfd4",
   "metadata": {},
   "source": [
    "### ZDANIE 6\n",
    "    Korzystajac z testu Freemana-Haltona na poziomie istotności 0,05 zweryfikuj następujące hipotezy:\n",
    "        a) zajmowanie stanowiska kierowniczego nie zależy od wieku (CZY_KIER oraz WIEK_KAT),\n",
    "        b) zajmowanie stanowiska kierowniczego nie zależy od stażu pracy (CZY_KIER oraz STAŻ),\n",
    "        c) stopień zadowolenia ze szkoleń w kontekście dopasowania do indywidualnych potrzeb w pierwszym badanym okresie nie zależy od zajmowanego stanowiska (PYT_2 oraz CZY_KIER),\n",
    "        d) stopień zadowolenia ze szkoleń w kontekście dopasowania do indywidualnych potrzeb w pierwszym badanym okresie nie zależy od stażu (PYT_2 oraz STAŻ),\n",
    "        e) stopień zadowolenia ze szkoleń w kontekście dopasowania do indywidualnych potrzeb w pierwszym badanym okresie nie zależy od płci (PYT_2 oraz PŁEĆ),\n",
    "        f) stopień zadowolenia ze szkoleń w kontekście dopasowania do indywidualnych potrzeb w pierwszym badanym okresie nie zależy od wieku (PYT_2 oraz WIEK_KAT).\n",
    "    Wykonaj podpunkty c), d), e) oraz d) zast˛ epuj˛ ac zmienn˛ a PYT_2 przez zmienną CZY_ZADOW zdefiniowaną w zadaniu 1. w części I z poprzedniej listy. Porównaj wyniki."
   ]
  },
  {
   "cell_type": "code",
   "execution_count": null,
   "id": "110b2690",
   "metadata": {},
   "outputs": [],
   "source": []
  },
  {
   "cell_type": "markdown",
   "id": "b2dc132d",
   "metadata": {},
   "source": [
    "## CZĘŚĆ III"
   ]
  },
  {
   "cell_type": "markdown",
   "id": "96996ec5",
   "metadata": {},
   "source": [
    "### ZADANIE 7\n",
    "    Zapoznaj się z funkcją służącą do wykonania testu niezależności chi-kwadrat."
   ]
  },
  {
   "cell_type": "code",
   "execution_count": null,
   "id": "d52ec8c4",
   "metadata": {},
   "outputs": [],
   "source": []
  },
  {
   "cell_type": "markdown",
   "id": "6ec6f08d",
   "metadata": {},
   "source": [
    "### ZADANIE 8\n",
    "    Korzystając z funkcji poznanej w zadaniu 7. zweryfikuj hipotezę, że stopień zadowolenia ze szkoleń w kontekście dopasowania do indywidualnych potrzeb w pierwszym badanym okresie nie zależy od zajmowanego stanowiska. Przyjmij poziom istotności 0.01. Wynik testu porównaj z wynikiem uzyskanym w zadaniu 6. Zaprezentuj reszty wyznaczane w teście na wykresie asocjacyjnym i dokonaj jego interpretacji."
   ]
  },
  {
   "cell_type": "code",
   "execution_count": null,
   "id": "6878e9a6",
   "metadata": {},
   "outputs": [],
   "source": []
  },
  {
   "cell_type": "markdown",
   "id": "b98a48b3",
   "metadata": {},
   "source": [
    "### ZADANIE 9\n",
    "    Zapoznaj się z funkcję służącą do generowania realizacji wektorów losowych z rozkładu wielomianowego, a następnie korzystając z niej przeprowadź symulacje w celu oszacowania mocy testu Fishera oraz mocy testu chi-kwadrat Pearsona, generując dane z tabeli 2×2, w której p11 = 1/40, p12 = 3/40, p21 = 19/40, p22 = 17/40. Symulacje wykonaj dla n = 50, n = 100 oraz n = 1000. Sformułuj wnioski."
   ]
  },
  {
   "cell_type": "code",
   "execution_count": null,
   "id": "344a69bd",
   "metadata": {},
   "outputs": [],
   "source": []
  },
  {
   "cell_type": "markdown",
   "id": "56259a1f",
   "metadata": {},
   "source": [
    "### ZADANIE 10\n",
    "    Napisz funkcję, która dla danych z tablicy dwudzielczej oblicza wartość poziomu krytycznego w teście niezależnosci opartym na ilorazie wiarogodnosci. Korzystając z napisanej funkcji,wykonaj test dla danych przeanalizowanych w zadaniu 8."
   ]
  },
  {
   "cell_type": "code",
   "execution_count": null,
   "id": "b1ba0058",
   "metadata": {},
   "outputs": [],
   "source": []
  },
  {
   "cell_type": "markdown",
   "id": "87dd1786",
   "metadata": {},
   "source": [
    "## CZĘŚĆ IV i V"
   ]
  },
  {
   "cell_type": "markdown",
   "id": "2c2ed6ed",
   "metadata": {},
   "source": [
    "### ZADANIE 11\n",
    "    Przeprowadzone wsród brytyjskich mężczyzn badanie trwające 20 lat wykazało, że odsetek zmarłych (na rok) z powodu raka płuc wynosił 0,00140 wsród osób palących papierosy i 0,00010 wsród osób niepalących. Odsetek zmarłych z powodu choroby niedokrwiennej serca wynosił 0,00669 dla palaczy i 0,00413 dla osób niepalących. Opisz związek pomiędzy paleniem papierosów a śmiercią z powodu raka płuc oraz związek pomiędzy paleniem papierosów a śmiercią z powodu choroby serca. Skorzystaj z różnicy proporcji, ryzyka względnego i ilorazu szans. Zinterpretuj wartości. Związek której pary zmiennych jest silniejszy?"
   ]
  },
  {
   "cell_type": "code",
   "execution_count": null,
   "id": "487f06e4",
   "metadata": {},
   "outputs": [],
   "source": []
  },
  {
   "cell_type": "markdown",
   "id": "96d0ecf8",
   "metadata": {},
   "source": [
    "### ZADANIE 12\n",
    "    Tabela 1 przedstawia wyniki dotyczące śmiertelności kierowców i pasażerów w wypadkach samochodowych na Florydzie w 2008 roku, w zależności od tego, czy osoba miała zapięty pas bezpieczeństwa czy nie.\n",
    "\n",
    "<div align=\"center\">\n",
    "\n",
    "| | Śmiertelny | Nieśmiertelny |\n",
    "| ----------- | ----------- | ----------- |\n",
    "| **Bez pasów** | 1085 | 55 623 |\n",
    "| **Z pasami** | 703 | 441 239 |\n",
    "\n",
    "</div> \n",
    "<br>\n",
    "<div align=\"center\">\n",
    "Table 1: Wyniki dotyczące śmiertelności w wypadkach samochodowych na Florydzie w 2008 roku.\n",
    "</div>\n",
    "\n",
    "        a) Oszacuj warunkowe prawdopodobieństwo śmierci w wypadku ze względu na drugą zmienną, tj. dla kierowców i pasażerów, którzy użyli pasa bezpieczeństwa oraz dla kierowców i pasażerów, który nie użyli pasa bezpieczeństwa.\n",
    "        b) Oszacuj warunkowe prawdopodobieństwo użycia pasa bezpieczeństwa ze względu na drugą zmienną, tj. dla kierowców i pasażerów ze śmiertelnymi obrażeniami oraz dla kierowców i pasażerów, którzy przeżyli wypadek.\n",
    "        c) Jaki jest najbardziej naturalny wybór dla zmiennej objaśnianej w tym badaniu? Dla takiego wyboru wyznacz i zinterpretuj różnice proporcji, ryzyko względne oraz iloraz szans. Dlaczego wartości ryzyka względnego i ilorazu szans przyjmują zbliżone wartości?"
   ]
  },
  {
   "cell_type": "code",
   "execution_count": null,
   "id": "a6994200",
   "metadata": {},
   "outputs": [],
   "source": []
  },
  {
   "cell_type": "markdown",
   "id": "98d0551b",
   "metadata": {},
   "source": [
    "### ZADANIE 13\n",
    "    Oblicz wartości odpowiednich miar współzmienności (współczynnik tau lub współczynnik gamma) dla zmiennych:\n",
    "        • stopień zadowolenia ze szkoleń w kontekście dopasowania do indywidualnych potrzeb w pierwszym badanym okresie i zajmowane stanowisko,\n",
    "        • stopień zadowolenia ze szkoleń w kontekście dopasowania do indywidualnych potrzeb w pierwszym badanym okresie i staż pracy,\n",
    "        • zajmowane stanowisko i staż pracy."
   ]
  },
  {
   "cell_type": "code",
   "execution_count": null,
   "id": "7ce11737",
   "metadata": {},
   "outputs": [],
   "source": []
  },
  {
   "cell_type": "markdown",
   "id": "367c409a",
   "metadata": {},
   "source": [
    "### ZADANIE 14\n",
    "    Na podstawie informacji przedstawionych na wykładzie napisz własną funkcję do przeprowadzania analizy korespondencji. Funkcja powinna przyjmować jako argument tablicę dwudzielczą i zwracać obliczone wartości odpowiednich wektorów i macierzy, współrzędnych punktów oraz odpowiedni wykres. Korzystając z napisanej funkcji wykonaj analizę korespondencji dla danych dotyczących stopnia zadowolenia ze szkoleń w kontekście dopasowania do indywidualnych potrzeb w pierwszym badanym okresie oraz stażu pracy."
   ]
  },
  {
   "cell_type": "markdown",
   "id": "43c02283",
   "metadata": {},
   "source": [
    "-------------------------------------------------------"
   ]
  },
  {
   "cell_type": "markdown",
   "id": "7227c85d",
   "metadata": {},
   "source": [
    "## ZADANIA DODATKOWE"
   ]
  },
  {
   "cell_type": "markdown",
   "id": "5d17320e",
   "metadata": {},
   "source": [
    "### ZADANIE *1\n",
    "    Napisz funkcję, która dla dwóch wektorów danych oblicza wartość poziomu krytycznego (p-value) w teście opartym na korelacji odległości. Następnie dla wygenerowanych danych zweryfikuj hipotezę o niezależności przy użyciu napisanej funkcji."
   ]
  },
  {
   "cell_type": "markdown",
   "id": "9deb5908",
   "metadata": {},
   "source": [
    "### ZADANIE *2\n",
    "    Dla zadanych π1 oraz π2 pokaż, że wartość ryzyka względnego (RR) nie jest bardziej oddalona od wartości 1 (wartość odpowiadająca niezależności) niż wartość odpowiadającego ilorazu szans (OR)."
   ]
  },
  {
   "cell_type": "markdown",
   "id": "0f6b0216",
   "metadata": {},
   "source": [
    "### ZADANIE *3\n",
    "    Niech D oznacza posiadanie pewnej choroby, a E pozostawanie wystawionym na pewny czynnik ryzyka. W badaniach epidemiologicznych definuje się miarę AR nazywaną ryzykiem przypisanym (ang. attributable risk).\n",
    "        a) Niech P(E′) = 1−P(E), wówczas AR = [P(D)−P(D|E′)]/P(D). Wyjaśnij interpretację miary na podstawie wzoru.\n",
    "        b) Pokaż, że AR ma związek z ryzykiem względnym, tzn.:\n",
    "                AR=[P(E)(RR−1)]/[1+P(E)(RR−1)]"
   ]
  }
 ],
 "metadata": {
  "kernelspec": {
   "display_name": "Python 3",
   "language": "python",
   "name": "python3"
  },
  "language_info": {
   "codemirror_mode": {
    "name": "ipython",
    "version": 3
   },
   "file_extension": ".py",
   "mimetype": "text/x-python",
   "name": "python",
   "nbconvert_exporter": "python",
   "pygments_lexer": "ipython3",
   "version": "3.12.5"
  }
 },
 "nbformat": 4,
 "nbformat_minor": 5
}
