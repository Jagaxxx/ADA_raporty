{
 "cells": [
  {
   "cell_type": "markdown",
   "id": "6a51b8e5",
   "metadata": {},
   "source": [
    "$$\\Huge \\text{RAPORT}$$\n",
    "$$\\huge \\text{LISTA 2}$$\n",
    "$$\\large \\text{Autorzy: Katarzyna Rudzińska, Jagoda Płócienniczak}$$"
   ]
  },
  {
   "cell_type": "code",
   "execution_count": 14,
   "id": "4f87534f",
   "metadata": {},
   "outputs": [],
   "source": [
    "import numpy as np\n",
    "import pandas as pd\n",
    "import matplotlib.pyplot as plt\n",
    "import seaborn as sns\n",
    "from scipy.stats import chi2_contingency, fisher_exact"
   ]
  },
  {
   "cell_type": "code",
   "execution_count": null,
   "id": "01020079",
   "metadata": {},
   "outputs": [],
   "source": [
    "# np.set_printoptions(legacy='1.25')"
   ]
  },
  {
   "cell_type": "code",
   "execution_count": 15,
   "id": "3bea168e",
   "metadata": {},
   "outputs": [],
   "source": [
    "data = pd.read_csv('ankieta.csv', encoding='Windows-1250', sep=';')\n",
    "data['DZIAŁ'] = data['DZIAŁ'].astype(\"category\")\n",
    "data['CZY_KIER'] = data['CZY_KIER'].astype(\"category\")\n",
    "data['PŁEĆ'] = data['PŁEĆ'].astype(\"category\")"
   ]
  },
  {
   "cell_type": "code",
   "execution_count": 16,
   "id": "eef03409",
   "metadata": {},
   "outputs": [],
   "source": [
    "def categorize_age(age):\n",
    "    if age <= 35:\n",
    "        return \"<=35\"\n",
    "    elif 36 <= age <= 45:\n",
    "        return \"36-45\"\n",
    "    elif 46 <= age <= 55:\n",
    "        return \"46-55\"\n",
    "    else:\n",
    "        return \">55\"\n",
    "\n",
    "data[\"WIEK_KAT\"] = data[\"WIEK\"].apply(categorize_age)\n",
    "data['WIEK_KAT'] = data['WIEK_KAT'].astype(\"category\")"
   ]
  },
  {
   "cell_type": "code",
   "execution_count": 17,
   "id": "095fb9d7",
   "metadata": {},
   "outputs": [],
   "source": [
    "def is_satisfied(satisfaction_lvl):\n",
    "    if satisfaction_lvl == -2 or satisfaction_lvl == -1:\n",
    "        return 'NIE'\n",
    "    else:\n",
    "        return 'TAK'\n",
    "\n",
    "data[\"CZY_ZADOW\"] = data[\"PYT_2\"].apply(is_satisfied)\n",
    "data[\"CZY_ZADOW\"] = data[\"CZY_ZADOW\"].astype(\"category\")"
   ]
  },
  {
   "cell_type": "markdown",
   "id": "c01f8564",
   "metadata": {},
   "source": [
    "## CZĘŚĆ I"
   ]
  },
  {
   "cell_type": "markdown",
   "id": "754b7204",
   "metadata": {},
   "source": [
    "### ZADANIE 1\n",
    "    W ankiecie przedstawionej na poprzedniej liście pracownicy zostali poproszeni o wyrażenie opinii na temat skuteczności szkolenia \"Efektywna komunikacja w zespole\" zorganizowanego przez firmę. Wśród próbki 200 pracowników (losowanie proste ze zwracaniem) uzyskano wyniki:\n",
    "        • 14 pracowników - bardzo niezadowolonych,\n",
    "        • 17 pracowników - niezadowolonych,\n",
    "        • 40 pracowników - nie ma zdania,\n",
    "        • 100 pracowników - zadowolonych,\n",
    "        • 29 pracowników - bardzo zadowolonych,\n",
    "    Na podstawie danych wyznacz przedział ufności dla wektora prawodobieństw opisującego stopień zadowolenia ze szkolenia. Przyjmij poziom ufności 0,95."
   ]
  },
  {
   "cell_type": "code",
   "execution_count": null,
   "id": "12730461",
   "metadata": {},
   "outputs": [],
   "source": []
  },
  {
   "cell_type": "markdown",
   "id": "9d5d43fc",
   "metadata": {},
   "source": [
    "### ZADANIE 2 \n",
    "    Napisz funkcję, która wyznacza wartość poziomu krytycznego w następujących testach:\n",
    "        • chi-kwadrat Pearsona\n",
    "        • chi-kwadrat największej wiarogodności\n",
    "    służących do weryfikacji hipotezy H0 : p = p0 przy hipotezie alternatywnej H1 : p = p0 na podstawie obserwacji x wektora losowego X z rozkładu wielomianowego z parametrami n i p."
   ]
  },
  {
   "cell_type": "code",
   "execution_count": null,
   "id": "802f1093",
   "metadata": {},
   "outputs": [],
   "source": []
  },
  {
   "cell_type": "markdown",
   "id": "3d156dcf",
   "metadata": {},
   "source": [
    "### ZADANIE 3\n",
    "    Na podstawie danych z ankiety z poprzedniej listy zweryfikuj hipotezę, że w grupie pracowników zatrudnionwych w Dziale Produktowym rozkład odpowiedzi na pytanie \"Jak bardzo zgadzasz się ze stwierdzeniem, że firma zapewnia odpowiednie wsparcie i materiały umożliwiające skuteczne wykorzystanie w praktyce wiedzy zdobytej w trakcie szkoleń?\" jest równomierny, tzn. jest jednakowe prawdopodobieństwo, że pracownik zatrudniony w Dziale Produkcjnym udzielił odpowiedzi \"zdecydowanie się nie zgadzam\", \"nie zgadzam się\", \"nie mam zdania\", \"zgadzam się\", \"zdecydowanie się zgadzam\" na pytanie PYT_1. Przyjmij poziom istotności 0,05. Skorzystaj z funkcji napisanej w zadaniu 2."
   ]
  },
  {
   "cell_type": "code",
   "execution_count": null,
   "id": "e4ba3be7",
   "metadata": {},
   "outputs": [],
   "source": []
  },
  {
   "cell_type": "markdown",
   "id": "5046b75c",
   "metadata": {},
   "source": [
    "## CZĘŚĆ II"
   ]
  },
  {
   "cell_type": "markdown",
   "id": "b81b2a72",
   "metadata": {},
   "source": [
    "### ZADANIE 4\n",
    "    Zapoznaj się z funkcjami służącymi do wykonania testu Fishera oraz testu Freemana-Haltona."
   ]
  },
  {
   "cell_type": "code",
   "execution_count": null,
   "id": "5589e2ca",
   "metadata": {},
   "outputs": [],
   "source": []
  },
  {
   "cell_type": "markdown",
   "id": "216d5f8a",
   "metadata": {},
   "source": [
    "### ZADANIE 5\n",
    "    Korzystajac z testu Fishera, na poziomie istotnosci 0.05, zweryfikuj hipotezę, że zmienna 'PŁEć' i zmienna 'CZY_KIER' są niezależne. Czy na poziomie istotności 0.05 możemy wnioskować, że prawdopodobieństwo tego, że na stanowisku kierowniczym pracuje kobieta jest równe prawdopodobieństwu tego, że na stanowisku kierowniczym pracuje mężczyzna? Uzasadnij odpowiedź."
   ]
  },
  {
   "cell_type": "code",
   "execution_count": null,
   "id": "916216e1",
   "metadata": {},
   "outputs": [],
   "source": []
  },
  {
   "cell_type": "markdown",
   "id": "a91bdd0d",
   "metadata": {},
   "source": [
    "### ZDANIE 6\n",
    "    Korzystajac z testu Freemana-Haltona na poziomie istotności 0,05 zweryfikuj następujące hipotezy:\n",
    "        a) zajmowanie stanowiska kierowniczego nie zależy od wieku (CZY_KIER oraz WIEK_KAT),\n",
    "        b) zajmowanie stanowiska kierowniczego nie zależy od stażu pracy (CZY_KIER oraz STAŻ),\n",
    "        c) stopień zadowolenia ze szkoleń w kontekście dopasowania do indywidualnych potrzeb w pierwszym badanym okresie nie zależy od zajmowanego stanowiska (PYT_2 oraz CZY_KIER),\n",
    "        d) stopień zadowolenia ze szkoleń w kontekście dopasowania do indywidualnych potrzeb w pierwszym badanym okresie nie zależy od stażu (PYT_2 oraz STAŻ),\n",
    "        e) stopień zadowolenia ze szkoleń w kontekście dopasowania do indywidualnych potrzeb w pierwszym badanym okresie nie zależy od płci (PYT_2 oraz PŁEĆ),\n",
    "        f) stopień zadowolenia ze szkoleń w kontekście dopasowania do indywidualnych potrzeb w pierwszym badanym okresie nie zależy od wieku (PYT_2 oraz WIEK_KAT).\n",
    "    Wykonaj podpunkty c), d), e) oraz d) zastępujęc zmienną PYT_2 przez zmienną CZY_ZADOW zdefiniowaną w zadaniu 1. w części I z poprzedniej listy. Porównaj wyniki."
   ]
  },
  {
   "cell_type": "code",
   "execution_count": null,
   "id": "17fab711",
   "metadata": {},
   "outputs": [],
   "source": []
  },
  {
   "cell_type": "markdown",
   "id": "461f918d",
   "metadata": {},
   "source": [
    "## CZĘŚĆ III"
   ]
  },
  {
   "cell_type": "markdown",
   "id": "bc394d7f",
   "metadata": {},
   "source": [
    "### ZADANIE 7\n",
    "    Zapoznaj się z funkcją służącą do wykonania testu niezależności chi-kwadrat."
   ]
  },
  {
   "cell_type": "markdown",
   "id": "f4f6e86e",
   "metadata": {},
   "source": [
    "Do przeprowadzenia testu niezależności chi-kwadrat wykorzystano wbudowaną funkcję *chi2_contingency* z biblioteki *scipy.stats*. Funkcja ta oblicza wartość statystyki chi-kwadrat oraz odpowiadającą jej p-wartość, zakładając hipotezę zerową o statystycznej niezależności zmiennych reprezentowanych w tabeli kontyngencji (tabeli krzyżowej). Funkcja zwraca również oczekiwane liczebności, które są wyznaczane na podstawie iloczynów sum marginalnych, zgodnie z założeniem niezależności zmiennych.\n",
    "\n",
    "Sformułowanie hipotez statystycznych w teście chi-kwadrat:\n",
    "\n",
    "$H_0$ : Zmienne są statystycznie niezależne\n",
    "\n",
    "$H_1$ : Zmienne są statystycznie zależne"
   ]
  },
  {
   "cell_type": "code",
   "execution_count": 18,
   "id": "b51d6708",
   "metadata": {},
   "outputs": [
    {
     "data": {
      "text/plain": [
       "Chi2ContingencyResult(statistic=np.float64(2.7777777777777777), pvalue=np.float64(0.2493522087772962), dof=2, expected_freq=array([[12., 12., 16.],\n",
       "       [18., 18., 24.]]))"
      ]
     },
     "execution_count": 18,
     "metadata": {},
     "output_type": "execute_result"
    }
   ],
   "source": [
    "obs_freq = np.array([[10, 10, 20], [20, 20, 20]])\n",
    "res = chi2_contingency(obs_freq)\n",
    "\n",
    "# print('Statystyka: ', res.statistic)\n",
    "# print('p-wartość: ', res.pvalue)\n",
    "# print('Stopnie swobody: ', res.dof)\n",
    "# print('Oczekiwane częstotliwości/liczebności: ', res.expected_freq)\n",
    "\n",
    "res"
   ]
  },
  {
   "cell_type": "markdown",
   "id": "f8c77f57",
   "metadata": {},
   "source": [
    "### ZADANIE 8\n",
    "    Korzystając z funkcji poznanej w zadaniu 7. zweryfikuj hipotezę, że stopień zadowolenia ze szkoleń w kontekście dopasowania do indywidualnych potrzeb w pierwszym badanym okresie nie zależy od zajmowanego stanowiska. Przyjmij poziom istotności 0.01. Wynik testu porównaj z wynikiem uzyskanym w zadaniu 6. Zaprezentuj reszty wyznaczane w teście na wykresie asocjacyjnym i dokonaj jego interpretacji."
   ]
  },
  {
   "cell_type": "code",
   "execution_count": 19,
   "id": "636862f0",
   "metadata": {},
   "outputs": [],
   "source": [
    "crosstab_P2CzK = pd.crosstab(data['PYT_2'], data['CZY_KIER'])\n",
    "chi2_P2CzK = chi2_contingency(crosstab_P2CzK.values)"
   ]
  },
  {
   "cell_type": "code",
   "execution_count": 20,
   "id": "826fe0e4",
   "metadata": {},
   "outputs": [
    {
     "name": "stdout",
     "output_type": "stream",
     "text": [
      "p-wartość:  0.0043970813557677796\n"
     ]
    }
   ],
   "source": [
    "print('p-wartość: ', chi2_P2CzK.pvalue)"
   ]
  },
  {
   "cell_type": "markdown",
   "id": "6835ab15",
   "metadata": {},
   "source": [
    "W tym przypadku przyjęto poziom istotności $\\alpha = 0.01$. Porównując go z otrzymaną p-wartością:\n",
    "$$ \\text{p-wartość} = 0.004 < \\alpha = 0.01$$\n",
    "W związku z tym istnieją podstawy do odrzucenia hipotezy zerowej. Można zatem stwierdzić, że stopień zadowolenia ze szkoleń w kontekście dopasowania do indywidualnych potrzeb w pierwszym badanym okresie istotnie zależy od zajmowanego stanowiska."
   ]
  },
  {
   "cell_type": "code",
   "execution_count": 21,
   "id": "1c5562bc",
   "metadata": {},
   "outputs": [
    {
     "data": {
      "text/plain": [
       "array([[-1.24990236e-03,  3.16385999e-03],\n",
       "       [ 1.68296463e-01, -4.26006434e-01],\n",
       "       [-1.31529464e+00,  3.32938655e+00],\n",
       "       [ 1.09649995e-01, -2.77555467e-01]])"
      ]
     },
     "execution_count": 21,
     "metadata": {},
     "output_type": "execute_result"
    }
   ],
   "source": [
    "chi2_P2CzK_stand_res = (crosstab_P2CzK.values - chi2_P2CzK.expected_freq) / np.sqrt(chi2_P2CzK.expected_freq)\n",
    "chi2_P2CzK_stand_res"
   ]
  },
  {
   "cell_type": "code",
   "execution_count": 22,
   "id": "50c64a3f",
   "metadata": {},
   "outputs": [
    {
     "data": {
      "image/png": "[encoded data removed]",
      "text/plain": [
       "<Figure size 600x400 with 2 Axes>"
      ]
     },
     "metadata": {},
     "output_type": "display_data"
    }
   ],
   "source": [
    "plt.figure(figsize=(6, 4))\n",
    "\n",
    "sns.heatmap(\n",
    "    chi2_P2CzK_stand_res,\n",
    "    center=-0.05,\n",
    "    annot=True,\n",
    "    fmt=\".3f\",\n",
    "    cmap=\"coolwarm\",\n",
    "    cbar=True,\n",
    "    xticklabels=crosstab_P2CzK.columns,\n",
    "    yticklabels=crosstab_P2CzK.index,\n",
    "    linewidths=1\n",
    ")\n",
    "\n",
    "plt.ylabel('PYT_2')\n",
    "plt.xlabel('CZY_KIER')\n",
    "plt.tight_layout()\n",
    "plt.show()"
   ]
  },
  {
   "cell_type": "markdown",
   "id": "884bd49d",
   "metadata": {},
   "source": [
    "### ZADANIE 9\n",
    "    Zapoznaj się z funkcję służącą do generowania realizacji wektorów losowych z rozkładu wielomianowego, a następnie korzystając z niej przeprowadź symulacje w celu oszacowania mocy testu Fishera oraz mocy testu chi-kwadrat Pearsona, generując dane z tabeli 2×2, w której p11 = 1/40, p12 = 3/40, p21 = 19/40,    p22 = 17/40. Symulacje wykonaj dla n = 50, n = 100 oraz n = 1000. Sformułuj wnioski."
   ]
  },
  {
   "cell_type": "code",
   "execution_count": 23,
   "id": "96ff6ace",
   "metadata": {},
   "outputs": [],
   "source": [
    "p = [1/40, 3/40, 19/40, 17/40]\n",
    "alpha = 0.05\n",
    "tab_size = (2,2)\n",
    "n = [50, 100, 1000]"
   ]
  },
  {
   "cell_type": "markdown",
   "id": "e0e604f0",
   "metadata": {},
   "source": [
    "$\\huge \\text{tutaj zweryfikować - dla domyślnej lambda\\_ (Pearson) chi2 nie działa}$"
   ]
  },
  {
   "cell_type": "code",
   "execution_count": 24,
   "id": "15729d61",
   "metadata": {},
   "outputs": [],
   "source": [
    "def test_power(p, alpha, tab_size, n, M=500):\n",
    "    chi2_rejected = 0\n",
    "    fisher_rejected = 0\n",
    "    for i in range(M):\n",
    "        random_vector = np.random.multinomial(n, p)\n",
    "        random_vector = random_vector.reshape(tab_size)\n",
    "\n",
    "        chi2_results = chi2_contingency(random_vector, lambda_=\"log-likelihood\")\n",
    "        fisher_results = fisher_exact(random_vector)\n",
    "\n",
    "        if chi2_results.pvalue < alpha:\n",
    "            chi2_rejected += 1\n",
    "        if fisher_results.pvalue < alpha:\n",
    "            fisher_rejected += 1   \n",
    "                     \n",
    "    power_chi2 = chi2_rejected / M\n",
    "    power_fisher = fisher_rejected / M\n",
    "\n",
    "    return power_chi2, power_fisher"
   ]
  },
  {
   "cell_type": "code",
   "execution_count": 25,
   "id": "f2259103",
   "metadata": {},
   "outputs": [],
   "source": [
    "chi2_power = np.zeros(len(n))\n",
    "fisher_power = np.zeros(len(n))\n",
    "\n",
    "for i, n_i in enumerate(n):\n",
    "    chi2_power[i], fisher_power[i] = test_power(p, alpha, tab_size, n_i)"
   ]
  },
  {
   "cell_type": "code",
   "execution_count": 26,
   "id": "6b9d67ae",
   "metadata": {},
   "outputs": [
    {
     "data": {
      "image/png": "[encoded data removed]",
      "text/plain": [
       "<Figure size 640x480 with 1 Axes>"
      ]
     },
     "metadata": {},
     "output_type": "display_data"
    }
   ],
   "source": [
    "plt.plot(n, chi2_power, label='Chi-kwadrat', marker='o')\n",
    "plt.plot(n, fisher_power, label='Fisher', marker='o')\n",
    "\n",
    "plt.legend()\n",
    "plt.title('Moc testu chi2 i Fishera')\n",
    "plt.grid(True, linestyle='--')\n",
    "plt.xscale('log')\n",
    "plt.xlabel('n (w skali logarytmicznej)')\n",
    "plt.ylabel('Moc testu')\n",
    "plt.show()"
   ]
  },
  {
   "cell_type": "code",
   "execution_count": 27,
   "id": "f7b8ae28",
   "metadata": {},
   "outputs": [],
   "source": [
    "# def test_power(p, alpha, tab_size, n, test_func, M=500):\n",
    "#     rejected_count = 0\n",
    "#     valid_runs = 0\n",
    "\n",
    "#     for _ in range(M):\n",
    "#         random_vector = np.random.multinomial(n, p)\n",
    "#         random_vector = random_vector.reshape(tab_size)\n",
    "\n",
    "#         try:\n",
    "#             result = test_func(random_vector)\n",
    "#             p_value = result.pvalue if hasattr(result, 'pvalue') else result[1]\n",
    "\n",
    "#             if p_value < alpha:\n",
    "#                 rejected_count += 1\n",
    "#             valid_runs += 1\n",
    "\n",
    "#         except ValueError:\n",
    "#             continue\n",
    "\n",
    "#     if valid_runs == 0:\n",
    "#         return np.nan \n",
    "\n",
    "#     return rejected_count / valid_runs\n"
   ]
  },
  {
   "cell_type": "markdown",
   "id": "3cccb41e",
   "metadata": {},
   "source": [
    "### ZADANIE 10\n",
    "    Napisz funkcję, która dla danych z tablicy dwudzielczej oblicza wartość poziomu krytycznego w teście niezależnosci opartym na ilorazie wiarogodnosci. Korzystając z napisanej funkcji, wykonaj test dla danych przeanalizowanych w zadaniu 8."
   ]
  },
  {
   "cell_type": "markdown",
   "id": "d0288909",
   "metadata": {},
   "source": [
    "$\\huge \\text{tutaj zweryfikować}$"
   ]
  },
  {
   "cell_type": "code",
   "execution_count": 28,
   "id": "8f79c246",
   "metadata": {},
   "outputs": [],
   "source": [
    "# G-test: Funkcja scipy.stats.chi2_contingency z parametrem lambda_=\"log-likelihood\" wykonuje test niezależności oparty na ilorazie wiarygodności (czyli tzw. G-test)\n",
    "\n",
    "def likelihood_ratio_test_g(obs):\n",
    "    stat, p, dof, _ = chi2_contingency(obs, lambda_=\"log-likelihood\")\n",
    "    return stat, p, dof"
   ]
  },
  {
   "cell_type": "code",
   "execution_count": 29,
   "id": "d6f131fb",
   "metadata": {},
   "outputs": [
    {
     "name": "stdout",
     "output_type": "stream",
     "text": [
      "Statystyka G²: 8.3285, p-value: 0.0397, stopnie swobody: 3\n"
     ]
    }
   ],
   "source": [
    "# Przykład użycia dla zadania 8\n",
    "stat, p, dof = likelihood_ratio_test_g(crosstab_P2CzK.values)\n",
    "\n",
    "print(f\"Statystyka G²: {stat:.4f}, p-value: {p:.4f}, stopnie swobody: {dof}\")"
   ]
  },
  {
   "cell_type": "markdown",
   "id": "5c06ac6f",
   "metadata": {},
   "source": [
    "## CZĘŚĆ IV i V"
   ]
  },
  {
   "cell_type": "markdown",
   "id": "003707a5",
   "metadata": {},
   "source": [
    "### ZADANIE 11\n",
    "    Przeprowadzone wsród brytyjskich mężczyzn badanie trwające 20 lat wykazało, że odsetek zmarłych (na rok) z powodu raka płuc wynosił 0,00140 wsród osób palących papierosy i 0,00010 wsród osób niepalących. Odsetek zmarłych z powodu choroby niedokrwiennej serca wynosił 0,00669 dla palaczy i 0,00413 dla osób niepalących. Opisz związek pomiędzy paleniem papierosów a śmiercią z powodu raka płuc oraz związek pomiędzy paleniem papierosów a śmiercią z powodu choroby serca. Skorzystaj z różnicy proporcji, ryzyka względnego i ilorazu szans. Zinterpretuj wartości. Związek której pary zmiennych jest silniejszy?"
   ]
  },
  {
   "cell_type": "markdown",
   "id": "f654046b",
   "metadata": {},
   "source": [
    "Skorzystamy z następujących definicji:\n",
    "\n",
    "- ryzyko względne:\n",
    "\n",
    "$$\n",
    "RR = \\dfrac{IE/(IE + IN)}{CE/(CE + CN)}\n",
    "$$\n",
    "\n",
    "gdzie: \n",
    "\n",
    "$RR$ - ryzyko względne, \t\n",
    "\n",
    "$IE$ - wystąpienie zdarzenia interwencji, \n",
    "\n",
    "$IN$ - brak wystąpienia zdarzenia interwencji, \n",
    "\n",
    "$CE$ - wystąpienie zdarzenia w grupie kontrolnej, \n",
    "\n",
    "$CN$ - brak wystąpienia zdarzenia w grupie kontrolnej.\n",
    "\n",
    "- iloraz szans (ang. OR, odds ratio) - stosunek szansy wystąpienia danego zdarzenia w jednej grupie do szansy jego wystąpienia w innej grupie\n",
    "\n",
    "$$\n",
    "OR_{A/B} = \\dfrac{\\mathbb {P}(A)\\cdot(1-\\mathbb {P}(B))}{\\mathbb {P}(B)\\cdot(1-\\mathbb {P}(A))}\n",
    "$$\n",
    "\n",
    "gdzie: $\\mathbb {P}(A)$ to prawdopodobieństwo wystąpienia zdarzenia w grupie $A$.\n",
    "\n",
    "Jeżeli OR<1 oznacza to, że w badanej grupie (w porównaniu do grupy odniesienia) istnieje mniejsza szansa wystąpienia zdarzenia. Jeżeli OR>1 oznacza to, że w badanej grupie (w porównaniu do grupy odniesienia) istnieje większa szansa wystąpienia danego zdarzenia."
   ]
  },
  {
   "cell_type": "code",
   "execution_count": 44,
   "id": "64c5c9e3",
   "metadata": {},
   "outputs": [],
   "source": [
    "# Odsetek zmarłych z powodu raka płuc wśród palaczy i niepalaczy\n",
    "lung_cancer_rate_smokers = 0.00140\n",
    "lung_cancer_rate_nonsmokers  = 0.00010\n",
    "lung_cancer_rate_diff = lung_cancer_rate_smokers - lung_cancer_rate_nonsmokers\n",
    "lung_cancer_RR = lung_cancer_rate_smokers / lung_cancer_rate_nonsmokers\n",
    "lung_cancer_OR = (lung_cancer_rate_smokers / (1 - lung_cancer_rate_smokers)) / (lung_cancer_rate_nonsmokers / (1 - lung_cancer_rate_nonsmokers))\n",
    "\n",
    "# Odsetek zmarłych z powodu choroby niedokrwiennej serca wśród palaczy i niepalaczy\n",
    "heart_disease_rate_smokers = 0.00669\n",
    "heart_disease_rate_nonsmokers = 0.00413\n",
    "heart_disease_rate_diff = heart_disease_rate_smokers - heart_disease_rate_nonsmokers\n",
    "heart_disease_RR = heart_disease_rate_smokers / heart_disease_rate_nonsmokers\n",
    "heart_disease_OR = (heart_disease_rate_smokers / (1 - heart_disease_rate_smokers)) / (heart_disease_rate_nonsmokers / (1 - heart_disease_rate_nonsmokers))"
   ]
  },
  {
   "cell_type": "code",
   "execution_count": 45,
   "id": "169e8a36",
   "metadata": {},
   "outputs": [
    {
     "data": {
      "text/html": [
       "<div>\n",
       "<style scoped>\n",
       "    .dataframe tbody tr th:only-of-type {\n",
       "        vertical-align: middle;\n",
       "    }\n",
       "\n",
       "    .dataframe tbody tr th {\n",
       "        vertical-align: top;\n",
       "    }\n",
       "\n",
       "    .dataframe thead th {\n",
       "        text-align: right;\n",
       "    }\n",
       "</style>\n",
       "<table border=\"1\" class=\"dataframe\">\n",
       "  <thead>\n",
       "    <tr style=\"text-align: right;\">\n",
       "      <th></th>\n",
       "      <th>Choroba</th>\n",
       "      <th>Odsetek zmarłych (palacze)</th>\n",
       "      <th>Odsetek zmarłych (niepalacze)</th>\n",
       "      <th>Różnica proporcji</th>\n",
       "      <th>Ryzyko względne (RR)</th>\n",
       "      <th>Iloraz szans (OR)</th>\n",
       "    </tr>\n",
       "  </thead>\n",
       "  <tbody>\n",
       "    <tr>\n",
       "      <th>0</th>\n",
       "      <td>Rak płuc</td>\n",
       "      <td>0.00140</td>\n",
       "      <td>0.00010</td>\n",
       "      <td>0.00130</td>\n",
       "      <td>14.00</td>\n",
       "      <td>14.02</td>\n",
       "    </tr>\n",
       "    <tr>\n",
       "      <th>1</th>\n",
       "      <td>Choroba niedokrwienna serca</td>\n",
       "      <td>0.00669</td>\n",
       "      <td>0.00413</td>\n",
       "      <td>0.00256</td>\n",
       "      <td>1.62</td>\n",
       "      <td>1.62</td>\n",
       "    </tr>\n",
       "  </tbody>\n",
       "</table>\n",
       "</div>"
      ],
      "text/plain": [
       "                       Choroba Odsetek zmarłych (palacze)  \\\n",
       "0                     Rak płuc                    0.00140   \n",
       "1  Choroba niedokrwienna serca                    0.00669   \n",
       "\n",
       "  Odsetek zmarłych (niepalacze) Różnica proporcji Ryzyko względne (RR)  \\\n",
       "0                       0.00010           0.00130                14.00   \n",
       "1                       0.00413           0.00256                 1.62   \n",
       "\n",
       "  Iloraz szans (OR)  \n",
       "0             14.02  \n",
       "1              1.62  "
      ]
     },
     "execution_count": 45,
     "metadata": {},
     "output_type": "execute_result"
    }
   ],
   "source": [
    "data_british_man = {\n",
    "    \"Choroba\": [\"Rak płuc\", \"Choroba niedokrwienna serca\"],\n",
    "    \"Odsetek zmarłych (palacze)\": [lung_cancer_rate_smokers, heart_disease_rate_smokers],\n",
    "    \"Odsetek zmarłych (niepalacze)\": [lung_cancer_rate_nonsmokers, heart_disease_rate_nonsmokers],\n",
    "    \"Różnica proporcji\": [lung_cancer_rate_diff, heart_disease_rate_diff],\n",
    "    \"Ryzyko względne (RR)\": [lung_cancer_RR, heart_disease_RR],\n",
    "    \"Iloraz szans (OR)\": [lung_cancer_OR, heart_disease_OR]\n",
    "}\n",
    "\n",
    "df = pd.DataFrame(data_british_man)\n",
    "df[\"Odsetek zmarłych (palacze)\"] = df[\"Odsetek zmarłych (palacze)\"].apply(lambda x: f\"{x:.5f}\")\n",
    "df[\"Odsetek zmarłych (niepalacze)\"] = df[\"Odsetek zmarłych (niepalacze)\"].apply(lambda x: f\"{x:.5f}\")\n",
    "df[\"Różnica proporcji\"] = df[\"Różnica proporcji\"].apply(lambda x: f\"{x:.5f}\")\n",
    "df[\"Ryzyko względne (RR)\"] = df[\"Ryzyko względne (RR)\"].apply(lambda x: f\"{x:.2f}\")\n",
    "df[\"Iloraz szans (OR)\"] = df[\"Iloraz szans (OR)\"].apply(lambda x: f\"{x:.2f}\")\n",
    "\n",
    "df"
   ]
  },
  {
   "cell_type": "markdown",
   "id": "f606a015",
   "metadata": {},
   "source": [
    "### ZADANIE 12\n",
    "    Tabela 1 przedstawia wyniki dotyczące śmiertelności kierowców i pasażerów w wypadkach samochodowych na Florydzie w 2008 roku, w zależności od tego, czy osoba miała zapięty pas bezpieczeństwa czy nie.\n",
    "\n",
    "<div align=\"center\">\n",
    "\n",
    "| | Śmiertelny | Nieśmiertelny |\n",
    "| ----------- | ----------- | ----------- |\n",
    "| **Bez pasów** | 1085 | 55 623 |\n",
    "| **Z pasami** | 703 | 441 239 |\n",
    "\n",
    "</div> \n",
    "<br>\n",
    "<div align=\"center\">\n",
    "Table 1: Wyniki dotyczące śmiertelności w wypadkach samochodowych na Florydzie w 2008 roku.\n",
    "</div>\n",
    "\n",
    "        a) Oszacuj warunkowe prawdopodobieństwo śmierci w wypadku ze względu na drugą zmienną, tj. dla kierowców i pasażerów, którzy użyli pasa bezpieczeństwa oraz dla kierowców i pasażerów, który nie użyli pasa bezpieczeństwa.\n",
    "        b) Oszacuj warunkowe prawdopodobieństwo użycia pasa bezpieczeństwa ze względu na drugą zmienną, tj. dla kierowców i pasażerów ze śmiertelnymi obrażeniami oraz dla kierowców i pasażerów, którzy przeżyli wypadek.\n",
    "        c) Jaki jest najbardziej naturalny wybór dla zmiennej objaśnianej w tym badaniu? Dla takiego wyboru wyznacz i zinterpretuj różnice proporcji, ryzyko względne oraz iloraz szans. Dlaczego wartości ryzyka względnego i ilorazu szans przyjmują zbliżone wartości?"
   ]
  },
  {
   "cell_type": "code",
   "execution_count": null,
   "id": "aa244b18",
   "metadata": {},
   "outputs": [],
   "source": []
  },
  {
   "cell_type": "markdown",
   "id": "0670efa7",
   "metadata": {},
   "source": [
    "### ZADANIE 13\n",
    "    Oblicz wartości odpowiednich miar współzmienności (współczynnik tau lub współczynnik gamma) dla zmiennych:\n",
    "        • stopień zadowolenia ze szkoleń w kontekście dopasowania do indywidualnych potrzeb w pierwszym badanym okresie i zajmowane stanowisko,\n",
    "        • stopień zadowolenia ze szkoleń w kontekście dopasowania do indywidualnych potrzeb w pierwszym badanym okresie i staż pracy,\n",
    "        • zajmowane stanowisko i staż pracy."
   ]
  },
  {
   "cell_type": "code",
   "execution_count": null,
   "id": "d8a3c18a",
   "metadata": {},
   "outputs": [],
   "source": []
  },
  {
   "cell_type": "markdown",
   "id": "1c4b1f35",
   "metadata": {},
   "source": [
    "### ZADANIE 14\n",
    "    Na podstawie informacji przedstawionych na wykładzie napisz własną funkcję do przeprowadzania analizy korespondencji. Funkcja powinna przyjmować jako argument tablicę dwudzielczą i zwracać obliczone wartości odpowiednich wektorów i macierzy, współrzędnych punktów oraz odpowiedni wykres. Korzystając z napisanej funkcji wykonaj analizę korespondencji dla danych dotyczących stopnia zadowolenia ze szkoleń w kontekście dopasowania do indywidualnych potrzeb w pierwszym badanym okresie oraz stażu pracy."
   ]
  },
  {
   "cell_type": "markdown",
   "id": "f7ea5f7d",
   "metadata": {},
   "source": [
    "-------------------------------------------------------"
   ]
  },
  {
   "cell_type": "markdown",
   "id": "1f87e29e",
   "metadata": {},
   "source": [
    "## ZADANIA DODATKOWE"
   ]
  },
  {
   "cell_type": "markdown",
   "id": "c06ef7bc",
   "metadata": {},
   "source": [
    "### ZADANIE *1\n",
    "    Napisz funkcję, która dla dwóch wektorów danych oblicza wartość poziomu krytycznego (p-value) w teście opartym na korelacji odległości. Następnie dla wygenerowanych danych zweryfikuj hipotezę o niezależności przy użyciu napisanej funkcji."
   ]
  },
  {
   "cell_type": "markdown",
   "id": "b1e223b3",
   "metadata": {},
   "source": [
    "### ZADANIE *2\n",
    "    Dla zadanych π1 oraz π2 pokaż, że wartość ryzyka względnego (RR) nie jest bardziej oddalona od wartości 1 (wartość odpowiadająca niezależności) niż wartość odpowiadającego ilorazu szans (OR)."
   ]
  },
  {
   "cell_type": "markdown",
   "id": "430745ff",
   "metadata": {},
   "source": [
    "### ZADANIE *3\n",
    "    Niech D oznacza posiadanie pewnej choroby, a E pozostawanie wystawionym na pewny czynnik ryzyka. W badaniach epidemiologicznych definuje się miarę AR nazywaną ryzykiem przypisanym (ang. attributable risk).\n",
    "        a) Niech P(E′) = 1−P(E), wówczas AR = [P(D)−P(D|E′)]/P(D). Wyjaśnij interpretację miary na podstawie wzoru.\n",
    "        b) Pokaż, że AR ma związek z ryzykiem względnym, tzn.:\n",
    "                AR=[P(E)(RR−1)]/[1+P(E)(RR−1)]"
   ]
  }
 ],
 "metadata": {
  "kernelspec": {
   "display_name": "Python 3",
   "language": "python",
   "name": "python3"
  },
  "language_info": {
   "codemirror_mode": {
    "name": "ipython",
    "version": 3
   },
   "file_extension": ".py",
   "mimetype": "text/x-python",
   "name": "python",
   "nbconvert_exporter": "python",
   "pygments_lexer": "ipython3",
   "version": "3.12.5"
  }
 },
 "nbformat": 4,
 "nbformat_minor": 5
}
