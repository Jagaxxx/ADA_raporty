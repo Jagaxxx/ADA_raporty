{
 "cells": [
  {
   "cell_type": "markdown",
   "id": "6a51b8e5",
   "metadata": {},
   "source": [
    "$$\\Huge \\text{RAPORT}$$\n",
    "$$\\huge \\text{LISTA 2}$$\n",
    "$$\\large \\text{Autorzy: Katarzyna Rudzińska, Jagoda Płócienniczak}$$"
   ]
  },
  {
   "cell_type": "code",
   "execution_count": 3,
   "id": "4f87534f",
   "metadata": {},
   "outputs": [],
   "source": [
    "import numpy as np\n",
    "import pandas as pd\n",
    "import matplotlib.pyplot as plt\n",
    "import seaborn as sns\n",
    "from scipy.stats import chi2_contingency, fisher_exact, kendalltau, beta, chi2  \n",
    "import numpy.linalg as linalg"
   ]
  },
  {
   "cell_type": "code",
   "execution_count": 4,
   "id": "01020079",
   "metadata": {},
   "outputs": [],
   "source": [
    "# np.set_printoptions(legacy='1.25')"
   ]
  },
  {
   "cell_type": "markdown",
   "id": "093c9407",
   "metadata": {},
   "source": [
    "Niniejszy raport stanowi kontynuację analizy opinii pracowników na temat szkoleń organizowanych przez firmę, rozpoczętej w poprzednim opracowaniu. Główna część analizy dotyczy oceny skuteczności szkolenia „Efektywna komunikacja w zespole” oraz identyfikacji czynników demograficznych (takich jak płeć, wiek czy staż pracy), które mogą mieć wpływ na poziom zadowolenia uczestników. W dalszej części przeprowadzono testy statystyczne służące weryfikacji hipotez dotyczących rozkładów odpowiedzi oraz zależności pomiędzy zmiennymi. Zastosowano między innymi testy chi-kwadrat, testy Fishera oraz testy Freemana-Haltona."
   ]
  },
  {
   "cell_type": "markdown",
   "id": "c0887008",
   "metadata": {},
   "source": [
    "Ze względu na fakt, iż przeprowadzona analiza obejmuje rozwiązanie zadań podzielonych na pięć głównych części, a w niektórych z nich odwołano się do wcześniej zdefiniowanych pojęć i zmiennych z poprzedniego raportu, ich implementacja została powtórzona również w niniejszym opracowaniu. Pozwala to na zachowanie spójności analizy oraz zapewnia pełną czytelność bieżącego raportu."
   ]
  },
  {
   "cell_type": "code",
   "execution_count": 5,
   "id": "3bea168e",
   "metadata": {},
   "outputs": [],
   "source": [
    "data = pd.read_csv('ankieta.csv', encoding='Windows-1250', sep=';')\n",
    "data['DZIAŁ'] = data['DZIAŁ'].astype(\"category\")\n",
    "data['CZY_KIER'] = data['CZY_KIER'].astype(\"category\")\n",
    "data['PŁEĆ'] = data['PŁEĆ'].astype(\"category\")"
   ]
  },
  {
   "cell_type": "code",
   "execution_count": 6,
   "id": "eef03409",
   "metadata": {},
   "outputs": [],
   "source": [
    "def categorize_age(age):\n",
    "    if age <= 35:\n",
    "        return \"<=35\"\n",
    "    elif 36 <= age <= 45:\n",
    "        return \"36-45\"\n",
    "    elif 46 <= age <= 55:\n",
    "        return \"46-55\"\n",
    "    else:\n",
    "        return \">55\"\n",
    "\n",
    "data[\"WIEK_KAT\"] = data[\"WIEK\"].apply(categorize_age)\n",
    "data['WIEK_KAT'] = data['WIEK_KAT'].astype(\"category\")"
   ]
  },
  {
   "cell_type": "code",
   "execution_count": 7,
   "id": "095fb9d7",
   "metadata": {},
   "outputs": [],
   "source": [
    "def is_satisfied(satisfaction_lvl):\n",
    "    if satisfaction_lvl == -2 or satisfaction_lvl == -1:\n",
    "        return 'NIE'\n",
    "    else:\n",
    "        return 'TAK'\n",
    "\n",
    "data[\"CZY_ZADOW\"] = data[\"PYT_2\"].apply(is_satisfied)\n",
    "data[\"CZY_ZADOW\"] = data[\"CZY_ZADOW\"].astype(\"category\")"
   ]
  },
  {
   "cell_type": "markdown",
   "id": "c01f8564",
   "metadata": {},
   "source": [
    "## CZĘŚĆ I"
   ]
  },
  {
   "cell_type": "markdown",
   "id": "754b7204",
   "metadata": {},
   "source": [
    "### ZADANIE 1\n",
    "    W ankiecie przedstawionej na poprzedniej liście pracownicy zostali poproszeni o wyrażenie opinii na temat skuteczności szkolenia \"Efektywna komunikacja w zespole\" zorganizowanego przez firmę. Wśród próbki 200 pracowników (losowanie proste ze zwracaniem) uzyskano wyniki:\n",
    "        • 14 pracowników - bardzo niezadowolonych,\n",
    "        • 17 pracowników - niezadowolonych,\n",
    "        • 40 pracowników - nie ma zdania,\n",
    "        • 100 pracowników - zadowolonych,\n",
    "        • 29 pracowników - bardzo zadowolonych,\n",
    "    Na podstawie danych wyznacz przedział ufności dla wektora prawodobieństw opisującego stopień zadowolenia ze szkolenia. Przyjmij poziom ufności 0,95."
   ]
  },
  {
   "cell_type": "code",
   "execution_count": 8,
   "id": "12730461",
   "metadata": {},
   "outputs": [
    {
     "data": {
      "text/html": [
       "<div>\n",
       "<style scoped>\n",
       "    .dataframe tbody tr th:only-of-type {\n",
       "        vertical-align: middle;\n",
       "    }\n",
       "\n",
       "    .dataframe tbody tr th {\n",
       "        vertical-align: top;\n",
       "    }\n",
       "\n",
       "    .dataframe thead th {\n",
       "        text-align: right;\n",
       "    }\n",
       "</style>\n",
       "<table border=\"1\" class=\"dataframe\">\n",
       "  <thead>\n",
       "    <tr style=\"text-align: right;\">\n",
       "      <th></th>\n",
       "      <th>Kategoria</th>\n",
       "      <th>Liczba</th>\n",
       "      <th>Proporcja</th>\n",
       "      <th>Dolna granica CI</th>\n",
       "      <th>Górna granica CI</th>\n",
       "    </tr>\n",
       "  </thead>\n",
       "  <tbody>\n",
       "    <tr>\n",
       "      <th>0</th>\n",
       "      <td>bardzo niezadowoleni</td>\n",
       "      <td>14</td>\n",
       "      <td>0.070</td>\n",
       "      <td>0.0388</td>\n",
       "      <td>0.1147</td>\n",
       "    </tr>\n",
       "    <tr>\n",
       "      <th>1</th>\n",
       "      <td>niezadowoleni</td>\n",
       "      <td>17</td>\n",
       "      <td>0.085</td>\n",
       "      <td>0.0503</td>\n",
       "      <td>0.1326</td>\n",
       "    </tr>\n",
       "    <tr>\n",
       "      <th>2</th>\n",
       "      <td>neutralni</td>\n",
       "      <td>40</td>\n",
       "      <td>0.200</td>\n",
       "      <td>0.1469</td>\n",
       "      <td>0.2622</td>\n",
       "    </tr>\n",
       "    <tr>\n",
       "      <th>3</th>\n",
       "      <td>zadowoleni</td>\n",
       "      <td>100</td>\n",
       "      <td>0.500</td>\n",
       "      <td>0.4287</td>\n",
       "      <td>0.5713</td>\n",
       "    </tr>\n",
       "    <tr>\n",
       "      <th>4</th>\n",
       "      <td>bardzo zadowoleni</td>\n",
       "      <td>29</td>\n",
       "      <td>0.145</td>\n",
       "      <td>0.0993</td>\n",
       "      <td>0.2016</td>\n",
       "    </tr>\n",
       "  </tbody>\n",
       "</table>\n",
       "</div>"
      ],
      "text/plain": [
       "              Kategoria  Liczba  Proporcja  Dolna granica CI  Górna granica CI\n",
       "0  bardzo niezadowoleni      14      0.070            0.0388            0.1147\n",
       "1         niezadowoleni      17      0.085            0.0503            0.1326\n",
       "2             neutralni      40      0.200            0.1469            0.2622\n",
       "3            zadowoleni     100      0.500            0.4287            0.5713\n",
       "4     bardzo zadowoleni      29      0.145            0.0993            0.2016"
      ]
     },
     "execution_count": 8,
     "metadata": {},
     "output_type": "execute_result"
    }
   ],
   "source": [
    "n = 200\n",
    "counts = np.array([14, 17, 40, 100, 29])\n",
    "labels = [\"bardzo niezadowoleni\", \"niezadowoleni\", \"neutralni\", \"zadowoleni\", \"bardzo zadowoleni\"]\n",
    "proportions = counts / n\n",
    "alpha = 0.05\n",
    "\n",
    "ci_lower = []\n",
    "ci_upper = []\n",
    "\n",
    "for x in counts:\n",
    "    lower = beta.ppf(alpha / 2, x, n - x + 1)\n",
    "    upper = beta.ppf(1 - alpha / 2, x + 1, n - x)\n",
    "    ci_lower.append(lower)\n",
    "    ci_upper.append(upper)\n",
    "\n",
    "ci_df = pd.DataFrame({\n",
    "    \"Kategoria\": labels,\n",
    "    \"Liczba\": counts,\n",
    "    \"Proporcja\": proportions,\n",
    "    \"Dolna granica CI\": ci_lower,\n",
    "    \"Górna granica CI\": ci_upper\n",
    "})\n",
    "\n",
    "ci_df = ci_df.round(4)\n",
    "ci_df"
   ]
  },
  {
   "cell_type": "markdown",
   "id": "37deeb04",
   "metadata": {},
   "source": [
    "Na podstawie próby 200 pracowników oszacowano proporcje ocen szkolenia „Efektywna komunikacja w zespole” w pięciu kategoriach. Dla każdej kategorii wyznaczono 95% przedział ufności metodą Cloppera-Pearsona, co pozwala oszacować niepewność tych proporcji w populacji wszystkich pracowników.\n",
    "\n",
    "Najwięcej osób zadeklarowało, że są **zadowoleni** (50% próby), a ich przedział ufności to (42.87%, 57.13%). Drugą najliczniejszą grupą byli pracownicy **neutralni** (20%, CI: 14.69%, 26.22%). Stosunkowo niewielki odsetek osób był **bardzo niezadowolony** (7%) lub **niezadowolony** (8.5%).Przedziały te informują nas, że z 95% pewnością prawdziwe proporcje ocen w całej populacji znajdują się w wyznaczonych granicach. Największa niepewność dotyczy skrajnych kategorii (bardzo niezadowoleni i bardzo zadowoleni), co wynika z mniejszej liczby obserwacji w tych grupach."
   ]
  },
  {
   "cell_type": "markdown",
   "id": "9d5d43fc",
   "metadata": {},
   "source": [
    "### ZADANIE 2 \n",
    "    Napisz funkcję, która wyznacza wartość poziomu krytycznego w następujących testach:\n",
    "        • chi-kwadrat Pearsona\n",
    "        • chi-kwadrat największej wiarogodności\n",
    "    służących do weryfikacji hipotezy H0 : p = p0 przy hipotezie alternatywnej H1 : p = p0 na podstawie obserwacji x wektora losowego X z rozkładu wielomianowego z parametrami n i p."
   ]
  },
  {
   "cell_type": "code",
   "execution_count": 9,
   "id": "802f1093",
   "metadata": {},
   "outputs": [],
   "source": [
    "def test_chi_squared(x, p0, n):\n",
    "    \"\"\"\n",
    "    Wykonuje test chi-kwadrat Pearsona oraz test ilorazu wiarygodności dla sprawdzenia zgodności rozkładu empirycznego z rozkładem teoretycznym.\n",
    "\n",
    "    Parametry:\n",
    "    x : array_like\n",
    "        Wektory zliczeń empirycznych (liczby obserwowane w każdej kategorii).\n",
    "    p0 : array_like\n",
    "        Wektor teoretycznych prawdopodobieństw dla każdej kategorii (musi sumować się do 1).\n",
    "    n : int\n",
    "        Łączna liczba obserwacji (czyli suma elementów wektora `x`).\n",
    "\n",
    "    Zwraca\n",
    "       dict\n",
    "        Słownik zawierający wyniki obu testów:\n",
    "        - 'Pearson chi^2': wartość statystyki chi-kwadrat Pearsona\n",
    "        - 'Pearson p-value': wartość p dla testu Pearsona\n",
    "        - 'Likelihood ratio chi^2': wartość statystyki testu ilorazu wiarygodności (G-test)\n",
    "        - 'Likelihood ratio p-value': wartość p dla G-testu\n",
    "\n",
    "    Wyjątki\n",
    "    ValueError\n",
    "        Jeśli `p0` nie sumuje się do 1 lub jeśli suma `x` nie równa się `n`.\n",
    "        \"\"\"\n",
    "    \n",
    "    x = np.array(x)\n",
    "    p0 = np.array(p0)\n",
    "\n",
    "    if not np.isclose(np.sum(p0), 1):\n",
    "        raise ValueError(\"Rozkład p0 musi sumować się do 1.\")\n",
    "    if not np.isclose(np.sum(x), n):\n",
    "        raise ValueError(\"Suma obserwacji x musi być równa n.\")\n",
    "    \n",
    "    expected = n * p0\n",
    "    mask = expected > 0\n",
    "    df = np.count_nonzero(mask) - 1\n",
    "\n",
    "    chi2_pearson = np.sum((x[mask] - expected[mask]) ** 2 / expected[mask])\n",
    "    p_pearson = 1 - chi2.cdf(chi2_pearson, df)\n",
    "\n",
    "    with np.errstate(divide='ignore', invalid='ignore'):\n",
    "        terms = np.where(x != 0, x * np.log(x / expected), 0)\n",
    "    chi2_likelihood = 2 * np.sum(terms)\n",
    "    p_likelihood = 1 - chi2.cdf(chi2_likelihood, df)\n",
    "\n",
    "    return {\n",
    "        \"Pearson chi^2\": chi2_pearson,\n",
    "        \"Pearson p-value\": p_pearson,\n",
    "        \"Likelihood ratio chi^2\": chi2_likelihood,\n",
    "        \"Likelihood ratio p-value\": p_likelihood\n",
    "    }"
   ]
  },
  {
   "cell_type": "markdown",
   "id": "d887e3f3",
   "metadata": {},
   "source": [
    "W zadaniu rozważamy dwa testy statystyczne służące do weryfikacji hipotezy zerowej $ H_0: p = p_0 $, gdzie $ p $ to nieznany wektor prawdopodobieństw rozkładu wielomianowego, a $ p_0 $ to hipotetyczny (zadany) rozkład teoretyczny. Oba testy opierają się na porównaniu zaobserwowanych liczności $ x = (x_1, \\ldots, x_k) $ z licznościami oczekiwanymi $ E = n \\cdot p_0 $, gdzie $ n $ to liczność próby.\n",
    "\n",
    "#### 1. Test chi-kwadrat Pearsona\n",
    "\n",
    "Statystyka testowa Pearsona dana jest wzorem:\n",
    "$\n",
    "\\chi^2_P = \\sum_{i=1}^k \\dfrac{(x_i - E{i})^2}{E_{i}}\n",
    "$\n",
    "\n",
    "Wartość tej statystyki porównuje się z rozkładem chi-kwadrat o $ k-1 $ stopniach swobody. Jeżeli obliczona statystyka przekracza wartość krytyczną, odrzucamy hipotezę zerową.\n",
    "\n",
    "#### 2. Test chi-kwadrat największej wiarygodności (test log-likelihood ratio)\n",
    "\n",
    "Drugi test oparty jest na statystyce logarytmu stosunku wiarygodności (likelihood ratio):\n",
    "$\n",
    "\\chi^2_{LR} = 2 \\sum_{i=1}^k x_i \\ln\\left( \\dfrac{x_i}{E_{i}} \\right)\n",
    "$\n",
    "z konwencją, że $ 0 \\cdot \\ln(0) = 0 $. Podobnie jak w teście Pearsona, ta statystyka ma asymptotycznie rozkład chi-kwadrat z $ k - 1 $ stopniami swobody.\n"
   ]
  },
  {
   "cell_type": "markdown",
   "id": "b21f2cf5",
   "metadata": {},
   "source": [
    "### Przykład użycia"
   ]
  },
  {
   "cell_type": "code",
   "execution_count": 10,
   "id": "6d396880",
   "metadata": {},
   "outputs": [
    {
     "data": {
      "text/plain": [
       "{'Pearson chi^2': np.float64(6.3),\n",
       " 'Pearson p-value': np.float64(0.1778363264982168),\n",
       " 'Likelihood ratio chi^2': np.float64(6.038144239875159),\n",
       " 'Likelihood ratio p-value': np.float64(0.1963176909242157)}"
      ]
     },
     "execution_count": 10,
     "metadata": {},
     "output_type": "execute_result"
    }
   ],
   "source": [
    "x = [14, 17, 40, 100, 29]\n",
    "n = sum(x)\n",
    "p0 = [0.1, 0.1, 0.2, 0.5, 0.1]  \n",
    "\n",
    "test_chi_squared(x, p0, n)"
   ]
  },
  {
   "cell_type": "markdown",
   "id": "fe7e8f29",
   "metadata": {},
   "source": [
    "W obu przypadkach wartości p są większe niż typowy poziom istotności $\\alpha$= 0.05.\n",
    "Oznacza to, że brak podstaw do odrzucenia hipotezy zerowej. Można zatem uznać, że nie ma statystycznie istotnych różnic między rozkładem empirycznym a teoretycznym  $p_0$"
   ]
  },
  {
   "cell_type": "markdown",
   "id": "3d156dcf",
   "metadata": {},
   "source": [
    "### ZADANIE 3\n",
    "    Na podstawie danych z ankiety z poprzedniej listy zweryfikuj hipotezę, że w grupie pracowników zatrudnionwych w Dziale Produktowym rozkład odpowiedzi na pytanie \"Jak bardzo zgadzasz się ze stwierdzeniem, że firma zapewnia odpowiednie wsparcie i materiały umożliwiające skuteczne wykorzystanie w praktyce wiedzy zdobytej w trakcie szkoleń?\" jest równomierny, tzn. jest jednakowe prawdopodobieństwo, że pracownik zatrudniony w Dziale Produkcjnym udzielił odpowiedzi \"zdecydowanie się nie zgadzam\", \"nie zgadzam się\", \"nie mam zdania\", \"zgadzam się\", \"zdecydowanie się zgadzam\" na pytanie PYT_1. Przyjmij poziom istotności 0,05. Skorzystaj z funkcji napisanej w zadaniu 2."
   ]
  },
  {
   "cell_type": "code",
   "execution_count": 11,
   "id": "10d960d4",
   "metadata": {},
   "outputs": [
    {
     "name": "stdout",
     "output_type": "stream",
     "text": [
      "Pearson chi^2: 89.4942528735632\n",
      "Pearson p-value: 0.0\n",
      "Likelihood ratio chi^2: 85.95139660536131\n",
      "Likelihood ratio p-value: 0.0\n"
     ]
    }
   ],
   "source": [
    "df_pd = data[data[\"DZIAŁ\"] == \"PD\"]\n",
    "df_pd = df_pd.copy()\n",
    "\n",
    "\n",
    "odpowiedzi_map = {\n",
    "    -3: \"zdecydowanie się nie zgadzam\",\n",
    "    -2: \"nie zgadzam się\",\n",
    "    -1: \"nie mam zdania\",\n",
    "     0: \"zgadzam się\",\n",
    "     1: \"zdecydowanie się zgadzam\"\n",
    "}\n",
    "\n",
    "kategorie = [\n",
    "    \"zdecydowanie się nie zgadzam\",\n",
    "    \"nie zgadzam się\",\n",
    "    \"nie mam zdania\",\n",
    "    \"zgadzam się\",\n",
    "    \"zdecydowanie się zgadzam\"\n",
    "]\n",
    "\n",
    "df_pd[\"PYT_1_opis\"] = df_pd[\"PYT_1\"].map(odpowiedzi_map)\n",
    "\n",
    "x = df_pd[\"PYT_1_opis\"].value_counts().reindex(kategorie, fill_value=0).values\n",
    "n = x.sum()\n",
    "p0 = [1/5] * 5\n",
    "\n",
    "wynik = test_chi_squared(x, p0, n)\n",
    "\n",
    "for nazwa, wartosc in wynik.items():\n",
    "    print(f\"{nazwa}: {wartosc:}\")\n"
   ]
  },
  {
   "cell_type": "markdown",
   "id": "799417ea",
   "metadata": {},
   "source": [
    "Do testowania tej hipotezy zastosowano testy zgodności: test chi-kwadrat Pearsona oraz test największej wiarygodności. Obserwacje zostały pogrupowane, a następnie porównano je z rozkładem oczekiwanym, zakładającym równomierne prawdopodobieństwo.\n",
    "\n",
    "Otrzymane wartości p-value dla obu testów są znacznie mniejsze niż przyjęty poziom istotności $\\alpha $ = 0.05. Oznacza to, że istnieją statystycznie istotne różnice między rozkładem empirycznym a rozkładem teoretycznym. W konsekwencji odrzucamy hipotezę zerową o równomiernym rozkładzie odpowiedzi.\n",
    "\n",
    "Zatem można stwierdzić, że pracownicy Działu Produktowego nie rozkładają swoich ocen równomiernie — niektóre odpowiedzi są udzielane częściej niż inne.\n"
   ]
  },
  {
   "cell_type": "markdown",
   "id": "5046b75c",
   "metadata": {},
   "source": [
    "## CZĘŚĆ II"
   ]
  },
  {
   "cell_type": "markdown",
   "id": "b81b2a72",
   "metadata": {},
   "source": [
    "### ZADANIE 4\n",
    "    Zapoznaj się z funkcjami służącymi do wykonania testu Fishera oraz testu Freemana-Haltona."
   ]
  },
  {
   "cell_type": "markdown",
   "id": "46d75110",
   "metadata": {},
   "source": [
    "Celem było zastosowanie testu dokładnego Fishera w celu oceny niezależności dwóch zmiennych  w tabeli kontyngencji 2×2. \n",
    "W analizie wykorzystano funkcję _fisher_exact_ z biblioteki _scipy.stats_, która pozwala na obliczenie dokładnej wartości statystyki testowej oraz p-value dla tabeli kontyngencji."
   ]
  },
  {
   "cell_type": "code",
   "execution_count": null,
   "id": "5589e2ca",
   "metadata": {},
   "outputs": [
    {
     "name": "stdout",
     "output_type": "stream",
     "text": [
      "Test Fishera:\n",
      "Odsetek szans: 1.5\n",
      "Wartość p: 0.7536263339838003\n"
     ]
    }
   ],
   "source": [
    "table_fisher = np.array([[10, 20], [5, 15]])\n",
    "\n",
    "oddsratio, p_value_fisher = fisher_exact(table_fisher)\n",
    "\n",
    "print(\"Test Fishera:\")\n",
    "print(f\"Odsetek szans: {oddsratio}\")\n",
    "print(f\"Wartość p: {p_value_fisher:.4f}\")\n"
   ]
  },
  {
   "cell_type": "markdown",
   "id": "2567433f",
   "metadata": {},
   "source": [
    "Ponieważ uzyskana wartość $p$ wynosi 0.7536, co jest znacznie większe od typowego poziomu istotności $\\alpha$ = 0.05, nie mamy podstaw do odrzucenia hipotezy zerowej."
   ]
  },
  {
   "cell_type": "markdown",
   "id": "12221171",
   "metadata": {},
   "source": [
    "Następnie trzeba było wykonać test Freemana-Haltona, który jest uogólnieniem dokładnego testu Fishera na potrzeby tabel kontyngencji większych niż 2×2. \n",
    "\n",
    "##### Problem techniczny:\n",
    "Test Freemana-Haltona nie jest dostępny w standardowych bibliotekach Pythona. Z tego powodu zdecydowano się na połączenie środowiska Python z językiem R, który oferuje szerokie wsparcie dla tego typu testów za pomocą funkcji _fisher.test()_ z pakietu _stats_."
   ]
  },
  {
   "cell_type": "code",
   "execution_count": 13,
   "id": "84658c55",
   "metadata": {},
   "outputs": [
    {
     "name": "stderr",
     "output_type": "stream",
     "text": [
      "Error importing in API mode: ImportError('On Windows, cffi mode \"ANY\" is only \"ABI\".')\n",
      "Trying to import in ABI mode.\n",
      "C:\\Users\\ploci\\AppData\\Roaming\\Python\\Python312\\site-packages\\rpy2\\rinterface\\__init__.py:1185: UserWarning: Environment variable \"PATH\" redefined by R and overriding existing variable. Current: \"c:\\Program Files\\Python312;c:\\Users\\ploci\\AppData\\Roaming\\Python\\Python312\\Scripts;C:\\Program Files\\Python312\\Scripts\\;C:\\Program Files\\Python312\\;C:\\WINDOWS\\system32;C:\\WINDOWS;C:\\WINDOWS\\System32\\Wbem;C:\\WINDOWS\\System32\\WindowsPowerShell\\v1.0\\;C:\\WINDOWS\\System32\\OpenSSH\\;C:\\Program Files\\Git\\cmd;C:\\Users\\ploci\\AppData\\Roaming\\Python\\Python312\\Scripts;C:\\Program Files\\Go\\bin;C:\\Program Files\\Go\\bin;C:\\Users\\ploci\\Downloads\\mongosh-2.5.1-win32-x64\\mongosh-2.5.1-win32-x64\\bin;C:\\Users\\ploci\\AppData\\Local\\Programs\\Quarto\\bin;C:\\Users\\ploci\\AppData\\Local\\Programs\\Python\\Launcher\\;C:\\Users\\ploci\\AppData\\Local\\Microsoft\\WindowsApps;C:\\Users\\ploci\\AppData\\Local\\Programs\\Microsoft VS Code\\bin;C:\\Users\\ploci\\AppData\\Roaming\\Python\\Python312\\Scripts;C:\\Users\\ploci\\go\\bin;C:\\Program Files\\Python312\\Scripts\\;C:\\Program Files\\Python312\\;C:\\WINDOWS\\system32;C:\\WINDOWS;C:\\WINDOWS\\System32\\Wbem;C:\\WINDOWS\\System32\\WindowsPowerShell\\v1.0\\;C:\\WINDOWS\\System32\\OpenSSH\\;C:\\Program Files\\Git\\cmd;C:\\Users\\ploci\\AppData\\Roaming\\Python\\Python312\\Scripts;C:\\Program Files\\Go\\bin;C:\\Program Files\\Go\\bin;C:\\Users\\ploci\\Downloads\\mongosh-2.5.1-win32-x64\\mongosh-2.5.1-win32-x64\\bin;C:\\Users\\ploci\\AppData\\Local\\Programs\\Quarto\\bin;C:\\Users\\ploci\\AppData\\Local\\Programs\\Python\\Launcher\\;C:\\Users\\ploci\\AppData\\Local\\Microsoft\\WindowsApps;C:\\Users\\ploci\\AppData\\Local\\Programs\\Microsoft VS Code\\bin;C:\\Users\\ploci\\AppData\\Roaming\\Python\\Python312\\Scripts;C:\\Users\\ploci\\go\\bin;C:\\Program Files\\R\\R-4.4.1\\bin\\x64;C:\\Program Files\\R\\R-4.4.1\\bin\\x64\", R: \"C:\\rtools44/x86_64-w64-mingw32.static.posix/bin;C:\\rtools44/usr/bin;c:\\Program Files\\Python312;c:\\Users\\ploci\\AppData\\Roaming\\Python\\Python312\\Scripts;C:\\Program Files\\Python312\\Scripts\\;C:\\Program Files\\Python312\\;C:\\WINDOWS\\system32;C:\\WINDOWS;C:\\WINDOWS\\System32\\Wbem;C:\\WINDOWS\\System32\\WindowsPowerShell\\v1.0\\;C:\\WINDOWS\\System32\\OpenSSH\\;C:\\Program Files\\Git\\cmd;C:\\Users\\ploci\\AppData\\Roaming\\Python\\Python312\\Scripts;C:\\Program Files\\Go\\bin;C:\\Program Files\\Go\\bin;C:\\Users\\ploci\\Downloads\\mongosh-2.5.1-win32-x64\\mongosh-2.5.1-win32-x64\\bin;C:\\Users\\ploci\\AppData\\Local\\Programs\\Quarto\\bin;C:\\Users\\ploci\\AppData\\Local\\Programs\\Python\\Launcher\\;C:\\Users\\ploci\\AppData\\Local\\Microsoft\\WindowsApps;C:\\Users\\ploci\\AppData\\Local\\Programs\\Microsoft VS Code\\bin;C:\\Users\\ploci\\AppData\\Roaming\\Python\\Python312\\Scripts;C:\\Users\\ploci\\go\\bin;C:\\Program Files\\Python312\\Scripts\\;C:\\Program Files\\Python312\\;C:\\WINDOWS\\system32;C:\\WINDOWS;C:\\WINDOWS\\System32\\Wbem;C:\\WINDOWS\\System32\\WindowsPowerShell\\v1.0\\;C:\\WINDOWS\\System32\\OpenSSH\\;C:\\Program Files\\Git\\cmd;C:\\Users\\ploci\\AppData\\Roaming\\Python\\Python312\\Scripts;C:\\Program Files\\Go\\bin;C:\\Program Files\\Go\\bin;C:\\Users\\ploci\\Downloads\\mongosh-2.5.1-win32-x64\\mongosh-2.5.1-win32-x64\\bin;C:\\Users\\ploci\\AppData\\Local\\Programs\\Quarto\\bin;C:\\Users\\ploci\\AppData\\Local\\Programs\\Python\\Launcher\\;C:\\Users\\ploci\\AppData\\Local\\Microsoft\\WindowsApps;C:\\Users\\ploci\\AppData\\Local\\Programs\\Microsoft VS Code\\bin;C:\\Users\\ploci\\AppData\\Roaming\\Python\\Python312\\Scripts;C:\\Users\\ploci\\go\\bin;C:\\Program Files\\R\\R-4.4.1\\bin\\x64;C:\\Program Files\\R\\R-4.4.1\\bin\\x64\"\n",
      "  warnings.warn(\n",
      "C:\\Users\\ploci\\AppData\\Roaming\\Python\\Python312\\site-packages\\rpy2\\rinterface\\__init__.py:1185: UserWarning: Environment variable \"R_HOME\" redefined by R and overriding existing variable. Current: \"C:\\Program Files\\R\\R-4.4.1\", R: \"C:/PROGRA~1/R/R-44~1.1\"\n",
      "  warnings.warn(\n",
      "C:\\Users\\ploci\\AppData\\Roaming\\Python\\Python312\\site-packages\\rpy2\\rinterface\\__init__.py:1185: UserWarning: Environment variable \"PATH\" redefined by R and overriding existing variable. Current: \"C:\\rtools44/x86_64-w64-mingw32.static.posix/bin;C:\\rtools44/usr/bin;c:\\Program Files\\Python312;c:\\Users\\ploci\\AppData\\Roaming\\Python\\Python312\\Scripts;C:\\Program Files\\Python312\\Scripts\\;C:\\Program Files\\Python312\\;C:\\WINDOWS\\system32;C:\\WINDOWS;C:\\WINDOWS\\System32\\Wbem;C:\\WINDOWS\\System32\\WindowsPowerShell\\v1.0\\;C:\\WINDOWS\\System32\\OpenSSH\\;C:\\Program Files\\Git\\cmd;C:\\Users\\ploci\\AppData\\Roaming\\Python\\Python312\\Scripts;C:\\Program Files\\Go\\bin;C:\\Program Files\\Go\\bin;C:\\Users\\ploci\\Downloads\\mongosh-2.5.1-win32-x64\\mongosh-2.5.1-win32-x64\\bin;C:\\Users\\ploci\\AppData\\Local\\Programs\\Quarto\\bin;C:\\Users\\ploci\\AppData\\Local\\Programs\\Python\\Launcher\\;C:\\Users\\ploci\\AppData\\Local\\Microsoft\\WindowsApps;C:\\Users\\ploci\\AppData\\Local\\Programs\\Microsoft VS Code\\bin;C:\\Users\\ploci\\AppData\\Roaming\\Python\\Python312\\Scripts;C:\\Users\\ploci\\go\\bin;C:\\Program Files\\Python312\\Scripts\\;C:\\Program Files\\Python312\\;C:\\WINDOWS\\system32;C:\\WINDOWS;C:\\WINDOWS\\System32\\Wbem;C:\\WINDOWS\\System32\\WindowsPowerShell\\v1.0\\;C:\\WINDOWS\\System32\\OpenSSH\\;C:\\Program Files\\Git\\cmd;C:\\Users\\ploci\\AppData\\Roaming\\Python\\Python312\\Scripts;C:\\Program Files\\Go\\bin;C:\\Program Files\\Go\\bin;C:\\Users\\ploci\\Downloads\\mongosh-2.5.1-win32-x64\\mongosh-2.5.1-win32-x64\\bin;C:\\Users\\ploci\\AppData\\Local\\Programs\\Quarto\\bin;C:\\Users\\ploci\\AppData\\Local\\Programs\\Python\\Launcher\\;C:\\Users\\ploci\\AppData\\Local\\Microsoft\\WindowsApps;C:\\Users\\ploci\\AppData\\Local\\Programs\\Microsoft VS Code\\bin;C:\\Users\\ploci\\AppData\\Roaming\\Python\\Python312\\Scripts;C:\\Users\\ploci\\go\\bin;C:\\Program Files\\R\\R-4.4.1\\bin\\x64;C:\\Program Files\\R\\R-4.4.1\\bin\\x64\", R: \"C:\\rtools44/x86_64-w64-mingw32.static.posix/bin;C:\\rtools44/usr/bin;C:\\rtools44/x86_64-w64-mingw32.static.posix/bin;C:\\rtools44/usr/bin;C:\\rtools44/x86_64-w64-mingw32.static.posix/bin;C:\\rtools44/usr/bin;c:\\Program Files\\Python312;c:\\Users\\ploci\\AppData\\Roaming\\Python\\Python312\\Scripts;C:\\Program Files\\Python312\\Scripts\\;C:\\Program Files\\Python312\\;C:\\WINDOWS\\system32;C:\\WINDOWS;C:\\WINDOWS\\System32\\Wbem;C:\\WINDOWS\\System32\\WindowsPowerShell\\v1.0\\;C:\\WINDOWS\\System32\\OpenSSH\\;C:\\Program Files\\Git\\cmd;C:\\Users\\ploci\\AppData\\Roaming\\Python\\Python312\\Scripts;C:\\Program Files\\Go\\bin;C:\\Program Files\\Go\\bin;C:\\Users\\ploci\\Downloads\\mongosh-2.5.1-win32-x64\\mongosh-2.5.1-win32-x64\\bin;C:\\Users\\ploci\\AppData\\Local\\Programs\\Quarto\\bin;C:\\Users\\ploci\\AppData\\Local\\Programs\\Python\\Launcher\\;C:\\Users\\ploci\\AppData\\Local\\Microsoft\\WindowsApps;C:\\Users\\ploci\\AppData\\Local\\Programs\\Microsoft VS Code\\bin;C:\\Users\\ploci\\AppData\\Roaming\\Python\\Python312\\Scripts;C:\\Users\\ploci\\go\\bin;C:\\Program Files\\Python312\\Scripts\\;C:\\Program Files\\Python312\\;C:\\WINDOWS\\system32;C:\\WINDOWS;C:\\WINDOWS\\System32\\Wbem;C:\\WINDOWS\\System32\\WindowsPowerShell\\v1.0\\;C:\\WINDOWS\\System32\\OpenSSH\\;C:\\Program Files\\Git\\cmd;C:\\Users\\ploci\\AppData\\Roaming\\Python\\Python312\\Scripts;C:\\Program Files\\Go\\bin;C:\\Program Files\\Go\\bin;C:\\Users\\ploci\\Downloads\\mongosh-2.5.1-win32-x64\\mongosh-2.5.1-win32-x64\\bin;C:\\Users\\ploci\\AppData\\Local\\Programs\\Quarto\\bin;C:\\Users\\ploci\\AppData\\Local\\Programs\\Python\\Launcher\\;C:\\Users\\ploci\\AppData\\Local\\Microsoft\\WindowsApps;C:\\Users\\ploci\\AppData\\Local\\Programs\\Microsoft VS Code\\bin;C:\\Users\\ploci\\AppData\\Roaming\\Python\\Python312\\Scripts;C:\\Users\\ploci\\go\\bin;C:\\Program Files\\R\\R-4.4.1\\bin\\x64;C:\\Program Files\\R\\R-4.4.1\\bin\\x64\"\n",
      "  warnings.warn(\n"
     ]
    },
    {
     "name": "stdout",
     "output_type": "stream",
     "text": [
      "[1] \"R version 4.4.1 (2024-06-14 ucrt)\"\n",
      "\n"
     ]
    },
    {
     "ename": "DeprecationWarning",
     "evalue": "\nThe activate and deactivate are deprecated. To set a conversion\ncontext check the docstring for rpy2.robjects.conversion.Converter.context.\n",
     "output_type": "error",
     "traceback": [
      "\u001b[1;31m---------------------------------------------------------------------------\u001b[0m",
      "\u001b[1;31mDeprecationWarning\u001b[0m                        Traceback (most recent call last)",
      "Cell \u001b[1;32mIn[13], line 18\u001b[0m\n\u001b[0;32m     16\u001b[0m \u001b[38;5;28;01mimport\u001b[39;00m \u001b[38;5;21;01mrpy2\u001b[39;00m\u001b[38;5;21;01m.\u001b[39;00m\u001b[38;5;21;01mrobjects\u001b[39;00m\u001b[38;5;21;01m.\u001b[39;00m\u001b[38;5;21;01mnumpy2ri\u001b[39;00m\n\u001b[0;32m     17\u001b[0m \u001b[38;5;28;01mfrom\u001b[39;00m \u001b[38;5;21;01mrpy2\u001b[39;00m\u001b[38;5;21;01m.\u001b[39;00m\u001b[38;5;21;01mrobjects\u001b[39;00m\u001b[38;5;21;01m.\u001b[39;00m\u001b[38;5;21;01mpackages\u001b[39;00m \u001b[38;5;28;01mimport\u001b[39;00m importr\n\u001b[1;32m---> 18\u001b[0m \u001b[43mrpy2\u001b[49m\u001b[38;5;241;43m.\u001b[39;49m\u001b[43mrobjects\u001b[49m\u001b[38;5;241;43m.\u001b[39;49m\u001b[43mnumpy2ri\u001b[49m\u001b[38;5;241;43m.\u001b[39;49m\u001b[43mactivate\u001b[49m\u001b[43m(\u001b[49m\u001b[43m)\u001b[49m\n\u001b[0;32m     20\u001b[0m \u001b[38;5;28;01mimport\u001b[39;00m \u001b[38;5;21;01mrpy2\u001b[39;00m\u001b[38;5;21;01m.\u001b[39;00m\u001b[38;5;21;01mrobjects\u001b[39;00m \u001b[38;5;28;01mas\u001b[39;00m \u001b[38;5;21;01mro\u001b[39;00m\n\u001b[0;32m     21\u001b[0m \u001b[38;5;28;01mfrom\u001b[39;00m \u001b[38;5;21;01mrpy2\u001b[39;00m\u001b[38;5;21;01m.\u001b[39;00m\u001b[38;5;21;01mrobjects\u001b[39;00m \u001b[38;5;28;01mimport\u001b[39;00m pandas2ri\n",
      "File \u001b[1;32m~\\AppData\\Roaming\\Python\\Python312\\site-packages\\rpy2\\robjects\\numpy2ri.py:267\u001b[0m, in \u001b[0;36mactivate\u001b[1;34m()\u001b[0m\n\u001b[0;32m    266\u001b[0m \u001b[38;5;28;01mdef\u001b[39;00m \u001b[38;5;21mactivate\u001b[39m():\n\u001b[1;32m--> 267\u001b[0m     \u001b[38;5;28;01mraise\u001b[39;00m \u001b[38;5;167;01mDeprecationWarning\u001b[39;00m(_DEPRECATION_MSG)\n",
      "\u001b[1;31mDeprecationWarning\u001b[0m: \nThe activate and deactivate are deprecated. To set a conversion\ncontext check the docstring for rpy2.robjects.conversion.Converter.context.\n"
     ]
    }
   ],
   "source": [
    "import scipy.stats as stats\n",
    "from statsmodels.stats.proportion import proportion_confint\n",
    "from scipy.stats import chi2\n",
    "from scipy.stats import fisher_exact\n",
    "from scipy.stats import chi2_contingency\n",
    "from scipy.stats import kendalltau\n",
    "from sklearn.preprocessing import OrdinalEncoder\n",
    "\n",
    "import os\n",
    "os.environ['R_HOME'] = r\"C:\\Program Files\\R\\R-4.4.1\"\n",
    "os.environ['PATH'] += r\";C:\\Program Files\\R\\R-4.4.1\\bin\\x64\"\n",
    "\n",
    "import rpy2.robjects as ro\n",
    "print(ro.r('R.version.string'))\n",
    "\n",
    "import rpy2.robjects.numpy2ri\n",
    "from rpy2.robjects.packages import importr\n",
    "rpy2.robjects.numpy2ri.activate()\n",
    "\n",
    "import rpy2.robjects as ro\n",
    "from rpy2.robjects import pandas2ri\n",
    "\n",
    "pandas2ri.activate()\n",
    "stats = importr('stats')\n",
    "\n",
    "m = np.array([[1,2],[1,3],[5,4]])\n",
    "res = stats.fisher_test(m)\n",
    "print(res)"
   ]
  },
  {
   "cell_type": "markdown",
   "id": "c036cf2f",
   "metadata": {},
   "source": [
    "Ponieważ p-value jest znacznie większe niż typowy poziom istotności $\\alpha$ = 0.05, nie ma podstaw do odrzucenia hipotezy zerowej. Oznacza to, że nie wykryto istotnej zależności między wierszami a kolumnami tabeli – zmienne są niezależne w sensie statystycznym."
   ]
  },
  {
   "cell_type": "markdown",
   "id": "216d5f8a",
   "metadata": {},
   "source": [
    "### ZADANIE 5\n",
    "    Korzystajac z testu Fishera, na poziomie istotnosci 0.05, zweryfikuj hipotezę, że zmienna 'PŁEć' i zmienna 'CZY_KIER' są niezależne. Czy na poziomie istotności 0.05 możemy wnioskować, że prawdopodobieństwo tego, że na stanowisku kierowniczym pracuje kobieta jest równe prawdopodobieństwu tego, że na stanowisku kierowniczym pracuje mężczyzna? Uzasadnij odpowiedź."
   ]
  },
  {
   "cell_type": "code",
   "execution_count": null,
   "id": "916216e1",
   "metadata": {},
   "outputs": [
    {
     "name": "stdout",
     "output_type": "stream",
     "text": [
      "\n",
      "Test Fishera:\n",
      "Odsetek szans: 0.7351712614870509\n",
      "Wartość p: 0.6659028889666552\n",
      "Nie odrzucamy hipotezy zerowej: Zmienne PŁEĆ i CZY_KIER są niezależne.\n"
     ]
    }
   ],
   "source": [
    "num_women_kierownik = len(data[(data['PŁEĆ'] == 'K') & (data['CZY_KIER'] == 'Tak')])\n",
    "num_men_kierownik = len(data[(data['PŁEĆ'] == 'M') & (data['CZY_KIER'] == 'Tak')])\n",
    "\n",
    "num_women_non_kierownik = len(data[(data['PŁEĆ'] == 'K') & (data['CZY_KIER'] == 'Nie')])\n",
    "num_men_non_kierownik = len(data[(data['PŁEĆ'] == 'M') & (data['CZY_KIER'] == 'Nie')])\n",
    "\n",
    "table_fisher = np.array([[num_women_kierownik, num_women_non_kierownik],\n",
    "                         [num_men_kierownik, num_men_non_kierownik]])\n",
    " \n",
    "oddsratio, p_value_fisher = fisher_exact(table_fisher)\n",
    "\n",
    "print(\"\\nTest Fishera:\")\n",
    "print(f\"Odsetek szans: {oddsratio}\")\n",
    "print(f\"Wartość p: {p_value_fisher}\")\n",
    "\n",
    "alpha = 0.05\n",
    "if p_value_fisher < alpha:\n",
    "    print(\"Odrzucamy hipotezę zerową: Zmienne PŁEĆ i CZY_KIER są zależne.\")\n",
    "else:\n",
    "    print(\"Nie odrzucamy hipotezy zerowej: Zmienne PŁEĆ i CZY_KIER są niezależne.\")\n"
   ]
  },
  {
   "cell_type": "markdown",
   "id": "380e422e",
   "metadata": {},
   "source": [
    "1. Czy zmienne PŁEĆ i CZY_KIER są niezależne?\n",
    "    \n",
    "    Na podstawie wyników testu Fishera, zmienne PŁEĆ i CZY_KIER są niezależne. Wynika to z faktu, że wartość p-value wynosi 0.6659, co jest znacznie większe niż 0.05, więc nie ma podstaw do odrzucenia hipotezy zerowej o niezależności tych zmiennych.\n",
    "\n",
    "\n",
    "2. Czy na poziomie istotności 0.05 możemy wnioskować, że prawdopodobieństwo tego, że na stanowisku kierowniczym pracuje kobieta, jest równe prawdopodobieństwu tego, że na stanowisku kierowniczym pracuje mężczyzna?\n",
    "    \n",
    "    Ponieważ zmienne PŁEĆ i CZY_KIER są niezależne, możemy wnioskować, że prawdopodobieństwo tego, że na stanowisku kierowniczym pracuje kobieta, jest równe prawdopodobieństwu tego, że na stanowisku kierowniczym pracuje mężczyzna. Wynik testu Fishera wskazuje, że brak zależności między tymi zmiennymi sugeruje, iż nie ma statystycznie istotnej różnicy w proporcjach kobiet i mężczyzn na stanowiskach kierowniczych."
   ]
  },
  {
   "cell_type": "markdown",
   "id": "a91bdd0d",
   "metadata": {},
   "source": [
    "### ZDANIE 6\n",
    "    Korzystajac z testu Freemana-Haltona na poziomie istotności 0,05 zweryfikuj następujące hipotezy:\n",
    "        a) zajmowanie stanowiska kierowniczego nie zależy od wieku (CZY_KIER oraz WIEK_KAT),\n",
    "        b) zajmowanie stanowiska kierowniczego nie zależy od stażu pracy (CZY_KIER oraz STAŻ),\n",
    "        c) stopień zadowolenia ze szkoleń w kontekście dopasowania do indywidualnych potrzeb w pierwszym badanym okresie nie zależy od zajmowanego stanowiska (PYT_2 oraz CZY_KIER),\n",
    "        d) stopień zadowolenia ze szkoleń w kontekście dopasowania do indywidualnych potrzeb w pierwszym badanym okresie nie zależy od stażu (PYT_2 oraz STAŻ),\n",
    "        e) stopień zadowolenia ze szkoleń w kontekście dopasowania do indywidualnych potrzeb w pierwszym badanym okresie nie zależy od płci (PYT_2 oraz PŁEĆ),\n",
    "        f) stopień zadowolenia ze szkoleń w kontekście dopasowania do indywidualnych potrzeb w pierwszym badanym okresie nie zależy od wieku (PYT_2 oraz WIEK_KAT).\n",
    "    Wykonaj podpunkty c), d), e) oraz d) zastępujęc zmienną PYT_2 przez zmienną CZY_ZADOW zdefiniowaną w zadaniu 1. w części I z poprzedniej listy. Porównaj wyniki."
   ]
  },
  {
   "cell_type": "markdown",
   "id": "670363d8",
   "metadata": {},
   "source": [
    "a) zajmowanie stanowiska kierowniczego nie zależy od wieku (CZY_KIER oraz WIEK_KAT)"
   ]
  },
  {
   "cell_type": "code",
   "execution_count": null,
   "id": "e0c5ad5a",
   "metadata": {},
   "outputs": [
    {
     "ename": "AttributeError",
     "evalue": "module 'scipy.stats' has no attribute 'fisher_test'",
     "output_type": "error",
     "traceback": [
      "\u001b[1;31m---------------------------------------------------------------------------\u001b[0m",
      "\u001b[1;31mAttributeError\u001b[0m                            Traceback (most recent call last)",
      "Cell \u001b[1;32mIn[35], line 3\u001b[0m\n\u001b[0;32m      1\u001b[0m contingency_table_a \u001b[38;5;241m=\u001b[39m pd\u001b[38;5;241m.\u001b[39mcrosstab(data[\u001b[38;5;124m'\u001b[39m\u001b[38;5;124mCZY_KIER\u001b[39m\u001b[38;5;124m'\u001b[39m], data[\u001b[38;5;124m'\u001b[39m\u001b[38;5;124mWIEK_KAT\u001b[39m\u001b[38;5;124m'\u001b[39m])\n\u001b[0;32m      2\u001b[0m table_array \u001b[38;5;241m=\u001b[39m contingency_table_a\u001b[38;5;241m.\u001b[39mvalues\n\u001b[1;32m----> 3\u001b[0m res \u001b[38;5;241m=\u001b[39m \u001b[43mstats\u001b[49m\u001b[38;5;241;43m.\u001b[39;49m\u001b[43mfisher_test\u001b[49m(table_array)\n\u001b[0;32m      4\u001b[0m \u001b[38;5;28mprint\u001b[39m(res)\n",
      "\u001b[1;31mAttributeError\u001b[0m: module 'scipy.stats' has no attribute 'fisher_test'"
     ]
    }
   ],
   "source": [
    "contingency_table_a = pd.crosstab(data['CZY_KIER'], data['WIEK_KAT'])\n",
    "table_array = contingency_table_a.values\n",
    "res = stats.fisher_test(table_array)\n",
    "print(res)"
   ]
  },
  {
   "cell_type": "markdown",
   "id": "c6d3ca0b",
   "metadata": {},
   "source": [
    "Uzyskana p-wartość jest znacznie większa niż przyjęty poziom istotności $\\alpha$ = 0.05. Oznacza to, że brak jest podstaw do odrzucenia hipotezy zerowej. Nie zaobserwowano statystycznie istotnego związku pomiędzy wiekiem pracownika a tym, czy zajmuje stanowisko kierownicze."
   ]
  },
  {
   "cell_type": "markdown",
   "id": "cb4a5081",
   "metadata": {},
   "source": [
    "b) zajmowanie stanowiska kierowniczego nie zależy od stażu pracy (CZY_KIER oraz STAŻ)"
   ]
  },
  {
   "cell_type": "code",
   "execution_count": null,
   "id": "afb8000e",
   "metadata": {},
   "outputs": [
    {
     "name": "stdout",
     "output_type": "stream",
     "text": [
      "\n",
      "\tFisher's Exact Test for Count Data\n",
      "\n",
      "data:  structure(c(40L, 1L, 123L, 17L, 10L, 9L), dim = 2:3)\n",
      "p-value = 6.538e-05\n",
      "alternative hypothesis: two.sided\n",
      "\n",
      "\n"
     ]
    }
   ],
   "source": [
    "contingency_table_b = pd.crosstab(data['CZY_KIER'], data['STAŻ'])\n",
    "table_array = contingency_table_b.values\n",
    "res = stats.fisher_test(table_array)\n",
    "print(res)"
   ]
  },
  {
   "cell_type": "markdown",
   "id": "cde1dfc5",
   "metadata": {},
   "source": [
    "Na podstawie przeprowadzonego testu możemy stwierdzić, że staż pracy ma wpływ na to, czy osoba zajmuje stanowisko kierownicze. Wartość p sugeruje, że zależność ta jest bardzo silna i statystycznie istotna."
   ]
  },
  {
   "cell_type": "markdown",
   "id": "9de7c4c3",
   "metadata": {},
   "source": [
    "c) stopień zadowolenia ze szkoleń w kontekście dopasowania do indywidualnych potrzeb w pierwszym badanym okresie nie zależy od zajmowanego stanowiska (PYT_2 oraz CZY_KIER)"
   ]
  },
  {
   "cell_type": "code",
   "execution_count": null,
   "id": "69019067",
   "metadata": {},
   "outputs": [
    {
     "name": "stdout",
     "output_type": "stream",
     "text": [
      "\n",
      "\tFisher's Exact Test for Count Data\n",
      "\n",
      "data:  structure(c(64L, 18L, 0L, 91L, 10L, 2L, 2L, 13L), dim = c(4L, 2L))\n",
      "p-value = 0.0443\n",
      "alternative hypothesis: two.sided\n",
      "\n",
      "\n"
     ]
    }
   ],
   "source": [
    "contingency_table_c = pd.crosstab(data['PYT_2'], data['CZY_KIER'])\n",
    "table_array = contingency_table_c.values\n",
    "res = stats.fisher_test(table_array)\n",
    "print(res)"
   ]
  },
  {
   "cell_type": "markdown",
   "id": "12189d8d",
   "metadata": {},
   "source": [
    "Zajmowane stanowisko ma wpływ na stopień zadowolenia ze szkoleń w kontekście dopasowania do indywidualnych potrzeb, ponieważ wartość p jest mniejsza niż 0.05. Zależność między tymi zmiennymi jest statystycznie istotna.\n"
   ]
  },
  {
   "cell_type": "markdown",
   "id": "d79f5167",
   "metadata": {},
   "source": [
    "d) stopień zadowolenia ze szkoleń w kontekście dopasowania do indywidualnych potrzeb w pierwszym badanym okresie nie zależy od stażu (PYT_2 oraz STAŻ)"
   ]
  },
  {
   "cell_type": "code",
   "execution_count": null,
   "id": "69c75612",
   "metadata": {},
   "outputs": [
    {
     "name": "stdout",
     "output_type": "stream",
     "text": [
      "\n",
      "\tFisher's Exact Test for Count Data\n",
      "\n",
      "data:  structure(c(20L, 3L, 0L, 18L, 45L, 17L, 0L, 78L, 9L, 0L, 2L, 8L), dim = 4:3)\n",
      "p-value = 0.01069\n",
      "alternative hypothesis: two.sided\n",
      "\n",
      "\n"
     ]
    }
   ],
   "source": [
    "contingency_table_d = pd.crosstab(data['PYT_2'], data['STAŻ'])\n",
    "table_array = contingency_table_d.values\n",
    "res = stats.fisher_test(table_array)\n",
    "print(res)"
   ]
  },
  {
   "cell_type": "markdown",
   "id": "6ded6983",
   "metadata": {},
   "source": [
    "Wyniki testu wskazują, że zależność między stopniem zadowolenia ze szkoleń a stażem pracy jest istotna."
   ]
  },
  {
   "cell_type": "markdown",
   "id": "7787df40",
   "metadata": {},
   "source": [
    "e) stopień zadowolenia ze szkoleń w kontekście dopasowania do indywidualnych potrzeb w pierwszym badanym okresie nie zależy od płci (PYT_2 oraz PŁEĆ)"
   ]
  },
  {
   "cell_type": "code",
   "execution_count": null,
   "id": "7f21dc9a",
   "metadata": {},
   "outputs": [
    {
     "name": "stdout",
     "output_type": "stream",
     "text": [
      "\n",
      "\tFisher's Exact Test for Count Data\n",
      "\n",
      "data:  structure(c(25L, 10L, 1L, 35L, 49L, 10L, 1L, 69L), dim = c(4L, 2L))\n",
      "p-value = 0.4758\n",
      "alternative hypothesis: two.sided\n",
      "\n",
      "\n"
     ]
    }
   ],
   "source": [
    "contingency_table_e = pd.crosstab(data['PYT_2'], data['PŁEĆ'])\n",
    "table_array = contingency_table_e.values\n",
    "res = stats.fisher_test(table_array)\n",
    "print(res)"
   ]
  },
  {
   "cell_type": "markdown",
   "id": "f3c4ebeb",
   "metadata": {},
   "source": [
    "Można stwierdzić, że płeć nie ma wpływu na stopień zadowolenia ze szkoleń w kontekście dopasowania do indywidualnych potrzeb. Z powodu wysokiej wartości p nie ma wystarczających dowodów na istnienie zależności między tymi zmiennymi."
   ]
  },
  {
   "cell_type": "markdown",
   "id": "475cdfc2",
   "metadata": {},
   "source": [
    "f) stopień zadowolenia ze szkoleń w kontekście dopasowania do indywidualnych potrzeb w pierwszym badanym okresie nie zależy od wieku (PYT_2 oraz WIEK_KAT)"
   ]
  },
  {
   "cell_type": "markdown",
   "id": "780afe64",
   "metadata": {},
   "source": [
    "W przypadku dużych tabel kontyngencji funkcja _fisher.test()_ w R może nie być w stanie przeprowadzić dokładnego testu z powodu ograniczeń obliczeniowych. Dlatego zastosowano wersję przybliżoną testu Fishera opartą na symulacji Monte Carlo (simulate.p.value = TRUE). Umożliwia to oszacowanie wartości p nawet w przypadku większych macierzy, zachowując poprawność statystyczną przy założonym poziomie istotności."
   ]
  },
  {
   "cell_type": "code",
   "execution_count": null,
   "id": "17fab711",
   "metadata": {},
   "outputs": [
    {
     "name": "stdout",
     "output_type": "stream",
     "text": [
      "Monte Carlo p-value: 0.31616838316168383\n"
     ]
    }
   ],
   "source": [
    "contingency_table_f = pd.crosstab(data['PYT_2'], data['WIEK_KAT'])\n",
    "table_array = contingency_table_f.values\n",
    "res = stats.fisher_test(table_array, simulate_p_value=True, B=10000)\n",
    "print(\"Monte Carlo p-value:\", res.rx2('p.value')[0])\n"
   ]
  },
  {
   "cell_type": "markdown",
   "id": "77567a6a",
   "metadata": {},
   "source": [
    "Na podstawie wyników testu z symulacją Monte Carlo można stwierdzić, że kategoria wiekowa nie ma wpływu na stopień zadowolenia ze szkoleń w kontekście dopasowania do indywidualnych potrzeb. "
   ]
  },
  {
   "cell_type": "markdown",
   "id": "c5ba5553",
   "metadata": {},
   "source": [
    "#### podpunkty c), d), e) oraz d) zastępuję zmienną PYT_2 przez zmienną CZY_ZADOW"
   ]
  },
  {
   "cell_type": "markdown",
   "id": "f00c044c",
   "metadata": {},
   "source": [
    "c) CZY_ZADOW oraz CZY_KIER"
   ]
  },
  {
   "cell_type": "code",
   "execution_count": null,
   "id": "a5f4b0a7",
   "metadata": {},
   "outputs": [
    {
     "name": "stdout",
     "output_type": "stream",
     "text": [
      "\n",
      "\tFisher's Exact Test for Count Data\n",
      "\n",
      "data:  structure(c(82L, 91L, 12L, 15L), dim = c(2L, 2L))\n",
      "p-value = 0.8377\n",
      "alternative hypothesis: true odds ratio is not equal to 1\n",
      "95 percent confidence interval:\n",
      " 0.4612836 2.8018002\n",
      "sample estimates:\n",
      "odds ratio \n",
      "  1.125705 \n",
      "\n",
      "\n"
     ]
    }
   ],
   "source": [
    "contingency_table_c_2 = pd.crosstab(data['CZY_ZADOW'], data['CZY_KIER'])\n",
    "table_array = contingency_table_c_2.values\n",
    "res = stats.fisher_test(table_array)\n",
    "print(res)"
   ]
  },
  {
   "cell_type": "markdown",
   "id": "64168afb",
   "metadata": {},
   "source": [
    "Możemy stwierdzić, że nie ma statystycznie istotnej zależności między stopniem zadowolenia ze szkoleń a zajmowanym stanowiskiem kierowniczym."
   ]
  },
  {
   "cell_type": "markdown",
   "id": "165639b8",
   "metadata": {},
   "source": [
    "d) CZY_ZADOW oraz STAŻ"
   ]
  },
  {
   "cell_type": "code",
   "execution_count": null,
   "id": "f6b82035",
   "metadata": {},
   "outputs": [
    {
     "name": "stdout",
     "output_type": "stream",
     "text": [
      "\n",
      "\tFisher's Exact Test for Count Data\n",
      "\n",
      "data:  structure(c(23L, 18L, 62L, 78L, 9L, 10L), dim = 2:3)\n",
      "p-value = 0.4097\n",
      "alternative hypothesis: two.sided\n",
      "\n",
      "\n"
     ]
    }
   ],
   "source": [
    "contingency_table_d_2 = pd.crosstab(data['CZY_ZADOW'], data['STAŻ'])\n",
    "table_array = contingency_table_d_2.values\n",
    "res = stats.fisher_test(table_array)\n",
    "print(res)"
   ]
  },
  {
   "cell_type": "markdown",
   "id": "2c1cbd4f",
   "metadata": {},
   "source": [
    "Nie znaleziono statystycznie istotnej zależności między stopniem zadowolenia ze szkoleń a stażem pracy."
   ]
  },
  {
   "cell_type": "markdown",
   "id": "f6d818e2",
   "metadata": {},
   "source": [
    "e) CZY_ZADOW oraz PŁEĆ"
   ]
  },
  {
   "cell_type": "code",
   "execution_count": null,
   "id": "86b08dbb",
   "metadata": {},
   "outputs": [
    {
     "name": "stdout",
     "output_type": "stream",
     "text": [
      "\n",
      "\tFisher's Exact Test for Count Data\n",
      "\n",
      "data:  structure(c(35L, 36L, 59L, 70L), dim = c(2L, 2L))\n",
      "p-value = 0.6589\n",
      "alternative hypothesis: true odds ratio is not equal to 1\n",
      "95 percent confidence interval:\n",
      " 0.6194413 2.1460710\n",
      "sample estimates:\n",
      "odds ratio \n",
      "  1.152656 \n",
      "\n",
      "\n"
     ]
    }
   ],
   "source": [
    "contingency_table_e_2 = pd.crosstab(data['CZY_ZADOW'], data['PŁEĆ'])\n",
    "table_array = contingency_table_e_2.values\n",
    "res = stats.fisher_test(table_array)\n",
    "print(res)"
   ]
  },
  {
   "cell_type": "markdown",
   "id": "8755f2e9",
   "metadata": {},
   "source": [
    "Wyniki testu Fishera wskazują, że nie ma statystycznie istotnej zależności między płcią a stopniem zadowolenia ze szkoleń. P wartość jest wyższa niż 0.05, co oznacza, że nie ma podstaw do stwierdzenia, iż płeć wpływa na zadowolenie ze szkoleń."
   ]
  },
  {
   "cell_type": "markdown",
   "id": "47e85707",
   "metadata": {},
   "source": [
    "f) CZY_ZADOW oraz WIEK_KAT"
   ]
  },
  {
   "cell_type": "code",
   "execution_count": null,
   "id": "5a74db5a",
   "metadata": {},
   "outputs": [
    {
     "name": "stdout",
     "output_type": "stream",
     "text": [
      "Monte Carlo p-value: 0.3277672232776722\n"
     ]
    }
   ],
   "source": [
    "contingency_table_f_2 = pd.crosstab(data['CZY_ZADOW'], data['WIEK_KAT'])\n",
    "table_array = contingency_table_f_2.values\n",
    "res = stats.fisher_test(table_array, simulate_p_value=True, B=10000)\n",
    "print(\"Monte Carlo p-value:\", res.rx2('p.value')[0])"
   ]
  },
  {
   "cell_type": "markdown",
   "id": "a9e5120d",
   "metadata": {},
   "source": [
    "Na podstawie wyników testu Fishera z symulacją Monte Carlo możemy stwierdzić, że stopień zadowolenia ze szkoleń w kontekście dopasowania do indywidualnych potrzeb nie zależy od kategorii wiekowej. "
   ]
  },
  {
   "cell_type": "markdown",
   "id": "4b66925f",
   "metadata": {},
   "source": [
    "#### Porównanie wyników"
   ]
  },
  {
   "cell_type": "code",
   "execution_count": null,
   "id": "3843eb37",
   "metadata": {},
   "outputs": [
    {
     "data": {
      "text/html": [
       "<div>\n",
       "<style scoped>\n",
       "    .dataframe tbody tr th:only-of-type {\n",
       "        vertical-align: middle;\n",
       "    }\n",
       "\n",
       "    .dataframe tbody tr th {\n",
       "        vertical-align: top;\n",
       "    }\n",
       "\n",
       "    .dataframe thead th {\n",
       "        text-align: right;\n",
       "    }\n",
       "</style>\n",
       "<table border=\"1\" class=\"dataframe\">\n",
       "  <thead>\n",
       "    <tr style=\"text-align: right;\">\n",
       "      <th></th>\n",
       "      <th>Zmienna niezależna</th>\n",
       "      <th>PYT_2 – p-value</th>\n",
       "      <th>PYT_2 – wynik</th>\n",
       "      <th>CZY_ZADOW – p-value</th>\n",
       "      <th>CZY_ZADOW – wynik</th>\n",
       "    </tr>\n",
       "  </thead>\n",
       "  <tbody>\n",
       "    <tr>\n",
       "      <th>0</th>\n",
       "      <td>CZY_KIER</td>\n",
       "      <td>0.04430</td>\n",
       "      <td>istotna</td>\n",
       "      <td>0.8377</td>\n",
       "      <td>nieistotna</td>\n",
       "    </tr>\n",
       "    <tr>\n",
       "      <th>1</th>\n",
       "      <td>STAŻ</td>\n",
       "      <td>0.01069</td>\n",
       "      <td>istotna</td>\n",
       "      <td>0.4097</td>\n",
       "      <td>nieistotna</td>\n",
       "    </tr>\n",
       "    <tr>\n",
       "      <th>2</th>\n",
       "      <td>PŁEĆ</td>\n",
       "      <td>0.47580</td>\n",
       "      <td>nieistotna</td>\n",
       "      <td>0.6589</td>\n",
       "      <td>nieistotna</td>\n",
       "    </tr>\n",
       "    <tr>\n",
       "      <th>3</th>\n",
       "      <td>WIEK_KAT</td>\n",
       "      <td>0.31620</td>\n",
       "      <td>nieistotna</td>\n",
       "      <td>0.3278</td>\n",
       "      <td>nieistotna</td>\n",
       "    </tr>\n",
       "  </tbody>\n",
       "</table>\n",
       "</div>"
      ],
      "text/plain": [
       "  Zmienna niezależna  PYT_2 – p-value PYT_2 – wynik  CZY_ZADOW – p-value  \\\n",
       "0           CZY_KIER          0.04430       istotna               0.8377   \n",
       "1               STAŻ          0.01069       istotna               0.4097   \n",
       "2               PŁEĆ          0.47580    nieistotna               0.6589   \n",
       "3           WIEK_KAT          0.31620    nieistotna               0.3278   \n",
       "\n",
       "  CZY_ZADOW – wynik  \n",
       "0        nieistotna  \n",
       "1        nieistotna  \n",
       "2        nieistotna  \n",
       "3        nieistotna  "
      ]
     },
     "execution_count": 11,
     "metadata": {},
     "output_type": "execute_result"
    }
   ],
   "source": [
    "porownanie = {\n",
    "    'Zmienna niezależna': ['CZY_KIER', 'STAŻ', 'PŁEĆ', 'WIEK_KAT'],\n",
    "    'PYT_2 – p-value': [0.0443, 0.01069, 0.4758, 0.3162],\n",
    "    'PYT_2 – wynik': ['istotna', 'istotna', 'nieistotna', 'nieistotna'],\n",
    "    'CZY_ZADOW – p-value': [0.8377, 0.4097, 0.6589, 0.3278],\n",
    "    'CZY_ZADOW – wynik': ['nieistotna', 'nieistotna', 'nieistotna', 'nieistotna']\n",
    "}\n",
    "\n",
    "tabela_porownawcza = pd.DataFrame(porownanie)\n",
    "tabela_porownawcza"
   ]
  },
  {
   "cell_type": "markdown",
   "id": "4dd3648a",
   "metadata": {},
   "source": [
    "W analizie porównano wyniki testów dla szczegółowej zmiennej PYT_2 i uproszczonej zmiennej CZY_ZADOW. Dla PYT_2 wykazano istotne zależności z pełnionym stanowiskiem i stażem pracy. Po zastąpieniu jej binarną zmienną CZY_ZADOW, wszystkie zależności okazały się nieistotne statystycznie. Oznacza to, że uproszczenie odpowiedzi zmniejszyło czułość analizy i ukryło wcześniej widoczne zależnośc"
   ]
  },
  {
   "cell_type": "markdown",
   "id": "3fd75ed5",
   "metadata": {},
   "source": [
    "## CZĘŚĆ III"
   ]
  },
  {
   "cell_type": "markdown",
   "id": "bc394d7f",
   "metadata": {},
   "source": [
    "### ZADANIE 7\n",
    "    Zapoznaj się z funkcją służącą do wykonania testu niezależności chi-kwadrat."
   ]
  },
  {
   "cell_type": "markdown",
   "id": "f4f6e86e",
   "metadata": {},
   "source": [
    "Do przeprowadzenia testu niezależności chi-kwadrat wykorzystano wbudowaną funkcję *chi2_contingency* z biblioteki *scipy.stats*. Funkcja ta oblicza wartość statystyki chi-kwadrat oraz odpowiadającą jej p-wartość, zakładając hipotezę zerową o statystycznej niezależności zmiennych reprezentowanych w tabeli kontyngencji (tabeli krzyżowej). Funkcja zwraca również oczekiwane liczebności, które są wyznaczane na podstawie iloczynów sum marginalnych, zgodnie z założeniem niezależności zmiennych.\n",
    "\n",
    "Sformułowanie hipotez statystycznych w teście chi-kwadrat:\n",
    "\n",
    "$H_0$ : Zmienne są statystycznie niezależne\n",
    "\n",
    "$H_1$ : Zmienne są statystycznie zależne"
   ]
  },
  {
   "cell_type": "markdown",
   "id": "a613102b",
   "metadata": {},
   "source": [
    "- implementacja dla przykładowych parametrów"
   ]
  },
  {
   "cell_type": "code",
   "execution_count": 14,
   "id": "b51d6708",
   "metadata": {},
   "outputs": [
    {
     "name": "stdout",
     "output_type": "stream",
     "text": [
      "Statystyka:  2.7777777777777777\n",
      "p-wartość:  0.24935220877729622\n",
      "Stopnie swobody:  2\n",
      "Oczekiwane częstotliwości/liczebności:  [[12. 12. 16.]\n",
      " [18. 18. 24.]]\n"
     ]
    }
   ],
   "source": [
    "obs_freq = np.array([[10, 10, 20], [20, 20, 20]])\n",
    "res = chi2_contingency(obs_freq)\n",
    "\n",
    "print('Statystyka: ', res.statistic)\n",
    "print('p-wartość: ', res.pvalue)\n",
    "print('Stopnie swobody: ', res.dof)\n",
    "print('Oczekiwane częstotliwości/liczebności: ', res.expected_freq)"
   ]
  },
  {
   "cell_type": "markdown",
   "id": "f8c77f57",
   "metadata": {},
   "source": [
    "### ZADANIE 8\n",
    "    Korzystając z funkcji poznanej w zadaniu 7. zweryfikuj hipotezę, że stopień zadowolenia ze szkoleń w kontekście dopasowania do indywidualnych potrzeb w pierwszym badanym okresie nie zależy od zajmowanego stanowiska. Przyjmij poziom istotności 0.01. Wynik testu porównaj z wynikiem uzyskanym w zadaniu 6. Zaprezentuj reszty wyznaczane w teście na wykresie asocjacyjnym i dokonaj jego interpretacji."
   ]
  },
  {
   "cell_type": "markdown",
   "id": "4148bc5f",
   "metadata": {},
   "source": [
    "$H_0$: Stopień zadowolenia ze szkoleń nie zależy od zajmowanego stanowiska\n",
    "\n",
    "$H_1$: Stopień zadowolenia ze szkoleń zależy od zajmowanego stanowiska"
   ]
  },
  {
   "cell_type": "markdown",
   "id": "c1419b57",
   "metadata": {},
   "source": [
    "- Czy stopień zadowolenia ze szkoleń w kontekście dopasowania do indywidualnych potrzeb zależy od zajmowanego stanowiska?"
   ]
  },
  {
   "cell_type": "code",
   "execution_count": 15,
   "id": "636862f0",
   "metadata": {},
   "outputs": [],
   "source": [
    "crosstab_P2CzK = pd.crosstab(data['PYT_2'], data['CZY_KIER'])\n",
    "chi2_P2CzK = chi2_contingency(crosstab_P2CzK.values)"
   ]
  },
  {
   "cell_type": "code",
   "execution_count": 16,
   "id": "826fe0e4",
   "metadata": {},
   "outputs": [
    {
     "name": "stdout",
     "output_type": "stream",
     "text": [
      "p-wartość: 0.0044\n"
     ]
    }
   ],
   "source": [
    "print(f'p-wartość: {chi2_P2CzK.pvalue:.4f}')"
   ]
  },
  {
   "cell_type": "markdown",
   "id": "6835ab15",
   "metadata": {},
   "source": [
    "W tym przypadku przyjęto poziom istotności $\\alpha = 0.01$. Porównując go z otrzymaną p-wartością:\n",
    "$$ \\text{p-wartość} = 0.004 < \\alpha = 0.01$$\n",
    "W związku z tym istnieją podstawy do odrzucenia hipotezy zerowej. Można zatem stwierdzić, że stopień zadowolenia ze szkoleń w kontekście dopasowania do indywidualnych potrzeb w pierwszym badanym okresie istotnie zależy od zajmowanego stanowiska.\n",
    "\n",
    "Podobny wniosek uzyskano w *Zadaniu 6 (test Fishera)*, gdzie również odrzucono hipotezę o niezależności między stopniem zadowolenia ze szkoleń a pełnionym stanowiskiem."
   ]
  },
  {
   "cell_type": "markdown",
   "id": "61ab3745",
   "metadata": {},
   "source": [
    "- Wykres asocjacyjny"
   ]
  },
  {
   "cell_type": "code",
   "execution_count": 17,
   "id": "1c5562bc",
   "metadata": {},
   "outputs": [],
   "source": [
    "chi2_P2CzK_stand_res = (crosstab_P2CzK.values - chi2_P2CzK.expected_freq) / np.sqrt(chi2_P2CzK.expected_freq)"
   ]
  },
  {
   "cell_type": "code",
   "execution_count": 18,
   "id": "50c64a3f",
   "metadata": {},
   "outputs": [
    {
     "data": {
      "image/png": "[encoded data removed]",
      "text/plain": [
       "<Figure size 600x400 with 2 Axes>"
      ]
     },
     "metadata": {},
     "output_type": "display_data"
    }
   ],
   "source": [
    "plt.figure(figsize=(6, 4))\n",
    "\n",
    "sns.heatmap(\n",
    "    chi2_P2CzK_stand_res,\n",
    "    center=-0.05,\n",
    "    annot=True,\n",
    "    fmt=\".3f\",\n",
    "    cmap=\"coolwarm\",\n",
    "    cbar=True,\n",
    "    xticklabels=crosstab_P2CzK.columns,\n",
    "    yticklabels=crosstab_P2CzK.index,\n",
    "    linewidths=1\n",
    ")\n",
    "\n",
    "plt.ylabel('PYT_2')\n",
    "plt.xlabel('CZY_KIER')\n",
    "plt.tight_layout()\n",
    "plt.show()"
   ]
  },
  {
   "cell_type": "markdown",
   "id": "d410ea4c",
   "metadata": {},
   "source": [
    "Wykres przedstawia standaryzowane reszty, które wskazują, które kombinacje odpowiedzi występowały częściej lub rzadziej, niż wynikałoby z niezależności. Szczególnie widoczna jest silna dodatnia reszta dla odpowiedzi „Zdecydowanie się zgadzam” wśród osób zajmujących stanowiska kierownicze (ok. 3.33). Oznacza to, że ta kombinacja odpowiedzi występowała znacznie częściej, niż przewidywałby model niezależności. Z kolei największa ujemna reszta pojawia się w tej samej kategorii wśród osób niepełniących funkcji kierowniczych (ok. –1.32), co sugeruje, że zwykli pracownicy znacznie rzadziej odpowiadali „Zdecydowanie się zgadzam”, niż by to wynikało z oczekiwań.\n",
    "\n",
    "Takie rozkłady standaryzowanych reszt potwierdzają istnienie statystycznie istotnej zależności między stopniem zadowolenia ze szkoleń a zajmowanym stanowiskiem, co jest zgodne z odrzuceniem hipotezy zerowej w teście chi-kwadrat."
   ]
  },
  {
   "cell_type": "markdown",
   "id": "884bd49d",
   "metadata": {},
   "source": [
    "### ZADANIE 9\n",
    "    Zapoznaj się z funkcję służącą do generowania realizacji wektorów losowych z rozkładu wielomianowego, a następnie korzystając z niej przeprowadź symulacje w celu oszacowania mocy testu Fishera oraz mocy testu chi-kwadrat Pearsona, generując dane z tabeli 2×2, w której p11 = 1/40, p12 = 3/40, p21 = 19/40,    p22 = 17/40. Symulacje wykonaj dla n = 50, n = 100 oraz n = 1000. Sformułuj wnioski."
   ]
  },
  {
   "cell_type": "code",
   "execution_count": 66,
   "id": "96ff6ace",
   "metadata": {},
   "outputs": [],
   "source": [
    "p = [1/40, 3/40, 19/40, 17/40]\n",
    "alpha = 0.05\n",
    "tab_size = (2,2)\n",
    "n = [50, 100, 1000]"
   ]
  },
  {
   "cell_type": "code",
   "execution_count": 67,
   "id": "15729d61",
   "metadata": {},
   "outputs": [],
   "source": [
    "def test_power(p, alpha, tab_size, n, M=500):\n",
    "    chi2_rejected = 0\n",
    "    fisher_rejected = 0\n",
    "    for i in range(M):\n",
    "        random_vector = np.random.multinomial(n, p)\n",
    "        random_vector = random_vector.reshape(tab_size)\n",
    "        try:\n",
    "            chi2_results = chi2_contingency(random_vector)\n",
    "            fisher_results = fisher_exact(random_vector)\n",
    "\n",
    "            if chi2_results.pvalue < alpha:\n",
    "                chi2_rejected += 1\n",
    "            if fisher_results.pvalue < alpha:\n",
    "                fisher_rejected += 1  \n",
    "        except ValueError:\n",
    "            continue\n",
    "                     \n",
    "    power_chi2 = chi2_rejected / M\n",
    "    power_fisher = fisher_rejected / M\n",
    "\n",
    "    return power_chi2, power_fisher"
   ]
  },
  {
   "cell_type": "code",
   "execution_count": 68,
   "id": "f2259103",
   "metadata": {},
   "outputs": [],
   "source": [
    "chi2_power = np.zeros(len(n))\n",
    "fisher_power = np.zeros(len(n))\n",
    "\n",
    "for i, n_i in enumerate(n):\n",
    "    chi2_power[i], fisher_power[i] = test_power(p, alpha, tab_size, n_i)"
   ]
  },
  {
   "cell_type": "code",
   "execution_count": 69,
   "id": "9c50e40f",
   "metadata": {},
   "outputs": [
    {
     "data": {
      "text/html": [
       "<div>\n",
       "<style scoped>\n",
       "    .dataframe tbody tr th:only-of-type {\n",
       "        vertical-align: middle;\n",
       "    }\n",
       "\n",
       "    .dataframe tbody tr th {\n",
       "        vertical-align: top;\n",
       "    }\n",
       "\n",
       "    .dataframe thead th {\n",
       "        text-align: right;\n",
       "    }\n",
       "</style>\n",
       "<table border=\"1\" class=\"dataframe\">\n",
       "  <thead>\n",
       "    <tr style=\"text-align: right;\">\n",
       "      <th></th>\n",
       "      <th>n</th>\n",
       "      <th>Moc testu chi-kwadrat</th>\n",
       "      <th>Moc testu Fishera</th>\n",
       "    </tr>\n",
       "  </thead>\n",
       "  <tbody>\n",
       "    <tr>\n",
       "      <th>0</th>\n",
       "      <td>50</td>\n",
       "      <td>0.082</td>\n",
       "      <td>0.122</td>\n",
       "    </tr>\n",
       "    <tr>\n",
       "      <th>1</th>\n",
       "      <td>100</td>\n",
       "      <td>0.252</td>\n",
       "      <td>0.302</td>\n",
       "    </tr>\n",
       "    <tr>\n",
       "      <th>2</th>\n",
       "      <td>1000</td>\n",
       "      <td>0.998</td>\n",
       "      <td>0.998</td>\n",
       "    </tr>\n",
       "  </tbody>\n",
       "</table>\n",
       "</div>"
      ],
      "text/plain": [
       "      n  Moc testu chi-kwadrat  Moc testu Fishera\n",
       "0    50                  0.082              0.122\n",
       "1   100                  0.252              0.302\n",
       "2  1000                  0.998              0.998"
      ]
     },
     "execution_count": 69,
     "metadata": {},
     "output_type": "execute_result"
    }
   ],
   "source": [
    "data_test_power = {\n",
    "    \"n\": n,\n",
    "    \"Moc testu chi-kwadrat\": chi2_power,\n",
    "    \"Moc testu Fishera\": fisher_power\n",
    "}\n",
    "\n",
    "df_test_power = pd.DataFrame(data_test_power)\n",
    "df_test_power"
   ]
  },
  {
   "cell_type": "markdown",
   "id": "33abdde2",
   "metadata": {},
   "source": [
    "Test chi-kwadrat oraz test Fishera wykazują zbliżoną skuteczność w wykrywaniu zależności w danych, przy czym test Fishera cechuje się nieco wyższą mocą w przypadku mniejszych próbek. Dlatego przy małych próbach może być lepiej rozważyć test Fishera, który jest bardziej precyzyjny. Przy większych próbach oba testy dają bardzo dobre rezultaty, co widać również na poniższym wykresie."
   ]
  },
  {
   "cell_type": "code",
   "execution_count": 70,
   "id": "6b9d67ae",
   "metadata": {},
   "outputs": [
    {
     "data": {
      "image/png": "[encoded data removed]",
      "text/plain": [
       "<Figure size 640x480 with 1 Axes>"
      ]
     },
     "metadata": {},
     "output_type": "display_data"
    }
   ],
   "source": [
    "plt.plot(n, chi2_power, label='Chi-kwadrat', marker='o')\n",
    "plt.plot(n, fisher_power, label='Fisher', marker='o')\n",
    "\n",
    "plt.legend()\n",
    "plt.title('Moc testu chi2 i Fishera')\n",
    "plt.grid(True, linestyle='--')\n",
    "plt.xscale('log')\n",
    "plt.xlabel('n (w skali logarytmicznej)')\n",
    "plt.ylabel('Moc testu')\n",
    "plt.show()"
   ]
  },
  {
   "cell_type": "markdown",
   "id": "3cccb41e",
   "metadata": {},
   "source": [
    "### ZADANIE 10\n",
    "    Napisz funkcję, która dla danych z tablicy dwudzielczej oblicza wartość poziomu krytycznego w teście niezależnosci opartym na ilorazie wiarogodnosci. Korzystając z napisanej funkcji, wykonaj test dla danych przeanalizowanych w zadaniu 8."
   ]
  },
  {
   "cell_type": "markdown",
   "id": "24c64683",
   "metadata": {},
   "source": [
    "W zadaniu zastosowano wbudowaną funkcję *chi2_contingency* z pakietu *scipy.stats*, która po ustawieniu parametru **lambda_=\"log-likelihood\"** wykonuje test niezależności oparty na ilorazie wiarygodności, znany również jako test G."
   ]
  },
  {
   "cell_type": "code",
   "execution_count": null,
   "id": "8f79c246",
   "metadata": {},
   "outputs": [],
   "source": [
    "def likelihood_ratio_test_g(obs):\n",
    "    stat, p, dof, _ = chi2_contingency(obs, lambda_=\"log-likelihood\")\n",
    "    return stat, p, dof"
   ]
  },
  {
   "cell_type": "markdown",
   "id": "8d1fc083",
   "metadata": {},
   "source": [
    "- test dla danych przeanalizowanych w zadaniu 8 (pamiętajmy, że przyjmujemy $\\alpha=0.01$)"
   ]
  },
  {
   "cell_type": "code",
   "execution_count": 72,
   "id": "d6f131fb",
   "metadata": {},
   "outputs": [
    {
     "name": "stdout",
     "output_type": "stream",
     "text": [
      "Statystyka G: 8.3285, p-value: 0.0397, stopnie swobody: 3\n"
     ]
    }
   ],
   "source": [
    "stat, p, dof = likelihood_ratio_test_g(crosstab_P2CzK.values)\n",
    "\n",
    "print(f\"Statystyka G: {stat:.4f}, p-value: {p:.4f}, stopnie swobody: {dof}\")"
   ]
  },
  {
   "cell_type": "markdown",
   "id": "533a9726",
   "metadata": {},
   "source": [
    "Jak można zauważyć:\n",
    "$$ p{-}wartość = 0.0397 > \\alpha = 0.01 $$\n",
    "Oznacza to, że nie ma podstaw do odrzucenia hipotezy zerowej, zakładającej brak związku pomiędzy stopniem zadowolenia ze szkoleń w kontekście ich dopasowania do indywidualnych potrzeb w pierwszym badanym okresie a zajmowanym stanowiskiem.\n",
    "\n",
    "W konsekwencji, przy poziomie istotności 1%, nie stwierdzono statystycznie istotnej zależności pomiędzy tymi zmiennymi — obserwowane różnice mogą być przypadkowe i nie wskazują na rzeczywisty związek w populacji."
   ]
  },
  {
   "cell_type": "markdown",
   "id": "bf430edb",
   "metadata": {},
   "source": [
    "$$ \\Large !!!! ???$$"
   ]
  },
  {
   "cell_type": "markdown",
   "id": "c1f4fc8d",
   "metadata": {},
   "source": [
    "Warto jednak zauważyć, że wynik ten różni się od uzyskanego w zadaniu 8 na podstawie testu chi-kwadrat, gdzie przy tym samym poziomie istotności uzyskano p-wartość mniejszą niż 0.01 i odrzucono hipotezę zerową.\n",
    "\n",
    "Takie rozbieżności mogą wynikać z różnic w konstrukcji testów — test chi-kwadrat i test G (ilorazu wiarygodności) są do siebie podobne, ale w niektórych sytuacjach (szczególnie przy mniejszych próbach lub nietypowych rozkładach danych) mogą dawać nieco odmienne wyniki. Test G bywa nieco bardziej konserwatywny, co oznacza, że wymaga mocniejszych dowodów, aby odrzucić hipotezę zerową.\n",
    "\n",
    "Podsumowując, interpretacja wyników powinna uwzględniać zarówno wybrany poziom istotności, jak i charakterystykę poszczególnych testów oraz rozmiar próby. W tym przypadku, przy poziomie $\\alpha=0.01$, test G nie potwierdza istotnej zależności, natomiast test chi-kwadrat wskazuje na jej istnienie, co sugeruje, że dowody na związek są stosunkowo słabe i wymagają ostrożnej interpretacji."
   ]
  },
  {
   "cell_type": "markdown",
   "id": "5c06ac6f",
   "metadata": {},
   "source": [
    "## CZĘŚĆ IV i V"
   ]
  },
  {
   "cell_type": "markdown",
   "id": "003707a5",
   "metadata": {},
   "source": [
    "### ZADANIE 11\n",
    "    Przeprowadzone wsród brytyjskich mężczyzn badanie trwające 20 lat wykazało, że odsetek zmarłych (na rok) z powodu raka płuc wynosił 0,00140 wsród osób palących papierosy i 0,00010 wsród osób niepalących. Odsetek zmarłych z powodu choroby niedokrwiennej serca wynosił 0,00669 dla palaczy i 0,00413 dla osób niepalących. Opisz związek pomiędzy paleniem papierosów a śmiercią z powodu raka płuc oraz związek pomiędzy paleniem papierosów a śmiercią z powodu choroby serca. Skorzystaj z różnicy proporcji, ryzyka względnego i ilorazu szans. Zinterpretuj wartości. Związek której pary zmiennych jest silniejszy?"
   ]
  },
  {
   "cell_type": "markdown",
   "id": "f654046b",
   "metadata": {},
   "source": [
    "Skorzystamy z następujących definicji:\n",
    "\n",
    "- Ryzyko względne (RR): porównuje prawdopodobieństwo wystąpienia danego zdarzenia w grupie badanej (interwencyjnej) do grupy kontrolnej\n",
    "\n",
    "$$\n",
    "RR = \\dfrac{IE/(IE + IN)}{CE/(CE + CN)}\n",
    "$$\n",
    "\n",
    "gdzie: \n",
    "\n",
    "$RR$ - ryzyko względne, \t\n",
    "\n",
    "$IE$ - liczba przypadków zdarzenia w grupie interwencyjnej,\n",
    "\n",
    "$IN$ - liczba przypadków braku zdarzenia w grupie interwencyjnej,\n",
    "\n",
    "$CE$ - liczba przypadków zdarzenia w grupie kontrolnej,\n",
    "\n",
    "$CN$ - liczba przypadków braku zdarzenia w grupie kontrolnej.\n",
    "\n",
    "Wyniki można interpretować następująco:\n",
    "\n",
    "RR > 1: ryzyko wystąpienia zdarzenia jest większe w grupie interwencyjnej niż w kontrolnej,\n",
    "\n",
    "RR < 1: ryzyko wystąpienia zdarzenia jest mniejsze w grupie interwencyjnej,\n",
    "\n",
    "RR = 1: brak różnicy pomiędzy grupami."
   ]
  },
  {
   "cell_type": "markdown",
   "id": "53f5c7f7",
   "metadata": {},
   "source": [
    "- Iloraz szans (ang. OR, odds ratio): stosunek szans wystąpienia danego zdarzenia w jednej grupie do szansy jego wystąpienia w innej grupie\n",
    "\n",
    "$$\n",
    "OR_{A/B} = \\dfrac{\\mathbb {P}(A)\\cdot(1-\\mathbb {P}(B))}{\\mathbb {P}(B)\\cdot(1-\\mathbb {P}(A))}\n",
    "$$\n",
    "\n",
    "gdzie: $\\mathbb {P}(A)$ to prawdopodobieństwo wystąpienia zdarzenia w grupie $A$.\n",
    "\n",
    "Wyniki można interpretować następująco:\n",
    "\n",
    "OR > 1: wyższe szanse wystąpienia zdarzenia w grupie A względem grupy B,\n",
    "\n",
    "OR < 1: niższe szanse wystąpienia zdarzenia w grupie A,\n",
    "\n",
    "OR = 1: brak różnicy w szansach między grupami."
   ]
  },
  {
   "cell_type": "code",
   "execution_count": 73,
   "id": "64c5c9e3",
   "metadata": {},
   "outputs": [],
   "source": [
    "# Odsetek zmarłych z powodu raka płuc wśród palaczy i niepalaczy\n",
    "lung_cancer_rate_smokers = 0.00140\n",
    "lung_cancer_rate_nonsmokers  = 0.00010\n",
    "\n",
    "lung_cancer_rate_diff = lung_cancer_rate_smokers - lung_cancer_rate_nonsmokers\n",
    "lung_cancer_RR = lung_cancer_rate_smokers / lung_cancer_rate_nonsmokers\n",
    "lung_cancer_OR = (lung_cancer_rate_smokers / (1 - lung_cancer_rate_smokers)) / (lung_cancer_rate_nonsmokers / (1 - lung_cancer_rate_nonsmokers))\n",
    "\n",
    "# Odsetek zmarłych z powodu choroby niedokrwiennej serca wśród palaczy i niepalaczy\n",
    "heart_disease_rate_smokers = 0.00669\n",
    "heart_disease_rate_nonsmokers = 0.00413\n",
    "\n",
    "heart_disease_rate_diff = heart_disease_rate_smokers - heart_disease_rate_nonsmokers\n",
    "heart_disease_RR = heart_disease_rate_smokers / heart_disease_rate_nonsmokers\n",
    "heart_disease_OR = (heart_disease_rate_smokers / (1 - heart_disease_rate_smokers)) / (heart_disease_rate_nonsmokers / (1 - heart_disease_rate_nonsmokers))"
   ]
  },
  {
   "cell_type": "code",
   "execution_count": 74,
   "id": "169e8a36",
   "metadata": {},
   "outputs": [
    {
     "data": {
      "text/html": [
       "<div>\n",
       "<style scoped>\n",
       "    .dataframe tbody tr th:only-of-type {\n",
       "        vertical-align: middle;\n",
       "    }\n",
       "\n",
       "    .dataframe tbody tr th {\n",
       "        vertical-align: top;\n",
       "    }\n",
       "\n",
       "    .dataframe thead th {\n",
       "        text-align: right;\n",
       "    }\n",
       "</style>\n",
       "<table border=\"1\" class=\"dataframe\">\n",
       "  <thead>\n",
       "    <tr style=\"text-align: right;\">\n",
       "      <th></th>\n",
       "      <th>Choroba</th>\n",
       "      <th>Odsetek zmarłych (palacze)</th>\n",
       "      <th>Odsetek zmarłych (niepalacze)</th>\n",
       "      <th>Różnica proporcji</th>\n",
       "      <th>Ryzyko względne (RR)</th>\n",
       "      <th>Iloraz szans (OR)</th>\n",
       "    </tr>\n",
       "  </thead>\n",
       "  <tbody>\n",
       "    <tr>\n",
       "      <th>0</th>\n",
       "      <td>Rak płuc</td>\n",
       "      <td>0.0014</td>\n",
       "      <td>0.0001</td>\n",
       "      <td>0.0013</td>\n",
       "      <td>14.00</td>\n",
       "      <td>14.02</td>\n",
       "    </tr>\n",
       "    <tr>\n",
       "      <th>1</th>\n",
       "      <td>Choroba niedokrwienna serca</td>\n",
       "      <td>0.0067</td>\n",
       "      <td>0.0041</td>\n",
       "      <td>0.0026</td>\n",
       "      <td>1.62</td>\n",
       "      <td>1.62</td>\n",
       "    </tr>\n",
       "  </tbody>\n",
       "</table>\n",
       "</div>"
      ],
      "text/plain": [
       "                       Choroba Odsetek zmarłych (palacze)  \\\n",
       "0                     Rak płuc                     0.0014   \n",
       "1  Choroba niedokrwienna serca                     0.0067   \n",
       "\n",
       "  Odsetek zmarłych (niepalacze) Różnica proporcji Ryzyko względne (RR)  \\\n",
       "0                        0.0001            0.0013                14.00   \n",
       "1                        0.0041            0.0026                 1.62   \n",
       "\n",
       "  Iloraz szans (OR)  \n",
       "0             14.02  \n",
       "1              1.62  "
      ]
     },
     "execution_count": 74,
     "metadata": {},
     "output_type": "execute_result"
    }
   ],
   "source": [
    "data_british_man = {\n",
    "    \"Choroba\": [\"Rak płuc\", \"Choroba niedokrwienna serca\"],\n",
    "    \"Odsetek zmarłych (palacze)\": [lung_cancer_rate_smokers, heart_disease_rate_smokers],\n",
    "    \"Odsetek zmarłych (niepalacze)\": [lung_cancer_rate_nonsmokers, heart_disease_rate_nonsmokers],\n",
    "    \"Różnica proporcji\": [lung_cancer_rate_diff, heart_disease_rate_diff],\n",
    "    \"Ryzyko względne (RR)\": [lung_cancer_RR, heart_disease_RR],\n",
    "    \"Iloraz szans (OR)\": [lung_cancer_OR, heart_disease_OR]\n",
    "}\n",
    "\n",
    "df_british_man = pd.DataFrame(data_british_man)\n",
    "df_british_man[\"Odsetek zmarłych (palacze)\"] = df_british_man[\"Odsetek zmarłych (palacze)\"].apply(lambda x: f\"{x:.4f}\")\n",
    "df_british_man[\"Odsetek zmarłych (niepalacze)\"] = df_british_man[\"Odsetek zmarłych (niepalacze)\"].apply(lambda x: f\"{x:.4f}\")\n",
    "df_british_man[\"Różnica proporcji\"] = df_british_man[\"Różnica proporcji\"].apply(lambda x: f\"{x:.4f}\")\n",
    "df_british_man[\"Ryzyko względne (RR)\"] = df_british_man[\"Ryzyko względne (RR)\"].apply(lambda x: f\"{x:.2f}\")\n",
    "df_british_man[\"Iloraz szans (OR)\"] = df_british_man[\"Iloraz szans (OR)\"].apply(lambda x: f\"{x:.2f}\")\n",
    "\n",
    "df_british_man"
   ]
  },
  {
   "cell_type": "markdown",
   "id": "b51380ee",
   "metadata": {},
   "source": [
    "Analizując otrzymane wyniki:\n",
    "\n",
    "a) Rak płuc\n",
    "\n",
    "Na podstawie różnicy proporcji można stwierdzić, że osoby palące charakteryzują się wyraźnie wyższą zachorowalnością na raka płuc w porównaniu do osób niepalących – różnica ta wynosi około 0.13%.\n",
    "\n",
    "Dodatkowo, wartość ryzyka względnego wynosząca RR = 14 oznacza, że ryzyko zachorowania na raka płuc wśród palaczy jest 14 razy wyższe niż wśród osób niepalących. Podobnie, iloraz szans OR = 14.02 również wskazuje na znacznie wyższe szanse wystąpienia choroby w grupie palaczy.\n",
    "\n",
    "Otrzymane wyniki są zgodne z intuicją oraz dotychczasową wiedzą medyczną – palenie papierosów znacząco zwiększa ryzyko zachorowania na raka płuc.\n",
    "\n",
    "b) Choroba niedokrwienia serca\n",
    "\n",
    "W przypadku choroby niedokrwiennej serca zaobserwowano mniejszą, lecz nadal zauważalną zależność pomiędzy paleniem a zachorowalnością. Różnica proporcji wynosi 0.26%, co oznacza, że osoby palące częściej chorują na niedokrwienie serca niż osoby niepalące.\n",
    "\n",
    "Jednakże wartości ryzyka względnego i ilorazu szans (RR = 1.62, OR = 1.62) wskazują, że zależność ta jest znacznie słabsza niż w przypadku raka płuc. Oznacza to, że średnie ryzyko zachorowania na chorobę niedokrwienną serca wśród palaczy jest około 1.6 razy wyższe niż u niepalących."
   ]
  },
  {
   "cell_type": "markdown",
   "id": "f606a015",
   "metadata": {},
   "source": [
    "### ZADANIE 12\n",
    "    Tabela 1 przedstawia wyniki dotyczące śmiertelności kierowców i pasażerów w wypadkach samochodowych na Florydzie w 2008 roku, w zależności od tego, czy osoba miała zapięty pas bezpieczeństwa czy nie.\n",
    "\n",
    "<div align=\"center\">\n",
    "\n",
    "| | Śmiertelny | Nieśmiertelny |\n",
    "| ----------- | ----------- | ----------- |\n",
    "| **Bez pasów** | 1085 | 55 623 |\n",
    "| **Z pasami** | 703 | 441 239 |\n",
    "\n",
    "</div> \n",
    "<br>\n",
    "<div align=\"center\">\n",
    "Table 1: Wyniki dotyczące śmiertelności w wypadkach samochodowych na Florydzie w 2008 roku.\n",
    "</div>\n",
    "\n",
    "        a) Oszacuj warunkowe prawdopodobieństwo śmierci w wypadku ze względu na drugą zmienną, tj. dla kierowców i pasażerów, którzy użyli pasa bezpieczeństwa oraz dla kierowców i pasażerów, który nie użyli pasa bezpieczeństwa.\n",
    "        b) Oszacuj warunkowe prawdopodobieństwo użycia pasa bezpieczeństwa ze względu na drugą zmienną, tj. dla kierowców i pasażerów ze śmiertelnymi obrażeniami oraz dla kierowców i pasażerów, którzy przeżyli wypadek.\n",
    "        c) Jaki jest najbardziej naturalny wybór dla zmiennej objaśnianej w tym badaniu? Dla takiego wyboru wyznacz i zinterpretuj różnice proporcji, ryzyko względne oraz iloraz szans. Dlaczego wartości ryzyka względnego i ilorazu szans przyjmują zbliżone wartości?"
   ]
  },
  {
   "cell_type": "code",
   "execution_count": 75,
   "id": "aaf8809b",
   "metadata": {},
   "outputs": [],
   "source": [
    "#dead\n",
    "death_with_belts = 703\n",
    "death_no_belts = 1085\n",
    "total_death = death_with_belts + death_no_belts\n",
    "\n",
    "#alive\n",
    "alive_with_belts = 441239\n",
    "alive_no_belts = 55623\n",
    "total_alive = alive_with_belts + alive_no_belts\n",
    "\n",
    "#total\n",
    "total = total_death + total_alive"
   ]
  },
  {
   "cell_type": "markdown",
   "id": "c940a9be",
   "metadata": {},
   "source": [
    "a) Warunkowe prawdopodobieństwo śmierci w zależności od użycia pasów bezpieczeństwa"
   ]
  },
  {
   "cell_type": "code",
   "execution_count": 76,
   "id": "aa244b18",
   "metadata": {},
   "outputs": [
    {
     "name": "stdout",
     "output_type": "stream",
     "text": [
      "Prawdopodobieństwo śmierci pod warunkiem użycia pasów bezpieczeństwa: 0.0016\n",
      "Prawdopodobieństwo śmierci pod warunkiem nieużycia pasów bezpieczeństwa: 0.019\n"
     ]
    }
   ],
   "source": [
    "# pod warunkiem użycia pasów\n",
    "cond_prob_death_with_belts = death_with_belts / (death_with_belts + alive_with_belts)\n",
    "print(f\"Prawdopodobieństwo śmierci pod warunkiem użycia pasów bezpieczeństwa: {cond_prob_death_with_belts:.4f}\")\n",
    "\n",
    "# pod warunkiem nieużycia pasów\n",
    "cond_prob_death_no_belts = death_no_belts / (death_no_belts + alive_no_belts)\n",
    "print(f\"Prawdopodobieństwo śmierci pod warunkiem nieużycia pasów bezpieczeństwa: {cond_prob_death_no_belts:.3f}\")"
   ]
  },
  {
   "cell_type": "markdown",
   "id": "74ceec67",
   "metadata": {},
   "source": [
    "Zgodnie ze zdroworozsądkowym założeniem, stosowanie pasów bezpieczeństwa powinno obniżać ryzyko śmierci w wypadkach drogowych. Wyniki potwierdzają tę hipotezę. Prawdopodobieństwo śmierci pod warunkiem użycia pasów bezpieczeństwa wynosi 0.0016, podczas gdy pod warunkiem nieużycia pasów bezpieczeństwa wynosi już 0.019."
   ]
  },
  {
   "cell_type": "markdown",
   "id": "6263e12a",
   "metadata": {},
   "source": [
    "b) Warunkowe prawdopodobieństwo użycia pasów w zależności od wyniku wypadku"
   ]
  },
  {
   "cell_type": "code",
   "execution_count": 77,
   "id": "a77ece6a",
   "metadata": {},
   "outputs": [
    {
     "name": "stdout",
     "output_type": "stream",
     "text": [
      "Prawdopodobieństwo użycia pasów bezpieczeństwa pod warunkiem śmierci: 0.393\n",
      "Prawdopodobieństwo użycia pasów bezpieczeństwa po warunkiem przeżycia: 0.888\n"
     ]
    }
   ],
   "source": [
    "# pod warunkiem użycia pasów\n",
    "cond_prob_with_belts_death = death_with_belts / (death_with_belts + death_no_belts)\n",
    "print(f\"Prawdopodobieństwo użycia pasów bezpieczeństwa pod warunkiem śmierci: {cond_prob_with_belts_death:.3f}\")\n",
    "\n",
    "# pod warunkiem użycia pasów\n",
    "cond_prob_no_belts_alive = alive_with_belts / (alive_with_belts + alive_no_belts)\n",
    "print(f\"Prawdopodobieństwo użycia pasów bezpieczeństwa po warunkiem przeżycia: {cond_prob_no_belts_alive:.3f}\")"
   ]
  },
  {
   "cell_type": "markdown",
   "id": "8f1f17fb",
   "metadata": {},
   "source": [
    "Rozpatrując sytuację odwrotnie, można oszacować, jak fakt przeżycia lub śmierci wpływa na prawdopodobieństwo użycia pasów bezpieczeństwa. Prawdopodobieństwo użycia pasów wśród osób, które przeżyły wynosi 0.888. Prawdopodobieństwo użycia pasów wśród osób, które zginęły: 0.393\n",
    "\n",
    "Zatem osoby, które przeżyły wypadek, znacznie częściej (ponad dwukrotnie częściej) miały zapięte pasy w porównaniu do tych, które poniosły śmierć."
   ]
  },
  {
   "cell_type": "markdown",
   "id": "afc7f11e",
   "metadata": {},
   "source": [
    "c) Zmienna objaśniana i miary efektu\n",
    "\n",
    "Najbardziej naturalnym wyborem dla zmiennej objaśnianej jest stan osoby po wypadku, a zmiennej objaśniającej – użycie pasów bezpieczeństwa. Taki wybór pomoże zbadać wpływ stosowania pasów na ryzyko śmierci.\n",
    "\n",
    "- różnica proporcji"
   ]
  },
  {
   "cell_type": "code",
   "execution_count": 78,
   "id": "e990ab28",
   "metadata": {},
   "outputs": [
    {
     "name": "stdout",
     "output_type": "stream",
     "text": [
      "Różnica proporcji prawdopodobieństwa śmierci: 0.0175\n"
     ]
    }
   ],
   "source": [
    "death_belts_prop_diff = cond_prob_death_no_belts - cond_prob_death_with_belts \n",
    "print(f\"Różnica proporcji prawdopodobieństwa śmierci: {death_belts_prop_diff:.4f}\")"
   ]
  },
  {
   "cell_type": "markdown",
   "id": "a370c09f",
   "metadata": {},
   "source": [
    "Oznacza to, że brak pasów zwiększa ryzyko śmierci o $1.75 \\%$."
   ]
  },
  {
   "cell_type": "markdown",
   "id": "dc73db46",
   "metadata": {},
   "source": [
    "- ryzyko względne (RR)"
   ]
  },
  {
   "cell_type": "code",
   "execution_count": 79,
   "id": "632b1686",
   "metadata": {},
   "outputs": [
    {
     "name": "stdout",
     "output_type": "stream",
     "text": [
      "Ryzyko względne (RR) śmierci: 12.03\n"
     ]
    }
   ],
   "source": [
    "death_belts_RR = cond_prob_death_no_belts / cond_prob_death_with_belts\n",
    "print(f\"Ryzyko względne (RR) śmierci: {death_belts_RR:.2f}\")"
   ]
  },
  {
   "cell_type": "markdown",
   "id": "3413bd2f",
   "metadata": {},
   "source": [
    "Osoby bez pasów są około 12 razy bardziej narażone na śmierć niż osoby z zapiętymi pasami."
   ]
  },
  {
   "cell_type": "markdown",
   "id": "1d15435b",
   "metadata": {},
   "source": [
    "- iloraz szans (OR)"
   ]
  },
  {
   "cell_type": "code",
   "execution_count": 80,
   "id": "87bb2f7b",
   "metadata": {},
   "outputs": [
    {
     "name": "stdout",
     "output_type": "stream",
     "text": [
      "Iloraz szans (OR) śmierci: 12.24\n"
     ]
    }
   ],
   "source": [
    "death_belts_OR = (cond_prob_death_no_belts / (1 - cond_prob_death_no_belts)) / (cond_prob_death_with_belts / (1 - cond_prob_death_with_belts))\n",
    "print(f\"Iloraz szans (OR) śmierci: {death_belts_OR:.2f}\")"
   ]
  },
  {
   "cell_type": "markdown",
   "id": "401f18ac",
   "metadata": {},
   "source": [
    "Zarówno RR, jak i OR mają zbliżone wartości (ok. 12), co jest typowe dla rzadkich zdarzeń (takich jak śmierć w wypadku), ponieważ w takich przypadkach szanse i prawdopodobieństwa przyjmują podobne wartości, a różnice między nimi są minimalne."
   ]
  },
  {
   "cell_type": "markdown",
   "id": "0670efa7",
   "metadata": {},
   "source": [
    "### ZADANIE 13\n",
    "    Oblicz wartości odpowiednich miar współzmienności (współczynnik tau lub współczynnik gamma) dla zmiennych:\n",
    "        • stopień zadowolenia ze szkoleń w kontekście dopasowania do indywidualnych potrzeb w pierwszym badanym okresie i zajmowane stanowisko,\n",
    "        • stopień zadowolenia ze szkoleń w kontekście dopasowania do indywidualnych potrzeb w pierwszym badanym okresie i staż pracy,\n",
    "        • zajmowane stanowisko i staż pracy."
   ]
  },
  {
   "cell_type": "markdown",
   "id": "d8a419b2",
   "metadata": {},
   "source": [
    "Współczynnik Tau Kendalla jest miarą monotonicznej zależności pomiędzy dwiema zmiennymi porządkowymi. Określa siłę i kierunek zależności – wartości dodatnie wskazują na dodatnią korelację (gdy wzrost jednej zmiennej wiąże się ze wzrostem drugiej), natomiast wartości ujemne świadczą o zależności odwrotnej.\n",
    "\n",
    "Wartość tau Kendalla mieści się w przedziale od $–1$ do $1$:\n",
    "\n",
    "- $\\tau = 1$ silna dodatnia zależność,\n",
    "\n",
    "- $\\tau = –1$ silna ujemna zależność,\n",
    "\n",
    "- $\\tau \\approx 0$ brak istotnej zależności\n",
    "\n",
    "Test istotności statystycznej dla współczynnika Tau Kendalla opiera się na hipotezie:\n",
    "\n",
    "$H_0$: Między analizowanymi zmiennymi nie występuje zależność.\n",
    "\n",
    "$H_1$: Między zmiennymi występuje istotna statystycznie zależność.\n",
    "\n",
    "W niniejszej analizie przyjęto poziom istotności $\\alpha=0.05$."
   ]
  },
  {
   "cell_type": "markdown",
   "id": "23eb58f7",
   "metadata": {},
   "source": [
    "- stopień zadowolenia ze szkoleń w kontekście dopasowania do indywidualnych potrzeb w pierwszym badanym okresie i zajmowane stanowisko"
   ]
  },
  {
   "cell_type": "code",
   "execution_count": 96,
   "id": "d8a3c18a",
   "metadata": {},
   "outputs": [
    {
     "name": "stdout",
     "output_type": "stream",
     "text": [
      "statystyka: -0.013\n",
      "p-wartość: 0.849\n"
     ]
    }
   ],
   "source": [
    "P2CzK_kendalltau = kendalltau(data['PYT_2'], data['CZY_KIER'])\n",
    "\n",
    "print(f'statystyka: {P2CzK_kendalltau.statistic:.3f}')\n",
    "print(f'p-wartość: {P2CzK_kendalltau.pvalue:.3f}')"
   ]
  },
  {
   "cell_type": "markdown",
   "id": "b95ffdc0",
   "metadata": {},
   "source": [
    "Wartość współczynnika tau Kendalla wynosi około $-0.013$ przy p-wartości $=0.85 \\, (>\\alpha=0.05)$. Oznacza to, że nie ma istotnej statystycznie zależności ani kierunkowej korelacji między poziomem zadowolenia ze szkoleń a zajmowanym stanowiskiem (stopień zadowolenia ze szkoleń nie zmienia się istotnie wraz z pełnionym stanowiskiem)."
   ]
  },
  {
   "cell_type": "markdown",
   "id": "81586529",
   "metadata": {},
   "source": [
    "- stopień zadowolenia ze szkoleń w kontekście dopasowania do indywidualnych potrzeb w pierwszym badanym okresie i staż pracy"
   ]
  },
  {
   "cell_type": "code",
   "execution_count": 97,
   "id": "00507cfb",
   "metadata": {},
   "outputs": [
    {
     "name": "stdout",
     "output_type": "stream",
     "text": [
      "statystyka: 0.048\n",
      "p-wartość: 0.467\n"
     ]
    }
   ],
   "source": [
    "P2S_kendalltau = kendalltau(data['PYT_2'], data['STAŻ'])\n",
    "\n",
    "print(f'statystyka: {P2S_kendalltau.statistic:.3f}')\n",
    "print(f'p-wartość: {P2S_kendalltau.pvalue:.3f}')"
   ]
  },
  {
   "cell_type": "markdown",
   "id": "1f363db9",
   "metadata": {},
   "source": [
    "Wartość współczynnika tau Kendalla to około $0.048$ przy p-wartości $=0.47\\, (>\\alpha=0.05)$. Podobnie jak w poprzednim przypadku, nie istnieje istotna statystycznie korelacja i zależność między zadowoleniem ze szkoleń a stażem pracy. Innymi słowy, długość stażu pracy nie wpływa znacząco na ocenę dopasowania szkoleń do indywidualnych potrzeb."
   ]
  },
  {
   "cell_type": "markdown",
   "id": "f16c81c3",
   "metadata": {},
   "source": [
    "- zajmowane stanowisko i staż pracy"
   ]
  },
  {
   "cell_type": "code",
   "execution_count": 98,
   "id": "62ef88ca",
   "metadata": {},
   "outputs": [
    {
     "name": "stdout",
     "output_type": "stream",
     "text": [
      "statystyka: 0.282\n",
      "p-wartość: 0.000042\n"
     ]
    }
   ],
   "source": [
    "CzKS_kendalltau = kendalltau(data['CZY_KIER'], data['STAŻ'])\n",
    "\n",
    "print(f'statystyka: {CzKS_kendalltau.statistic:.3f}')\n",
    "print(f'p-wartość: {CzKS_kendalltau.pvalue:.6f}')"
   ]
  },
  {
   "cell_type": "markdown",
   "id": "b4935b4c",
   "metadata": {},
   "source": [
    "Współczynnik tau Kendalla wynosi około $0.28$ natomiast p-wartość $=4.2 \\cdot 10^{-5} \\,(<\\alpha=0.05)$, co wskazuje na istotną statystycznie dodatnią korelację.\n",
    "To wskazuje, że osoby na stanowiskach kierowniczych mają tendencję do posiadania dłuższego stażu pracy. Zależność ta jest zgodna z intuicją — im dłuższy staż, tym większe prawdopodobieństwo zajmowania stanowiska kierowniczego."
   ]
  },
  {
   "cell_type": "markdown",
   "id": "1c4b1f35",
   "metadata": {},
   "source": [
    "### ZADANIE 14\n",
    "    Na podstawie informacji przedstawionych na wykładzie napisz własną funkcję do przeprowadzania analizy korespondencji. Funkcja powinna przyjmować jako argument tablicę dwudzielczą i zwracać obliczone wartości odpowiednich wektorów i macierzy, współrzędnych punktów oraz odpowiedni wykres. Korzystając z napisanej funkcji wykonaj analizę korespondencji dla danych dotyczących stopnia zadowolenia ze szkoleń w kontekście dopasowania do indywidualnych potrzeb w pierwszym badanym okresie oraz stażu pracy."
   ]
  },
  {
   "cell_type": "markdown",
   "id": "5ca4220d",
   "metadata": {},
   "source": [
    "Analiza korespondencji to opisowo-eksploracyjna metoda statystyczna służąca do analizy danych przedstawionych w tabelach kontyngencji (np. dwuwymiarowych), której celem jest identyfikacja i wizualizacja zależności oraz podobieństw między kategoriami wierszy i kolumn."
   ]
  },
  {
   "cell_type": "code",
   "execution_count": 99,
   "id": "573f4f02",
   "metadata": {},
   "outputs": [],
   "source": [
    "def correspondence_analysis(crosstab):    \n",
    "    freq_tab = crosstab.values / np.sum(crosstab.values)\n",
    "    r = freq_tab.sum(axis=1)\n",
    "    c = freq_tab.sum(axis=0)\n",
    "\n",
    "    #macierz profili wierszowych i kolumnowych\n",
    "    row_profiles = freq_tab / r.reshape(-1, 1)\n",
    "    col_profiles = freq_tab / c.reshape(1, -1)\n",
    "\n",
    "    #macierze częstości wierszowych i kolumnowych\n",
    "    Dr, Dc = np.diag(r), np.diag(c)\n",
    "    \n",
    "    #macierz residuów standaryzowanych A (dekompozycja SVD)\n",
    "    rc = r.reshape(-1, 1) @ c.reshape(1, -1)\n",
    "    A = np.sqrt(linalg.inv(Dr)) @ (freq_tab - rc) @ np.sqrt(linalg.inv(Dc))\n",
    "    U, singular_values, VT = linalg.svd(A, full_matrices=False)\n",
    "\n",
    "    #macierze współrzędnych kategorii cech\n",
    "    F = np.sqrt(linalg.inv(Dr)) @ U @ np.diag(singular_values)  #wiersz\n",
    "    G = np.sqrt(linalg.inv(Dc)) @ VT.T @ np.diag(singular_values)   #kolumna\n",
    "\n",
    "\n",
    "    plt.figure(figsize=(6, 4))\n",
    "    plt.axhline(0, color='gray', linestyle='--', linewidth=0.5)\n",
    "    plt.axvline(0, color='gray', linestyle='--', linewidth=0.5)\n",
    "\n",
    "    # Wiersze\n",
    "    plt.scatter(F[:, 0], F[:, 1], c='blue', label='Wiersze')\n",
    "    for i, label in enumerate(crosstab.index):\n",
    "        plt.text(F[i, 0] - 0.06, F[i, 1], label, color='blue', ha='right', va='top')\n",
    "\n",
    "    # Kolumny\n",
    "    plt.scatter(G[:, 0], G[:, 1], c='red', marker='^', label='Kolumny')\n",
    "    for j, label in enumerate(crosstab.columns):\n",
    "        plt.text(G[j, 0], G[j, 1] + 1.8e-18, label, color='red', ha='left', va='bottom')\n",
    "\n",
    "    plt.xlabel(\"Wymiar 1\")\n",
    "    plt.ylabel(\"Wymiar 2\")\n",
    "    plt.title(\"Analiza korespondencji\")\n",
    "    plt.legend()\n",
    "\n",
    "    plt.show()\n",
    "\n",
    "    results = {\n",
    "        \"Macierz korespondencji\": pd.DataFrame(freq_tab, index=crosstab.index, columns=crosstab.columns),\n",
    "        \"Wektor częstości brzegowych (wiersze)\": pd.Series(r, index=crosstab.index),\n",
    "        \"Wektor częstości brzegowych (kolumny)\": pd.Series(c, index=crosstab.columns),\n",
    "        \"Macierz profili wierszowych\": pd.DataFrame(row_profiles, index=crosstab.index, columns=crosstab.columns),\n",
    "        \"Macierz profili kolumnowych\": pd.DataFrame(col_profiles, index=crosstab.index, columns=crosstab.columns),\n",
    "        \"Macierz współrzędnych (wiersze)\": pd.DataFrame(F, index=crosstab.index, columns=[\"Wymiar 1\", \"Wymiar 2\"]),\n",
    "        \"Macierz współrzędnych (kolumny)\": pd.DataFrame(G, index=crosstab.columns, columns=[\"Wymiar 1\", \"Wymiar 2\"])\n",
    "    }\n",
    "\n",
    "    return results"
   ]
  },
  {
   "cell_type": "code",
   "execution_count": 100,
   "id": "261bcfc7",
   "metadata": {},
   "outputs": [
    {
     "data": {
      "image/png": "[encoded data removed]",
      "text/plain": [
       "<Figure size 600x400 with 1 Axes>"
      ]
     },
     "metadata": {},
     "output_type": "display_data"
    },
    {
     "name": "stdout",
     "output_type": "stream",
     "text": [
      "\n",
      "--- Macierz korespondencji ---\n",
      "\n",
      "CZY_KIER    Nie    Tak\n",
      "PYT_2                 \n",
      "-2        0.320  0.050\n",
      "-1        0.090  0.010\n",
      " 1        0.000  0.010\n",
      " 2        0.455  0.065\n",
      "\n",
      "--- Wektor częstości brzegowych (wiersze) ---\n",
      "\n",
      "PYT_2\n",
      "-2    0.37\n",
      "-1    0.10\n",
      " 1    0.01\n",
      " 2    0.52\n",
      "dtype: float64\n",
      "\n",
      "--- Wektor częstości brzegowych (kolumny) ---\n",
      "\n",
      "CZY_KIER\n",
      "Nie    0.865\n",
      "Tak    0.135\n",
      "dtype: float64\n",
      "\n",
      "--- Macierz profili wierszowych ---\n",
      "\n",
      "CZY_KIER     Nie     Tak\n",
      "PYT_2                   \n",
      "-2        0.8649  0.1351\n",
      "-1        0.9000  0.1000\n",
      " 1        0.0000  1.0000\n",
      " 2        0.8750  0.1250\n",
      "\n",
      "--- Macierz profili kolumnowych ---\n",
      "\n",
      "CZY_KIER     Nie     Tak\n",
      "PYT_2                   \n",
      "-2        0.3699  0.3704\n",
      "-1        0.1040  0.0741\n",
      " 1        0.0000  0.0741\n",
      " 2        0.5260  0.4815\n",
      "\n",
      "--- Macierz współrzędnych (wiersze) ---\n",
      "\n",
      "       Wymiar 1  Wymiar 2\n",
      "PYT_2                    \n",
      "-2      -0.0004       0.0\n",
      "-1       0.1024      -0.0\n",
      " 1      -2.5313       0.0\n",
      " 2       0.0293       0.0\n",
      "\n",
      "--- Macierz współrzędnych (kolumny) ---\n",
      "\n",
      "          Wymiar 1  Wymiar 2\n",
      "CZY_KIER                    \n",
      "Nie         0.1012      -0.0\n",
      "Tak        -0.6482      -0.0\n"
     ]
    }
   ],
   "source": [
    "results = correspondence_analysis(crosstab_P2CzK)\n",
    "\n",
    "for key, value in results.items():\n",
    "    print(f\"\\n--- {key} ---\\n\")\n",
    "    print(value.round(4))"
   ]
  },
  {
   "cell_type": "markdown",
   "id": "39624bd4",
   "metadata": {},
   "source": [
    "Na podstawie analizy korespondencji dla zmiennych PYT_2 (\"Ocena dostosowania szkoleń do indywidualnych potrzeb pracownika\") oraz CZY_KIER (\"Czy pracownik pełni funkcję kierowniczą?\") można sformułować następujące wnioski:\n",
    "\n",
    "$\\textbf{a)}$ Macierz korespondecji\n",
    "\n",
    "Najwięcej odpowiedzi udzielono w kategorii PYT_2 = 2 i CZY_KIER = Nie (45.5%), co sugeruje, że osoby niepełniące funkcji kierowniczych zdecydowanie częściej zgadzały się z pozytywną oceną szkoleń.\n",
    "\n",
    "$\\textbf{b)}$ Wektor częstości brzegowych (wiersze)\n",
    "\n",
    "Rozkład odpowiedzi na pytanie PYT_2 pokazuje, że:\n",
    "\n",
    "- Najwięcej osób (52%) wskazało odpowiedź 2 („Zdecydowanie się zgadzam”),\n",
    "\n",
    "- Kolejne 37% – odpowiedź -2 („Zdecydowanie się nie zgadzam”),\n",
    "\n",
    "- Tylko 1% respondentów wybrało 1 („Zgadzam się”).\n",
    "\n",
    "$\\textbf{c)}$ Wektor częstości brzegowych (kolumny):\n",
    "\n",
    "86.5% badanych nie pełni funkcji kierowniczej, a tylko 13.5% pracuje na stanowisku kierowniczym. Dane te wskazują na znacznie mniejszy udział kadry kierowniczej w badaniu.\n",
    "\n",
    "$\\textbf{d)}$ Macierz profili wierszowych\n",
    "\n",
    "Można wywnioskować między innymi, że wśród osób które wybrały odpowiedź -2 („Zdecydowanie się nie zgadzam”) jest ponad 6 razy więcej osób na stanowiskach niekierowniczych. A odpowiedź 1 („Zgadzam się\") wybrały tylko osoby na stanowisku kierownika. Należy oczywiście pamiętać, że w badaniu wziął udział bardzo mały odsetek kierowników w porównaniu ze zwykłymi pracownikami.\n",
    "\n",
    "$\\textbf{e)}$ Macierz profili kolumnowych\n",
    "\n",
    "Można zauważyć, że osoby nie zajmujące stanowiska kierowniczego ponad pięciokrotnie częściej wybierały odpowiedź „Zdecydowanie się zgadzam” (52.6%) niż „Nie zgadzam się” (10.4%). Warto również zaznaczyć, że zarówno kierownicy, jak i pozostali pracownicy najczęściej wybierali odpowiedzi skrajne — „Zdecydowanie się nie zgadzam” lub „Zdecydowanie się zgadzam”. Odpowiedzi pośrednie były znacznie mniej popularne."
   ]
  },
  {
   "cell_type": "markdown",
   "id": "f7ea5f7d",
   "metadata": {},
   "source": [
    "-------------------------------------------------------"
   ]
  },
  {
   "cell_type": "markdown",
   "id": "1f87e29e",
   "metadata": {},
   "source": [
    "## ZADANIA DODATKOWE"
   ]
  },
  {
   "cell_type": "markdown",
   "id": "c06ef7bc",
   "metadata": {},
   "source": [
    "### ZADANIE *1\n",
    "    Napisz funkcję, która dla dwóch wektorów danych oblicza wartość poziomu krytycznego (p-value) w teście opartym na korelacji odległości. Następnie dla wygenerowanych danych zweryfikuj hipotezę o niezależności przy użyciu napisanej funkcji."
   ]
  },
  {
   "cell_type": "markdown",
   "id": "ae114348",
   "metadata": {},
   "source": [
    "**Korelacja odległości (distance correlation)** jest miarą zależności między zmiennymi losowymi, która – w odróżnieniu od klasycznego współczynnika korelacji Pearsona – wykrywa zarówno zależności liniowe, jak i nieliniowe. Wartość korelacji odległości wynosi zero wtedy i tylko wtedy, gdy zmienne są niezależne. Jest to zatem silne narzędzie statystyczne do testowania hipotezy niezależności.\n",
    "\n",
    "Aby zweryfikować hipotezę:\n",
    "\n",
    "- $ H_0 $: zmienne X i Y są niezależne,  \n",
    "- $ H_1 $: zmienne X i Y są zależne,\n",
    "\n",
    "stosowany jest **test permutacyjny**, który polega na porównaniu wartości obserwowanej statystyki korelacji odległości z rozkładem tej statystyki uzyskanym poprzez wielokrotne losowe permutowanie jednej ze zmiennych. Wartość p oblicza się jako stosunek liczby permutacji, dla których permutowana statystyka była większa lub równa statystyce obserwowanej, do liczby wszystkich permutacji.\n"
   ]
  },
  {
   "cell_type": "code",
   "execution_count": 101,
   "id": "9b86d017",
   "metadata": {},
   "outputs": [],
   "source": [
    "from scipy.spatial.distance import pdist, squareform\n",
    "\n",
    "def distance_matrix(X):\n",
    "    return squareform(pdist(X[:, None] if X.ndim == 1 else X, metric='euclidean'))\n",
    "\n",
    "def double_centered(A):\n",
    "    n = A.shape[0]\n",
    "    row_mean = A.mean(axis=1, keepdims=True)\n",
    "    col_mean = A.mean(axis=0, keepdims=True)\n",
    "    total_mean = A.mean()\n",
    "    return A - row_mean - col_mean + total_mean\n",
    "\n",
    "def distance_covariance(X, Y):\n",
    "    A = double_centered(distance_matrix(X))\n",
    "    B = double_centered(distance_matrix(Y))\n",
    "    return np.mean(A * B)\n",
    "\n",
    "def distance_correlation(X, Y):\n",
    "    dcov_xy = distance_covariance(X, Y)\n",
    "    dcov_xx = distance_covariance(X, X)\n",
    "    dcov_yy = distance_covariance(Y, Y)\n",
    "    if dcov_xx == 0 or dcov_yy == 0:\n",
    "        return 0\n",
    "    return np.sqrt(dcov_xy) / np.sqrt(np.sqrt(dcov_xx * dcov_yy))\n",
    "\n",
    "def distance_correlation_test(X, Y, num_permutations=1000, seed=None):\n",
    "    np.random.seed(seed)\n",
    "    observed = distance_correlation(X, Y)\n",
    "    count = 0\n",
    "    for _ in range(num_permutations):\n",
    "        permuted_Y = np.random.permutation(Y)\n",
    "        permuted_corr = distance_correlation(X, permuted_Y)\n",
    "        if permuted_corr >= observed:\n",
    "            count += 1\n",
    "    p_value = count / num_permutations\n",
    "    return observed, p_value"
   ]
  },
  {
   "cell_type": "code",
   "execution_count": 102,
   "id": "cbd0ff4a",
   "metadata": {},
   "outputs": [
    {
     "name": "stdout",
     "output_type": "stream",
     "text": [
      "Korelacja odległości: 0.40269666862692627\n",
      "P-value: 0.0\n"
     ]
    }
   ],
   "source": [
    "np.random.seed(0)\n",
    "n = 100\n",
    "X = np.random.normal(0, 1, n)\n",
    "Y = X**2 + np.random.normal(0, 1, n)  # nieliniowa zależność\n",
    "\n",
    "stat, p_val = distance_correlation_test(X, Y, num_permutations=1000)\n",
    "print(f\"Korelacja odległości: {stat}\")\n",
    "print(f\"P-value: {p_val}\")\n"
   ]
  },
  {
   "cell_type": "markdown",
   "id": "b1e223b3",
   "metadata": {},
   "source": [
    "### ZADANIE *2\n",
    "    Dla zadanych π1 oraz π2 pokaż, że wartość ryzyka względnego (RR) nie jest bardziej oddalona od wartości 1 (wartość odpowiadająca niezależności) niż wartość odpowiadającego ilorazu szans (OR)."
   ]
  },
  {
   "cell_type": "markdown",
   "id": "430745ff",
   "metadata": {},
   "source": [
    "### ZADANIE *3\n",
    "    Niech D oznacza posiadanie pewnej choroby, a E pozostawanie wystawionym na pewny czynnik ryzyka. W badaniach epidemiologicznych definuje się miarę AR nazywaną ryzykiem przypisanym (ang. attributable risk).\n",
    "        a) Niech P(E′) = 1−P(E), wówczas AR = [P(D)−P(D|E′)]/P(D). Wyjaśnij interpretację miary na podstawie wzoru.\n",
    "        b) Pokaż, że AR ma związek z ryzykiem względnym, tzn.:\n",
    "                AR=[P(E)(RR−1)]/[1+P(E)(RR−1)]"
   ]
  }
 ],
 "metadata": {
  "kernelspec": {
   "display_name": "Python 3",
   "language": "python",
   "name": "python3"
  },
  "language_info": {
   "codemirror_mode": {
    "name": "ipython",
    "version": 3
   },
   "file_extension": ".py",
   "mimetype": "text/x-python",
   "name": "python",
   "nbconvert_exporter": "python",
   "pygments_lexer": "ipython3",
   "version": "3.12.5"
  }
 },
 "nbformat": 4,
 "nbformat_minor": 5
}
