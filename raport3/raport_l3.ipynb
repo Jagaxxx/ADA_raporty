{
 "cells": [
  {
   "cell_type": "markdown",
   "id": "b580e9c1",
   "metadata": {},
   "source": [
    "$$\\Huge \\text{RAPORT}$$\n",
    "$$\\huge \\text{LISTA 3}$$\n",
    "$$\\large \\text{Autorzy: Katarzyna Rudzińska, Jagoda Płócienniczak}$$"
   ]
  },
  {
   "cell_type": "code",
   "execution_count": 211,
   "id": "ef5ee8e0",
   "metadata": {},
   "outputs": [],
   "source": [
    "import numpy as np\n",
    "import pandas as pd\n",
    "import matplotlib.pyplot as plt\n",
    "from tqdm import tqdm\n",
    "from statsmodels.formula.api import glm\n",
    "import statsmodels.api as sm\n",
    "from scipy.stats import binomtest, chi2, norm, combine_pvalues\n",
    "from statsmodels.stats.proportion import proportions_ztest\n",
    "import warnings\n",
    "warnings.filterwarnings(\"ignore\")"
   ]
  },
  {
   "cell_type": "markdown",
   "id": "70b79e93",
   "metadata": {},
   "source": [
    "Analiza składa się z pięciu głównych części, z których niektóre odwołują się do wcześniej wprowadzonych pojęć i zmiennych z poprzedniego raportu. Aby zachować spójność oraz umożliwić pełne zrozumienie, ich implementacja została powtórzona również w tym opracowaniu. W ten sposób raport pozostaje spójny i czytelny."
   ]
  },
  {
   "cell_type": "code",
   "execution_count": 195,
   "id": "60add263",
   "metadata": {},
   "outputs": [],
   "source": [
    "data = pd.read_csv('ankieta.csv', encoding='Windows-1250', sep=';')\n",
    "data['DZIAŁ'] = data['DZIAŁ'].astype(\"category\")\n",
    "data['CZY_KIER'] = data['CZY_KIER'].astype(\"category\")\n",
    "data['PŁEĆ'] = data['PŁEĆ'].astype(\"category\")"
   ]
  },
  {
   "cell_type": "code",
   "execution_count": 197,
   "id": "d8f4b912",
   "metadata": {},
   "outputs": [],
   "source": [
    "def is_satisfied(satisfaction_lvl):\n",
    "    if satisfaction_lvl == -2 or satisfaction_lvl == -1:\n",
    "        return 'NIE'\n",
    "    else:\n",
    "        return 'TAK'\n",
    "\n",
    "data[\"CZY_ZADOW\"] = data[\"PYT_2\"].apply(is_satisfied)\n",
    "data[\"CZY_ZADOW\"] = data[\"CZY_ZADOW\"].astype(\"category\")"
   ]
  },
  {
   "cell_type": "code",
   "execution_count": 198,
   "id": "3d4d5dea",
   "metadata": {},
   "outputs": [],
   "source": [
    "data[\"CZY_ZADOW_2\"] = data[\"PYT_3\"].apply(is_satisfied)\n",
    "data[\"CZY_ZADOW_2\"] = data[\"CZY_ZADOW_2\"].astype(\"category\")\n",
    "\n",
    "czy_zadow = data[\"CZY_ZADOW\"].apply(lambda x: 1 if x == \"TAK\" else 0).astype(int)\n",
    "czy_zadow_2 = data[\"CZY_ZADOW_2\"].apply(lambda x: 1 if x == \"TAK\" else 0).astype(int)"
   ]
  },
  {
   "cell_type": "markdown",
   "id": "11f39de5",
   "metadata": {},
   "source": [
    "## CZĘŚĆ I i II"
   ]
  },
  {
   "cell_type": "markdown",
   "id": "bf89fb82",
   "metadata": {},
   "source": [
    "### ZADANIE 1\n",
    "    Napisz funkcję, która zwraca p-wartość w omówionym na wykładzie warunkowym teście symetrii w przypadku tabeli 2×2."
   ]
  },
  {
   "cell_type": "code",
   "execution_count": 154,
   "id": "97230c73",
   "metadata": {},
   "outputs": [],
   "source": [
    "def warunkowy_test_symetrii(b, c):\n",
    "    \"\"\"\n",
    "    Warunkowy test symetrii dla tabeli 2x2 oparty na rozkładzie dwumianowym B(n*, 1/2)\n",
    "\n",
    "    Parametry:\n",
    "    b -- liczba przypadków A=1, B=2 (Y_12)\n",
    "    c -- liczba przypadków A=2, B=1 (Y_21)\n",
    "\n",
    "    Zwraca:\n",
    "    p-wartość testu\n",
    "    \"\"\"\n",
    "    n_star = b + c\n",
    "    if n_star == 0:\n",
    "        return 1.0  # Brak danych do testu, przypadki symetryczne\n",
    "    wynik = binomtest(b, n=n_star, p=0.5, alternative='two-sided')\n",
    "    return wynik.pvalue\n"
   ]
  },
  {
   "cell_type": "markdown",
   "id": "39361d01",
   "metadata": {},
   "source": [
    "Funkcja `warunkowy_test_symetrii(b, c)` implementuje dokładny test warunkowy służący do sprawdzania **symetrii** w tabeli 2×2, czyli testowania hipotezy:\n",
    "\n",
    "$\n",
    "H_0 : p_{12} = p_{21}\n",
    "$\n",
    "\n",
    "Dla tabeli:\n",
    "\n",
    "|       | B=1       | B=2       |\n",
    "|-------|-----------|-----------|\n",
    "| A=1   | $ Y_{11} $ | $ Y_{12} $ |\n",
    "| A=2   | $ Y_{21} $ | $ Y_{22} $ |\n",
    "\n",
    "test koncentruje się na wartościach poza przekątną:  \n",
    "$ Y_{12} = b $, $ Y_{21} = c $\n",
    "\n",
    "Zakładając hipotezę zerową $ H_0 $, statystyka $ Y_{12} $ warunkowana sumą $ Y_{12} + Y_{21} = n^* $ ma rozkład:\n",
    "\n",
    "$\n",
    "Y_{12} \\mid (Y_{12} + Y_{21} = n^*) \\sim \\text{B}(n^*, 0.5)\n",
    "$\n",
    "\n",
    "gdzie:\n",
    "- $ n^* = b + c $ — łączna liczba przypadków niesymetrycznych,\n",
    "- $ \\text{B}(n^*, 0.5) $ — rozkład dwumianowy z parametrem sukcesu \\( p = 0.5 \\)\n",
    "\n",
    "Funkcja zwraca dokładną **p-wartość** testu dwustronnego na podstawie tego rozkładu. Jest to test **dokładny**, zalecany przy małych licznościach.\n"
   ]
  },
  {
   "cell_type": "code",
   "execution_count": 155,
   "id": "2b56b67b",
   "metadata": {},
   "outputs": [
    {
     "name": "stdout",
     "output_type": "stream",
     "text": [
      "P-wartość: 0.34375\n"
     ]
    }
   ],
   "source": [
    "p = warunkowy_test_symetrii(b=3, c=7)\n",
    "print(\"P-wartość:\", p)"
   ]
  },
  {
   "cell_type": "markdown",
   "id": "4b5e050e",
   "metadata": {},
   "source": [
    "### ZADANIE 2\n",
    "    W tabeli 1 umieszczono dane dotyczące reakcji na lek po godzinie od jego przyjęcia dla dwóch różnych leków przeciwbólowych stosowanych w migrenie. Leki zostały zaaplikowane grupie pacjentów w dwóch różnych atakach bólowych. Na podstawie danych zweryfikuj hipotezę, że leki te są jednakowo skuteczne korzystając z testu:\n",
    "\n",
    "        a) McNemara z poprawką na ciągłość,\n",
    "        b) warunkowego (korzystając z funkcji zadeklarowanej w zadaniu 1.) \n",
    "\n",
    "<div align=\"center\">\n",
    "\n",
    "<table>\n",
    "  <thead>\n",
    "    <tr>\n",
    "      <th rowspan=\"2\">Reakcja na lek A</th>\n",
    "      <th colspan=\"2\">Reakcja na lek B</th>\n",
    "    </tr>\n",
    "    <tr>\n",
    "      <th>Negatywna</th>\n",
    "      <th>Pozytywna</th>\n",
    "    </tr>\n",
    "  </thead>\n",
    "  <tbody>\n",
    "    <tr>\n",
    "      <td><strong>Negatywna</strong></td>\n",
    "      <td>1</td>\n",
    "      <td>5</td>\n",
    "    </tr>\n",
    "    <tr>\n",
    "      <td><strong>Pozytywna</strong></td>\n",
    "      <td>2</td>\n",
    "      <td>4</td>\n",
    "    </tr>\n",
    "  </tbody>\n",
    "</table>\n",
    "\n",
    "<br>\n",
    "Table 1: Dane do zadania 2.\n"
   ]
  },
  {
   "cell_type": "markdown",
   "id": "4ee623c6",
   "metadata": {},
   "source": [
    "Na podstawie danych zawartych w **Tabeli 1**, testujemy hipotezę:\n",
    "\n",
    "$\n",
    "H_0: \\text{Skuteczność leku A i leku B jest taka sama}\n",
    "$\n",
    "\n",
    "Dane przedstawiają sparowaną tablicę 2×2:\n",
    "\n",
    "|                        | Lek B: Negatywna | Lek B: Pozytywna |\n",
    "|------------------------|------------------|------------------|\n",
    "| **Lek A: Negatywna**   | $ a = 1 $       | $ b = 5 $      |\n",
    "| **Lek A: Pozytywna**   | $ c = 2 $       | $ d = 4 $       |\n",
    "\n",
    "Zatem mamy:\n",
    "- $ b = 5 $: A negatywna, B pozytywna  \n",
    "- $ c = 2 $: A pozytywna, B negatywna"
   ]
  },
  {
   "cell_type": "markdown",
   "id": "13847afa",
   "metadata": {},
   "source": [
    "#### a) Test McNemara z poprawką na ciągłość\n",
    "\n",
    "Test McNemara dla tabeli 2×2 z poprawką na ciągłość obliczany jest ze wzoru:\n",
    "\n",
    "$\n",
    "\\chi^2 = \\dfrac{(|b - c| - 1)^2}{b + c}\n",
    "$\n",
    "\n",
    "Wartość statystyki testowej porównujemy z rozkładem chi-kwadrat z 1 stopniem swobody."
   ]
  },
  {
   "cell_type": "code",
   "execution_count": 156,
   "id": "82b8f7ce",
   "metadata": {},
   "outputs": [
    {
     "name": "stdout",
     "output_type": "stream",
     "text": [
      "Test McNemara:\n",
      "Statystyka chi^2: 0.5714285714285714\n",
      "P-wartość: 0.4496917979688908\n"
     ]
    }
   ],
   "source": [
    "b = 5\n",
    "c = 2\n",
    "\n",
    "chi2_stat = ((abs(b - c) - 1) ** 2) / (b + c)\n",
    "p_mcnemar = 1 - chi2.cdf(chi2_stat, df=1)\n",
    "\n",
    "print(\"Test McNemara:\")\n",
    "print(\"Statystyka chi^2:\", chi2_stat)\n",
    "print(\"P-wartość:\", p_mcnemar)"
   ]
  },
  {
   "cell_type": "markdown",
   "id": "f667dac1",
   "metadata": {},
   "source": [
    "#### b) Warunkowy test symetrii "
   ]
  },
  {
   "cell_type": "code",
   "execution_count": 157,
   "id": "3d3691bc",
   "metadata": {},
   "outputs": [
    {
     "name": "stdout",
     "output_type": "stream",
     "text": [
      "Warunkowy test symetrii:\n",
      "P-wartość: 0.453125\n"
     ]
    }
   ],
   "source": [
    "p_warunkowy = warunkowy_test_symetrii(b=5, c=2)\n",
    "\n",
    "print(\"Warunkowy test symetrii:\")\n",
    "print(\"P-wartość:\", p_warunkowy)"
   ]
  },
  {
   "cell_type": "markdown",
   "id": "fbea237c",
   "metadata": {},
   "source": [
    "W przypadku obu testów p-wartość jest **większa niż 0.05**, co oznacza, że **nie ma podstaw do odrzucenia hipotezy zerowej**. Nie zaobserwowano statystycznie istotnych różnic między skutecznością leków A i B. Oznacza to, że na podstawie dostępnych danych **nie możemy stwierdzić, że jeden lek działa lepiej od drugiego**."
   ]
  },
  {
   "cell_type": "markdown",
   "id": "383dffa9",
   "metadata": {},
   "source": [
    "### ZADANIE 3\n",
    "    Przeprowadź symulacje w celu porównania mocy testu Z i testu Z0 przedstawionych na wykładzie. Rozważ różne długości prób."
   ]
  },
  {
   "cell_type": "markdown",
   "id": "d698e7df",
   "metadata": {},
   "source": [
    "Celem symulacji jest porównanie **mocy** dwóch testów statystycznych służących do porównania dwóch proporcji.\n",
    "\n",
    "Statystyka testowa\n",
    "\n",
    "Dla obu testów analizujemy różnicę pomiędzy proporcjami:\n",
    "$\n",
    "D = \\hat{p}_{1+} - \\hat{p}_{+1} = \\dfrac{Y_{12}}{n} - \\dfrac{Y_{21}}{n}\n",
    "$"
   ]
  },
  {
   "cell_type": "markdown",
   "id": "0f6010dc",
   "metadata": {},
   "source": [
    "#### Test $Z$:\n",
    "\n",
    "Statystyka testowa:\n",
    "$\n",
    "Z = \\dfrac{D}{\\sqrt{\\hat{\\sigma}^2(D)}}\n",
    "$\n",
    "\n",
    "gdzie:\n",
    "$\n",
    "\\hat{\\sigma}^2(D) = \\dfrac{\\hat{p}_{1+}(1 - \\hat{p}_{1+}) +\\hat{p}_{+1}(1 - \\hat{p}_{+1}) -2\\hat{p}_{12} \\hat{p}_{21}}{n}\n",
    "$"
   ]
  },
  {
   "cell_type": "code",
   "execution_count": 158,
   "id": "15b862b2",
   "metadata": {},
   "outputs": [],
   "source": [
    "def test_Z(y12, y21, n):\n",
    "    p1_plus = y12 / n\n",
    "    p_plus1 = y21 / n\n",
    "    p12 = y12 / n\n",
    "    p21 = y21 / n\n",
    "\n",
    "    D = p1_plus - p_plus1\n",
    "\n",
    "    var = (p1_plus * (1 - p1_plus) +\n",
    "           p_plus1 * (1 - p_plus1) -\n",
    "           2 * p12 * p21) / n\n",
    "\n",
    "    if var <= 0:\n",
    "        return 1.0\n",
    "\n",
    "    Z = D / np.sqrt(var)\n",
    "    p_value = 2 * (1 - norm.cdf(abs(Z)))\n",
    "    return p_value"
   ]
  },
  {
   "cell_type": "markdown",
   "id": "17e614c8",
   "metadata": {},
   "source": [
    "#### Test $Z_0$:\n",
    "\n",
    "Statystyka testowa:\n",
    "$\n",
    "Z_0 = \\dfrac{D}{\\sqrt{\\sigma_0^2}}, \\quad \\text{gdzie} \\quad\n",
    "\\sigma_0^2 = \\dfrac{Y_{12} + Y_{21}}{n^2}\n",
    "$"
   ]
  },
  {
   "cell_type": "code",
   "execution_count": 159,
   "id": "a8359f9b",
   "metadata": {},
   "outputs": [],
   "source": [
    "def test_Z0(y12, y21, n):\n",
    "    p1_plus = y12 / n\n",
    "    p_plus1 = y21 / n\n",
    "    D = p1_plus - p_plus1\n",
    "\n",
    "    var0 = (y12 + y21) / (n ** 2)\n",
    "    if var0 <= 0:\n",
    "        return 1.0\n",
    "\n",
    "    Z0 = D / np.sqrt(var0)\n",
    "    p_value = 2 * (1 - norm.cdf(abs(Z0)))\n",
    "    return p_value"
   ]
  },
  {
   "cell_type": "markdown",
   "id": "66bb0486",
   "metadata": {},
   "source": [
    "W przeprowadzonej symulacji porównano moc testów $Z$ i $Z_0$ dla różnych wielkości prób (n = 10, 20, 50, 100, 200) oraz różnic pomiędzy prawdopodobieństwami przejść niesymetrycznych $p_{12}$ i $p_{21}$, określonych jako $\\Delta = p_{12} - p_{21} = 0.0, 0.1, 0.2, 0.3$. "
   ]
  },
  {
   "cell_type": "code",
   "execution_count": 160,
   "id": "a54ef55c",
   "metadata": {},
   "outputs": [
    {
     "name": "stderr",
     "output_type": "stream",
     "text": [
      "Delta = 0.0:   0%|          | 0/5 [00:00<?, ?it/s]"
     ]
    },
    {
     "name": "stderr",
     "output_type": "stream",
     "text": [
      "Delta = 0.0: 100%|██████████| 5/5 [00:09<00:00,  1.81s/it]\n",
      "Delta = 0.1: 100%|██████████| 5/5 [00:09<00:00,  1.87s/it]\n",
      "Delta = 0.2: 100%|██████████| 5/5 [00:08<00:00,  1.79s/it]\n",
      "Delta = 0.3: 100%|██████████| 5/5 [00:08<00:00,  1.77s/it]\n"
     ]
    },
    {
     "data": {
      "image/png": "[encoded data removed]",
      "text/plain": [
       "<Figure size 1000x600 with 1 Axes>"
      ]
     },
     "metadata": {},
     "output_type": "display_data"
    }
   ],
   "source": [
    "n_values = [10, 20, 50, 100, 200]\n",
    "delta_values = [0.0, 0.1, 0.2, 0.3]\n",
    "alpha = 0.05\n",
    "n_sim = 5000\n",
    "\n",
    "results_Z = {}\n",
    "results_Z0 = {}\n",
    "\n",
    "for delta in delta_values:\n",
    "    power_Z = []\n",
    "    power_Z0 = []\n",
    "    for n in tqdm(n_values, desc=f\"Delta = {delta}\"):\n",
    "        p12 = 0.25 + delta / 2\n",
    "        p21 = 0.25 - delta / 2\n",
    "\n",
    "        reject_Z = 0\n",
    "        reject_Z0 = 0\n",
    "\n",
    "        for _ in range(n_sim):\n",
    "            y12 = np.random.binomial(n, p12)\n",
    "            y21 = np.random.binomial(n, p21)\n",
    "\n",
    "            if test_Z(y12, y21, n) < alpha:\n",
    "                reject_Z += 1\n",
    "            if test_Z0(y12, y21, n) < alpha:\n",
    "                reject_Z0 += 1\n",
    "\n",
    "        power_Z.append(reject_Z / n_sim)\n",
    "        power_Z0.append(reject_Z0 / n_sim)\n",
    "\n",
    "    results_Z[delta] = power_Z\n",
    "    results_Z0[delta] = power_Z0\n",
    "\n",
    "plt.figure(figsize=(10, 6))\n",
    "for delta in delta_values:\n",
    "    plt.plot(n_values, results_Z[delta], marker='o', label=f\"Test Z, Δ={delta}\")\n",
    "    plt.plot(n_values, results_Z0[delta], marker='s', linestyle='--', label=f\"Test $Z_0$, Δ={delta}\")\n",
    "\n",
    "plt.axhline(alpha, color='gray', linestyle=':', label=\"Poziom istotności α\")\n",
    "plt.title(\"Porównanie mocy testów Z i $Z_0$\")\n",
    "plt.xlabel(\"Rozmiar próby n\")\n",
    "plt.ylabel(\"Moc testu\")\n",
    "plt.legend()\n",
    "plt.grid(True)\n",
    "plt.tight_layout()\n",
    "plt.show()"
   ]
  },
  {
   "cell_type": "markdown",
   "id": "6b8b7406",
   "metadata": {},
   "source": [
    "Test $Z$ okazuje się bardziej efektywny niż $Z_0 $, szczególnie przy mniejszych próbach i słabszych efektach (niewielkie $\\Delta$). Rekomenduje się jego stosowanie tam, gdzie ważna jest maksymalizacja mocy testu i dokładność, a nie tylko uproszczenie obliczeń.\n"
   ]
  },
  {
   "cell_type": "markdown",
   "id": "35face7d",
   "metadata": {},
   "source": [
    "### ZADANIE 4\n",
    "    Dla danych dołączonych do pierwszej listy zadań, na podstawie zmiennych CZY_ZADW oraz CZY_ZADW_2, zweryfikuj hipotezę, że zadowolenie ze szkoleń w pierwszym badanym okresie i w drugim badanym okresie pierwszego badania odpowiada modelowi symetrii. Czy na podstawie uzyskanych wników możemy wnioskować, że poziom zadowolenia ze szkoleń nie uległ zmianie? Przyjmij poziom istotności 0.05."
   ]
  },
  {
   "cell_type": "code",
   "execution_count": 161,
   "id": "e5f195c1",
   "metadata": {},
   "outputs": [
    {
     "name": "stdout",
     "output_type": "stream",
     "text": [
      "Test McNemara:\n",
      "P-wartość: 0.03763531378731433\n"
     ]
    }
   ],
   "source": [
    "table = pd.crosstab(data[\"CZY_ZADOW\"], data[\"CZY_ZADOW_2\"])\n",
    "\n",
    "b = table.loc['TAK', 'NIE'] if ('TAK' in table.index and 'NIE' in table.columns) else 0\n",
    "c = table.loc['NIE', 'TAK'] if ('NIE' in table.index and 'TAK' in table.columns) else 0\n",
    "\n",
    "chi2_stat = ((abs(b - c) - 1) ** 2) / (b + c)\n",
    "p_mcnemar = 1 - chi2.cdf(chi2_stat, df=1)\n",
    "\n",
    "print(\"Test McNemara:\")\n",
    "print(\"P-wartość:\", p_mcnemar)"
   ]
  },
  {
   "cell_type": "markdown",
   "id": "1dc25add",
   "metadata": {},
   "source": [
    "Na podstawie przeprowadzonego testu McNemara uzyskano wartość $ p = 0.0376 $, która jest mniejsza niż przyjęty poziom istotności $\\alpha = 0.05$. Oznacza to, że istnieją statystycznie istotne różnice między poziomem zadowolenia ze szkoleń w pierwszym i drugim badanym okresie. Odrzucamy hipotezę symetrii – poziom zadowolenia ze szkoleń uległ zmianie między badanymi okresami."
   ]
  },
  {
   "cell_type": "markdown",
   "id": "9199ab98",
   "metadata": {},
   "source": [
    "### ZADANIE 5\n",
    "    W firmie, o której mowa w zadaniu 1 z listy 1, wdrożono pewne działania w celu poprawy komfortu pracy. Następnie badaną grupę respondentów ponownie poproszono o odpowiedź na pytanie dotyczące oceny podejścia firmy do umożliwiania wdrażania wiedzy zdobytej na szkoleniach. W Tabeli 2 przedstawiono tablicę dwudzielczą uwzględniającą odpowiedzi na pytanie w obu tych okresach. Na podstawie danych zweryfikuj hipotezę, że odpowiedzi w pierwszym badanym okresie i w drugim okresie odpowiadają modelowi symetrii. Na podstawie wyników uzyskanych przy weryfikacji hipotezy dotyczącej symetrii, sformułuj wniosek dotyczący hipotezy, że ocena podejścia firmy nie uległa zmianie.\n",
    "\n",
    "<div align=\"center\">\n",
    "\n",
    "<table>\n",
    "  <thead>\n",
    "    <tr>\n",
    "      <th rowspan=\"2\">Pytanie 1</th>\n",
    "      <th colspan=\"5\">Pytanie 2</th>\n",
    "    </tr>\n",
    "    <tr>\n",
    "      <th>-2</th>\n",
    "      <th>-1</th>\n",
    "      <th>0</th>\n",
    "      <th>1</th>\n",
    "      <th>2</th>\n",
    "    </tr>\n",
    "  </thead>\n",
    "  <tbody>\n",
    "    <tr>\n",
    "      <td><strong>-2</strong></td>\n",
    "      <td>10</td>\n",
    "      <td>2</td>\n",
    "      <td>1</td>\n",
    "      <td>1</td>\n",
    "      <td>0</td>\n",
    "    </tr>\n",
    "    <tr>\n",
    "      <td><strong>-1</strong></td>\n",
    "      <td>0</td>\n",
    "      <td>15</td>\n",
    "      <td>1</td>\n",
    "      <td>1</td>\n",
    "      <td>0</td>\n",
    "    </tr>\n",
    "    <tr>\n",
    "      <td><strong>0</strong></td>\n",
    "      <td>1</td>\n",
    "      <td>1</td>\n",
    "      <td>32</td>\n",
    "      <td>6</td>\n",
    "      <td>0</td>\n",
    "    </tr>\n",
    "    <tr>\n",
    "      <td><strong>1</strong></td>\n",
    "      <td>0</td>\n",
    "      <td>0</td>\n",
    "      <td>1</td>\n",
    "      <td>96</td>\n",
    "      <td>3</td>\n",
    "    </tr>\n",
    "    <tr>\n",
    "      <td><strong>2</strong></td>\n",
    "      <td>1</td>\n",
    "      <td>1</td>\n",
    "      <td>0</td>\n",
    "      <td>1</td>\n",
    "      <td>26</td>\n",
    "    </tr>\n",
    "  </tbody>\n",
    "</table>\n",
    "\n",
    "<br>\n",
    "Table 1: Dane do zadania 5."
   ]
  },
  {
   "cell_type": "markdown",
   "id": "c461b112",
   "metadata": {},
   "source": [
    "Do oceny, czy rozkład odpowiedzi w dwóch różnych okresach badania jest symetryczny, wykorzystano **test ilorazu wiarygodności (G-test)**."
   ]
  },
  {
   "cell_type": "code",
   "execution_count": 162,
   "id": "d3bde881",
   "metadata": {},
   "outputs": [],
   "source": [
    "def likelihood_ratio_symmetry_test(matrix):\n",
    "    \"\"\"\n",
    "    Test ilorazu wiarygodności (G-test) dla macierzy symetryczności.\n",
    "\n",
    "    Parameters:\n",
    "    matrix (np.array): kwadratowa tablica 2D z danymi liczbowymi\n",
    "\n",
    "    Returns:\n",
    "    tuple: (statystyka G, stopnie swobody, p-wartość)\n",
    "    \"\"\"\n",
    "    g_stat = 0\n",
    "    n = matrix.shape[0]\n",
    "    for i in range(n):\n",
    "        for j in range(i + 1, n):\n",
    "            nij = matrix[i, j]\n",
    "            nji = matrix[j, i]\n",
    "            if nij + nji > 0:\n",
    "                m = (nij + nji) / 2\n",
    "                if nij > 0:\n",
    "                    g_stat += 2 * nij * np.log(nij / m)\n",
    "                if nji > 0:\n",
    "                    g_stat += 2 * nji * np.log(nji / m)\n",
    "    df = (n * (n - 1)) // 2\n",
    "    p_value = 1 - chi2.cdf(g_stat, df)\n",
    "    return g_stat, df, p_value"
   ]
  },
  {
   "cell_type": "markdown",
   "id": "4c7a824e",
   "metadata": {},
   "source": [
    "Statystyka testowa w teście ilorazu wiarygodności (nazywana też statystyką G) obliczana jest według wzoru:\n",
    "\n",
    "$\n",
    "G = 2 \\sum_{i<j} \\left[ n_{ij} \\cdot \\ln\\left(\\dfrac{n_{ij}}{m_{ij}}\\right) + n_{ji} \\cdot \\ln\\left(\\dfrac{n_{ji}}{m_{ji}}\\right) \\right]\n",
    "$\n",
    "\n",
    "Gdzie:\n",
    "- $ n_{ij} $ i $ n_{ji} $ — liczby odpowiedzi w komórkach niesymetrycznych (poniżej i powyżej przekątnej),\n",
    "- $ m_{ij} = m_{ji} = \\frac{n_{ij} + n_{ji}}{2} $ — liczby oczekiwane pod hipotezą symetrii.\n",
    "\n",
    "Test porównuje więc rozkład obserwowany z rozkładem teoretycznym, w którym zakłada się, że liczba odpowiedzi w parach symetrycznych powinna być taka sama."
   ]
  },
  {
   "cell_type": "code",
   "execution_count": 163,
   "id": "d12d2a2d",
   "metadata": {},
   "outputs": [
    {
     "name": "stdout",
     "output_type": "stream",
     "text": [
      "Test ilorazu wiarygodności (G-test) dla symetrii:\n",
      "Statystyka G: 13.3267\n",
      "Stopnie swobody: 10\n",
      "P-wartość: 0.2060\n"
     ]
    }
   ],
   "source": [
    "data_matrix = np.array([\n",
    "    [10, 2, 1, 1, 0],\n",
    "    [0, 15, 1, 1, 0],\n",
    "    [1, 1, 32, 6, 0],\n",
    "    [0, 0, 1, 96, 3],\n",
    "    [1, 1, 0, 1, 26]\n",
    "])\n",
    "\n",
    "g_stat, df, p_value = likelihood_ratio_symmetry_test(data_matrix)\n",
    "\n",
    "print(\"Test ilorazu wiarygodności (G-test) dla symetrii:\")\n",
    "print(f\"Statystyka G: {g_stat:.4f}\")\n",
    "print(f\"Stopnie swobody: {df}\")\n",
    "print(f\"P-wartość: {p_value:.4f}\")"
   ]
  },
  {
   "cell_type": "markdown",
   "id": "fbee04ef",
   "metadata": {},
   "source": [
    "Nie stwierdzono istotnych statystycznie różnic w ocenach podejścia firmy do umożliwiania wdrażania wiedzy zdobytej na szkoleniach pomiędzy dwoma badanymi okresami. Oznacza to, że na podstawie dostępnych danych nie można uznać, że ocena tego podejścia uległa zmianie."
   ]
  },
  {
   "cell_type": "markdown",
   "id": "fa5e24be",
   "metadata": {},
   "source": [
    "## CZĘŚĆ III"
   ]
  },
  {
   "cell_type": "markdown",
   "id": "af550067",
   "metadata": {},
   "source": [
    "### ZADANIE 6\n",
    "    W pewnym badaniu porównywano skuteczność dwóch metod leczenia: Leczenie A to nowa procedura, a Leczenie B to stara procedura. Przeanalizuj dane przedstawione w Tabeli 3 (wyniki dla całej grupy pacjentów) oraz w Tabelach 4 i 5 (wyniki w podgrupach ze względu na dodatkową zmienną) i odpowiedz na pytanie, czy dla danych występuje paradoks Simpsona.\n",
    "\n",
    "<div align=\"center\">\n",
    "\n",
    "<table>\n",
    "  <thead>\n",
    "    <tr>\n",
    "      <th rowspan=\"2\">Metoda</th>\n",
    "      <th colspan=\"2\">Wynik leczenia</th>\n",
    "    </tr>\n",
    "    <tr>\n",
    "      <th>Poprawa</th>\n",
    "      <th>Brak</th>\n",
    "    </tr>\n",
    "  </thead>\n",
    "  <tbody>\n",
    "    <tr>\n",
    "      <td><strong>Leczenie A</strong></td>\n",
    "      <td>117</td>\n",
    "      <td>104</td>\n",
    "    </tr>\n",
    "    <tr>\n",
    "      <td><strong>Leczenie B</strong></td>\n",
    "      <td>177</td>\n",
    "      <td>44</td>\n",
    "    </tr>\n",
    "  </tbody>\n",
    "</table>\n",
    "<br>\n",
    "Table 3: Dane dla całej grupy\n",
    "\n",
    "$\\quad$\n",
    "\n",
    "<table>\n",
    "  <thead>\n",
    "    <tr>\n",
    "      <th rowspan=\"2\">Metoda</th>\n",
    "      <th colspan=\"2\">Wynik leczenia</th>\n",
    "    </tr>\n",
    "    <tr>\n",
    "      <th>Poprawa</th>\n",
    "      <th>Brak</th>\n",
    "    </tr>\n",
    "  </thead>\n",
    "  <tbody>\n",
    "    <tr>\n",
    "      <td><strong>Leczenie A</strong></td>\n",
    "      <td>17</td>\n",
    "      <td>101</td>\n",
    "    </tr>\n",
    "    <tr>\n",
    "      <td><strong>Leczenie B</strong></td>\n",
    "      <td>2</td>\n",
    "      <td>36</td>\n",
    "    </tr>\n",
    "  </tbody>\n",
    "</table>\n",
    "<br>\n",
    "Table 4: Dane dla pacjentów z chorobami współistniejącymi\n",
    "\n",
    "\n",
    "$\\quad$\n",
    "<table>\n",
    "  <thead>\n",
    "    <tr>\n",
    "      <th rowspan=\"2\">Metoda</th>\n",
    "      <th colspan=\"2\">Wynik leczenia</th>\n",
    "    </tr>\n",
    "    <tr>\n",
    "      <th>Poprawa</th>\n",
    "      <th>Brak</th>\n",
    "    </tr>\n",
    "  </thead>\n",
    "  <tbody>\n",
    "    <tr>\n",
    "      <td><strong>Leczenie A</strong></td>\n",
    "      <td>100</td>\n",
    "      <td>3</td>\n",
    "    </tr>\n",
    "    <tr>\n",
    "      <td><strong>Leczenie B</strong></td>\n",
    "      <td>175</td>\n",
    "      <td>8</td>\n",
    "    </tr>\n",
    "  </tbody>\n",
    "</table>\n",
    "\n",
    "<br>\n",
    "Table 5: Dane dla pacjentów bez chorób współistniejących"
   ]
  },
  {
   "cell_type": "markdown",
   "id": "17eb7639",
   "metadata": {},
   "source": [
    "$\\textbf{PARADOKS SIMPSONA}$\n",
    "\n",
    "Zjawisko statystyczne, w którym trend obecny w kilku grupach może zniknąć lub odwrócić się po połączeniu danych w jedną analizę. Oznacza to, że związek między zmiennymi w całej populacji może być odwrotny niż w każdej z podgrup tej populacji."
   ]
  },
  {
   "cell_type": "markdown",
   "id": "56fdbb87",
   "metadata": {},
   "source": [
    "W analizowanym badaniu porównano skuteczność dwóch metod leczenia:\n",
    "\n",
    "- Leczenie A – nowa procedura,\n",
    "\n",
    "- Leczenie B – dotychczas stosowana metoda.\n",
    "\n",
    "Dane zostały podzielone na dwie podgrupy: pacjentów z chorobami współistniejącymi (Tabela 4) i pacjentów bez chorób współistniejących (Tabela 5)."
   ]
  },
  {
   "cell_type": "code",
   "execution_count": 164,
   "id": "d8081fb6",
   "metadata": {},
   "outputs": [],
   "source": [
    "tab3_dataA = {\"improvement\": 117, \"no_improvement\": 104}\n",
    "tab3_dataB = {\"improvement\": 177, \"no_improvement\": 44}\n",
    "\n",
    "tab4_dataA = {\"improvement\": 17, \"no_improvement\": 101}\n",
    "tab4_dataB = {\"improvement\": 2, \"no_improvement\": 36}\n",
    "\n",
    "tab5_dataA = {\"improvement\": 100, \"no_improvement\": 3}\n",
    "tab5_dataB = {\"improvement\": 175, \"no_improvement\": 8}"
   ]
  },
  {
   "cell_type": "code",
   "execution_count": 165,
   "id": "aa3f3830",
   "metadata": {},
   "outputs": [],
   "source": [
    "def effectiveness_percent(data):\n",
    "    improvement, no_improvement = data[\"improvement\"], data[\"no_improvement\"]\n",
    "    return improvement/(improvement+no_improvement) * 100"
   ]
  },
  {
   "cell_type": "code",
   "execution_count": 166,
   "id": "d2fae099",
   "metadata": {},
   "outputs": [],
   "source": [
    "# tabela 3\n",
    "eff_tab3_A = effectiveness_percent(tab3_dataA)\n",
    "eff_tab3_B = effectiveness_percent(tab3_dataB)\n",
    "\n",
    "# tabela 4\n",
    "eff_tab4_A = effectiveness_percent(tab4_dataA)\n",
    "eff_tab4_B = effectiveness_percent(tab4_dataB)\n",
    "\n",
    "# tabela 5\n",
    "eff_tab5_A = effectiveness_percent(tab5_dataA)\n",
    "eff_tab5_B = effectiveness_percent(tab5_dataB)"
   ]
  },
  {
   "cell_type": "markdown",
   "id": "26c69006",
   "metadata": {},
   "source": [
    "Po obliczeniu odsetka pacjentów, u których nastąpiła poprawa, uzyskano następujące wyniki:\n",
    "\n",
    "- W grupie z chorobami współistniejącymi leczenie A było skuteczniejsze niż leczenie B o 9.15 %\n",
    "\n",
    "- W grupie bez chorób – leczenie A było skuteczniejsze o 1.46 %\n",
    "\n",
    "Jednak po połączeniu danych z obu grup (Tabela 3), wyniki otrzymane wyniki uległy zmianie: terazt to leczenie B wydaje się skuteczniejsze (o 27.15 %)."
   ]
  },
  {
   "cell_type": "markdown",
   "id": "24083db1",
   "metadata": {},
   "source": [
    "W celu formalnej weryfikacji tych różnic zastosowano test asymptotyczny dla różnicy proporcji. Sformułowano następujące hipotezy:\n",
    "\n",
    "$H_0:$ Prawdopodobieństwo poprawy po leczeniu A jest większe lub równe niż po leczeniu B.\n",
    "\n",
    "$H_1:$ Prawdopodobieństwo poprawy po leczeniu A jest mniejsze niż po leczeniu B.\n",
    "\n",
    "Przyjęto poziom istotności $\\alpha=0.5$"
   ]
  },
  {
   "cell_type": "code",
   "execution_count": 167,
   "id": "b5bc8838",
   "metadata": {},
   "outputs": [],
   "source": [
    "def prop_ztest(dataA, dataB, alpha=0.05):\n",
    "    count = np.array([dataA[\"improvement\"], dataB[\"improvement\"]])\n",
    "    nobs = np.array([dataA[\"improvement\"] + dataA[\"no_improvement\"],\n",
    "                     dataB[\"improvement\"] + dataB[\"no_improvement\"]])\n",
    "    stat, pval = proportions_ztest(count, nobs, alternative='smaller')\n",
    "    return pval < alpha"
   ]
  },
  {
   "cell_type": "code",
   "execution_count": 168,
   "id": "9666d016",
   "metadata": {},
   "outputs": [],
   "source": [
    "is_H0_tab3 = prop_ztest(tab3_dataA, tab3_dataB)\n",
    "is_H0_tab4 = prop_ztest(tab4_dataA, tab4_dataB)\n",
    "is_H0_tab5 = prop_ztest(tab5_dataA, tab5_dataB)"
   ]
  },
  {
   "cell_type": "markdown",
   "id": "be55c2e9",
   "metadata": {},
   "source": [
    "Wyniki testu:\n",
    "\n",
    "- Dla danych ogólnych (Tabela 3): hipoteza $H_0$ została odrzucona – różnica jest statystycznie istotna (tzn. nie można stwierdzić, że metoda A jest lepsza czy też tak samo dobra jak metoda B).\n",
    "\n",
    "- Dla każdej podgrupy osobno (Tabele 4 i 5): nie ma podstaw do odrzucenia $H_0$ – różnice nie są statystycznie istotne."
   ]
  },
  {
   "cell_type": "markdown",
   "id": "55b089b1",
   "metadata": {},
   "source": [
    "Omówione powyżej wyniki zostały przedstawione w poniższej tabeli."
   ]
  },
  {
   "cell_type": "code",
   "execution_count": 169,
   "id": "25fbaf1d",
   "metadata": {},
   "outputs": [
    {
     "name": "stdout",
     "output_type": "stream",
     "text": [
      "Tabela: Skuteczność metody leczenia (%)\n"
     ]
    },
    {
     "data": {
      "text/html": [
       "<div>\n",
       "<style scoped>\n",
       "    .dataframe tbody tr th:only-of-type {\n",
       "        vertical-align: middle;\n",
       "    }\n",
       "\n",
       "    .dataframe tbody tr th {\n",
       "        vertical-align: top;\n",
       "    }\n",
       "\n",
       "    .dataframe thead th {\n",
       "        text-align: right;\n",
       "    }\n",
       "</style>\n",
       "<table border=\"1\" class=\"dataframe\">\n",
       "  <thead>\n",
       "    <tr style=\"text-align: right;\">\n",
       "      <th></th>\n",
       "      <th>Tabela 3 (Ogółem) %</th>\n",
       "      <th>Tabela 4 (Z chorobami) %</th>\n",
       "      <th>Tabela 5 (Bez chorób) %</th>\n",
       "    </tr>\n",
       "  </thead>\n",
       "  <tbody>\n",
       "    <tr>\n",
       "      <th>Leczenie A</th>\n",
       "      <td>52.94</td>\n",
       "      <td>14.41</td>\n",
       "      <td>97.09</td>\n",
       "    </tr>\n",
       "    <tr>\n",
       "      <th>Leczenie B</th>\n",
       "      <td>80.09</td>\n",
       "      <td>5.26</td>\n",
       "      <td>95.63</td>\n",
       "    </tr>\n",
       "    <tr>\n",
       "      <th>Czy odrzucamy H0</th>\n",
       "      <td>True</td>\n",
       "      <td>False</td>\n",
       "      <td>False</td>\n",
       "    </tr>\n",
       "  </tbody>\n",
       "</table>\n",
       "</div>"
      ],
      "text/plain": [
       "                 Tabela 3 (Ogółem) % Tabela 4 (Z chorobami) %  \\\n",
       "Leczenie A                     52.94                    14.41   \n",
       "Leczenie B                     80.09                     5.26   \n",
       "Czy odrzucamy H0                True                    False   \n",
       "\n",
       "                 Tabela 5 (Bez chorób) %  \n",
       "Leczenie A                         97.09  \n",
       "Leczenie B                         95.63  \n",
       "Czy odrzucamy H0                   False  "
      ]
     },
     "execution_count": 169,
     "metadata": {},
     "output_type": "execute_result"
    }
   ],
   "source": [
    "df_eff = pd.DataFrame({\n",
    "    \"Tabela 3 (Ogółem) %\": [round(eff_tab3_A,2), round(eff_tab3_B,2), is_H0_tab3],\n",
    "    \"Tabela 4 (Z chorobami) %\": [round(eff_tab4_A,2), round(eff_tab4_B,2), is_H0_tab4],\n",
    "    \"Tabela 5 (Bez chorób) %\": [round(eff_tab5_A,2), round(eff_tab5_B,2), is_H0_tab5],\n",
    "}, index=[\"Leczenie A\", \"Leczenie B\", \"Czy odrzucamy H0\"])\n",
    "\n",
    "print(\"Tabela: Skuteczność metody leczenia (%)\")\n",
    "df_eff"
   ]
  },
  {
   "cell_type": "markdown",
   "id": "b7272b33",
   "metadata": {},
   "source": [
    "Ta rozbieżność (wyniki w podgrupach vs ogółem) wskazuje jednoznacznie na wystąpienie Paradoksu Simpsona. Źródłem tego zjawiska jest nierównomierny rozkład pacjentów pomiędzy grupami – leczenie A częściej stosowano u pacjentów trudniejszych (z chorobami współistniejącymi), natomiast leczenie B – u pacjentów łatwiejszych (bez chorób). W efekcie, mimo lepszych wyników leczenia A w obu podgrupach, ogólny wynik może dawać mylne wrażenie przewagi leczenia B."
   ]
  },
  {
   "cell_type": "markdown",
   "id": "1e7a254a",
   "metadata": {},
   "source": [
    "### ZADANIE 7\n",
    "    Dla danych z listy 1, przyjmując za zmienną 1 zmienną CZY_KIER, za zmienną 2– zmienną PYT_2 i za zmienną 3– zmienną STAŻ, podaj interpretacje nastepujacych modeli log-liniowych: [1 3], [13], [1 2 3], [12 3], [12 13] oraz [1 23]."
   ]
  },
  {
   "cell_type": "markdown",
   "id": "8603df70",
   "metadata": {},
   "source": [
    "W tym zadaniu przyjmujemy następujące oznaczenia zmiennych:\n",
    "\n",
    "- 1 – CZY_KIER (czy osoba zajmuje stanowisko kierownicze),\n",
    "\n",
    "- 2 – PYT_2 (odpowiedź na pytanie 2),\n",
    "\n",
    "- 3 – STAŻ (staż pracy).\n",
    "\n",
    "Dodatkowo zakładamy, że zmienna CZY_KIER ma $R$ możliwych odpowiedzi, zmienna PYT_2 - $C$ możliwych odpowiedzi, a zmienna STAŻ - $L$ możliwych odpowiedzi (w tym przypadku: $R=2$, $C=4$, $L=3$).\n",
    "\n",
    "Wówczas interpretacje modeli log-liniowych przedstawiają się następująco:"
   ]
  },
  {
   "cell_type": "markdown",
   "id": "754ad633",
   "metadata": {},
   "source": [
    "a) Model $[1 \\quad 3]$\n",
    "\n",
    "Zmienne 1 i 3 są niezależne. Model można zapisać w postaci:\n",
    "\n",
    "$$l_{ijk} = \\lambda + \\lambda_i^{(1)} + \\lambda_k^{(3)}, \\quad \\forall i \\in \\{1,\\ldots,R\\}, \\, \\forall j \\in \\{1,\\ldots,C\\}, \\, \\forall k \\in \\{1,\\ldots,L\\}$$\n",
    "\n",
    "Oznacza to, że zmienne CZY_KIER i STAŻ nie są ze sobą powiązane — innymi słowy, zajmowanie stanowiska kierowniczego nie zależy od stażu pracy."
   ]
  },
  {
   "cell_type": "markdown",
   "id": "71a4cd09",
   "metadata": {},
   "source": [
    "b) Model $[13]$\n",
    "\n",
    "Zmienn3 1 i 3 nie są niezależne. Model ma postać:\n",
    "\n",
    "$$l_{ijk} = \\lambda + \\lambda_i^{(1)} + \\lambda_k^{(3)} + \\lambda_{ik}^{(13)}, \\quad \\forall i \\in \\{1,\\ldots,R\\}, \\, \\forall j \\in \\{1,\\ldots,C\\}, \\, \\forall k \\in \\{1,\\ldots,L\\}$$\n",
    "\n",
    "Oznacza to, że występuje zależność między zmienną CZY_KIER a STAŻ — czyli zajmowanie stanowiska kierowniczego może być związane ze stażem pracy."
   ]
  },
  {
   "cell_type": "markdown",
   "id": "3f5af3c5",
   "metadata": {},
   "source": [
    "c) Model $[1 \\quad 2 \\quad 3]$\n",
    "\n",
    "Wszystkie trzy zmienne 1, 2 i 3 są wzajemnie niezależne. Model zapisujemy jako:\n",
    "\n",
    "$$l_{ijk} = \\lambda + \\lambda_i^{(1)} + \\lambda_j^{(2)} + \\lambda_k^{(3)}, \\quad \\forall i \\in \\{1,\\ldots,R\\}, \\, \\forall j \\in \\{1,\\ldots,C\\}, \\, \\forall k \\in \\{1,\\ldots,L\\}$$\n",
    "\n",
    "Oznacza to, że nie występują żadne interakcje między zmiennymi. Zmienna CZY_KIER jest niezależna zarówno od PYT_2, jak i STAŻU, a PYT_2 i STAŻ również nie są ze sobą powiązane."
   ]
  },
  {
   "cell_type": "markdown",
   "id": "041265e5",
   "metadata": {},
   "source": [
    "d) Model $[12 \\quad 3]$\n",
    "\n",
    "Zmienna 3 jest niezależna od zmiennych 1 i 2, ale między zmiennymi 1 i 2 istnieje zależność. Model zapisujemy jako:\n",
    "\n",
    "$$l_{ijk} = \\lambda + \\lambda_i^{(1)} + \\lambda_j^{(2)} + \\lambda_k^{(3)} + \\lambda_{ij}^{(12)}, \\quad \\forall i \\in \\{1,\\ldots,R\\}, \\, \\forall j \\in \\{1,\\ldots,C\\}, \\, \\forall k \\in \\{1,\\ldots,L\\}$$\n",
    "\n",
    "Oznacza to, że występuje zależność pomiędzy zmiennymi CZY_KIER i PYT_2, natomiast STAŻ nie wpływa na żadne z pozostałych dwóch zmiennych i jest od nich niezależny."
   ]
  },
  {
   "cell_type": "markdown",
   "id": "089a377e",
   "metadata": {},
   "source": [
    "e) Model $[12 \\quad 13]$\n",
    "\n",
    "Występuje zależność między 1 i 2, oraz 1 i 3, jednak zmienne 2 i 3 są od siebie niezależne. Model zapisujemy jako:\n",
    "\n",
    "$$l_{ijk} = \\lambda + \\lambda_i^{(1)} + \\lambda_j^{(2)} + \\lambda_k^{(3)} + \\lambda_{ij}^{(12)} + \\lambda_{ik}^{(13)}, \\quad \\forall i \\in \\{1,\\ldots,R\\}, \\, \\forall j \\in \\{1,\\ldots,C\\}, \\, \\forall k \\in \\{1,\\ldots,L\\}$$\n",
    "\n",
    "Oznacza to, że zmienna CZY_KIER jest powiązana zarówno z PYT_2, jak i ze STAŻEM, natomiast PYT_2 i STAŻ pozostają niezależne od siebie."
   ]
  },
  {
   "cell_type": "markdown",
   "id": "421a9d9f",
   "metadata": {},
   "source": [
    "f) Model $[1 \\quad 23]$\n",
    "\n",
    "Zmienna 1 jest niezależna od zmiennych 2 i 3, natomiast pomiędzy zmiennymi 2 i 3 istnieje zależność. Model zapisujemy jako:\n",
    "\n",
    "$$l_{ijk} = \\lambda + \\lambda_i^{(1)} + \\lambda_j^{(2)} + \\lambda_k^{(3)} + \\lambda_{jk}^{(23)}, \\quad \\forall i \\in \\{1,\\ldots,R\\}, \\, \\forall j \\in \\{1,\\ldots,C\\}, \\, \\forall k \\in \\{1,\\ldots,L\\}$$\n",
    "\n",
    "Oznacza to, że odpowiedzi na PYT_2 są powiązane ze STAŻEM, natomiast zmienna CZY_KIER nie jest związana z żadną z pozostałych zmiennych."
   ]
  },
  {
   "cell_type": "markdown",
   "id": "9980ddfd",
   "metadata": {},
   "source": [
    "## CZĘŚĆ IV i V"
   ]
  },
  {
   "cell_type": "markdown",
   "id": "52f468f2",
   "metadata": {},
   "source": [
    "### ZADANIE 8\n",
    "    Przyjmując model log-liniowy [123] dla zmiennych opisanych w zadaniu 7 oszacuj prawdopobiebieństwa:\n",
    "        a) że osoba pracująca na stanowisku kierowniczym jest zdecydowanie zadowolona ze szkoleń;\n",
    "        b) że osoba o stażu pracy krótszym niż rok pracuje na stanowisku kierowniczym;\n",
    "        c) że osoba o stażu pracy powyżej trzech lat nie pracuje na stanowisku kierowniczym.\n",
    "    Jakie byłyby oszacowania powyższych prawdopodobieństw przy założeniu modelu [12 23]?"
   ]
  },
  {
   "cell_type": "code",
   "execution_count": 199,
   "id": "ae8906df",
   "metadata": {},
   "outputs": [],
   "source": [
    "df_ll_model = data.groupby(['PYT_2', 'CZY_KIER', 'STAŻ'], observed=False).size().reset_index(name='count')"
   ]
  },
  {
   "cell_type": "markdown",
   "id": "2e89c6a8",
   "metadata": {},
   "source": [
    "Przyjmujemy model $[123]$, tzn. zakładamy, że istnieje zależność między każdą ze zmiennych 1, 2 i 3. Innymi słowy - między odpowiedzią na PYT_2, zajmowanym stanowiskiem a stażem pracy występują złożone zależności — każda z tych zmiennych wpływa na pozostałe, a ich powiązania nie ograniczają się jedynie do par, lecz obejmują również wspólne oddziaływanie trójczynnikowe.\n",
    "\n",
    "Model można zapisać w postaci: \n",
    "\n",
    "$$l_{ijk} = \\lambda + \\lambda_i^{(1)} + \\lambda_j^{(2)} + \\lambda_k^{(3)} + \\lambda_{ij}^{(12)} + \\lambda_{ik}^{(13)} + \\lambda_{jk}^{(23)} + \\lambda_{ijk}^{(123)}, \\quad \\forall i \\in \\{1,\\ldots,R\\}, \\, \\forall j \\in \\{1,\\ldots,C\\}, \\, \\forall k \\in \\{1,\\ldots,L\\},$$"
   ]
  },
  {
   "cell_type": "code",
   "execution_count": 200,
   "id": "19a734ea",
   "metadata": {},
   "outputs": [],
   "source": [
    "model_123 = glm(formula='count ~ CZY_KIER + STAŻ + PYT_2 + (PYT_2:CZY_KIER) + (PYT_2:STAŻ) + (CZY_KIER:STAŻ) + '\n",
    "'(PYT_2:CZY_KIER:STAŻ)', data=df_ll_model, family=sm.families.Poisson()).fit()\n",
    "#print(model_123.summary())"
   ]
  },
  {
   "cell_type": "markdown",
   "id": "2c16b64b",
   "metadata": {},
   "source": [
    "Przy założeniu modelu $[12\\ 23]$ zakładamy, że istnieją interakcje dwuczłonowe pomiędzy: zmienną CZY_KIER (1) a odpowiedzią na PYT_2 (2) oraz odpowiedzią na PYT_2 (2) a stażem pracy (3). Nie uwzględniamy jednak bezpośredniego związku pomiędzy CZY_KIER (1) a STAŻ (3).\n",
    "\n",
    "Model można zapisać w postaci:\n",
    "\n",
    "$$l_{ijk} = \\lambda + \\lambda_i^{(1)} + \\lambda_j^{(2)} + \\lambda_k^{(3)} + \\lambda_{ij}^{(12)} +  \\lambda_{jk}^{(23)}, \\quad \\forall i \\in \\{1,\\ldots,R\\}, \\, \\forall j \\in \\{1,\\ldots,C\\}, \\, \\forall k \\in \\{1,\\ldots,L\\}$$\n",
    "\n",
    "gdzie w tym przypadku: $R=2$, $C=4$, $L=3$."
   ]
  },
  {
   "cell_type": "code",
   "execution_count": null,
   "id": "2fc7c9e4",
   "metadata": {},
   "outputs": [],
   "source": [
    "df_ll_model[\"CZY_KIER\"] = df_ll_model[\"CZY_KIER\"].astype(\"category\")\n",
    "df_ll_model[\"STAŻ\"] = df_ll_model[\"STAŻ\"].astype(\"category\")\n",
    "df_ll_model[\"PYT_2\"] = df_ll_model[\"PYT_2\"].astype(\"category\")\n",
    "\n",
    "# model [123]\n",
    "model_123 = glm(\n",
    "    formula='count ~ CZY_KIER + STAŻ + PYT_2 + (PYT_2:CZY_KIER) + (PYT_2:STAŻ) + (CZY_KIER:STAŻ) + (PYT_2:CZY_KIER:STAŻ)',\n",
    "    data=df_ll_model, family=sm.families.Poisson()\n",
    ").fit()\n",
    "\n",
    "# model [12, 23]\n",
    "model_12_23 = glm(\n",
    "    formula='count ~ CZY_KIER + STAŻ + PYT_2 + (PYT_2:CZY_KIER) + (PYT_2:STAŻ)',\n",
    "    data=df_ll_model, family=sm.families.Poisson()\n",
    ").fit()\n",
    "\n",
    "# Predykcje\n",
    "df_ll_model[\"pred_count_123\"] = model_123.predict(df_ll_model)\n",
    "df_ll_model[\"pred_count_12_23\"] = model_12_23.predict(df_ll_model)"
   ]
  },
  {
   "cell_type": "markdown",
   "id": "7f767546",
   "metadata": {},
   "source": [
    "a) prawdopodobieństwo, że osoba pracująca na stanowisku kierowniczym jest zdecydowanie zadowolona ze szkoleń\n",
    "\n",
    "$$\\mathbb{P}\\left( \\text{PYT\\_2} =2 \\, | \\, \\text{CZY\\_KIER}=Tak\\right) = \\dfrac{\\mathbb{P} \\left( \\text{PYT\\_2} =2 \\, \\land \\, \\text{CZY\\_KIER}=Tak \\right)}{\\mathbb{P} \\left( \\text{CZY\\_KIER}=Tak \\right)}$$"
   ]
  },
  {
   "cell_type": "code",
   "execution_count": 237,
   "id": "ebd6e746",
   "metadata": {},
   "outputs": [],
   "source": [
    "satisfied_manager = (df_ll_model[\"PYT_2\"] == 2) & (df_ll_model[\"CZY_KIER\"] == \"Tak\")\n",
    "manager = (df_ll_model[\"CZY_KIER\"] == \"Tak\")\n",
    "\n",
    "# prawdziwe dane\n",
    "PA_real = df_ll_model.loc[satisfied_manager, \"count\"].sum() / df_ll_model.loc[manager, \"count\"].sum()\n",
    "\n",
    "# Model [123]\n",
    "PA_123 = df_ll_model.loc[satisfied_manager, \"pred_count_123\"].sum() / df_ll_model.loc[manager, \"pred_count_123\"].sum()\n",
    "\n",
    "# Model [12 23]\n",
    "PA_12_23 = df_ll_model.loc[satisfied_manager, \"pred_count_12_23\"].sum() / df_ll_model.loc[manager, \"pred_count_12_23\"].sum()"
   ]
  },
  {
   "cell_type": "markdown",
   "id": "d8721053",
   "metadata": {},
   "source": [
    "b) prawdopodobieństwo, że osoba o stażu pracy krótszym niż rok pracuje na stanowisku kierowniczym\n",
    "\n",
    "$$\\mathbb{P}\\left( \\text{CZY\\_KIER} =Tak \\, | \\, \\text{STAŻ}=1\\right) = \\dfrac{\\mathbb{P} \\left( \\text{CZY\\_KIER} =Tak \\, \\land \\, \\text{STAŻ}=1 \\right)}{\\mathbb{P} \\left( \\text{STAŻ}=1 \\right)}$$"
   ]
  },
  {
   "cell_type": "code",
   "execution_count": 238,
   "id": "3ea0f773",
   "metadata": {},
   "outputs": [],
   "source": [
    "manager_exp1 = (df_ll_model[\"STAŻ\"] == 1) & (df_ll_model[\"CZY_KIER\"] == \"Tak\")\n",
    "exp1 = (df_ll_model[\"STAŻ\"] == 1)\n",
    "\n",
    "# prawdziwe dane\n",
    "PB_real = df_ll_model.loc[manager_exp1, \"count\"].sum() / df_ll_model.loc[exp1, \"count\"].sum()\n",
    "\n",
    "# Model [123]\n",
    "PB_123 = df_ll_model.loc[manager_exp1, \"pred_count_123\"].sum() / df_ll_model.loc[exp1, \"pred_count_123\"].sum()\n",
    "\n",
    "# Model [12 23]\n",
    "PB_12_23 = df_ll_model.loc[manager_exp1, \"pred_count_12_23\"].sum() / df_ll_model.loc[exp1, \"pred_count_12_23\"].sum()"
   ]
  },
  {
   "cell_type": "markdown",
   "id": "5b2d4563",
   "metadata": {},
   "source": [
    "c) prawdopodobieństwo, że osoba o stażu pracy powyżej trzech lat nie pracuje na stanowisku kierowniczym\n",
    "\n",
    "$$\\mathbb{P}\\left( \\text{CZY\\_KIER} =Nie \\, | \\, \\text{STAŻ}=3\\right) = \\dfrac{\\mathbb{P} \\left( \\text{CZY\\_KIER} =Nie \\, \\land \\, \\text{STAŻ}=3 \\right)}{\\mathbb{P} \\left( \\text{STAŻ}=3 \\right)}$$"
   ]
  },
  {
   "cell_type": "code",
   "execution_count": 239,
   "id": "18080fb6",
   "metadata": {},
   "outputs": [],
   "source": [
    "exp3_employee = (df_ll_model[\"STAŻ\"] == 3) & (df_ll_model[\"CZY_KIER\"] == \"Nie\")\n",
    "exp3 = (df_ll_model[\"STAŻ\"] == 3)\n",
    "\n",
    "# prawdziwe dane\n",
    "PC_real = df_ll_model.loc[exp3_employee, \"count\"].sum() / df_ll_model.loc[exp3, \"count\"].sum()\n",
    "\n",
    "# Model [123]\n",
    "PC_123 = df_ll_model.loc[exp3_employee, \"pred_count_123\"].sum() / df_ll_model.loc[exp3, \"pred_count_123\"].sum()\n",
    "\n",
    "# Model [12 23]\n",
    "PC_12_23 = df_ll_model.loc[exp3_employee, \"pred_count_12_23\"].sum() / df_ll_model.loc[exp3, \"pred_count_12_23\"].sum()"
   ]
  },
  {
   "cell_type": "markdown",
   "id": "69638d96",
   "metadata": {},
   "source": [
    "Wyniki dotyczące podpunktów a, b i c zostały przedstawione w tabeli poniżej. Dla porównania w tabeli zamiesczono również wartości wskazanych prawdopodobieństw obliczonych na podstawie oryginalnych danych."
   ]
  },
  {
   "cell_type": "code",
   "execution_count": 240,
   "id": "8f2fb0bc",
   "metadata": {},
   "outputs": [
    {
     "data": {
      "text/html": [
       "<div>\n",
       "<style scoped>\n",
       "    .dataframe tbody tr th:only-of-type {\n",
       "        vertical-align: middle;\n",
       "    }\n",
       "\n",
       "    .dataframe tbody tr th {\n",
       "        vertical-align: top;\n",
       "    }\n",
       "\n",
       "    .dataframe thead th {\n",
       "        text-align: right;\n",
       "    }\n",
       "</style>\n",
       "<table border=\"1\" class=\"dataframe\">\n",
       "  <thead>\n",
       "    <tr style=\"text-align: right;\">\n",
       "      <th></th>\n",
       "      <th>Zdarzenie</th>\n",
       "      <th>Prawd. rzeczywista</th>\n",
       "      <th>Prawd. dla modelu [123]</th>\n",
       "      <th>Prawd. dla modelu [12 23]</th>\n",
       "    </tr>\n",
       "  </thead>\n",
       "  <tbody>\n",
       "    <tr>\n",
       "      <th>1</th>\n",
       "      <td>Kierownik zdecydowanie zadowolony ze szkoleń</td>\n",
       "      <td>48.15%</td>\n",
       "      <td>48.15%</td>\n",
       "      <td>48.15%</td>\n",
       "    </tr>\n",
       "    <tr>\n",
       "      <th>2</th>\n",
       "      <td>Osoba ze stażem &lt; 1 rok jest kierownikiem</td>\n",
       "      <td>2.44%</td>\n",
       "      <td>2.44%</td>\n",
       "      <td>12.81%</td>\n",
       "    </tr>\n",
       "    <tr>\n",
       "      <th>3</th>\n",
       "      <td>Osoba ze stażem &gt; 3 lata nie jest kierownikiem</td>\n",
       "      <td>52.63%</td>\n",
       "      <td>52.63%</td>\n",
       "      <td>77.81%</td>\n",
       "    </tr>\n",
       "  </tbody>\n",
       "</table>\n",
       "</div>"
      ],
      "text/plain": [
       "                                        Zdarzenie Prawd. rzeczywista  \\\n",
       "1    Kierownik zdecydowanie zadowolony ze szkoleń             48.15%   \n",
       "2       Osoba ze stażem < 1 rok jest kierownikiem              2.44%   \n",
       "3  Osoba ze stażem > 3 lata nie jest kierownikiem             52.63%   \n",
       "\n",
       "  Prawd. dla modelu [123] Prawd. dla modelu [12 23]  \n",
       "1                  48.15%                    48.15%  \n",
       "2                   2.44%                    12.81%  \n",
       "3                  52.63%                    77.81%  "
      ]
     },
     "execution_count": 240,
     "metadata": {},
     "output_type": "execute_result"
    }
   ],
   "source": [
    "result_ll_model = pd.DataFrame({\n",
    "    'Zdarzenie': [\n",
    "        'Kierownik zdecydowanie zadowolony ze szkoleń',\n",
    "        'Osoba ze stażem < 1 rok jest kierownikiem',\n",
    "        'Osoba ze stażem > 3 lata nie jest kierownikiem'\n",
    "    ],\n",
    "    'Prawd. rzeczywista': [f\"{PA_real:.2%}\", f\"{PB_real:.2%}\", f\"{PC_real:.2%}\"],\n",
    "    'Prawd. dla modelu [123]': [f\"{PA_123:.2%}\", f\"{PB_123:.2%}\", f\"{PC_123:.2%}\"],\n",
    "    'Prawd. dla modelu [12 23]': [f\"{PA_12_23:.2%}\", f\"{PB_12_23:.2%}\", f\"{PC_12_23:.2%}\"]\n",
    "})\n",
    "result_ll_model.index = range(1, len(result_ll_model) + 1)\n",
    "result_ll_model"
   ]
  },
  {
   "cell_type": "markdown",
   "id": "3e71ed96",
   "metadata": {},
   "source": [
    "1. Dla podpunktu (a) — czyli prawdopodobieństwa, że osoba pracująca na stanowisku kierowniczym jest zdecydowanie zadowolona ze szkoleń — oba modele dają identyczne oszacowania: około 48.15 %. Oznacza to, że interakcja trójczynnikowa między stanowiskiem, zadowoleniem a stażem pracy nie ma istotnego wpływu na wynik dla tego konkretnego zdarzenia. W związku z tym zastosowanie uproszczonego modelu $[12\\ 23]$, który pomija bezpośrednią zależność między stanowiskiem a stażem, nie prowadzi do zniekształcenia wnioskowania w tym przypadku.\n",
    "\n",
    "2. W przypadku podpunktu (b) — prawdopodobieństwa, że osoba ze stażem krótszym niż 1 rok zajmuje stanowisko kierownicze — różnice między modelami są już wyraźne. Model pełny $[123]$ szacuje to prawdopodobieństwo na 2.44 % (zgodnie z rzeczywistym wynikiem), podczas gdy uproszczony model $[12\\ 23]$ aż na 12.81 %. Oznacza to, że pominięcie interakcji między stażem a stanowiskiem skutkuje zawyżeniem prawdopodobieństwa, co może prowadzić do błędnych wniosków o rzeczywistej strukturze zależności.\n",
    "\n",
    "3. Dla podpunktu (c) — czyli prawdopodobieństwa, że osoba ze stażem powyżej trzech lat nie zajmuje stanowiska kierowniczego — również widać istotne różnice. Model pełny $[123]$ wskazuje na wartość 52.63 %, natomiast model uproszczony $[12\\ 23]$ podaje aż 77.81 %. Podobnie jak wcześniej, uproszczenie modelu prowadzi do przeszacowania prawdopodobieństwa. To kolejny przykład, że ignorowanie zależności między stażem a stanowiskiem może znacząco zafałszować wyniki analizy."
   ]
  },
  {
   "cell_type": "markdown",
   "id": "2e3de55b",
   "metadata": {},
   "source": [
    "### ZADANIE 9\n",
    "    Dla danych wskazanych w zadaniu 7 zweryfikuj następujące hipotezy:\n",
    "        a) zmienne losowe CZY_KIER, PYT_2 i STAŻ są wzajemnie niezależne;\n",
    "        b) zmienna losowa PYT_2 jest niezależna od pary zmiennych CZY_KIER i STAŻ;\n",
    "        c) zmienna losowa PYT_2 jest niezależna od zmiennej CZY_KIER, przy ustalonej wartości zmiennej STAŻ."
   ]
  },
  {
   "cell_type": "markdown",
   "id": "fdd1bc01",
   "metadata": {},
   "source": [
    "Dla danych wskazanych w zadaniu 7 zweryfikowano następujące hipotezy statystyczne dotyczące zależności między zmiennymi losowymi: CZY_KIER, PYT_2 oraz STAŻ. Użyto testu opartego na ilorazie wiarygodności.\n",
    "\n",
    "We wszystkich testach przyjęto poziom istotności $\\alpha = 0.05$."
   ]
  },
  {
   "cell_type": "code",
   "execution_count": 241,
   "id": "4ac0a038",
   "metadata": {},
   "outputs": [],
   "source": [
    "def compare_models(model_H0, model_H1, alpha=0.05):\n",
    "    deviance_diff = model_H0.deviance - model_H1.deviance\n",
    "    df_diff = model_H1.df_model - model_H0.df_model\n",
    "    p_val = chi2.sf(deviance_diff, df_diff)\n",
    "    return p_val < alpha"
   ]
  },
  {
   "cell_type": "code",
   "execution_count": 242,
   "id": "c33099c7",
   "metadata": {},
   "outputs": [],
   "source": [
    "H1_123 = glm(formula='count ~ CZY_KIER + STAŻ + PYT_2 + (PYT_2*CZY_KIER) + (PYT_2*STAŻ) + (CZY_KIER*STAŻ) + '\n",
    "'(PYT_2*CZY_KIER*STAŻ)', data=df_ll_model, family=sm.families.Poisson()).fit()\n",
    "H1_12_23_31 = glm('count ~ (CZY_KIER + PYT_2 + STAŻ)**2', data=df_ll_model, family=sm.families.Poisson()).fit()"
   ]
  },
  {
   "cell_type": "markdown",
   "id": "7743c01c",
   "metadata": {},
   "source": [
    "a) Czy zmienne losowe CZY_KIER, PYT_2 i STAŻ są wzajemnie niezależne?\n",
    "\n",
    "Aby odpowiedzieć na to pytanie, weryfikujemy hipotezę:\n",
    "\n",
    "$H_0$: model $[1 \\quad 2 \\quad 3]$\n",
    "\n",
    "Powyższą hipotezę testujemy przeciwko dwóm alternatywom:\n",
    "\n",
    "$H_1^{(1)}$: model $[12 \\quad 23 \\quad 31]$\n",
    "\n",
    "$H_1^{(2)}$: model $[123]$"
   ]
  },
  {
   "cell_type": "code",
   "execution_count": 250,
   "id": "2fa14697",
   "metadata": {},
   "outputs": [],
   "source": [
    "# H0: [1 2 3]\n",
    "H0_a = glm(formula='count ~ CZY_KIER + STAŻ + PYT_2 ', data=df_ll_model, family=sm.families.Poisson()).fit()\n",
    "\n",
    "# H1: [123]\n",
    "result_a_1 = compare_models(H0_a, H1_123)\n",
    "\n",
    "# H1: [12 23 31]\n",
    "result_a_2 = compare_models(H0_a, H1_12_23_31)"
   ]
  },
  {
   "cell_type": "code",
   "execution_count": 256,
   "id": "7244b179",
   "metadata": {},
   "outputs": [
    {
     "data": {
      "text/html": [
       "<div>\n",
       "<style scoped>\n",
       "    .dataframe tbody tr th:only-of-type {\n",
       "        vertical-align: middle;\n",
       "    }\n",
       "\n",
       "    .dataframe tbody tr th {\n",
       "        vertical-align: top;\n",
       "    }\n",
       "\n",
       "    .dataframe thead th {\n",
       "        text-align: right;\n",
       "    }\n",
       "</style>\n",
       "<table border=\"1\" class=\"dataframe\">\n",
       "  <thead>\n",
       "    <tr style=\"text-align: right;\">\n",
       "      <th></th>\n",
       "      <th>H0</th>\n",
       "      <th>H1</th>\n",
       "      <th>Czy odrzucamy H0</th>\n",
       "    </tr>\n",
       "  </thead>\n",
       "  <tbody>\n",
       "    <tr>\n",
       "      <th>0</th>\n",
       "      <td>[1 2 3]</td>\n",
       "      <td>[123]</td>\n",
       "      <td>True</td>\n",
       "    </tr>\n",
       "    <tr>\n",
       "      <th>1</th>\n",
       "      <td>[1 2 3]</td>\n",
       "      <td>[12 23 31]</td>\n",
       "      <td>True</td>\n",
       "    </tr>\n",
       "  </tbody>\n",
       "</table>\n",
       "</div>"
      ],
      "text/plain": [
       "        H0          H1  Czy odrzucamy H0\n",
       "0  [1 2 3]       [123]              True\n",
       "1  [1 2 3]  [12 23 31]              True"
      ]
     },
     "execution_count": 256,
     "metadata": {},
     "output_type": "execute_result"
    }
   ],
   "source": [
    "result_A_ex9 = pd.DataFrame({\n",
    "    'H0': [ '[1 2 3]', '[1 2 3]'],\n",
    "    'H1': ['[123]', '[12 23 31]'],\n",
    "    'Czy odrzucamy H0': [result_a_1, result_a_2]\n",
    "})\n",
    "\n",
    "result_A_ex9"
   ]
  },
  {
   "cell_type": "markdown",
   "id": "b03afd50",
   "metadata": {},
   "source": [
    "Hipoteza $H_0$ została odrzucona w obu przypadkach, co oznacza, że zmienne PYT_2, CZY_KIER oraz STAŻ nie są wzajemnie niezależne. Istnieją statystycznie istotne interakcje między tymi zmiennymi."
   ]
  },
  {
   "cell_type": "markdown",
   "id": "966f6341",
   "metadata": {},
   "source": [
    "b) Czy zmienna losowa PYT_2 jest niezależna od pary zmiennych CZY_KIER i STAŻ?\n",
    "\n",
    "Aby odpowiedzieć na to pytanie, weryfikujemy hipotezę:\n",
    "\n",
    "$H_0$: model $[2 \\quad 13]$\n",
    "\n",
    "Powyższą hipotezę testujemy przeciwko dwóm alternatywom:\n",
    "\n",
    "$H_1^{(1)}$: model $[12 \\quad 23 \\quad 31]$\n",
    "\n",
    "$H_1^{(2)}$: model $[123]$"
   ]
  },
  {
   "cell_type": "code",
   "execution_count": 244,
   "id": "304f0e6a",
   "metadata": {},
   "outputs": [],
   "source": [
    "# H0: [2 13]\n",
    "H0_b = glm(formula='count ~ CZY_KIER + STAŻ + PYT_2 + (CZY_KIER * STAŻ) ', data=df_ll_model, family=sm.families.Poisson()).fit()\n",
    "\n",
    "# H1: [123]\n",
    "result_b_1 = compare_models(H0_b, H1_123)\n",
    "\n",
    "# H1: [12 23 31]\n",
    "result_b_2 = compare_models(H0_b, H1_12_23_31)"
   ]
  },
  {
   "cell_type": "code",
   "execution_count": 257,
   "id": "25038778",
   "metadata": {},
   "outputs": [
    {
     "data": {
      "text/html": [
       "<div>\n",
       "<style scoped>\n",
       "    .dataframe tbody tr th:only-of-type {\n",
       "        vertical-align: middle;\n",
       "    }\n",
       "\n",
       "    .dataframe tbody tr th {\n",
       "        vertical-align: top;\n",
       "    }\n",
       "\n",
       "    .dataframe thead th {\n",
       "        text-align: right;\n",
       "    }\n",
       "</style>\n",
       "<table border=\"1\" class=\"dataframe\">\n",
       "  <thead>\n",
       "    <tr style=\"text-align: right;\">\n",
       "      <th></th>\n",
       "      <th>H0</th>\n",
       "      <th>H1</th>\n",
       "      <th>Czy odrzucamy H0</th>\n",
       "    </tr>\n",
       "  </thead>\n",
       "  <tbody>\n",
       "    <tr>\n",
       "      <th>0</th>\n",
       "      <td>[2 13]</td>\n",
       "      <td>[123]</td>\n",
       "      <td>False</td>\n",
       "    </tr>\n",
       "    <tr>\n",
       "      <th>1</th>\n",
       "      <td>[2 13]</td>\n",
       "      <td>[12 23 31]</td>\n",
       "      <td>True</td>\n",
       "    </tr>\n",
       "  </tbody>\n",
       "</table>\n",
       "</div>"
      ],
      "text/plain": [
       "       H0          H1  Czy odrzucamy H0\n",
       "0  [2 13]       [123]             False\n",
       "1  [2 13]  [12 23 31]              True"
      ]
     },
     "execution_count": 257,
     "metadata": {},
     "output_type": "execute_result"
    }
   ],
   "source": [
    "result_B_ex9 = pd.DataFrame({\n",
    "    'H0': ['[2 13]', '[2 13]'],\n",
    "    'H1': ['[123]', '[12 23 31]'],\n",
    "    'Czy odrzucamy H0': [result_b_1, result_b_2]\n",
    "})\n",
    "\n",
    "result_B_ex9"
   ]
  },
  {
   "cell_type": "markdown",
   "id": "cbf777cf",
   "metadata": {},
   "source": [
    "Dla modelu $[123]$ hipoteza $H_0$ nie została odrzucona, co sugeruje brak istotnych trójczłonowych interakcji, a tym samym możliwość niezależności PYT_2 od pary (CZY_KIER, STAŻ) w tym kontekście.\n",
    "\n",
    "Dla modelu $[12 \\quad 23 \\quad 31]$ hipoteza $H_0$ została odrzucona, co wskazuje na istnienie istotnych zależności i interakcji dwuczłonowych."
   ]
  },
  {
   "cell_type": "markdown",
   "id": "97d36abd",
   "metadata": {},
   "source": [
    "c) Czy zmienna losowa PYT_2 jest niezależna od zmiennej CZY_KIER, przy ustalonej wartości zmiennej STAŻ?\n",
    "\n",
    "Aby odpowiedzieć na to pytanie, weryfikujemy hipotezę:\n",
    "\n",
    "$H_0$: model $[23 \\quad 13]$\n",
    "\n",
    "Powyższą hipotezę testujemy przeciwko dwóm alternatywom:\n",
    "\n",
    "$H_1^{(1)}$: model $[12 \\quad 23 \\quad 31]$\n",
    "\n",
    "$H_1^{(2)}$: model $[123]$"
   ]
  },
  {
   "cell_type": "code",
   "execution_count": 245,
   "id": "f1952eee",
   "metadata": {},
   "outputs": [],
   "source": [
    "# H0: [13 23]\n",
    "H0_c = glm(formula='count ~ CZY_KIER + STAŻ + PYT_2 + (CZY_KIER * STAŻ) + (PYT_2*STAŻ) ', data=df_ll_model, family=sm.families.Poisson()).fit()\n",
    "\n",
    "# H1: [123]\n",
    "result_c_1 = compare_models(H0_c, H1_123)\n",
    "\n",
    "# H1: [12 23 31]\n",
    "result_c_2 = compare_models(H0_c, H1_12_23_31)"
   ]
  },
  {
   "cell_type": "code",
   "execution_count": 258,
   "id": "35928636",
   "metadata": {},
   "outputs": [
    {
     "data": {
      "text/html": [
       "<div>\n",
       "<style scoped>\n",
       "    .dataframe tbody tr th:only-of-type {\n",
       "        vertical-align: middle;\n",
       "    }\n",
       "\n",
       "    .dataframe tbody tr th {\n",
       "        vertical-align: top;\n",
       "    }\n",
       "\n",
       "    .dataframe thead th {\n",
       "        text-align: right;\n",
       "    }\n",
       "</style>\n",
       "<table border=\"1\" class=\"dataframe\">\n",
       "  <thead>\n",
       "    <tr style=\"text-align: right;\">\n",
       "      <th></th>\n",
       "      <th>H0</th>\n",
       "      <th>H1</th>\n",
       "      <th>Czy odrzucamy H0</th>\n",
       "    </tr>\n",
       "  </thead>\n",
       "  <tbody>\n",
       "    <tr>\n",
       "      <th>0</th>\n",
       "      <td>[13 23]</td>\n",
       "      <td>[123]</td>\n",
       "      <td>False</td>\n",
       "    </tr>\n",
       "    <tr>\n",
       "      <th>1</th>\n",
       "      <td>[13 23]</td>\n",
       "      <td>[12 23 31]</td>\n",
       "      <td>False</td>\n",
       "    </tr>\n",
       "  </tbody>\n",
       "</table>\n",
       "</div>"
      ],
      "text/plain": [
       "        H0          H1  Czy odrzucamy H0\n",
       "0  [13 23]       [123]             False\n",
       "1  [13 23]  [12 23 31]             False"
      ]
     },
     "execution_count": 258,
     "metadata": {},
     "output_type": "execute_result"
    }
   ],
   "source": [
    "result_C_exp9 = pd.DataFrame({\n",
    "    'H0': ['[13 23]', '[13 23]'],\n",
    "    'H1': ['[123]', '[12 23 31]'],\n",
    "    'Czy odrzucamy H0': [result_c_1, result_c_2]\n",
    "})\n",
    "\n",
    "result_C_exp9"
   ]
  },
  {
   "cell_type": "markdown",
   "id": "7aea4cf9",
   "metadata": {},
   "source": [
    "Hipoteza $H_0$ została odrzucona w obu przypadkach, co oznacza, że nawet przy stałej wartości zmiennej STAŻ zmienne PYT_2 i CZY_KIER pozostają zależne. Istnieją istotne interakcje pomiędzy tymi zmiennymi."
   ]
  },
  {
   "cell_type": "markdown",
   "id": "acb47d47",
   "metadata": {},
   "source": [
    "--------------------------------------------------"
   ]
  },
  {
   "cell_type": "markdown",
   "id": "5c7a6ea2",
   "metadata": {},
   "source": [
    "## ZADANIA DODATKOWE"
   ]
  },
  {
   "cell_type": "markdown",
   "id": "813d97d7",
   "metadata": {},
   "source": [
    "### ZADANIE *1\n",
    "    W przypadku zadania 5 występuje problem z zastosowaniem testu Bowkera ze względu na występowanie zer na określonych miejscach w tabeli z danymi. Zastosuj w tym przypadku dokładny test symetrii i opisz w jaki sposób wyznaczana jest wartość poziomu krytycznego w tym teście."
   ]
  },
  {
   "cell_type": "markdown",
   "id": "e84f71cb",
   "metadata": {},
   "source": [
    "W sytuacjach, gdy tabela odpowiedzi zawiera zbyt wiele zer (jak w zadaniu 5), test Bowkera może być niewłaściwy lub niemożliwy do zastosowania, ponieważ opiera się na asymptotycznym rozkładzie chi-kwadrat, który nie jest wiarygodny przy małych liczbach lub zerach. W takich przypadkach zaleca się zastosowanie dokładnego testu symetrii, opartego na permutacjach lub dokładnym rozkładzie dwumianowym."
   ]
  },
  {
   "cell_type": "markdown",
   "id": "4ac3fc95",
   "metadata": {},
   "source": [
    "#### Dokładny test symetrii\n",
    "Ten test polega na porównaniu liczby przypadków niesymetrycznych w parze (czyli $ n_{ij} \\neq n_{ji} $) i sprawdzeniu, czy obserwowane różnice są istotne statystycznie, zakładając, że w populacji prawdopodobieństwa dla $ n_{ij} $ i $ n_{ji} $ są równe (hipoteza symetrii).\n",
    "\n",
    "\n",
    "##### Schemat działania\n",
    "\n",
    "Dla każdej pary niesymetrycznej $(i, j)$ (gdzie $ i < j $) rozpatrujemy sumę  $n_{ij} + n_{ji} $. Zakładamy hipotezę zerową, że liczba przypadków $ n_{ij} $ ma rozkład dwumianowy:\n",
    "\n",
    "$\n",
    "n_{ij} \\sim B(n_{ij} + n_{ji},\\ 0.5)\n",
    "$\n",
    "\n",
    "Dla każdej pary obliczamy *dwustronną p-wartość*, a następnie łączymy te wartości metodą *Fishera*."
   ]
  },
  {
   "cell_type": "code",
   "execution_count": 247,
   "id": "14a80925",
   "metadata": {},
   "outputs": [],
   "source": [
    "def exact_symmetry_test(matrix):\n",
    "    \"\"\"\n",
    "    Dokładny test symetrii (na podstawie testów dwumianowych) dla macierzy kwadratowej.\n",
    "\n",
    "    Parameters:\n",
    "    matrix (np.array): kwadratowa tablica 2D z danymi\n",
    "\n",
    "    Returns:\n",
    "    combined_p_value: połączona p-wartość (Fisher)\n",
    "    pairwise_results: lista wyników dla każdej pary: (i, j, n_ij, n_ji, p-value)\n",
    "    \"\"\"\n",
    "    n = matrix.shape[0]\n",
    "    p_values = []\n",
    "    pairwise_results = []\n",
    "\n",
    "    for i in range(n):\n",
    "        for j in range(i + 1, n):\n",
    "            nij = matrix[i, j]\n",
    "            nji = matrix[j, i]\n",
    "            total = nij + nji\n",
    "            if total > 0:\n",
    "                test_result = binomtest(nij, n=total, p=0.5, alternative='two-sided')\n",
    "                p = test_result.pvalue\n",
    "                p_values.append(p)\n",
    "                pairwise_results.append(((i, j), nij, nji, p))\n",
    "\n",
    "    if p_values:\n",
    "        stat, combined_p_value = combine_pvalues(p_values, method='fisher')\n",
    "    else:\n",
    "        combined_p_value = 1.0\n",
    "\n",
    "    return combined_p_value, pairwise_results"
   ]
  },
  {
   "cell_type": "code",
   "execution_count": 248,
   "id": "f1242ca4",
   "metadata": {},
   "outputs": [
    {
     "name": "stdout",
     "output_type": "stream",
     "text": [
      "Wyniki testu dokładnego dla symetrii:\n",
      "Para (0, 1): n_ij = 2, n_ji = 0, p = 0.5000\n",
      "Para (0, 2): n_ij = 1, n_ji = 1, p = 1.0000\n",
      "Para (0, 3): n_ij = 1, n_ji = 0, p = 1.0000\n",
      "Para (0, 4): n_ij = 0, n_ji = 1, p = 1.0000\n",
      "Para (1, 2): n_ij = 1, n_ji = 1, p = 1.0000\n",
      "Para (1, 3): n_ij = 1, n_ji = 0, p = 1.0000\n",
      "Para (1, 4): n_ij = 0, n_ji = 1, p = 1.0000\n",
      "Para (2, 3): n_ij = 6, n_ji = 1, p = 0.1250\n",
      "Para (3, 4): n_ij = 3, n_ji = 1, p = 0.6250\n",
      "\n",
      "Połączona p-wartość: 0.9938\n"
     ]
    }
   ],
   "source": [
    "data_matrix = np.array([\n",
    "    [10, 2, 1, 1, 0],\n",
    "    [0, 15, 1, 1, 0],\n",
    "    [1, 1, 32, 6, 0],\n",
    "    [0, 0, 1, 96, 3],\n",
    "    [1, 1, 0, 1, 26]\n",
    "])\n",
    "\n",
    "combined_p, results = exact_symmetry_test(data_matrix)\n",
    "\n",
    "print(\"Wyniki testu dokładnego dla symetrii:\")\n",
    "for (i, j), nij, nji, p in results:\n",
    "    print(f\"Para ({i}, {j}): n_ij = {nij}, n_ji = {nji}, p = {p:.4f}\")\n",
    "\n",
    "print(f\"\\nPołączona p-wartość: {combined_p:.4f}\")\n"
   ]
  },
  {
   "cell_type": "markdown",
   "id": "ce9c5f6f",
   "metadata": {},
   "source": [
    "Na podstawie uzyskanej p-wartości brak podstaw do odrzucenia hipotezy o symetrii odpowiedzi. Oznacza to, że rozkład ocen w pierwszym i drugim pomiarze nie różni się w sposób istotny statystycznie."
   ]
  },
  {
   "cell_type": "markdown",
   "id": "3d7a6857",
   "metadata": {},
   "source": [
    "### ZADANIE *2\n",
    "    Na podstawie danych z listy 1 dokonaj wyboru modelu rozważając uwzględnienie zmiennych PYT_1, PYT_2 i PŁEĆ w oparciu o:\n",
    "        a) testy\n",
    "        b) kryterium AIC\n",
    "        c) kryterium BIC"
   ]
  },
  {
   "cell_type": "markdown",
   "id": "23d65716",
   "metadata": {},
   "source": [
    "Niech PYT_1 (1), PYT_2 (2), PŁEĆ (3)"
   ]
  },
  {
   "cell_type": "markdown",
   "id": "9edca05b",
   "metadata": {},
   "source": [
    "a) testy"
   ]
  },
  {
   "cell_type": "code",
   "execution_count": 261,
   "id": "68aafd0b",
   "metadata": {},
   "outputs": [],
   "source": [
    "# tabela kontyngencji dla PYT_1, PYT_2 i PŁEĆ\n",
    "contingency_P1P2P = data.groupby(['PYT_1', 'PYT_2', 'PŁEĆ'], observed=False).size().reset_index(name='count')\n",
    "contingency_P1P2P['PYT_1'] = contingency_P1P2P['PYT_1'].astype(\"category\")\n",
    "contingency_P1P2P['PYT_2'] = contingency_P1P2P['PYT_2'].astype(\"category\")\n",
    "contingency_P1P2P['PŁEĆ'] = contingency_P1P2P['PŁEĆ'].astype(\"category\")"
   ]
  },
  {
   "cell_type": "markdown",
   "id": "45b1f361",
   "metadata": {},
   "source": [
    "1. Przyjmujemy następujące hipotezy:\n",
    "\n",
    "$H_0$: model $[1 \\quad 2 \\quad 3]$\n",
    "\n",
    "$H_1$: model $[12 \\quad 23 \\quad 31]$"
   ]
  },
  {
   "cell_type": "code",
   "execution_count": 276,
   "id": "1a5604ca",
   "metadata": {},
   "outputs": [
    {
     "name": "stdout",
     "output_type": "stream",
     "text": [
      "Odrzucamy H0: True\n"
     ]
    }
   ],
   "source": [
    "model_1_2_3_extra2 = glm(\n",
    "    formula='count ~ PYT_1 + PYT_2 + PŁEĆ',\n",
    "    data=contingency_P1P2P, family=sm.families.Poisson()\n",
    ").fit()\n",
    "\n",
    "model_12_23_31_extra2 = glm(\n",
    "    formula='count ~ (PYT_1 + PYT_2 + PŁEĆ)**2',\n",
    "    data=contingency_P1P2P, family=sm.families.Poisson()\n",
    ").fit()\n",
    "\n",
    "compare_models_extra2  = compare_models(model_1_2_3_extra2, model_12_23_31_extra2)\n",
    "print(\"Odrzucamy H0:\", compare_models_extra2)"
   ]
  },
  {
   "cell_type": "markdown",
   "id": "88dea0e1",
   "metadata": {},
   "source": [
    "2. Przyjmujemy przyjętą wcześniej $H_1$ jako nową hipotezę $H_0$ i testujemy ją przeciwko nowej hipotezie alternatywnej:\n",
    "\n",
    "$H_0$: model $[12 \\quad 23 \\quad 31]$\n",
    "\n",
    "$H_1$: model $[123]$"
   ]
  },
  {
   "cell_type": "code",
   "execution_count": 286,
   "id": "f39de6e9",
   "metadata": {},
   "outputs": [
    {
     "name": "stdout",
     "output_type": "stream",
     "text": [
      "Odrzucamy H0: False\n"
     ]
    }
   ],
   "source": [
    "model_123_extra2 = glm(\n",
    "    formula='count ~ PYT_1 + PYT_2 + PŁEĆ + (PYT_1:PYT_2) + (PYT_1:PŁEĆ) + (PYT_2:PŁEĆ) + (PYT_1:PYT_2:PŁEĆ)',\n",
    "    data=contingency_P1P2P, family=sm.families.Poisson()\n",
    ").fit()\n",
    "\n",
    "compare_models_extra2_123 = compare_models(model_12_23_31_extra2, model_123_extra2)\n",
    "print(\"Odrzucamy H0:\", compare_models_extra2_123)"
   ]
  },
  {
   "cell_type": "markdown",
   "id": "b5b1f53f",
   "metadata": {},
   "source": [
    "Test wskazał, że nie odrzucamy $H_0$, wciąż przyjmujemy zatem model $[12 \\quad 23 \\quad 31]$."
   ]
  },
  {
   "cell_type": "markdown",
   "id": "9f2c876f",
   "metadata": {},
   "source": [
    "3.\n",
    "\n",
    "$H_0$: $[12 \\quad 23 \\quad 31]$\n",
    "\n",
    "$H_1$: $[12 \\quad 23]$"
   ]
  },
  {
   "cell_type": "code",
   "execution_count": 293,
   "id": "3aa2542c",
   "metadata": {},
   "outputs": [
    {
     "name": "stdout",
     "output_type": "stream",
     "text": [
      "Odrzucamy H0: False\n"
     ]
    }
   ],
   "source": [
    "model_12_23_extra2 = glm(\n",
    "    formula='count ~ PYT_1 + PYT_2 + PŁEĆ + (PYT_1:PYT_2)+ (PYT_2:PŁEĆ)',\n",
    "    data=contingency_P1P2P, family=sm.families.Poisson()\n",
    ").fit()\n",
    "\n",
    "compare_models_extra2_12_23 = compare_models(model_12_23_31_extra2, model_12_23_extra2)\n",
    "print(\"Odrzucamy H0:\", compare_models_extra2_12_23)"
   ]
  },
  {
   "cell_type": "markdown",
   "id": "4315e5cb",
   "metadata": {},
   "source": [
    "b) AIC\n",
    "\n",
    "Aby wybrać optymalny model opisujący zależności między zmiennymi `PYT_1`, `PYT_2` i `PŁEĆ`, porównano wartości kryterium AIC dla czterech modeli hierarchicznych."
   ]
  },
  {
   "cell_type": "code",
   "execution_count": null,
   "id": "d09b6352",
   "metadata": {},
   "outputs": [
    {
     "name": "stdout",
     "output_type": "stream",
     "text": [
      "Model [12 23] -> AIC = 127.41\n",
      "Model [12 23 31] -> AIC = 133.55\n",
      "Model [123] -> AIC = 150.19\n",
      "Model [1 2 3] -> AIC = 314.24\n"
     ]
    }
   ],
   "source": [
    "models = {\n",
    "    \"[123]\": model_123_extra2,\n",
    "    \"[12 23 31]\": model_12_23_31_extra2,\n",
    "    \"[12 23]\": model_12_23_extra2,\n",
    "    \"[1 2 3]\": model_1_2_3_extra2\n",
    "}\n",
    "\n",
    "# ranking wg AIC\n",
    "aic_values = {name: model.aic for name, model in models.items()}\n",
    "aic_sorted = sorted(aic_values.items(), key=lambda x: x[1])\n",
    "\n",
    "for name, aic in aic_sorted:\n",
    "    print(f\"Model {name} -> AIC = {aic:.2f}\")\n"
   ]
  },
  {
   "cell_type": "markdown",
   "id": "9e1892d1",
   "metadata": {},
   "source": [
    "Najniższe AIC oznacza najlepszy model pod względem kompromisu między dopasowaniem a złożonością, a zatem wybieramy model $[12 \\quad 23 \\quad 31]$"
   ]
  },
  {
   "cell_type": "markdown",
   "id": "ccf9312f",
   "metadata": {},
   "source": [
    "c) BIC\n",
    "\n",
    "Porównano wartości kryterium BIC dla czterech modeli opisujących zależności między zmiennymi `PYT_1`, `PYT_2` i `PŁEĆ`."
   ]
  },
  {
   "cell_type": "code",
   "execution_count": null,
   "id": "9fe87360",
   "metadata": {},
   "outputs": [
    {
     "name": "stdout",
     "output_type": "stream",
     "text": [
      "Model [12 23] -> BIC = 167.94\n",
      "Model [12 13 23] -> BIC = 180.84\n",
      "Model [123] -> BIC = 217.74\n",
      "Model [1 2 3] -> BIC = 329.44\n"
     ]
    }
   ],
   "source": [
    "from statsmodels.tools.eval_measures import bic\n",
    "\n",
    "models = {\n",
    "    \"[123]\": model_123_extra2,\n",
    "    \"[12 13 23]\": model_12_23_31_extra2,\n",
    "    \"[12 23]\": model_12_23_extra2,\n",
    "    \"[1 2 3]\": model_1_2_3_extra2\n",
    "}\n",
    "\n",
    "# BIC\n",
    "bic_values = {\n",
    "    name: bic(model.llf, model.nobs, model.df_model + 1)\n",
    "    for name, model in models.items()\n",
    "}\n",
    "\n",
    "bic_sorted = sorted(bic_values.items(), key=lambda x: x[1])\n",
    "\n",
    "for name, value in bic_sorted:\n",
    "    print(f\"Model {name} -> BIC = {value:.2f}\")\n"
   ]
  },
  {
   "cell_type": "markdown",
   "id": "91ef4f97",
   "metadata": {},
   "source": [
    "Model o najniższym BIC to najbardziej preferowany — przy założeniu oszczędności liczby parametrów. Zatem wybieramy model $[12 \\quad 23]$"
   ]
  }
 ],
 "metadata": {
  "kernelspec": {
   "display_name": "Python 3",
   "language": "python",
   "name": "python3"
  },
  "language_info": {
   "codemirror_mode": {
    "name": "ipython",
    "version": 3
   },
   "file_extension": ".py",
   "mimetype": "text/x-python",
   "name": "python",
   "nbconvert_exporter": "python",
   "pygments_lexer": "ipython3",
   "version": "3.12.5"
  }
 },
 "nbformat": 4,
 "nbformat_minor": 5
}
