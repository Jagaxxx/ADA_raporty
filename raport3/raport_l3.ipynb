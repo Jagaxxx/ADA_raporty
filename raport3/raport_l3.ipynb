{
 "cells": [
  {
   "cell_type": "markdown",
   "id": "b580e9c1",
   "metadata": {},
   "source": [
    "$$\\Huge \\text{RAPORT}$$\n",
    "$$\\huge \\text{LISTA 3}$$\n",
    "$$\\large \\text{Autorzy: Katarzyna Rudzińska, Jagoda Płócienniczak}$$"
   ]
  },
  {
   "cell_type": "code",
   "execution_count": 19,
   "id": "ef5ee8e0",
   "metadata": {},
   "outputs": [],
   "source": [
    "import numpy as np\n",
    "import pandas as pd\n",
    "import matplotlib.pyplot as plt\n",
    "from tqdm import tqdm\n",
    "from scipy.stats import binomtest, chi2, norm"
   ]
  },
  {
   "cell_type": "markdown",
   "id": "70b79e93",
   "metadata": {},
   "source": [
    "Ze względu na fakt, iż przeprowadzona analiza obejmuje rozwiązanie zadań podzielonych na pięć głównych części, a w niektórych z nich odwołano się do wcześniej zdefiniowanych pojęć i zmiennych z poprzedniego raportu, ich implementacja została powtórzona również w niniejszym opracowaniu. Pozwala to na zachowanie spójności analizy oraz zapewnia pełną czytelność bieżącego raportu."
   ]
  },
  {
   "cell_type": "code",
   "execution_count": 20,
   "id": "60add263",
   "metadata": {},
   "outputs": [],
   "source": [
    "data = pd.read_csv('ankieta.csv', encoding='Windows-1250', sep=';')\n",
    "data['DZIAŁ'] = data['DZIAŁ'].astype(\"category\")\n",
    "data['CZY_KIER'] = data['CZY_KIER'].astype(\"category\")\n",
    "data['PŁEĆ'] = data['PŁEĆ'].astype(\"category\")"
   ]
  },
  {
   "cell_type": "code",
   "execution_count": 21,
   "id": "d8f4b912",
   "metadata": {},
   "outputs": [],
   "source": [
    "def is_satisfied(satisfaction_lvl):\n",
    "    if satisfaction_lvl == -2 or satisfaction_lvl == -1:\n",
    "        return 'NIE'\n",
    "    else:\n",
    "        return 'TAK'\n",
    "\n",
    "data[\"CZY_ZADOW\"] = data[\"PYT_2\"].apply(is_satisfied)\n",
    "data[\"CZY_ZADOW\"] = data[\"CZY_ZADOW\"].astype(\"category\")"
   ]
  },
  {
   "cell_type": "code",
   "execution_count": 22,
   "id": "3d4d5dea",
   "metadata": {},
   "outputs": [],
   "source": [
    "data[\"CZY_ZADOW_2\"] = data[\"PYT_3\"].apply(is_satisfied)\n",
    "data[\"CZY_ZADOW_2\"] = data[\"CZY_ZADOW_2\"].astype(\"category\")\n",
    "\n",
    "czy_zadow = data[\"CZY_ZADOW\"].apply(lambda x: 1 if x == \"TAK\" else 0).astype(int)\n",
    "czy_zadow_2 = data[\"CZY_ZADOW_2\"].apply(lambda x: 1 if x == \"TAK\" else 0).astype(int)"
   ]
  },
  {
   "cell_type": "markdown",
   "id": "11f39de5",
   "metadata": {},
   "source": [
    "## CZĘŚĆ I i II"
   ]
  },
  {
   "cell_type": "markdown",
   "id": "bf89fb82",
   "metadata": {},
   "source": [
    "### ZADANIE 1\n",
    "    Napisz funkcję, która zwraca p-wartość w omówionym na wykładzie warunkowym teście symetrii w przypadku tabeli 2×2."
   ]
  },
  {
   "cell_type": "code",
   "execution_count": 2,
   "id": "97230c73",
   "metadata": {},
   "outputs": [],
   "source": [
    "def warunkowy_test_symetrii(b, c):\n",
    "    \"\"\"\n",
    "    Warunkowy test symetrii dla tabeli 2x2 oparty na rozkładzie dwumianowym B(n*, 1/2)\n",
    "\n",
    "    Parametry:\n",
    "    b -- liczba przypadków A=1, B=2 (Y_12)\n",
    "    c -- liczba przypadków A=2, B=1 (Y_21)\n",
    "\n",
    "    Zwraca:\n",
    "    p-wartość testu\n",
    "    \"\"\"\n",
    "    n_star = b + c\n",
    "    if n_star == 0:\n",
    "        return 1.0  # Brak danych do testu, przypadki symetryczne\n",
    "    wynik = binomtest(b, n=n_star, p=0.5, alternative='two-sided')\n",
    "    return wynik.pvalue\n"
   ]
  },
  {
   "cell_type": "markdown",
   "id": "39361d01",
   "metadata": {},
   "source": [
    "Funkcja `warunkowy_test_symetrii(b, c)` implementuje dokładny test warunkowy służący do sprawdzania **symetrii** w tabeli 2×2, czyli testowania hipotezy:\n",
    "\n",
    "$\n",
    "H_0 : p_{12} = p_{21}\n",
    "$\n",
    "\n",
    "Dla tabeli:\n",
    "\n",
    "|       | B=1       | B=2       |\n",
    "|-------|-----------|-----------|\n",
    "| A=1   | $ Y_{11} $ | $ Y_{12} $ |\n",
    "| A=2   | $ Y_{21} $ | $ Y_{22} $ |\n",
    "\n",
    "test koncentruje się na wartościach poza przekątną:  \n",
    "$ Y_{12} = b $, $ Y_{21} = c $\n",
    "\n",
    "Zakładając hipotezę zerową $ H_0 $, statystyka $ Y_{12} $ warunkowana sumą $ Y_{12} + Y_{21} = n^* $ ma rozkład:\n",
    "\n",
    "$\n",
    "Y_{12} \\mid (Y_{12} + Y_{21} = n^*) \\sim \\text{B}(n^*, 0.5)\n",
    "$\n",
    "\n",
    "gdzie:\n",
    "- $ n^* = b + c $ — łączna liczba przypadków niesymetrycznych,\n",
    "- $ \\text{B}(n^*, 0.5) $ — rozkład dwumianowy z parametrem sukcesu \\( p = 0.5 \\)\n",
    "\n",
    "Funkcja zwraca dokładną **p-wartość** testu dwustronnego na podstawie tego rozkładu. Jest to test **dokładny**, zalecany przy małych licznościach.\n"
   ]
  },
  {
   "cell_type": "code",
   "execution_count": 3,
   "id": "2b56b67b",
   "metadata": {},
   "outputs": [
    {
     "name": "stdout",
     "output_type": "stream",
     "text": [
      "P-wartość: 0.34375\n"
     ]
    }
   ],
   "source": [
    "p = warunkowy_test_symetrii(b=3, c=7)\n",
    "print(\"P-wartość:\", p)"
   ]
  },
  {
   "cell_type": "markdown",
   "id": "4b5e050e",
   "metadata": {},
   "source": [
    "### ZADANIE 2\n",
    "    W tabeli 1 umieszczono dane dotyczące reakcji na lek po godzinie od jego przyjęcia dla dwóch różnych leków przeciwbólowych stosowanych w migrenie. Leki zostały zaaplikowane grupie pacjentów w dwóch różnych atakach bólowych. Na podstawie danych zweryfikuj hipotezę, że leki te są jednakowo skuteczne korzystając z testu:\n",
    "\n",
    "        a) McNemara z poprawką na ciągłość,\n",
    "        b) warunkowego (korzystając z funkcji zadeklarowanej w zadaniu 1.) \n",
    "\n",
    "<div align=\"center\">\n",
    "\n",
    "<table>\n",
    "  <thead>\n",
    "    <tr>\n",
    "      <th rowspan=\"2\">Reakcja na lek A</th>\n",
    "      <th colspan=\"2\">Reakcja na lek B</th>\n",
    "    </tr>\n",
    "    <tr>\n",
    "      <th>Negatywna</th>\n",
    "      <th>Pozytywna</th>\n",
    "    </tr>\n",
    "  </thead>\n",
    "  <tbody>\n",
    "    <tr>\n",
    "      <td><strong>Negatywna</strong></td>\n",
    "      <td>1</td>\n",
    "      <td>5</td>\n",
    "    </tr>\n",
    "    <tr>\n",
    "      <td><strong>Pozytywna</strong></td>\n",
    "      <td>2</td>\n",
    "      <td>4</td>\n",
    "    </tr>\n",
    "  </tbody>\n",
    "</table>\n",
    "\n",
    "<br>\n",
    "Table 1: Dane do zadania 2.\n"
   ]
  },
  {
   "cell_type": "markdown",
   "id": "4ee623c6",
   "metadata": {},
   "source": [
    "Na podstawie danych zawartych w **Tabeli 1**, testujemy hipotezę:\n",
    "\n",
    "$\n",
    "H_0: \\text{Skuteczność leku A i leku B jest taka sama}\n",
    "$\n",
    "\n",
    "Dane przedstawiają sparowaną tablicę 2×2:\n",
    "\n",
    "|                        | Lek B: Negatywna | Lek B: Pozytywna |\n",
    "|------------------------|------------------|------------------|\n",
    "| **Lek A: Negatywna**   | $ a = 1 $       | $ b = 5 $      |\n",
    "| **Lek A: Pozytywna**   | $ c = 2 $       | $ d = 4 $       |\n",
    "\n",
    "Zatem mamy:\n",
    "- $ b = 5 $: A negatywna, B pozytywna  \n",
    "- $ c = 2 $: A pozytywna, B negatywna"
   ]
  },
  {
   "cell_type": "markdown",
   "id": "13847afa",
   "metadata": {},
   "source": [
    "#### a) Test McNemara z poprawką na ciągłość\n",
    "\n",
    "Test McNemara dla tabeli 2×2 z poprawką na ciągłość obliczany jest ze wzoru:\n",
    "\n",
    "$\n",
    "\\chi^2 = \\frac{(|b - c| - 1)^2}{b + c}\n",
    "$\n",
    "\n",
    "Wartość statystyki testowej porównujemy z rozkładem chi-kwadrat z 1 stopniem swobody."
   ]
  },
  {
   "cell_type": "code",
   "execution_count": 7,
   "id": "82b8f7ce",
   "metadata": {},
   "outputs": [
    {
     "name": "stdout",
     "output_type": "stream",
     "text": [
      "Test McNemara:\n",
      "Statystyka chi^2: 0.5714285714285714\n",
      "P-wartość: 0.4496917979688908\n"
     ]
    }
   ],
   "source": [
    "b = 5\n",
    "c = 2\n",
    "\n",
    "chi2_stat = ((abs(b - c) - 1) ** 2) / (b + c)\n",
    "p_mcnemar = 1 - chi2.cdf(chi2_stat, df=1)\n",
    "\n",
    "print(\"Test McNemara:\")\n",
    "print(\"Statystyka chi^2:\", chi2_stat)\n",
    "print(\"P-wartość:\", p_mcnemar)"
   ]
  },
  {
   "cell_type": "markdown",
   "id": "f667dac1",
   "metadata": {},
   "source": [
    "#### b) Warunkowy test symetrii "
   ]
  },
  {
   "cell_type": "code",
   "execution_count": 8,
   "id": "3d3691bc",
   "metadata": {},
   "outputs": [
    {
     "name": "stdout",
     "output_type": "stream",
     "text": [
      "Warunkowy test symetrii:\n",
      "P-wartość: 0.453125\n"
     ]
    }
   ],
   "source": [
    "p_warunkowy = warunkowy_test_symetrii(b=5, c=2)\n",
    "\n",
    "print(\"Warunkowy test symetrii:\")\n",
    "print(\"P-wartość:\", p_warunkowy)"
   ]
  },
  {
   "cell_type": "markdown",
   "id": "fbea237c",
   "metadata": {},
   "source": [
    "W przypadku obu testów p-wartość jest **większa niż 0.05**, co oznacza, że **nie ma podstaw do odrzucenia hipotezy zerowej**. Nie zaobserwowano statystycznie istotnych różnic między skutecznością leków A i B. Oznacza to, że na podstawie dostępnych danych **nie możemy stwierdzić, że jeden lek działa lepiej od drugiego**."
   ]
  },
  {
   "cell_type": "markdown",
   "id": "383dffa9",
   "metadata": {},
   "source": [
    "### ZADANIE 3\n",
    "    Przeprowadź symulacje w celu porównania mocy testu Z i testu Z0 przedstawionych na wykładzie. Rozważ różne długości prób."
   ]
  },
  {
   "cell_type": "markdown",
   "id": "d698e7df",
   "metadata": {},
   "source": [
    "Rozważamy sytuację par obserwacji (np. odpowiedź przed i po leczeniu), gdzie interesuje nas różnica pomiędzy liczbą przypadków typu:\n",
    "\n",
    "- $ Y_{12} $: przypadek jednostronnej zmiany w jedną stronę (np. z negatywnej na pozytywną),\n",
    "- $ Y_{21} $: przypadek jednostronnej zmiany w drugą stronę (np. z pozytywnej na negatywną).\n",
    "\n",
    "Wartość statystyki testowej opiera się na różnicy $ D = Y_{12} - Y_{21} $"
   ]
  },
  {
   "cell_type": "markdown",
   "id": "0f6010dc",
   "metadata": {},
   "source": [
    "#### Test Z (wariancja oszacowana z danych):\n",
    "\n",
    "Zakładamy, że:\n",
    "\n",
    "- $ \\mathbb{E}[D] = 0 $ przy $ H_0 $\n",
    "- Wariancja D może być oszacowana z danych:  \n",
    "  $ \\hat{\\sigma}^2 = \\text{estymator wariancji D} $\n",
    "\n",
    "Statystyka testowa:\n",
    "\n",
    "$\n",
    "Z = \\frac{D}{\\hat{\\sigma}}\n",
    "$\n",
    "\n",
    "Jeśli $ H_0 $ jest prawdziwa, to asymptotycznie:\n",
    "\n",
    "$\n",
    "Z \\sim N(0,1)\n",
    "$\n",
    "\n",
    "P-wartość:\n",
    "\n",
    "$\n",
    "p = 2 \\left(1 - \\Phi(|Z|)\\right)\n",
    "$\n",
    "\n",
    "gdzie $ \\Phi $ to dystrybuanta standardowego rozkładu normalnego."
   ]
  },
  {
   "cell_type": "code",
   "execution_count": 14,
   "id": "15b862b2",
   "metadata": {},
   "outputs": [],
   "source": [
    "def test_Z(y12, y21):\n",
    "    D = y12 - y21\n",
    "    sigma2 = y12 + y21  # wariancja D oszacowana jako suma\n",
    "    if sigma2 == 0:\n",
    "        return 1.0\n",
    "    Z = D / np.sqrt(sigma2)\n",
    "    p_value = 2 * (1 - norm.cdf(abs(Z)))\n",
    "    return p_value"
   ]
  },
  {
   "cell_type": "markdown",
   "id": "17e614c8",
   "metadata": {},
   "source": [
    "#### Test Z₀ (wariancja oszacowana przez alternatywny estymator):\n",
    "\n",
    "Wariancja estymowana jest jako:\n",
    "\n",
    "$\n",
    "\\sigma_0^2 = \\frac{Y_{12} + Y_{21}}{2}\n",
    "$\n",
    "\n",
    "Zatem statystyka testowa ma postać:\n",
    "\n",
    "$\n",
    "Z_0 = \\frac{Y_{12} - Y_{21}}{\\sqrt{Y_{12} + Y_{21}}}\n",
    "$\n",
    "\n",
    "P-wartość również obliczamy jako:\n",
    "\n",
    "$\n",
    "p = 2 \\left(1 - \\Phi(|Z_0|)\\right)\n",
    "$\n"
   ]
  },
  {
   "cell_type": "code",
   "execution_count": 15,
   "id": "a8359f9b",
   "metadata": {},
   "outputs": [],
   "source": [
    "def test_Z0(y12, y21):\n",
    "    D = y12 - y21\n",
    "    sigma0 = np.sqrt(y12 + y21)\n",
    "    if sigma0 == 0:\n",
    "        return 1.0\n",
    "    Z0 = D / sigma0\n",
    "    p_value = 2 * (1 - norm.cdf(abs(Z0)))\n",
    "    return p_value"
   ]
  },
  {
   "cell_type": "code",
   "execution_count": null,
   "id": "a54ef55c",
   "metadata": {},
   "outputs": [
    {
     "name": "stderr",
     "output_type": "stream",
     "text": [
      "Delta = 0.0: 100%|██████████| 5/5 [00:06<00:00,  1.21s/it]\n",
      "Delta = 0.1: 100%|██████████| 5/5 [00:05<00:00,  1.10s/it]\n",
      "Delta = 0.2: 100%|██████████| 5/5 [00:05<00:00,  1.14s/it]\n",
      "Delta = 0.3: 100%|██████████| 5/5 [00:05<00:00,  1.05s/it]\n"
     ]
    },
    {
     "data": {
      "image/png": "[encoded data removed]",
      "text/plain": [
       "<Figure size 720x432 with 1 Axes>"
      ]
     },
     "metadata": {
      "needs_background": "light"
     },
     "output_type": "display_data"
    }
   ],
   "source": [
    "n_values = [10, 20, 50, 100, 200]      # różne długości prób\n",
    "delta_values = [0.0, 0.1, 0.2, 0.3]    # różnice p12 - p21\n",
    "alpha = 0.05                           # poziom istotności\n",
    "n_sim = 5000                           # liczba powtórzeń symulacji\n",
    "\n",
    "results_Z = {}\n",
    "results_Z0 = {}\n",
    "\n",
    "for delta in delta_values:\n",
    "    power_Z = []\n",
    "    power_Z0 = []\n",
    "    for n in tqdm(n_values, desc=f\"Delta = {delta}\"):\n",
    "        p12 = 0.25 + delta / 2\n",
    "        p21 = 0.25 - delta / 2\n",
    "\n",
    "        reject_Z = 0\n",
    "        reject_Z0 = 0\n",
    "\n",
    "        for _ in range(n_sim):\n",
    "            y12 = np.random.binomial(n, p12)\n",
    "            y21 = np.random.binomial(n, p21)\n",
    "\n",
    "            if test_Z(y12, y21) < alpha:\n",
    "                reject_Z += 1\n",
    "            if test_Z0(y12, y21) < alpha:\n",
    "                reject_Z0 += 1\n",
    "\n",
    "        power_Z.append(reject_Z / n_sim)\n",
    "        power_Z0.append(reject_Z0 / n_sim)\n",
    "\n",
    "    results_Z[delta] = power_Z\n",
    "    results_Z0[delta] = power_Z0\n",
    "\n",
    "plt.figure(figsize=(10, 6))\n",
    "\n",
    "for delta in delta_values:\n",
    "    plt.plot(n_values, results_Z[delta], marker='o', label=f\"Z, Δ={delta}\")\n",
    "    plt.plot(n_values, results_Z0[delta], marker='s', linestyle='--', label=f\"Z₀, Δ={delta}\")\n",
    "\n",
    "plt.axhline(alpha, color='gray', linestyle=':', label=\"Poziom α\")\n",
    "plt.title(\"Porównanie mocy testów Z i Z₀\")\n",
    "plt.xlabel(\"Rozmiar próby n\")\n",
    "plt.ylabel(\"Moc testu (prawd. odrzucenia H₀)\")\n",
    "plt.legend()\n",
    "plt.grid(True)\n",
    "plt.tight_layout()\n",
    "plt.show()"
   ]
  },
  {
   "cell_type": "markdown",
   "id": "35face7d",
   "metadata": {},
   "source": [
    "### ZADANIE 4\n",
    "    Dla danych dołączonych do pierwszej listy zadań, na podstawie zmiennych CZY_ZADW oraz CZY_ZADW_2, zweryfikuj hipotezę, że zadowolenie ze szkoleń w pierwszym badanym okresie i w drugim badanym okresie pierwszego badania odpowiada modelowi symetrii. Czy na podstawie uzyskanych wników możemy wnioskować, że poziom zadowolenia ze szkoleń nie uległ zmianie? Przyjmij poziom istotności 0.05."
   ]
  },
  {
   "cell_type": "code",
   "execution_count": null,
   "id": "e5f195c1",
   "metadata": {},
   "outputs": [],
   "source": []
  },
  {
   "cell_type": "markdown",
   "id": "9199ab98",
   "metadata": {},
   "source": [
    "### ZADANIE 5\n",
    "    W firmie, o której mowa w zadaniu 1 z listy 1, wdrożono pewne działania w celu poprawy komfortu pracy. Następnie badaną grupę respondentów ponownie poproszono o odpowiedź na pytanie dotyczące oceny podejścia firmy do umożliwiania wdrażania wiedzy zdobytej na szkoleniach. W Tabeli 2 przedstawiono tablicę dwudzielczą uwzględniającą odpowiedzi na pytanie w obu tych okresach. Na podstawie danych zweryfikuj hipotezę, że odpowiedzi w pierwszym badanym okresie i w drugim okresie odpowiadają modelowi symetrii. Na podstawie wyników uzyskanych przy weryfikacji hipotezy dotyczącej symetrii, sformułuj wniosek dotyczący hipotezy, że ocena podejścia firmy nie uległa zmianie.\n",
    "\n",
    "<div align=\"center\">\n",
    "\n",
    "<table>\n",
    "  <thead>\n",
    "    <tr>\n",
    "      <th rowspan=\"2\">Pytanie 1</th>\n",
    "      <th colspan=\"5\">Pytanie 2</th>\n",
    "    </tr>\n",
    "    <tr>\n",
    "      <th>-2</th>\n",
    "      <th>-1</th>\n",
    "      <th>0</th>\n",
    "      <th>1</th>\n",
    "      <th>2</th>\n",
    "    </tr>\n",
    "  </thead>\n",
    "  <tbody>\n",
    "    <tr>\n",
    "      <td><strong>-2</strong></td>\n",
    "      <td>10</td>\n",
    "      <td>2</td>\n",
    "      <td>1</td>\n",
    "      <td>1</td>\n",
    "      <td>0</td>\n",
    "    </tr>\n",
    "    <tr>\n",
    "      <td><strong>-1</strong></td>\n",
    "      <td>0</td>\n",
    "      <td>15</td>\n",
    "      <td>1</td>\n",
    "      <td>1</td>\n",
    "      <td>0</td>\n",
    "    </tr>\n",
    "    <tr>\n",
    "      <td><strong>0</strong></td>\n",
    "      <td>1</td>\n",
    "      <td>1</td>\n",
    "      <td>32</td>\n",
    "      <td>6</td>\n",
    "      <td>0</td>\n",
    "    </tr>\n",
    "    <tr>\n",
    "      <td><strong>1</strong></td>\n",
    "      <td>0</td>\n",
    "      <td>0</td>\n",
    "      <td>1</td>\n",
    "      <td>96</td>\n",
    "      <td>3</td>\n",
    "    </tr>\n",
    "    <tr>\n",
    "      <td><strong>2</strong></td>\n",
    "      <td>1</td>\n",
    "      <td>1</td>\n",
    "      <td>0</td>\n",
    "      <td>1</td>\n",
    "      <td>26</td>\n",
    "    </tr>\n",
    "  </tbody>\n",
    "</table>\n",
    "\n",
    "<br>\n",
    "Table 1: Dane do zadania 5."
   ]
  },
  {
   "cell_type": "markdown",
   "id": "fa5e24be",
   "metadata": {},
   "source": [
    "## CZĘŚĆ III"
   ]
  },
  {
   "cell_type": "markdown",
   "id": "af550067",
   "metadata": {},
   "source": [
    "### ZADANIE 6\n",
    "    W pewnym badaniu porównywano skuteczność dwóch metod leczenia: Leczenie A to nowa procedura, a Leczenie B to stara procedura. Przeanalizuj dane przedstawione w Tabeli 3 (wyniki dla całej grupy pacjentów) oraz w Tabelach 4 i 5 (wyniki w podgrupach ze względu na dodatkową zmienną) i odpowiedz na pytanie, czy dla danych występuje paradoks Simpsona.\n",
    "\n",
    "<div align=\"center\">\n",
    "\n",
    "<table>\n",
    "  <thead>\n",
    "    <tr>\n",
    "      <th rowspan=\"2\">Metoda</th>\n",
    "      <th colspan=\"2\">Wynik leczenia</th>\n",
    "    </tr>\n",
    "    <tr>\n",
    "      <th>Poprawa</th>\n",
    "      <th>Brak</th>\n",
    "    </tr>\n",
    "  </thead>\n",
    "  <tbody>\n",
    "    <tr>\n",
    "      <td><strong>Leczenie A</strong></td>\n",
    "      <td>117</td>\n",
    "      <td>104</td>\n",
    "    </tr>\n",
    "    <tr>\n",
    "      <td><strong>Leczenie B</strong></td>\n",
    "      <td>177</td>\n",
    "      <td>44</td>\n",
    "    </tr>\n",
    "  </tbody>\n",
    "</table>\n",
    "<br>\n",
    "Table 3: Dane dla całej grupy\n",
    "\n",
    "$\\quad$\n",
    "\n",
    "<table>\n",
    "  <thead>\n",
    "    <tr>\n",
    "      <th rowspan=\"2\">Metoda</th>\n",
    "      <th colspan=\"2\">Wynik leczenia</th>\n",
    "    </tr>\n",
    "    <tr>\n",
    "      <th>Poprawa</th>\n",
    "      <th>Brak</th>\n",
    "    </tr>\n",
    "  </thead>\n",
    "  <tbody>\n",
    "    <tr>\n",
    "      <td><strong>Leczenie A</strong></td>\n",
    "      <td>17</td>\n",
    "      <td>101</td>\n",
    "    </tr>\n",
    "    <tr>\n",
    "      <td><strong>Leczenie B</strong></td>\n",
    "      <td>2</td>\n",
    "      <td>36</td>\n",
    "    </tr>\n",
    "  </tbody>\n",
    "</table>\n",
    "<br>\n",
    "Table 4: Dane dla pacjentów z chorobami współistniejącymi\n",
    "\n",
    "\n",
    "$\\quad$\n",
    "<table>\n",
    "  <thead>\n",
    "    <tr>\n",
    "      <th rowspan=\"2\">Metoda</th>\n",
    "      <th colspan=\"2\">Wynik leczenia</th>\n",
    "    </tr>\n",
    "    <tr>\n",
    "      <th>Poprawa</th>\n",
    "      <th>Brak</th>\n",
    "    </tr>\n",
    "  </thead>\n",
    "  <tbody>\n",
    "    <tr>\n",
    "      <td><strong>Leczenie A</strong></td>\n",
    "      <td>100</td>\n",
    "      <td>3</td>\n",
    "    </tr>\n",
    "    <tr>\n",
    "      <td><strong>Leczenie B</strong></td>\n",
    "      <td>175</td>\n",
    "      <td>8</td>\n",
    "    </tr>\n",
    "  </tbody>\n",
    "</table>\n",
    "\n",
    "<br>\n",
    "Table 5: Dane dla pacjentów bez chorób współistniejących"
   ]
  },
  {
   "cell_type": "markdown",
   "id": "1e7a254a",
   "metadata": {},
   "source": [
    "### ZADANIE 7\n",
    "    Dla danych z listy 1, przyjmując za zmienną 1 zmienną CZY_KIER, za zmienną 2– zmienną PYT_2 i za zmienną 3– zmienną STAŻ, podaj interpretacje nastepujacych modeli log-liniowych: [1 3], [13], [1 2 3], [12 3], [12 13] oraz [1 23]."
   ]
  },
  {
   "cell_type": "markdown",
   "id": "9980ddfd",
   "metadata": {},
   "source": [
    "## CZĘŚĆ IV i V"
   ]
  },
  {
   "cell_type": "markdown",
   "id": "52f468f2",
   "metadata": {},
   "source": [
    "### ZADANIE 8\n",
    "    Przyjmując model log-liniowy [123] dla zmiennych opisanych w zadaniu 7 oszacuj prawdopobiebieństwa:\n",
    "        a) że osoba pracująca na stanowisku kierowniczym jest zdecydowanie zadowolona ze szkoleń;\n",
    "        b) że osoba o stażu pracy krótszym niż rok pracuje na stanowisku kierowniczym;\n",
    "        c) że osoba o stażu pracy powyżej trzech lat nie pracuje na stanowisku kierowniczym.\n",
    "    Jakie byłyby oszacowania powyższych prawdopodobieństw przy założeniu modelu [12 23]?"
   ]
  },
  {
   "cell_type": "markdown",
   "id": "2e3de55b",
   "metadata": {},
   "source": [
    "### ZADANIE 9\n",
    "    Dla danych wskazanych w zadaniu 7 zweryfikuj następujące hipotezy:\n",
    "        a) zmienne losowe CZY_KIER, PYT_2 i STAŻ są wzajemnie niezależne;\n",
    "        b) zmienna losowa PYT_2 jest niezależna od pary zmiennych CZY_KIER i STAŻ;\n",
    "        c)  zmienna losowa PYT_2 jest niezależna od zmiennej CZY_KIER, przy ustalonej wartości zmiennej STAŻ."
   ]
  },
  {
   "cell_type": "markdown",
   "id": "acb47d47",
   "metadata": {},
   "source": [
    "--------------------------------------------------"
   ]
  },
  {
   "cell_type": "markdown",
   "id": "5c7a6ea2",
   "metadata": {},
   "source": [
    "## ZADANIA DODATKOWE"
   ]
  },
  {
   "cell_type": "markdown",
   "id": "813d97d7",
   "metadata": {},
   "source": [
    "### ZADANIE *1\n",
    "    W przypadku zadania 5 występuje problem z zastosowaniem testu Bowkera ze względu na występowanie zer na określonych miejscach w tabeli z danymi. Zastosuj w tym przypadku dokładny test symetrii i opisz w jaki sposób wyznaczana jest wartość poziomu krytycznego w tym teście."
   ]
  },
  {
   "cell_type": "markdown",
   "id": "3d7a6857",
   "metadata": {},
   "source": [
    "### ZADANIE *2\n",
    "    Na podstawie danych z listy 1 dokonaj wyboru modelu rozważając uwzględnienie zmiennych PYT_1, PYT_2 i PŁEĆ w oparciu o:\n",
    "        a) testy\n",
    "        b) kryterium AIC\n",
    "        c) kryterium BIC"
   ]
  }
 ],
 "metadata": {
  "kernelspec": {
   "display_name": "base",
   "language": "python",
   "name": "python3"
  },
  "language_info": {
   "codemirror_mode": {
    "name": "ipython",
    "version": 3
   },
   "file_extension": ".py",
   "mimetype": "text/x-python",
   "name": "python",
   "nbconvert_exporter": "python",
   "pygments_lexer": "ipython3",
   "version": "3.9.12"
  }
 },
 "nbformat": 4,
 "nbformat_minor": 5
}
