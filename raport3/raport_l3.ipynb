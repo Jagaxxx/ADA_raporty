{
 "cells": [
  {
   "cell_type": "markdown",
   "id": "b580e9c1",
   "metadata": {},
   "source": [
    "$$\\Huge \\text{RAPORT}$$\n",
    "$$\\huge \\text{LISTA 3}$$\n",
    "$$\\large \\text{Autorzy: Katarzyna Rudzińska, Jagoda Płócienniczak}$$"
   ]
  },
  {
   "cell_type": "markdown",
   "id": "11f39de5",
   "metadata": {},
   "source": [
    "## CZĘŚĆ I i II"
   ]
  },
  {
   "cell_type": "markdown",
   "id": "bf89fb82",
   "metadata": {},
   "source": [
    "### ZADANIE 1\n",
    "    Napisz funkcję, która zwraca p-wartość w omówionym na wykładzie warunkowym teście symetrii w przypadku tabeli 2×2."
   ]
  },
  {
   "cell_type": "markdown",
   "id": "4b5e050e",
   "metadata": {},
   "source": [
    "### ZADANIE 2\n",
    "    W tabeli 1 umieszczono dane dotyczące reakcji na lek po godzinie od jego przyjęcia dla dwóch różnych leków przeciwbólowych stosowanych w migrenie. Leki zostały zaaplikowane grupie pacjentów w dwóch różnych atakach bólowych. Na podstawie danych zweryfikuj hipotezę, że leki te są jednakowo skuteczne korzystając z testu:\n",
    "\n",
    "        a) McNemara z poprawką na ciągłość,\n",
    "        b) warunkowego (korzystając z funkcji zadeklarowanej w zadaniu 1.) \n",
    "\n",
    "<div align=\"center\">\n",
    "\n",
    "<table>\n",
    "  <thead>\n",
    "    <tr>\n",
    "      <th rowspan=\"2\">Reakcja na lek A</th>\n",
    "      <th colspan=\"2\">Reakcja na lek B</th>\n",
    "    </tr>\n",
    "    <tr>\n",
    "      <th>Negatywna</th>\n",
    "      <th>Pozytywna</th>\n",
    "    </tr>\n",
    "  </thead>\n",
    "  <tbody>\n",
    "    <tr>\n",
    "      <td><strong>Negatywna</strong></td>\n",
    "      <td>1</td>\n",
    "      <td>5</td>\n",
    "    </tr>\n",
    "    <tr>\n",
    "      <td><strong>Pozytywna</strong></td>\n",
    "      <td>2</td>\n",
    "      <td>4</td>\n",
    "    </tr>\n",
    "  </tbody>\n",
    "</table>\n",
    "\n",
    "<br>\n",
    "Table 1: Dane do zadania 2.\n"
   ]
  },
  {
   "cell_type": "markdown",
   "id": "383dffa9",
   "metadata": {},
   "source": [
    "### ZADANIE 3\n",
    "  Przeprowadź symulacje w celu porównania mocy testu Z i testu Z0 przedstawionych na wykładzie. Rozważ różne długości prób."
   ]
  },
  {
   "cell_type": "markdown",
   "id": "35face7d",
   "metadata": {},
   "source": [
    "### ZADANIE 4\n",
    "    Dla danych dołączonych do pierwszej listy zadań, na podstawie zmiennych CZY_ZADW oraz CZY_ZADW_2, zweryfikuj hipotezę, że zadowolenie ze szkoleń w pierwszym badanym okresie i w drugim badanym okresie pierwszego badania odpowiada modelowi symetrii. Czy na podstawie uzyskanych wników możemy wnioskować, że poziom zadowolenia ze szkoleń nie uległ zmianie? Przyjmij poziom istotności 0.05."
   ]
  },
  {
   "cell_type": "markdown",
   "id": "9199ab98",
   "metadata": {},
   "source": [
    "### ZADANIE 5\n",
    "    W firmie, o której mowa w zadaniu 1 z listy 1, wdrożono pewne działania w celu poprawy komfortu pracy. Następnie badaną grupę respondentów ponownie poproszono o odpowiedź na pytanie dotyczące oceny podejścia firmy do umożliwiania wdrażania wiedzy zdobytej na szkoleniach. W Tabeli 2 przedstawiono tablicę dwudzielczą uwzględniającą odpowiedzi na pytanie w obu tych okresach. Na podstawie danych zweryfikuj hipotezę, że odpowiedzi w pierwszym badanym okresie i w drugim okresie odpowiadają modelowi symetrii. Na podstawie wyników uzyskanych przy weryfikacji hipotezy dotyczącej symetrii, sformułuj wniosek dotyczący hipotezy, że ocena podejścia firmy nie uległa zmianie.\n",
    "\n",
    "<div align=\"center\">\n",
    "\n",
    "<table>\n",
    "  <thead>\n",
    "    <tr>\n",
    "      <th rowspan=\"2\">Pytanie 1</th>\n",
    "      <th colspan=\"5\">Pytanie 2</th>\n",
    "    </tr>\n",
    "    <tr>\n",
    "      <th>-2</th>\n",
    "      <th>-1</th>\n",
    "      <th>0</th>\n",
    "      <th>1</th>\n",
    "      <th>2</th>\n",
    "    </tr>\n",
    "  </thead>\n",
    "  <tbody>\n",
    "    <tr>\n",
    "      <td><strong>-2</strong></td>\n",
    "      <td>10</td>\n",
    "      <td>2</td>\n",
    "      <td>1</td>\n",
    "      <td>1</td>\n",
    "      <td>0</td>\n",
    "    </tr>\n",
    "    <tr>\n",
    "      <td><strong>-1</strong></td>\n",
    "      <td>0</td>\n",
    "      <td>15</td>\n",
    "      <td>1</td>\n",
    "      <td>1</td>\n",
    "      <td>0</td>\n",
    "    </tr>\n",
    "    <tr>\n",
    "      <td><strong>0</strong></td>\n",
    "      <td>1</td>\n",
    "      <td>1</td>\n",
    "      <td>32</td>\n",
    "      <td>6</td>\n",
    "      <td>0</td>\n",
    "    </tr>\n",
    "    <tr>\n",
    "      <td><strong>1</strong></td>\n",
    "      <td>0</td>\n",
    "      <td>0</td>\n",
    "      <td>1</td>\n",
    "      <td>96</td>\n",
    "      <td>3</td>\n",
    "    </tr>\n",
    "    <tr>\n",
    "      <td><strong>2</strong></td>\n",
    "      <td>1</td>\n",
    "      <td>1</td>\n",
    "      <td>0</td>\n",
    "      <td>1</td>\n",
    "      <td>26</td>\n",
    "    </tr>\n",
    "  </tbody>\n",
    "</table>\n",
    "\n",
    "<br>\n",
    "Table 1: Dane do zadania 5."
   ]
  },
  {
   "cell_type": "markdown",
   "id": "fa5e24be",
   "metadata": {},
   "source": [
    "## CZĘŚĆ III"
   ]
  },
  {
   "cell_type": "markdown",
   "id": "af550067",
   "metadata": {},
   "source": [
    "### ZADANIE 6\n",
    "    W pewnym badaniu porównywano skuteczność dwóch metod leczenia: Leczenie A to nowa procedura, a Leczenie B to stara procedura. Przeanalizuj dane przedstawione w Tabeli 3 (wyniki dla całej grupy pacjentów) oraz w Tabelach 4 i 5 (wyniki w podgrupach ze względu na dodatkową zmienną) i odpowiedz na pytanie, czy dla danych występuje paradoks Simpsona.\n",
    "\n",
    "<div align=\"center\">\n",
    "\n",
    "<table>\n",
    "  <thead>\n",
    "    <tr>\n",
    "      <th rowspan=\"2\">Metoda</th>\n",
    "      <th colspan=\"2\">Wynik leczenia</th>\n",
    "    </tr>\n",
    "    <tr>\n",
    "      <th>Poprawa</th>\n",
    "      <th>Brak</th>\n",
    "    </tr>\n",
    "  </thead>\n",
    "  <tbody>\n",
    "    <tr>\n",
    "      <td><strong>Leczenie A</strong></td>\n",
    "      <td>117</td>\n",
    "      <td>104</td>\n",
    "    </tr>\n",
    "    <tr>\n",
    "      <td><strong>Leczenie B</strong></td>\n",
    "      <td>177</td>\n",
    "      <td>44</td>\n",
    "    </tr>\n",
    "  </tbody>\n",
    "</table>\n",
    "<br>\n",
    "Table 3: Dane dla całej grupy\n",
    "\n",
    "$\\quad$\n",
    "\n",
    "<table>\n",
    "  <thead>\n",
    "    <tr>\n",
    "      <th rowspan=\"2\">Metoda</th>\n",
    "      <th colspan=\"2\">Wynik leczenia</th>\n",
    "    </tr>\n",
    "    <tr>\n",
    "      <th>Poprawa</th>\n",
    "      <th>Brak</th>\n",
    "    </tr>\n",
    "  </thead>\n",
    "  <tbody>\n",
    "    <tr>\n",
    "      <td><strong>Leczenie A</strong></td>\n",
    "      <td>17</td>\n",
    "      <td>101</td>\n",
    "    </tr>\n",
    "    <tr>\n",
    "      <td><strong>Leczenie B</strong></td>\n",
    "      <td>2</td>\n",
    "      <td>36</td>\n",
    "    </tr>\n",
    "  </tbody>\n",
    "</table>\n",
    "<br>\n",
    "Table 4: Dane dla pacjentów z chorobami współistniejącymi\n",
    "\n",
    "\n",
    "$\\quad$\n",
    "<table>\n",
    "  <thead>\n",
    "    <tr>\n",
    "      <th rowspan=\"2\">Metoda</th>\n",
    "      <th colspan=\"2\">Wynik leczenia</th>\n",
    "    </tr>\n",
    "    <tr>\n",
    "      <th>Poprawa</th>\n",
    "      <th>Brak</th>\n",
    "    </tr>\n",
    "  </thead>\n",
    "  <tbody>\n",
    "    <tr>\n",
    "      <td><strong>Leczenie A</strong></td>\n",
    "      <td>100</td>\n",
    "      <td>3</td>\n",
    "    </tr>\n",
    "    <tr>\n",
    "      <td><strong>Leczenie B</strong></td>\n",
    "      <td>175</td>\n",
    "      <td>8</td>\n",
    "    </tr>\n",
    "  </tbody>\n",
    "</table>\n",
    "\n",
    "<br>\n",
    "Table 5: Dane dla pacjentów bez chorób współistniejących"
   ]
  },
  {
   "cell_type": "markdown",
   "id": "1e7a254a",
   "metadata": {},
   "source": [
    "### ZADANIE 7\n",
    "    Dla danych z listy 1, przyjmując za zmienną 1 zmienną CZY_KIER, za zmienną 2– zmienną PYT_2 i za zmienną 3– zmienną STAŻ, podaj interpretacje nastepujacych modeli log-liniowych: [1 3], [13], [1 2 3], [12 3], [12 13] oraz [1 23]."
   ]
  },
  {
   "cell_type": "markdown",
   "id": "9980ddfd",
   "metadata": {},
   "source": [
    "## CZĘŚĆ IV i V"
   ]
  },
  {
   "cell_type": "markdown",
   "id": "52f468f2",
   "metadata": {},
   "source": [
    "### ZADANIE 8\n",
    "    Przyjmując model log-liniowy [123] dla zmiennych opisanych w zadaniu 7 oszacuj prawdopobiebieństwa:\n",
    "        a) że osoba pracująca na stanowisku kierowniczym jest zdecydowanie zadowolona ze szkoleń;\n",
    "        b) że osoba o stażu pracy krótszym niż rok pracuje na stanowisku kierowniczym;\n",
    "        c) że osoba o stażu pracy powyżej trzech lat nie pracuje na stanowisku kierowniczym.\n",
    "    Jakie byłyby oszacowania powyższych prawdopodobieństw przy założeniu modelu [12 23]?"
   ]
  },
  {
   "cell_type": "markdown",
   "id": "2e3de55b",
   "metadata": {},
   "source": [
    "### ZADANIE 9\n",
    "    Dla danych wskazanych w zadaniu 7 zweryfikuj następujące hipotezy:\n",
    "        a) zmienne losowe CZY_KIER, PYT_2 i STAŻ są wzajemnie niezależne;\n",
    "        b) zmienna losowa PYT_2 jest niezależna od pary zmiennych CZY_KIER i STAŻ;\n",
    "        c)  zmienna losowa PYT_2 jest niezależna od zmiennej CZY_KIER, przy ustalonej wartości zmiennej STAŻ."
   ]
  },
  {
   "cell_type": "markdown",
   "id": "acb47d47",
   "metadata": {},
   "source": [
    "--------------------------------------------------"
   ]
  },
  {
   "cell_type": "markdown",
   "id": "5c7a6ea2",
   "metadata": {},
   "source": [
    "## ZADANIA DODATKOWE"
   ]
  },
  {
   "cell_type": "markdown",
   "id": "813d97d7",
   "metadata": {},
   "source": [
    "### ZADANIE *1\n",
    "    W przypadku zadania 5 występuje problem z zastosowaniem testu Bowkera ze względu na występowanie zer na określonych miejscach w tabeli z danymi. Zastosuj w tym przypadku dokładny test symetrii i opisz w jaki sposób wyznaczana jest wartość poziomu krytycznego w tym teście."
   ]
  },
  {
   "cell_type": "markdown",
   "id": "3d7a6857",
   "metadata": {},
   "source": [
    "### ZADANIE *2\n",
    "    Na podstawie danych z listy 1 dokonaj wyboru modelu rozważając uwzględnienie zmiennych PYT_1, PYT_2 i PŁEĆ w oparciu o:\n",
    "        a) testy\n",
    "        b) kryterium AIC\n",
    "        c) kryterium BIC"
   ]
  }
 ],
 "metadata": {
  "kernelspec": {
   "display_name": "Python 3",
   "language": "python",
   "name": "python3"
  },
  "language_info": {
   "name": "python",
   "version": "3.12.5"
  }
 },
 "nbformat": 4,
 "nbformat_minor": 5
}
