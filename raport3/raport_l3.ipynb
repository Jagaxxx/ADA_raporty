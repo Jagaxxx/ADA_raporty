{
 "cells": [
  {
   "cell_type": "markdown",
   "id": "b580e9c1",
   "metadata": {},
   "source": [
    "$$\\Huge \\text{RAPORT}$$\n",
    "$$\\huge \\text{LISTA 3}$$\n",
    "$$\\large \\text{Autorzy: Katarzyna Rudzińska, Jagoda Płócienniczak}$$"
   ]
  },
  {
   "cell_type": "code",
   "execution_count": 1,
   "id": "ef5ee8e0",
   "metadata": {},
   "outputs": [],
   "source": [
    "import numpy as np\n",
    "import pandas as pd\n",
    "import matplotlib.pyplot as plt\n",
    "from tqdm import tqdm\n",
    "from scipy.stats import binomtest, chi2, norm"
   ]
  },
  {
   "cell_type": "markdown",
   "id": "70b79e93",
   "metadata": {},
   "source": [
    "Analiza składa się z pięciu głównych części, z których niektóre odwołują się do wcześniej wprowadzonych pojęć i zmiennych z poprzedniego raportu. Aby zachować spójność oraz umożliwić pełne zrozumienie, ich implementacja została powtórzona również w tym opracowaniu. W ten sposób raport pozostaje spójny i czytelny."
   ]
  },
  {
   "cell_type": "code",
   "execution_count": 2,
   "id": "60add263",
   "metadata": {},
   "outputs": [],
   "source": [
    "data = pd.read_csv('ankieta.csv', encoding='Windows-1250', sep=';')\n",
    "data['DZIAŁ'] = data['DZIAŁ'].astype(\"category\")\n",
    "data['CZY_KIER'] = data['CZY_KIER'].astype(\"category\")\n",
    "data['PŁEĆ'] = data['PŁEĆ'].astype(\"category\")"
   ]
  },
  {
   "cell_type": "code",
   "execution_count": 3,
   "id": "d8f4b912",
   "metadata": {},
   "outputs": [],
   "source": [
    "def is_satisfied(satisfaction_lvl):\n",
    "    if satisfaction_lvl == -2 or satisfaction_lvl == -1:\n",
    "        return 'NIE'\n",
    "    else:\n",
    "        return 'TAK'\n",
    "\n",
    "data[\"CZY_ZADOW\"] = data[\"PYT_2\"].apply(is_satisfied)\n",
    "data[\"CZY_ZADOW\"] = data[\"CZY_ZADOW\"].astype(\"category\")"
   ]
  },
  {
   "cell_type": "code",
   "execution_count": 4,
   "id": "3d4d5dea",
   "metadata": {},
   "outputs": [],
   "source": [
    "data[\"CZY_ZADOW_2\"] = data[\"PYT_3\"].apply(is_satisfied)\n",
    "data[\"CZY_ZADOW_2\"] = data[\"CZY_ZADOW_2\"].astype(\"category\")\n",
    "\n",
    "czy_zadow = data[\"CZY_ZADOW\"].apply(lambda x: 1 if x == \"TAK\" else 0).astype(int)\n",
    "czy_zadow_2 = data[\"CZY_ZADOW_2\"].apply(lambda x: 1 if x == \"TAK\" else 0).astype(int)"
   ]
  },
  {
   "cell_type": "markdown",
   "id": "11f39de5",
   "metadata": {},
   "source": [
    "## CZĘŚĆ I i II"
   ]
  },
  {
   "cell_type": "markdown",
   "id": "bf89fb82",
   "metadata": {},
   "source": [
    "### ZADANIE 1\n",
    "    Napisz funkcję, która zwraca p-wartość w omówionym na wykładzie warunkowym teście symetrii w przypadku tabeli 2×2."
   ]
  },
  {
   "cell_type": "code",
   "execution_count": 2,
   "id": "97230c73",
   "metadata": {},
   "outputs": [],
   "source": [
    "def warunkowy_test_symetrii(b, c):\n",
    "    \"\"\"\n",
    "    Warunkowy test symetrii dla tabeli 2x2 oparty na rozkładzie dwumianowym B(n*, 1/2)\n",
    "\n",
    "    Parametry:\n",
    "    b -- liczba przypadków A=1, B=2 (Y_12)\n",
    "    c -- liczba przypadków A=2, B=1 (Y_21)\n",
    "\n",
    "    Zwraca:\n",
    "    p-wartość testu\n",
    "    \"\"\"\n",
    "    n_star = b + c\n",
    "    if n_star == 0:\n",
    "        return 1.0  # Brak danych do testu, przypadki symetryczne\n",
    "    wynik = binomtest(b, n=n_star, p=0.5, alternative='two-sided')\n",
    "    return wynik.pvalue\n"
   ]
  },
  {
   "cell_type": "markdown",
   "id": "39361d01",
   "metadata": {},
   "source": [
    "Funkcja `warunkowy_test_symetrii(b, c)` implementuje dokładny test warunkowy służący do sprawdzania **symetrii** w tabeli 2×2, czyli testowania hipotezy:\n",
    "\n",
    "$\n",
    "H_0 : p_{12} = p_{21}\n",
    "$\n",
    "\n",
    "Dla tabeli:\n",
    "\n",
    "|       | B=1       | B=2       |\n",
    "|-------|-----------|-----------|\n",
    "| A=1   | $ Y_{11} $ | $ Y_{12} $ |\n",
    "| A=2   | $ Y_{21} $ | $ Y_{22} $ |\n",
    "\n",
    "test koncentruje się na wartościach poza przekątną:  \n",
    "$ Y_{12} = b $, $ Y_{21} = c $\n",
    "\n",
    "Zakładając hipotezę zerową $ H_0 $, statystyka $ Y_{12} $ warunkowana sumą $ Y_{12} + Y_{21} = n^* $ ma rozkład:\n",
    "\n",
    "$\n",
    "Y_{12} \\mid (Y_{12} + Y_{21} = n^*) \\sim \\text{B}(n^*, 0.5)\n",
    "$\n",
    "\n",
    "gdzie:\n",
    "- $ n^* = b + c $ — łączna liczba przypadków niesymetrycznych,\n",
    "- $ \\text{B}(n^*, 0.5) $ — rozkład dwumianowy z parametrem sukcesu \\( p = 0.5 \\)\n",
    "\n",
    "Funkcja zwraca dokładną **p-wartość** testu dwustronnego na podstawie tego rozkładu. Jest to test **dokładny**, zalecany przy małych licznościach.\n"
   ]
  },
  {
   "cell_type": "code",
   "execution_count": 3,
   "id": "2b56b67b",
   "metadata": {},
   "outputs": [
    {
     "name": "stdout",
     "output_type": "stream",
     "text": [
      "P-wartość: 0.34375\n"
     ]
    }
   ],
   "source": [
    "p = warunkowy_test_symetrii(b=3, c=7)\n",
    "print(\"P-wartość:\", p)"
   ]
  },
  {
   "cell_type": "markdown",
   "id": "4b5e050e",
   "metadata": {},
   "source": [
    "### ZADANIE 2\n",
    "    W tabeli 1 umieszczono dane dotyczące reakcji na lek po godzinie od jego przyjęcia dla dwóch różnych leków przeciwbólowych stosowanych w migrenie. Leki zostały zaaplikowane grupie pacjentów w dwóch różnych atakach bólowych. Na podstawie danych zweryfikuj hipotezę, że leki te są jednakowo skuteczne korzystając z testu:\n",
    "\n",
    "        a) McNemara z poprawką na ciągłość,\n",
    "        b) warunkowego (korzystając z funkcji zadeklarowanej w zadaniu 1.) \n",
    "\n",
    "<div align=\"center\">\n",
    "\n",
    "<table>\n",
    "  <thead>\n",
    "    <tr>\n",
    "      <th rowspan=\"2\">Reakcja na lek A</th>\n",
    "      <th colspan=\"2\">Reakcja na lek B</th>\n",
    "    </tr>\n",
    "    <tr>\n",
    "      <th>Negatywna</th>\n",
    "      <th>Pozytywna</th>\n",
    "    </tr>\n",
    "  </thead>\n",
    "  <tbody>\n",
    "    <tr>\n",
    "      <td><strong>Negatywna</strong></td>\n",
    "      <td>1</td>\n",
    "      <td>5</td>\n",
    "    </tr>\n",
    "    <tr>\n",
    "      <td><strong>Pozytywna</strong></td>\n",
    "      <td>2</td>\n",
    "      <td>4</td>\n",
    "    </tr>\n",
    "  </tbody>\n",
    "</table>\n",
    "\n",
    "<br>\n",
    "Table 1: Dane do zadania 2.\n"
   ]
  },
  {
   "cell_type": "markdown",
   "id": "4ee623c6",
   "metadata": {},
   "source": [
    "Na podstawie danych zawartych w **Tabeli 1**, testujemy hipotezę:\n",
    "\n",
    "$\n",
    "H_0: \\text{Skuteczność leku A i leku B jest taka sama}\n",
    "$\n",
    "\n",
    "Dane przedstawiają sparowaną tablicę 2×2:\n",
    "\n",
    "|                        | Lek B: Negatywna | Lek B: Pozytywna |\n",
    "|------------------------|------------------|------------------|\n",
    "| **Lek A: Negatywna**   | $ a = 1 $       | $ b = 5 $      |\n",
    "| **Lek A: Pozytywna**   | $ c = 2 $       | $ d = 4 $       |\n",
    "\n",
    "Zatem mamy:\n",
    "- $ b = 5 $: A negatywna, B pozytywna  \n",
    "- $ c = 2 $: A pozytywna, B negatywna"
   ]
  },
  {
   "cell_type": "markdown",
   "id": "13847afa",
   "metadata": {},
   "source": [
    "#### a) Test McNemara z poprawką na ciągłość\n",
    "\n",
    "Test McNemara dla tabeli 2×2 z poprawką na ciągłość obliczany jest ze wzoru:\n",
    "\n",
    "$\n",
    "\\chi^2 = \\frac{(|b - c| - 1)^2}{b + c}\n",
    "$\n",
    "\n",
    "Wartość statystyki testowej porównujemy z rozkładem chi-kwadrat z 1 stopniem swobody."
   ]
  },
  {
   "cell_type": "code",
   "execution_count": 7,
   "id": "82b8f7ce",
   "metadata": {},
   "outputs": [
    {
     "name": "stdout",
     "output_type": "stream",
     "text": [
      "Test McNemara:\n",
      "Statystyka chi^2: 0.5714285714285714\n",
      "P-wartość: 0.4496917979688908\n"
     ]
    }
   ],
   "source": [
    "b = 5\n",
    "c = 2\n",
    "\n",
    "chi2_stat = ((abs(b - c) - 1) ** 2) / (b + c)\n",
    "p_mcnemar = 1 - chi2.cdf(chi2_stat, df=1)\n",
    "\n",
    "print(\"Test McNemara:\")\n",
    "print(\"Statystyka chi^2:\", chi2_stat)\n",
    "print(\"P-wartość:\", p_mcnemar)"
   ]
  },
  {
   "cell_type": "markdown",
   "id": "f667dac1",
   "metadata": {},
   "source": [
    "#### b) Warunkowy test symetrii "
   ]
  },
  {
   "cell_type": "code",
   "execution_count": 8,
   "id": "3d3691bc",
   "metadata": {},
   "outputs": [
    {
     "name": "stdout",
     "output_type": "stream",
     "text": [
      "Warunkowy test symetrii:\n",
      "P-wartość: 0.453125\n"
     ]
    }
   ],
   "source": [
    "p_warunkowy = warunkowy_test_symetrii(b=5, c=2)\n",
    "\n",
    "print(\"Warunkowy test symetrii:\")\n",
    "print(\"P-wartość:\", p_warunkowy)"
   ]
  },
  {
   "cell_type": "markdown",
   "id": "fbea237c",
   "metadata": {},
   "source": [
    "W przypadku obu testów p-wartość jest **większa niż 0.05**, co oznacza, że **nie ma podstaw do odrzucenia hipotezy zerowej**. Nie zaobserwowano statystycznie istotnych różnic między skutecznością leków A i B. Oznacza to, że na podstawie dostępnych danych **nie możemy stwierdzić, że jeden lek działa lepiej od drugiego**."
   ]
  },
  {
   "cell_type": "markdown",
   "id": "383dffa9",
   "metadata": {},
   "source": [
    "### ZADANIE 3\n",
    "    Przeprowadź symulacje w celu porównania mocy testu Z i testu Z0 przedstawionych na wykładzie. Rozważ różne długości prób."
   ]
  },
  {
   "cell_type": "markdown",
   "id": "d698e7df",
   "metadata": {},
   "source": [
    "Celem symulacji jest porównanie **mocy** dwóch testów statystycznych służących do porównania dwóch proporcji.\n",
    "\n",
    "Statystyka testowa\n",
    "\n",
    "Dla obu testów analizujemy różnicę pomiędzy proporcjami:\n",
    "$\n",
    "D = \\hat{p}_{1+} - \\hat{p}_{+1} = \\frac{Y_{12}}{n} - \\frac{Y_{21}}{n}\n",
    "$"
   ]
  },
  {
   "cell_type": "markdown",
   "id": "0f6010dc",
   "metadata": {},
   "source": [
    "#### Test $Z$:\n",
    "\n",
    "Statystyka testowa:\n",
    "$\n",
    "Z = \\frac{D}{\\sqrt{\\hat{\\sigma}^2(D)}}\n",
    "$\n",
    "\n",
    "gdzie:\n",
    "$\n",
    "\\hat{\\sigma}^2(D) = \\frac{\\hat{p}_{1+}(1 - \\hat{p}_{1+}) +\\hat{p}_{+1}(1 - \\hat{p}_{+1}) -2\\hat{p}_{12} \\hat{p}_{21}}{n}\n",
    "$"
   ]
  },
  {
   "cell_type": "code",
   "execution_count": 12,
   "id": "15b862b2",
   "metadata": {},
   "outputs": [],
   "source": [
    "def test_Z(y12, y21, n):\n",
    "    p1_plus = y12 / n\n",
    "    p_plus1 = y21 / n\n",
    "    p12 = y12 / n\n",
    "    p21 = y21 / n\n",
    "\n",
    "    D = p1_plus - p_plus1\n",
    "\n",
    "    var = (p1_plus * (1 - p1_plus) +\n",
    "           p_plus1 * (1 - p_plus1) -\n",
    "           2 * p12 * p21) / n\n",
    "\n",
    "    if var <= 0:\n",
    "        return 1.0\n",
    "\n",
    "    Z = D / np.sqrt(var)\n",
    "    p_value = 2 * (1 - norm.cdf(abs(Z)))\n",
    "    return p_value"
   ]
  },
  {
   "cell_type": "markdown",
   "id": "17e614c8",
   "metadata": {},
   "source": [
    "#### Test $Z_0$:\n",
    "\n",
    "Statystyka testowa:\n",
    "$\n",
    "Z_0 = \\frac{D}{\\sqrt{\\sigma_0^2}}, \\quad \\text{gdzie} \\quad\n",
    "\\sigma_0^2 = \\frac{Y_{12} + Y_{21}}{n^2}\n",
    "$"
   ]
  },
  {
   "cell_type": "code",
   "execution_count": null,
   "id": "a8359f9b",
   "metadata": {},
   "outputs": [],
   "source": [
    "def test_Z0(y12, y21, n):\n",
    "    p1_plus = y12 / n\n",
    "    p_plus1 = y21 / n\n",
    "    D = p1_plus - p_plus1\n",
    "\n",
    "    var0 = (y12 + y21) / (n ** 2)\n",
    "    if var0 <= 0:\n",
    "        return 1.0\n",
    "\n",
    "    Z0 = D / np.sqrt(var0)\n",
    "    p_value = 2 * (1 - norm.cdf(abs(Z0)))\n",
    "    return p_value"
   ]
  },
  {
   "cell_type": "markdown",
   "id": "66bb0486",
   "metadata": {},
   "source": [
    "W przeprowadzonej symulacji porównano moc testów $Z$ i $Z_0$ dla różnych wielkości prób (n = 10, 20, 50, 100, 200) oraz różnic pomiędzy prawdopodobieństwami przejść niesymetrycznych $p_{12}$ i $p_{21}$, określonych jako $\\Delta = p_{12} - p_{21} = 0.0, 0.1, 0.2, 0.3$. "
   ]
  },
  {
   "cell_type": "code",
   "execution_count": 16,
   "id": "a54ef55c",
   "metadata": {},
   "outputs": [
    {
     "name": "stderr",
     "output_type": "stream",
     "text": [
      "Delta = 0.0:   0%|          | 0/5 [00:00<?, ?it/s]"
     ]
    },
    {
     "name": "stderr",
     "output_type": "stream",
     "text": [
      "Delta = 0.0: 100%|██████████| 5/5 [00:06<00:00,  1.34s/it]\n",
      "Delta = 0.1: 100%|██████████| 5/5 [00:13<00:00,  2.60s/it]\n",
      "Delta = 0.2: 100%|██████████| 5/5 [00:08<00:00,  1.61s/it]\n",
      "Delta = 0.3: 100%|██████████| 5/5 [00:06<00:00,  1.24s/it]\n"
     ]
    },
    {
     "data": {
      "image/png": "[encoded data removed]",
      "text/plain": [
       "<Figure size 720x432 with 1 Axes>"
      ]
     },
     "metadata": {
      "needs_background": "light"
     },
     "output_type": "display_data"
    }
   ],
   "source": [
    "n_values = [10, 20, 50, 100, 200]\n",
    "delta_values = [0.0, 0.1, 0.2, 0.3]\n",
    "alpha = 0.05\n",
    "n_sim = 5000\n",
    "\n",
    "results_Z = {}\n",
    "results_Z0 = {}\n",
    "\n",
    "for delta in delta_values:\n",
    "    power_Z = []\n",
    "    power_Z0 = []\n",
    "    for n in tqdm(n_values, desc=f\"Delta = {delta}\"):\n",
    "        p12 = 0.25 + delta / 2\n",
    "        p21 = 0.25 - delta / 2\n",
    "\n",
    "        reject_Z = 0\n",
    "        reject_Z0 = 0\n",
    "\n",
    "        for _ in range(n_sim):\n",
    "            y12 = np.random.binomial(n, p12)\n",
    "            y21 = np.random.binomial(n, p21)\n",
    "\n",
    "            if test_Z(y12, y21, n) < alpha:\n",
    "                reject_Z += 1\n",
    "            if test_Z0(y12, y21, n) < alpha:\n",
    "                reject_Z0 += 1\n",
    "\n",
    "        power_Z.append(reject_Z / n_sim)\n",
    "        power_Z0.append(reject_Z0 / n_sim)\n",
    "\n",
    "    results_Z[delta] = power_Z\n",
    "    results_Z0[delta] = power_Z0\n",
    "\n",
    "plt.figure(figsize=(10, 6))\n",
    "for delta in delta_values:\n",
    "    plt.plot(n_values, results_Z[delta], marker='o', label=f\"Test Z, Δ={delta}\")\n",
    "    plt.plot(n_values, results_Z0[delta], marker='s', linestyle='--', label=f\"Test $Z_0$, Δ={delta}\")\n",
    "\n",
    "plt.axhline(alpha, color='gray', linestyle=':', label=\"Poziom istotności α\")\n",
    "plt.title(\"Porównanie mocy testów Z i $Z_0$\")\n",
    "plt.xlabel(\"Rozmiar próby n\")\n",
    "plt.ylabel(\"Moc testu\")\n",
    "plt.legend()\n",
    "plt.grid(True)\n",
    "plt.tight_layout()\n",
    "plt.show()"
   ]
  },
  {
   "cell_type": "markdown",
   "id": "6b8b7406",
   "metadata": {},
   "source": [
    "Test $Z$ okazuje się bardziej efektywny niż $Z_0 $, szczególnie przy mniejszych próbach i słabszych efektach (niewielkie $\\Delta\\$). Rekomenduje się jego stosowanie tam, gdzie ważna jest maksymalizacja mocy testu i dokładność, a nie tylko uproszczenie obliczeń.\n"
   ]
  },
  {
   "cell_type": "markdown",
   "id": "35face7d",
   "metadata": {},
   "source": [
    "### ZADANIE 4\n",
    "    Dla danych dołączonych do pierwszej listy zadań, na podstawie zmiennych CZY_ZADW oraz CZY_ZADW_2, zweryfikuj hipotezę, że zadowolenie ze szkoleń w pierwszym badanym okresie i w drugim badanym okresie pierwszego badania odpowiada modelowi symetrii. Czy na podstawie uzyskanych wników możemy wnioskować, że poziom zadowolenia ze szkoleń nie uległ zmianie? Przyjmij poziom istotności 0.05."
   ]
  },
  {
   "cell_type": "code",
   "execution_count": 26,
   "id": "e5f195c1",
   "metadata": {},
   "outputs": [
    {
     "name": "stdout",
     "output_type": "stream",
     "text": [
      "Test McNemara:\n",
      "P-wartość: 0.03763531378731433\n"
     ]
    }
   ],
   "source": [
    "table = pd.crosstab(data[\"CZY_ZADOW\"], data[\"CZY_ZADOW_2\"])\n",
    "\n",
    "b = table.loc['TAK', 'NIE'] if ('TAK' in table.index and 'NIE' in table.columns) else 0\n",
    "c = table.loc['NIE', 'TAK'] if ('NIE' in table.index and 'TAK' in table.columns) else 0\n",
    "\n",
    "chi2_stat = ((abs(b - c) - 1) ** 2) / (b + c)\n",
    "p_mcnemar = 1 - chi2.cdf(chi2_stat, df=1)\n",
    "\n",
    "print(\"Test McNemara:\")\n",
    "print(\"P-wartość:\", p_mcnemar)"
   ]
  },
  {
   "cell_type": "markdown",
   "id": "1dc25add",
   "metadata": {},
   "source": [
    "Na podstawie przeprowadzonego testu McNemara uzyskano wartość $ p = 0.0376 $, która jest mniejsza niż przyjęty poziom istotności $\\alpha = 0.05$. Oznacza to, że istnieją statystycznie istotne różnice między poziomem zadowolenia ze szkoleń w pierwszym i drugim badanym okresie. Odrzucamy hipotezę symetrii – poziom zadowolenia ze szkoleń uległ zmianie między badanymi okresami."
   ]
  },
  {
   "cell_type": "markdown",
   "id": "9199ab98",
   "metadata": {},
   "source": [
    "### ZADANIE 5\n",
    "    W firmie, o której mowa w zadaniu 1 z listy 1, wdrożono pewne działania w celu poprawy komfortu pracy. Następnie badaną grupę respondentów ponownie poproszono o odpowiedź na pytanie dotyczące oceny podejścia firmy do umożliwiania wdrażania wiedzy zdobytej na szkoleniach. W Tabeli 2 przedstawiono tablicę dwudzielczą uwzględniającą odpowiedzi na pytanie w obu tych okresach. Na podstawie danych zweryfikuj hipotezę, że odpowiedzi w pierwszym badanym okresie i w drugim okresie odpowiadają modelowi symetrii. Na podstawie wyników uzyskanych przy weryfikacji hipotezy dotyczącej symetrii, sformułuj wniosek dotyczący hipotezy, że ocena podejścia firmy nie uległa zmianie.\n",
    "\n",
    "<div align=\"center\">\n",
    "\n",
    "<table>\n",
    "  <thead>\n",
    "    <tr>\n",
    "      <th rowspan=\"2\">Pytanie 1</th>\n",
    "      <th colspan=\"5\">Pytanie 2</th>\n",
    "    </tr>\n",
    "    <tr>\n",
    "      <th>-2</th>\n",
    "      <th>-1</th>\n",
    "      <th>0</th>\n",
    "      <th>1</th>\n",
    "      <th>2</th>\n",
    "    </tr>\n",
    "  </thead>\n",
    "  <tbody>\n",
    "    <tr>\n",
    "      <td><strong>-2</strong></td>\n",
    "      <td>10</td>\n",
    "      <td>2</td>\n",
    "      <td>1</td>\n",
    "      <td>1</td>\n",
    "      <td>0</td>\n",
    "    </tr>\n",
    "    <tr>\n",
    "      <td><strong>-1</strong></td>\n",
    "      <td>0</td>\n",
    "      <td>15</td>\n",
    "      <td>1</td>\n",
    "      <td>1</td>\n",
    "      <td>0</td>\n",
    "    </tr>\n",
    "    <tr>\n",
    "      <td><strong>0</strong></td>\n",
    "      <td>1</td>\n",
    "      <td>1</td>\n",
    "      <td>32</td>\n",
    "      <td>6</td>\n",
    "      <td>0</td>\n",
    "    </tr>\n",
    "    <tr>\n",
    "      <td><strong>1</strong></td>\n",
    "      <td>0</td>\n",
    "      <td>0</td>\n",
    "      <td>1</td>\n",
    "      <td>96</td>\n",
    "      <td>3</td>\n",
    "    </tr>\n",
    "    <tr>\n",
    "      <td><strong>2</strong></td>\n",
    "      <td>1</td>\n",
    "      <td>1</td>\n",
    "      <td>0</td>\n",
    "      <td>1</td>\n",
    "      <td>26</td>\n",
    "    </tr>\n",
    "  </tbody>\n",
    "</table>\n",
    "\n",
    "<br>\n",
    "Table 1: Dane do zadania 5."
   ]
  },
  {
   "cell_type": "markdown",
   "id": "c461b112",
   "metadata": {},
   "source": [
    "Do oceny, czy rozkład odpowiedzi w dwóch różnych okresach badania jest symetryczny, wykorzystano **test ilorazu wiarygodności (G-test)**."
   ]
  },
  {
   "cell_type": "code",
   "execution_count": 6,
   "id": "d3bde881",
   "metadata": {},
   "outputs": [],
   "source": [
    "def likelihood_ratio_symmetry_test(matrix):\n",
    "    \"\"\"\n",
    "    Test ilorazu wiarygodności (G-test) dla macierzy symetryczności.\n",
    "\n",
    "    Parameters:\n",
    "    matrix (np.array): kwadratowa tablica 2D z danymi liczbowymi\n",
    "\n",
    "    Returns:\n",
    "    tuple: (statystyka G, stopnie swobody, p-wartość)\n",
    "    \"\"\"\n",
    "    g_stat = 0\n",
    "    n = matrix.shape[0]\n",
    "    for i in range(n):\n",
    "        for j in range(i + 1, n):\n",
    "            nij = matrix[i, j]\n",
    "            nji = matrix[j, i]\n",
    "            if nij + nji > 0:\n",
    "                m = (nij + nji) / 2\n",
    "                if nij > 0:\n",
    "                    g_stat += 2 * nij * np.log(nij / m)\n",
    "                if nji > 0:\n",
    "                    g_stat += 2 * nji * np.log(nji / m)\n",
    "    df = (n * (n - 1)) // 2\n",
    "    p_value = 1 - chi2.cdf(g_stat, df)\n",
    "    return g_stat, df, p_value"
   ]
  },
  {
   "cell_type": "markdown",
   "id": "4c7a824e",
   "metadata": {},
   "source": [
    "Statystyka testowa w teście ilorazu wiarygodności (nazywana też statystyką G) obliczana jest według wzoru:\n",
    "\n",
    "$\n",
    "G = 2 \\sum_{i<j} \\left[ n_{ij} \\cdot \\ln\\left(\\frac{n_{ij}}{m_{ij}}\\right) + n_{ji} \\cdot \\ln\\left(\\frac{n_{ji}}{m_{ji}}\\right) \\right]\n",
    "$\n",
    "\n",
    "Gdzie:\n",
    "- $ n_{ij} $ i $ n_{ji} $ — liczby odpowiedzi w komórkach niesymetrycznych (poniżej i powyżej przekątnej),\n",
    "- $ m_{ij} = m_{ji} = \\frac{n_{ij} + n_{ji}}{2} $ — liczby oczekiwane pod hipotezą symetrii.\n",
    "\n",
    "Test porównuje więc rozkład obserwowany z rozkładem teoretycznym, w którym zakłada się, że liczba odpowiedzi w parach symetrycznych powinna być taka sama."
   ]
  },
  {
   "cell_type": "code",
   "execution_count": 7,
   "id": "d12d2a2d",
   "metadata": {},
   "outputs": [
    {
     "name": "stdout",
     "output_type": "stream",
     "text": [
      "Test ilorazu wiarygodności (G-test) dla symetrii:\n",
      "Statystyka G: 13.3267\n",
      "Stopnie swobody: 10\n",
      "P-wartość: 0.2060\n"
     ]
    }
   ],
   "source": [
    "data_matrix = np.array([\n",
    "    [10, 2, 1, 1, 0],\n",
    "    [0, 15, 1, 1, 0],\n",
    "    [1, 1, 32, 6, 0],\n",
    "    [0, 0, 1, 96, 3],\n",
    "    [1, 1, 0, 1, 26]\n",
    "])\n",
    "\n",
    "g_stat, df, p_value = likelihood_ratio_symmetry_test(data_matrix)\n",
    "\n",
    "print(\"Test ilorazu wiarygodności (G-test) dla symetrii:\")\n",
    "print(f\"Statystyka G: {g_stat:.4f}\")\n",
    "print(f\"Stopnie swobody: {df}\")\n",
    "print(f\"P-wartość: {p_value:.4f}\")"
   ]
  },
  {
   "cell_type": "markdown",
   "id": "fbee04ef",
   "metadata": {},
   "source": [
    "Nie stwierdzono istotnych statystycznie różnic w ocenach podejścia firmy do umożliwiania wdrażania wiedzy zdobytej na szkoleniach pomiędzy dwoma badanymi okresami. Oznacza to, że na podstawie dostępnych danych nie można uznać, że ocena tego podejścia uległa zmianie."
   ]
  },
  {
   "cell_type": "markdown",
   "id": "fa5e24be",
   "metadata": {},
   "source": [
    "## CZĘŚĆ III"
   ]
  },
  {
   "cell_type": "markdown",
   "id": "af550067",
   "metadata": {},
   "source": [
    "### ZADANIE 6\n",
    "    W pewnym badaniu porównywano skuteczność dwóch metod leczenia: Leczenie A to nowa procedura, a Leczenie B to stara procedura. Przeanalizuj dane przedstawione w Tabeli 3 (wyniki dla całej grupy pacjentów) oraz w Tabelach 4 i 5 (wyniki w podgrupach ze względu na dodatkową zmienną) i odpowiedz na pytanie, czy dla danych występuje paradoks Simpsona.\n",
    "\n",
    "<div align=\"center\">\n",
    "\n",
    "<table>\n",
    "  <thead>\n",
    "    <tr>\n",
    "      <th rowspan=\"2\">Metoda</th>\n",
    "      <th colspan=\"2\">Wynik leczenia</th>\n",
    "    </tr>\n",
    "    <tr>\n",
    "      <th>Poprawa</th>\n",
    "      <th>Brak</th>\n",
    "    </tr>\n",
    "  </thead>\n",
    "  <tbody>\n",
    "    <tr>\n",
    "      <td><strong>Leczenie A</strong></td>\n",
    "      <td>117</td>\n",
    "      <td>104</td>\n",
    "    </tr>\n",
    "    <tr>\n",
    "      <td><strong>Leczenie B</strong></td>\n",
    "      <td>177</td>\n",
    "      <td>44</td>\n",
    "    </tr>\n",
    "  </tbody>\n",
    "</table>\n",
    "<br>\n",
    "Table 3: Dane dla całej grupy\n",
    "\n",
    "$\\quad$\n",
    "\n",
    "<table>\n",
    "  <thead>\n",
    "    <tr>\n",
    "      <th rowspan=\"2\">Metoda</th>\n",
    "      <th colspan=\"2\">Wynik leczenia</th>\n",
    "    </tr>\n",
    "    <tr>\n",
    "      <th>Poprawa</th>\n",
    "      <th>Brak</th>\n",
    "    </tr>\n",
    "  </thead>\n",
    "  <tbody>\n",
    "    <tr>\n",
    "      <td><strong>Leczenie A</strong></td>\n",
    "      <td>17</td>\n",
    "      <td>101</td>\n",
    "    </tr>\n",
    "    <tr>\n",
    "      <td><strong>Leczenie B</strong></td>\n",
    "      <td>2</td>\n",
    "      <td>36</td>\n",
    "    </tr>\n",
    "  </tbody>\n",
    "</table>\n",
    "<br>\n",
    "Table 4: Dane dla pacjentów z chorobami współistniejącymi\n",
    "\n",
    "\n",
    "$\\quad$\n",
    "<table>\n",
    "  <thead>\n",
    "    <tr>\n",
    "      <th rowspan=\"2\">Metoda</th>\n",
    "      <th colspan=\"2\">Wynik leczenia</th>\n",
    "    </tr>\n",
    "    <tr>\n",
    "      <th>Poprawa</th>\n",
    "      <th>Brak</th>\n",
    "    </tr>\n",
    "  </thead>\n",
    "  <tbody>\n",
    "    <tr>\n",
    "      <td><strong>Leczenie A</strong></td>\n",
    "      <td>100</td>\n",
    "      <td>3</td>\n",
    "    </tr>\n",
    "    <tr>\n",
    "      <td><strong>Leczenie B</strong></td>\n",
    "      <td>175</td>\n",
    "      <td>8</td>\n",
    "    </tr>\n",
    "  </tbody>\n",
    "</table>\n",
    "\n",
    "<br>\n",
    "Table 5: Dane dla pacjentów bez chorób współistniejących"
   ]
  },
  {
   "cell_type": "markdown",
   "id": "17eb7639",
   "metadata": {},
   "source": [
    "$\\textbf{PARADOKS SIMPSONA}$\n",
    "\n",
    "Zjawisko statystyczne, w którym trend obecny w kilku grupach może zniknąć lub odwrócić się po połączeniu danych w jedną analizę. Oznacza to, że związek między zmiennymi w całej populacji może być odwrotny niż w każdej z podgrup tej populacji."
   ]
  },
  {
   "cell_type": "markdown",
   "id": "56fdbb87",
   "metadata": {},
   "source": [
    "W analizowanym badaniu porównano skuteczność dwóch metod leczenia:\n",
    "\n",
    "- Leczenie A – nowa procedura,\n",
    "\n",
    "- Leczenie B – dotychczas stosowana metoda.\n",
    "\n",
    "Dane zostały podzielone na dwie podgrupy: pacjentów z chorobami współistniejącymi (Tabela 4) i pacjentów bez chorób współistniejących (Tabela 5)."
   ]
  },
  {
   "cell_type": "code",
   "execution_count": null,
   "id": "d8081fb6",
   "metadata": {},
   "outputs": [],
   "source": [
    "tab3_dataA = {\"improvement\": 117, \"no_improvement\": 104}\n",
    "tab3_dataB = {\"improvement\": 177, \"no_improvement\": 44}\n",
    "\n",
    "tab4_dataA = {\"improvement\": 17, \"no_improvement\": 101}\n",
    "tab4_dataB = {\"improvement\": 2, \"no_improvement\": 36}\n",
    "\n",
    "tab5_dataA = {\"improvement\": 100, \"no_improvement\": 3}\n",
    "tab5_dataB = {\"improvement\": 175, \"no_improvement\": 8}"
   ]
  },
  {
   "cell_type": "markdown",
   "id": "998659ac",
   "metadata": {},
   "source": [
    "Po obliczeniu odsetka pacjentów, u których nastąpiła poprawa w każdej podgrupie, uzyskano następujące wyniki:"
   ]
  },
  {
   "cell_type": "code",
   "execution_count": null,
   "id": "aa3f3830",
   "metadata": {},
   "outputs": [],
   "source": [
    "def effectiveness_percent(data):\n",
    "    improvement, no_improvement = data[\"improvement\"], data[\"no_improvement\"]\n",
    "    return improvement/(improvement+no_improvement) * 100"
   ]
  },
  {
   "cell_type": "code",
   "execution_count": null,
   "id": "d2fae099",
   "metadata": {},
   "outputs": [],
   "source": [
    "# tabela 3\n",
    "eff_tab3_A = effectiveness_percent(tab3_dataA)\n",
    "eff_tab3_B = effectiveness_percent(tab3_dataB)\n",
    "\n",
    "# tabela 4\n",
    "eff_tab4_A = effectiveness_percent(tab4_dataA)\n",
    "eff_tab4_B = effectiveness_percent(tab4_dataB)\n",
    "\n",
    "# tabela 5\n",
    "eff_tab5_A = effectiveness_percent(tab5_dataA)\n",
    "eff_tab5_B = effectiveness_percent(tab5_dataB)"
   ]
  },
  {
   "cell_type": "code",
   "execution_count": null,
   "id": "25fbaf1d",
   "metadata": {},
   "outputs": [
    {
     "name": "stdout",
     "output_type": "stream",
     "text": [
      "Tabela: Skuteczność metody leczenia (%)\n"
     ]
    },
    {
     "data": {
      "text/html": [
       "<div>\n",
       "<style scoped>\n",
       "    .dataframe tbody tr th:only-of-type {\n",
       "        vertical-align: middle;\n",
       "    }\n",
       "\n",
       "    .dataframe tbody tr th {\n",
       "        vertical-align: top;\n",
       "    }\n",
       "\n",
       "    .dataframe thead th {\n",
       "        text-align: right;\n",
       "    }\n",
       "</style>\n",
       "<table border=\"1\" class=\"dataframe\">\n",
       "  <thead>\n",
       "    <tr style=\"text-align: right;\">\n",
       "      <th></th>\n",
       "      <th>Tabela 3 (Ogółem) %</th>\n",
       "      <th>Tabela 4 (Z chorobami) %</th>\n",
       "      <th>Tabela 5 (Bez chorób) %</th>\n",
       "    </tr>\n",
       "  </thead>\n",
       "  <tbody>\n",
       "    <tr>\n",
       "      <th>Leczenie A</th>\n",
       "      <td>52.94</td>\n",
       "      <td>14.41</td>\n",
       "      <td>97.09</td>\n",
       "    </tr>\n",
       "    <tr>\n",
       "      <th>Leczenie B</th>\n",
       "      <td>80.09</td>\n",
       "      <td>5.26</td>\n",
       "      <td>95.63</td>\n",
       "    </tr>\n",
       "  </tbody>\n",
       "</table>\n",
       "</div>"
      ],
      "text/plain": [
       "            Tabela 3 (Ogółem) %  Tabela 4 (Z chorobami) %  \\\n",
       "Leczenie A                52.94                     14.41   \n",
       "Leczenie B                80.09                      5.26   \n",
       "\n",
       "            Tabela 5 (Bez chorób) %  \n",
       "Leczenie A                    97.09  \n",
       "Leczenie B                    95.63  "
      ]
     },
     "metadata": {},
     "output_type": "display_data"
    }
   ],
   "source": [
    "df_eff = pd.DataFrame({\n",
    "    \"Tabela 3 (Ogółem) %\": [eff_tab3_A, eff_tab3_B],\n",
    "    \"Tabela 4 (Z chorobami) %\": [eff_tab4_A, eff_tab4_B],\n",
    "    \"Tabela 5 (Bez chorób) %\": [eff_tab5_A, eff_tab5_B],\n",
    "}, index=[\"Leczenie A\", \"Leczenie B\"])\n",
    "\n",
    "print(\"Tabela: Skuteczność metody leczenia (%)\")\n",
    "round(df_eff, 2)"
   ]
  },
  {
   "cell_type": "markdown",
   "id": "b7272b33",
   "metadata": {},
   "source": [
    "Analiza wykazuje, że w obu podgrupach leczenie A było skuteczniejsze – wśród pacjentów z chorobami współistniejącymi o 9.15%, a wśród pacjentów bez chorób – o 1.46%. Jednak po połączeniu danych, to leczenie B okazuje się skuteczniejsze (o 27.15%).\n",
    "\n",
    "Taka rozbieżność prowadzi do wniosku, iż istotnie mamy tu do czynienia z przykładem Paradoksu Simpsona. Dzieje się tak, ponieważ leczenie A częściej stosowano u pacjentów trudniejszych (z chorobami), a leczenie B – u pacjentów łatwiejszych (bez chorób). Nierówny rozkład pacjentów pomiędzy grupami zafałszował wynik zbiorczy, dając być może mylne wrażenie przewagi leczenia B."
   ]
  },
  {
   "cell_type": "markdown",
   "id": "1e7a254a",
   "metadata": {},
   "source": [
    "### ZADANIE 7\n",
    "    Dla danych z listy 1, przyjmując za zmienną 1 zmienną CZY_KIER, za zmienną 2– zmienną PYT_2 i za zmienną 3– zmienną STAŻ, podaj interpretacje nastepujacych modeli log-liniowych: [1 3], [13], [1 2 3], [12 3], [12 13] oraz [1 23]."
   ]
  },
  {
   "cell_type": "markdown",
   "id": "8603df70",
   "metadata": {},
   "source": [
    "W tym zadaniu przyjmujemy następujące oznaczenia zmiennych:\n",
    "\n",
    "- 1 – CZY_KIER (czy osoba zajmuje stanowisko kierownicze),\n",
    "\n",
    "- 2 – PYT_2 (odpowiedź na pytanie 2),\n",
    "\n",
    "- 3 – STAŻ (staż pracy).\n",
    "\n",
    "Dodatkowo zakładamy, że zmienna CZY_KIER ma $R$ możliwych odpowiedzi, zmienna PYT_2 - $C$ możliwych odpowiedzi, a zmienna STAŻ - $L$ możliwych odpowiedzi (w tym przypadku: $R=2$, $C=4$, $L=3$).\n",
    "\n",
    "Wówczas interpretacje modeli log-liniowych przedstawiają się następująco:"
   ]
  },
  {
   "cell_type": "markdown",
   "id": "754ad633",
   "metadata": {},
   "source": [
    "a) Model $[1 \\quad 3]$\n",
    "\n",
    "Zmienne 1 i 3 są niezależne. Model można zapisać w postaci:\n",
    "\n",
    "$$l_{ijk} = \\lambda + \\lambda_i^{(1)} + \\lambda_k^{(3)}, \\quad \\forall i \\in \\{1,\\ldots,R\\}, \\, \\forall j \\in \\{1,\\ldots,C\\}, \\, \\forall k \\in \\{1,\\ldots,L\\}$$\n",
    "\n",
    "Oznacza to, że zmienne CZY_KIER i STAŻ nie są ze sobą powiązane — innymi słowy, zajmowanie stanowiska kierowniczego nie zależy od stażu pracy."
   ]
  },
  {
   "cell_type": "markdown",
   "id": "71a4cd09",
   "metadata": {},
   "source": [
    "b) Model $[13]$\n",
    "\n",
    "Zmienn3 1 i 3 nie są niezależne. Model ma postać:\n",
    "\n",
    "$$l_{ijk} = \\lambda + \\lambda_i^{(1)} + \\lambda_k^{(3)} + \\lambda_{ik}^{(13)}, \\quad \\forall i \\in \\{1,\\ldots,R\\}, \\, \\forall j \\in \\{1,\\ldots,C\\}, \\, \\forall k \\in \\{1,\\ldots,L\\}$$\n",
    "\n",
    "Oznacza to, że występuje zależność między zmienną CZY_KIER a STAŻ — czyli zajmowanie stanowiska kierowniczego może być związane ze stażem pracy."
   ]
  },
  {
   "cell_type": "markdown",
   "id": "3f5af3c5",
   "metadata": {},
   "source": [
    "c) Model $[1 \\quad 2 \\quad 3]$\n",
    "\n",
    "Wszystkie trzy zmienne 1, 2 i 3 są wzajemnie niezależne. Model zapisujemy jako:\n",
    "\n",
    "$$l_{ijk} = \\lambda + \\lambda_i^{(1)} + \\lambda_j^{(2)} + \\lambda_k^{(3)}, \\quad \\forall i \\in \\{1,\\ldots,R\\}, \\, \\forall j \\in \\{1,\\ldots,C\\}, \\, \\forall k \\in \\{1,\\ldots,L\\}$$\n",
    "\n",
    "Oznacza to, że nie występują żadne interakcje między zmiennymi. Zmienna CZY_KIER jest niezależna zarówno od PYT_2, jak i STAŻU, a PYT_2 i STAŻ również nie są ze sobą powiązane."
   ]
  },
  {
   "cell_type": "markdown",
   "id": "041265e5",
   "metadata": {},
   "source": [
    "d) Model $[12 \\quad 3]$\n",
    "\n",
    "Zmienna 3 jest niezależna od zmiennych 1 i 2, ale między zmiennymi 1 i 2 istnieje zależność. Model zapisujemy jako:\n",
    "\n",
    "$$l_{ijk} = \\lambda + \\lambda_i^{(1)} + \\lambda_j^{(2)} + \\lambda_k^{(3)} + \\lambda_{ij}^{(12)}, \\quad \\forall i \\in \\{1,\\ldots,R\\}, \\, \\forall j \\in \\{1,\\ldots,C\\}, \\, \\forall k \\in \\{1,\\ldots,L\\}$$\n",
    "\n",
    "Oznacza to, że występuje zależność pomiędzy zmiennymi CZY_KIER i PYT_2, natomiast STAŻ nie wpływa na żadne z pozostałych dwóch zmiennych i jest od nich niezależny."
   ]
  },
  {
   "cell_type": "markdown",
   "id": "089a377e",
   "metadata": {},
   "source": [
    "e) Model $[12 \\quad 13]$\n",
    "\n",
    "Występuje zależność między 1 i 2, oraz 1 i 3, jednak zmienne 2 i 3 są od siebie niezależne. Model zapisujemy jako:\n",
    "\n",
    "$$l_{ijk} = \\lambda + \\lambda_i^{(1)} + \\lambda_j^{(2)} + \\lambda_k^{(3)} + \\lambda_{ij}^{(12)} + \\lambda_{ik}^{(13)}, \\quad \\forall i \\in \\{1,\\ldots,R\\}, \\, \\forall j \\in \\{1,\\ldots,C\\}, \\, \\forall k \\in \\{1,\\ldots,L\\}$$\n",
    "\n",
    "Oznacza to, że zmienna CZY_KIER jest powiązana zarówno z PYT_2, jak i ze STAŻEM, natomiast PYT_2 i STAŻ pozostają niezależne od siebie."
   ]
  },
  {
   "cell_type": "markdown",
   "id": "421a9d9f",
   "metadata": {},
   "source": [
    "f) Model $[1 \\quad 23]$\n",
    "\n",
    "Zmienna 1 jest niezależna od zmiennych 2 i 3, natomiast pomiędzy zmiennymi 2 i 3 istnieje zależność. Model zapisujemy jako:\n",
    "\n",
    "$$l_{ijk} = \\lambda + \\lambda_i^{(1)} + \\lambda_j^{(2)} + \\lambda_k^{(3)} + \\lambda_{jk}^{(23)}, \\quad \\forall i \\in \\{1,\\ldots,R\\}, \\, \\forall j \\in \\{1,\\ldots,C\\}, \\, \\forall k \\in \\{1,\\ldots,L\\}$$\n",
    "\n",
    "Oznacza to, że odpowiedzi na PYT_2 są powiązane ze STAŻEM, natomiast zmienna CZY_KIER nie jest związana z żadną z pozostałych zmiennych."
   ]
  },
  {
   "cell_type": "markdown",
   "id": "9980ddfd",
   "metadata": {},
   "source": [
    "## CZĘŚĆ IV i V"
   ]
  },
  {
   "cell_type": "markdown",
   "id": "52f468f2",
   "metadata": {},
   "source": [
    "### ZADANIE 8\n",
    "    Przyjmując model log-liniowy [123] dla zmiennych opisanych w zadaniu 7 oszacuj prawdopobiebieństwa:\n",
    "        a) że osoba pracująca na stanowisku kierowniczym jest zdecydowanie zadowolona ze szkoleń;\n",
    "        b) że osoba o stażu pracy krótszym niż rok pracuje na stanowisku kierowniczym;\n",
    "        c) że osoba o stażu pracy powyżej trzech lat nie pracuje na stanowisku kierowniczym.\n",
    "    Jakie byłyby oszacowania powyższych prawdopodobieństw przy założeniu modelu [12 23]?"
   ]
  },
  {
   "cell_type": "markdown",
   "id": "2e89c6a8",
   "metadata": {},
   "source": [
    "Przyjmujemy model $[123]$, tzn. zakładamy, że istnieje zależność między każdą ze zmiennych 1, 2 i 3. Innymi słowy - między odpowiedzią na PYT_2, zajmowanym stanowiskiem a stażem pracy występują złożone zależności — każda z tych zmiennych wpływa na pozostałe, a ich powiązania nie ograniczają się jedynie do par, lecz obejmują również wspólne oddziaływanie trójczynnikowe.\n",
    "\n",
    "Model można zapisać w postaci: \n",
    "\n",
    "$$l_{ijk} = \\lambda + \\lambda_i^{(1)} + \\lambda_j^{(2)} + \\lambda_k^{(3)} + \\lambda_{ijk}^{(123)}, \\quad \\forall i \\in \\{1,\\ldots,R\\}, \\, \\forall j \\in \\{1,\\ldots,C\\}, \\, \\forall k \\in \\{1,\\ldots,L\\},$$\n",
    "\n",
    "gdzie w tym przypadku: $R=2$, $C=4$, $L=3$.\n"
   ]
  },
  {
   "cell_type": "markdown",
   "id": "7f767546",
   "metadata": {},
   "source": [
    "a) prawdopodobieństwo, że osoba pracująca na stanowisku kierowniczym jest zdecydowanie zadowolona ze szkoleń"
   ]
  },
  {
   "cell_type": "markdown",
   "id": "2e3de55b",
   "metadata": {},
   "source": [
    "### ZADANIE 9\n",
    "    Dla danych wskazanych w zadaniu 7 zweryfikuj następujące hipotezy:\n",
    "        a) zmienne losowe CZY_KIER, PYT_2 i STAŻ są wzajemnie niezależne;\n",
    "        b) zmienna losowa PYT_2 jest niezależna od pary zmiennych CZY_KIER i STAŻ;\n",
    "        c)  zmienna losowa PYT_2 jest niezależna od zmiennej CZY_KIER, przy ustalonej wartości zmiennej STAŻ."
   ]
  },
  {
   "cell_type": "markdown",
   "id": "acb47d47",
   "metadata": {},
   "source": [
    "--------------------------------------------------"
   ]
  },
  {
   "cell_type": "markdown",
   "id": "5c7a6ea2",
   "metadata": {},
   "source": [
    "## ZADANIA DODATKOWE"
   ]
  },
  {
   "cell_type": "markdown",
   "id": "813d97d7",
   "metadata": {},
   "source": [
    "### ZADANIE *1\n",
    "    W przypadku zadania 5 występuje problem z zastosowaniem testu Bowkera ze względu na występowanie zer na określonych miejscach w tabeli z danymi. Zastosuj w tym przypadku dokładny test symetrii i opisz w jaki sposób wyznaczana jest wartość poziomu krytycznego w tym teście."
   ]
  },
  {
   "cell_type": "markdown",
   "id": "3d7a6857",
   "metadata": {},
   "source": [
    "### ZADANIE *2\n",
    "    Na podstawie danych z listy 1 dokonaj wyboru modelu rozważając uwzględnienie zmiennych PYT_1, PYT_2 i PŁEĆ w oparciu o:\n",
    "        a) testy\n",
    "        b) kryterium AIC\n",
    "        c) kryterium BIC"
   ]
  }
 ],
 "metadata": {
  "kernelspec": {
   "display_name": "base",
   "language": "python",
   "name": "python3"
  },
  "language_info": {
   "codemirror_mode": {
    "name": "ipython",
    "version": 3
   },
   "file_extension": ".py",
   "mimetype": "text/x-python",
   "name": "python",
   "nbconvert_exporter": "python",
   "pygments_lexer": "ipython3",
   "version": "3.9.12"
  }
 },
 "nbformat": 4,
 "nbformat_minor": 5
}
