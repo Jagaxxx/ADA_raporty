{
 "cells": [
  {
   "cell_type": "markdown",
   "metadata": {},
   "source": [
    "# LISTA 1"
   ]
  },
  {
   "cell_type": "code",
   "execution_count": 86,
   "metadata": {},
   "outputs": [],
   "source": [
    "import numpy as np\n",
    "import matplotlib.pyplot as plt\n",
    "import seaborn as sns\n",
    "import pandas as pd\n",
    "from scipy.stats import skew, binom, multinomial\n",
    "from statsmodels.graphics.mosaicplot import mosaic\n",
    "import plot_likert"
   ]
  },
  {
   "cell_type": "markdown",
   "metadata": {},
   "source": [
    "## CZĘŚĆ I"
   ]
  },
  {
   "cell_type": "markdown",
   "metadata": {},
   "source": [
    "### ZADANIE 1\n",
    "\n",
    "#### ZADANIE 1.1\n",
    "    Wczytaj dane i przygotuj je do analizy. Zadbaj o odpowiednie typy zmiennych, zweryfikuj czy przyjmują wartości zgodne z powyższym opisem, zbadaj czy nie występują braki w danych."
   ]
  },
  {
   "cell_type": "code",
   "execution_count": 87,
   "metadata": {},
   "outputs": [
    {
     "data": {
      "text/html": [
       "<div>\n",
       "<style scoped>\n",
       "    .dataframe tbody tr th:only-of-type {\n",
       "        vertical-align: middle;\n",
       "    }\n",
       "\n",
       "    .dataframe tbody tr th {\n",
       "        vertical-align: top;\n",
       "    }\n",
       "\n",
       "    .dataframe thead th {\n",
       "        text-align: right;\n",
       "    }\n",
       "</style>\n",
       "<table border=\"1\" class=\"dataframe\">\n",
       "  <thead>\n",
       "    <tr style=\"text-align: right;\">\n",
       "      <th></th>\n",
       "      <th>DZIAŁ</th>\n",
       "      <th>STAŻ</th>\n",
       "      <th>CZY_KIER</th>\n",
       "      <th>PYT_1</th>\n",
       "      <th>PYT_2</th>\n",
       "      <th>PYT_3</th>\n",
       "      <th>PŁEĆ</th>\n",
       "      <th>WIEK</th>\n",
       "    </tr>\n",
       "  </thead>\n",
       "  <tbody>\n",
       "    <tr>\n",
       "      <th>0</th>\n",
       "      <td>IT</td>\n",
       "      <td>2</td>\n",
       "      <td>Nie</td>\n",
       "      <td>1</td>\n",
       "      <td>-2</td>\n",
       "      <td>1</td>\n",
       "      <td>M</td>\n",
       "      <td>64</td>\n",
       "    </tr>\n",
       "    <tr>\n",
       "      <th>1</th>\n",
       "      <td>IT</td>\n",
       "      <td>2</td>\n",
       "      <td>Nie</td>\n",
       "      <td>0</td>\n",
       "      <td>-2</td>\n",
       "      <td>-2</td>\n",
       "      <td>M</td>\n",
       "      <td>67</td>\n",
       "    </tr>\n",
       "    <tr>\n",
       "      <th>2</th>\n",
       "      <td>IT</td>\n",
       "      <td>2</td>\n",
       "      <td>Nie</td>\n",
       "      <td>1</td>\n",
       "      <td>2</td>\n",
       "      <td>2</td>\n",
       "      <td>M</td>\n",
       "      <td>65</td>\n",
       "    </tr>\n",
       "    <tr>\n",
       "      <th>3</th>\n",
       "      <td>IT</td>\n",
       "      <td>2</td>\n",
       "      <td>Nie</td>\n",
       "      <td>-1</td>\n",
       "      <td>-2</td>\n",
       "      <td>-2</td>\n",
       "      <td>K</td>\n",
       "      <td>68</td>\n",
       "    </tr>\n",
       "    <tr>\n",
       "      <th>4</th>\n",
       "      <td>IT</td>\n",
       "      <td>3</td>\n",
       "      <td>Tak</td>\n",
       "      <td>1</td>\n",
       "      <td>2</td>\n",
       "      <td>-1</td>\n",
       "      <td>K</td>\n",
       "      <td>65</td>\n",
       "    </tr>\n",
       "  </tbody>\n",
       "</table>\n",
       "</div>"
      ],
      "text/plain": [
       "  DZIAŁ  STAŻ CZY_KIER  PYT_1  PYT_2  PYT_3 PŁEĆ  WIEK\n",
       "0    IT     2      Nie      1     -2      1    M    64\n",
       "1    IT     2      Nie      0     -2     -2    M    67\n",
       "2    IT     2      Nie      1      2      2    M    65\n",
       "3    IT     2      Nie     -1     -2     -2    K    68\n",
       "4    IT     3      Tak      1      2     -1    K    65"
      ]
     },
     "execution_count": 87,
     "metadata": {},
     "output_type": "execute_result"
    }
   ],
   "source": [
    "data = pd.read_csv('ankieta.csv', encoding='Windows-1250', sep=';')\n",
    "data.head()"
   ]
  },
  {
   "cell_type": "markdown",
   "metadata": {},
   "source": [
    "-> Czy występują braki danych? NIE"
   ]
  },
  {
   "cell_type": "code",
   "execution_count": 88,
   "metadata": {},
   "outputs": [
    {
     "data": {
      "text/plain": [
       "DZIAŁ       0\n",
       "STAŻ        0\n",
       "CZY_KIER    0\n",
       "PYT_1       0\n",
       "PYT_2       0\n",
       "PYT_3       0\n",
       "PŁEĆ        0\n",
       "WIEK        0\n",
       "dtype: int64"
      ]
     },
     "execution_count": 88,
     "metadata": {},
     "output_type": "execute_result"
    }
   ],
   "source": [
    "data.isnull().sum()"
   ]
  },
  {
   "cell_type": "markdown",
   "metadata": {},
   "source": [
    "-> Typy zmiennych"
   ]
  },
  {
   "cell_type": "code",
   "execution_count": 89,
   "metadata": {},
   "outputs": [
    {
     "name": "stdout",
     "output_type": "stream",
     "text": [
      "<class 'pandas.core.frame.DataFrame'>\n",
      "RangeIndex: 200 entries, 0 to 199\n",
      "Data columns (total 8 columns):\n",
      " #   Column    Non-Null Count  Dtype \n",
      "---  ------    --------------  ----- \n",
      " 0   DZIAŁ     200 non-null    object\n",
      " 1   STAŻ      200 non-null    int64 \n",
      " 2   CZY_KIER  200 non-null    object\n",
      " 3   PYT_1     200 non-null    int64 \n",
      " 4   PYT_2     200 non-null    int64 \n",
      " 5   PYT_3     200 non-null    int64 \n",
      " 6   PŁEĆ      200 non-null    object\n",
      " 7   WIEK      200 non-null    int64 \n",
      "dtypes: int64(5), object(3)\n",
      "memory usage: 12.6+ KB\n"
     ]
    }
   ],
   "source": [
    "data.info()"
   ]
  },
  {
   "cell_type": "code",
   "execution_count": 90,
   "metadata": {},
   "outputs": [
    {
     "name": "stdout",
     "output_type": "stream",
     "text": [
      "<class 'pandas.core.frame.DataFrame'>\n",
      "RangeIndex: 200 entries, 0 to 199\n",
      "Data columns (total 8 columns):\n",
      " #   Column    Non-Null Count  Dtype   \n",
      "---  ------    --------------  -----   \n",
      " 0   DZIAŁ     200 non-null    category\n",
      " 1   STAŻ      200 non-null    int64   \n",
      " 2   CZY_KIER  200 non-null    category\n",
      " 3   PYT_1     200 non-null    int64   \n",
      " 4   PYT_2     200 non-null    int64   \n",
      " 5   PYT_3     200 non-null    int64   \n",
      " 6   PŁEĆ      200 non-null    category\n",
      " 7   WIEK      200 non-null    int64   \n",
      "dtypes: category(3), int64(5)\n",
      "memory usage: 9.0 KB\n"
     ]
    }
   ],
   "source": [
    "data['DZIAŁ'] = data['DZIAŁ'].astype(\"category\")\n",
    "data['CZY_KIER'] = data['CZY_KIER'].astype(\"category\")\n",
    "data['PŁEĆ'] = data['PŁEĆ'].astype(\"category\")\n",
    "data.info()"
   ]
  },
  {
   "cell_type": "markdown",
   "metadata": {},
   "source": [
    "#### ZADANIE 1.2\n",
    "    Utwórz zmienną WIEK_KAT przeprowadzając kategoryzację zmiennej WIEK korzystając z następujących przedziałów: do 35 lat, mięedzy 36 a 45 lat, między 46 a 55 lat, powyżej 55 lat.\n"
   ]
  },
  {
   "cell_type": "code",
   "execution_count": 91,
   "metadata": {},
   "outputs": [],
   "source": [
    "def categorize_age(age):\n",
    "    if age <= 35:\n",
    "        return \"<=35\"\n",
    "    elif 36 <= age <= 45:\n",
    "        return \"36-45\"\n",
    "    elif 46 <= age <= 55:\n",
    "        return \"46-55\"\n",
    "    else:\n",
    "        return \">55\"\n",
    "\n",
    "data[\"WIEK_KAT\"] = data[\"WIEK\"].apply(categorize_age)"
   ]
  },
  {
   "cell_type": "code",
   "execution_count": 92,
   "metadata": {},
   "outputs": [
    {
     "data": {
      "text/html": [
       "<div>\n",
       "<style scoped>\n",
       "    .dataframe tbody tr th:only-of-type {\n",
       "        vertical-align: middle;\n",
       "    }\n",
       "\n",
       "    .dataframe tbody tr th {\n",
       "        vertical-align: top;\n",
       "    }\n",
       "\n",
       "    .dataframe thead th {\n",
       "        text-align: right;\n",
       "    }\n",
       "</style>\n",
       "<table border=\"1\" class=\"dataframe\">\n",
       "  <thead>\n",
       "    <tr style=\"text-align: right;\">\n",
       "      <th></th>\n",
       "      <th>DZIAŁ</th>\n",
       "      <th>STAŻ</th>\n",
       "      <th>CZY_KIER</th>\n",
       "      <th>PYT_1</th>\n",
       "      <th>PYT_2</th>\n",
       "      <th>PYT_3</th>\n",
       "      <th>PŁEĆ</th>\n",
       "      <th>WIEK</th>\n",
       "      <th>WIEK_KAT</th>\n",
       "    </tr>\n",
       "  </thead>\n",
       "  <tbody>\n",
       "    <tr>\n",
       "      <th>0</th>\n",
       "      <td>IT</td>\n",
       "      <td>2</td>\n",
       "      <td>Nie</td>\n",
       "      <td>1</td>\n",
       "      <td>-2</td>\n",
       "      <td>1</td>\n",
       "      <td>M</td>\n",
       "      <td>64</td>\n",
       "      <td>&gt;55</td>\n",
       "    </tr>\n",
       "    <tr>\n",
       "      <th>1</th>\n",
       "      <td>IT</td>\n",
       "      <td>2</td>\n",
       "      <td>Nie</td>\n",
       "      <td>0</td>\n",
       "      <td>-2</td>\n",
       "      <td>-2</td>\n",
       "      <td>M</td>\n",
       "      <td>67</td>\n",
       "      <td>&gt;55</td>\n",
       "    </tr>\n",
       "    <tr>\n",
       "      <th>2</th>\n",
       "      <td>IT</td>\n",
       "      <td>2</td>\n",
       "      <td>Nie</td>\n",
       "      <td>1</td>\n",
       "      <td>2</td>\n",
       "      <td>2</td>\n",
       "      <td>M</td>\n",
       "      <td>65</td>\n",
       "      <td>&gt;55</td>\n",
       "    </tr>\n",
       "    <tr>\n",
       "      <th>3</th>\n",
       "      <td>IT</td>\n",
       "      <td>2</td>\n",
       "      <td>Nie</td>\n",
       "      <td>-1</td>\n",
       "      <td>-2</td>\n",
       "      <td>-2</td>\n",
       "      <td>K</td>\n",
       "      <td>68</td>\n",
       "      <td>&gt;55</td>\n",
       "    </tr>\n",
       "    <tr>\n",
       "      <th>4</th>\n",
       "      <td>IT</td>\n",
       "      <td>3</td>\n",
       "      <td>Tak</td>\n",
       "      <td>1</td>\n",
       "      <td>2</td>\n",
       "      <td>-1</td>\n",
       "      <td>K</td>\n",
       "      <td>65</td>\n",
       "      <td>&gt;55</td>\n",
       "    </tr>\n",
       "  </tbody>\n",
       "</table>\n",
       "</div>"
      ],
      "text/plain": [
       "  DZIAŁ  STAŻ CZY_KIER  PYT_1  PYT_2  PYT_3 PŁEĆ  WIEK WIEK_KAT\n",
       "0    IT     2      Nie      1     -2      1    M    64      >55\n",
       "1    IT     2      Nie      0     -2     -2    M    67      >55\n",
       "2    IT     2      Nie      1      2      2    M    65      >55\n",
       "3    IT     2      Nie     -1     -2     -2    K    68      >55\n",
       "4    IT     3      Tak      1      2     -1    K    65      >55"
      ]
     },
     "execution_count": 92,
     "metadata": {},
     "output_type": "execute_result"
    }
   ],
   "source": [
    "data.head()"
   ]
  },
  {
   "cell_type": "markdown",
   "metadata": {},
   "source": [
    "#### ZADANIE 1.3\n",
    "    Sporządź tablice liczności dla zmiennych: DZIAŁ, STAŻ, CZY_KIER, PŁEĆ, WIEK_KAT. Sformułuj wnioski."
   ]
  },
  {
   "cell_type": "code",
   "execution_count": 93,
   "metadata": {},
   "outputs": [
    {
     "name": "stdout",
     "output_type": "stream",
     "text": [
      "DZIAŁ\n",
      "PD    98\n",
      "MK    45\n",
      "HR    31\n",
      "IT    26\n",
      "Name: count, dtype: int64\n",
      "STAŻ\n",
      "2    140\n",
      "1     41\n",
      "3     19\n",
      "Name: count, dtype: int64\n",
      "CZY_KIER\n",
      "Nie    173\n",
      "Tak     27\n",
      "Name: count, dtype: int64\n",
      "PŁEĆ\n",
      "M    129\n",
      "K     71\n",
      "Name: count, dtype: int64\n",
      "WIEK_KAT\n",
      "36-45    104\n",
      "46-55     45\n",
      "<=35      26\n",
      ">55       25\n",
      "Name: count, dtype: int64\n"
     ]
    }
   ],
   "source": [
    "variables = [\"DZIAŁ\", \"STAŻ\", \"CZY_KIER\", \"PŁEĆ\", \"WIEK_KAT\"]\n",
    "for var in variables:\n",
    "    print(data[var].value_counts())"
   ]
  },
  {
   "cell_type": "markdown",
   "metadata": {},
   "source": [
    "#### ZADANIE 1.4\n",
    "     Sporządź wykresy kołowe oraz wykresy słupkowe dla zmiennych: PYT_1 oraz PYT_2. Sformułuj wnioski."
   ]
  },
  {
   "cell_type": "code",
   "execution_count": 94,
   "metadata": {},
   "outputs": [],
   "source": [
    "pyt1_value = data[\"PYT_1\"].value_counts()\n",
    "pyt2_value = data[\"PYT_2\"].value_counts()"
   ]
  },
  {
   "cell_type": "code",
   "execution_count": 124,
   "metadata": {},
   "outputs": [
    {
     "data": {
      "image/png": "[encoded data removed]",
      "text/plain": [
       "<Figure size 1000x600 with 2 Axes>"
      ]
     },
     "metadata": {},
     "output_type": "display_data"
    }
   ],
   "source": [
    "plt.figure(figsize=(10, 6))\n",
    "\n",
    "plt.subplot(1,2,1)\n",
    "plt.pie(pyt1_value, autopct=\"%.1f%%\")\n",
    "plt.title('Wykres kołowy wartości PYT_1')\n",
    "plt.legend(title='Odpowiedzi:', labels=pyt1_value.index)\n",
    "\n",
    "plt.subplot(1,2,2)\n",
    "plt.pie(pyt2_value, autopct=\"%.1f%%\")\n",
    "plt.title('Wykres kołowy wartości PYT_2')\n",
    "plt.legend(title='Odpowiedzi:', labels=pyt2_value.index)\n",
    "\n",
    "plt.show()"
   ]
  },
  {
   "cell_type": "code",
   "execution_count": 96,
   "metadata": {},
   "outputs": [
    {
     "data": {
      "image/png": "[encoded data removed]",
      "text/plain": [
       "<Figure size 1500x400 with 2 Axes>"
      ]
     },
     "metadata": {},
     "output_type": "display_data"
    }
   ],
   "source": [
    "plt.figure(figsize=(15,4))\n",
    "\n",
    "plt.subplot(1,2,1)\n",
    "sns.countplot(x=\"PYT_1\", data=data)\n",
    "plt.title('Rozkład odpowiedzi na pytanie 1')\n",
    "plt.ylabel('Liczba odpowiedzi')\n",
    "plt.grid(True, linestyle='--')\n",
    "\n",
    "plt.subplot(1,2,2)\n",
    "sns.countplot(x=\"PYT_2\", data=data)\n",
    "plt.title('Rozkład odpowiedzi na pytanie 2')\n",
    "plt.ylabel('Liczba odpowiedzi')\n",
    "plt.grid(True, linestyle='--')\n",
    "\n",
    "plt.show()"
   ]
  },
  {
   "cell_type": "markdown",
   "metadata": {},
   "source": [
    "#### ZADANIE 1.5\n",
    "    Sporządź tablice wielodzielcze dla par zmiennych: PYT_1 i DZIAŁ, PYT_1 i STAŻ, PYT_1 i CZY_KIER, PYT_1 i PŁEĆ oraz PYT_1 i WIEK_KAT. Sformułuj wnioski."
   ]
  },
  {
   "cell_type": "code",
   "execution_count": 97,
   "metadata": {},
   "outputs": [],
   "source": [
    "crosstab_P1D = pd.crosstab(data['PYT_1'], data['DZIAŁ'], margins = False) \n",
    "crosstab_P1S = pd.crosstab(data['PYT_1'], data['STAŻ'], margins = False) \n",
    "crosstab_P1CzK = pd.crosstab(data['PYT_1'], data['CZY_KIER'], margins = False) \n",
    "crosstab_P1P = pd.crosstab(data['PYT_1'], data['PŁEĆ'], margins = False) \n",
    "crosstab_P1WK = pd.crosstab(data['PYT_1'], data['WIEK_KAT'], margins = False) "
   ]
  },
  {
   "cell_type": "code",
   "execution_count": 98,
   "metadata": {},
   "outputs": [
    {
     "data": {
      "text/html": [
       "<div>\n",
       "<style scoped>\n",
       "    .dataframe tbody tr th:only-of-type {\n",
       "        vertical-align: middle;\n",
       "    }\n",
       "\n",
       "    .dataframe tbody tr th {\n",
       "        vertical-align: top;\n",
       "    }\n",
       "\n",
       "    .dataframe thead th {\n",
       "        text-align: right;\n",
       "    }\n",
       "</style>\n",
       "<table border=\"1\" class=\"dataframe\">\n",
       "  <thead>\n",
       "    <tr style=\"text-align: right;\">\n",
       "      <th>DZIAŁ</th>\n",
       "      <th>HR</th>\n",
       "      <th>IT</th>\n",
       "      <th>MK</th>\n",
       "      <th>PD</th>\n",
       "    </tr>\n",
       "    <tr>\n",
       "      <th>PYT_1</th>\n",
       "      <th></th>\n",
       "      <th></th>\n",
       "      <th></th>\n",
       "      <th></th>\n",
       "    </tr>\n",
       "  </thead>\n",
       "  <tbody>\n",
       "    <tr>\n",
       "      <th>-2</th>\n",
       "      <td>2</td>\n",
       "      <td>0</td>\n",
       "      <td>3</td>\n",
       "      <td>9</td>\n",
       "    </tr>\n",
       "    <tr>\n",
       "      <th>-1</th>\n",
       "      <td>2</td>\n",
       "      <td>2</td>\n",
       "      <td>3</td>\n",
       "      <td>10</td>\n",
       "    </tr>\n",
       "    <tr>\n",
       "      <th>0</th>\n",
       "      <td>5</td>\n",
       "      <td>4</td>\n",
       "      <td>14</td>\n",
       "      <td>17</td>\n",
       "    </tr>\n",
       "    <tr>\n",
       "      <th>1</th>\n",
       "      <td>19</td>\n",
       "      <td>15</td>\n",
       "      <td>15</td>\n",
       "      <td>51</td>\n",
       "    </tr>\n",
       "    <tr>\n",
       "      <th>2</th>\n",
       "      <td>3</td>\n",
       "      <td>5</td>\n",
       "      <td>10</td>\n",
       "      <td>11</td>\n",
       "    </tr>\n",
       "  </tbody>\n",
       "</table>\n",
       "</div>"
      ],
      "text/plain": [
       "DZIAŁ  HR  IT  MK  PD\n",
       "PYT_1                \n",
       "-2      2   0   3   9\n",
       "-1      2   2   3  10\n",
       " 0      5   4  14  17\n",
       " 1     19  15  15  51\n",
       " 2      3   5  10  11"
      ]
     },
     "execution_count": 98,
     "metadata": {},
     "output_type": "execute_result"
    }
   ],
   "source": [
    "crosstab_P1D"
   ]
  },
  {
   "cell_type": "code",
   "execution_count": 99,
   "metadata": {},
   "outputs": [
    {
     "data": {
      "text/html": [
       "<div>\n",
       "<style scoped>\n",
       "    .dataframe tbody tr th:only-of-type {\n",
       "        vertical-align: middle;\n",
       "    }\n",
       "\n",
       "    .dataframe tbody tr th {\n",
       "        vertical-align: top;\n",
       "    }\n",
       "\n",
       "    .dataframe thead th {\n",
       "        text-align: right;\n",
       "    }\n",
       "</style>\n",
       "<table border=\"1\" class=\"dataframe\">\n",
       "  <thead>\n",
       "    <tr style=\"text-align: right;\">\n",
       "      <th>STAŻ</th>\n",
       "      <th>1</th>\n",
       "      <th>2</th>\n",
       "      <th>3</th>\n",
       "    </tr>\n",
       "    <tr>\n",
       "      <th>PYT_1</th>\n",
       "      <th></th>\n",
       "      <th></th>\n",
       "      <th></th>\n",
       "    </tr>\n",
       "  </thead>\n",
       "  <tbody>\n",
       "    <tr>\n",
       "      <th>-2</th>\n",
       "      <td>5</td>\n",
       "      <td>5</td>\n",
       "      <td>4</td>\n",
       "    </tr>\n",
       "    <tr>\n",
       "      <th>-1</th>\n",
       "      <td>6</td>\n",
       "      <td>10</td>\n",
       "      <td>1</td>\n",
       "    </tr>\n",
       "    <tr>\n",
       "      <th>0</th>\n",
       "      <td>8</td>\n",
       "      <td>26</td>\n",
       "      <td>6</td>\n",
       "    </tr>\n",
       "    <tr>\n",
       "      <th>1</th>\n",
       "      <td>19</td>\n",
       "      <td>75</td>\n",
       "      <td>6</td>\n",
       "    </tr>\n",
       "    <tr>\n",
       "      <th>2</th>\n",
       "      <td>3</td>\n",
       "      <td>24</td>\n",
       "      <td>2</td>\n",
       "    </tr>\n",
       "  </tbody>\n",
       "</table>\n",
       "</div>"
      ],
      "text/plain": [
       "STAŻ    1   2  3\n",
       "PYT_1           \n",
       "-2      5   5  4\n",
       "-1      6  10  1\n",
       " 0      8  26  6\n",
       " 1     19  75  6\n",
       " 2      3  24  2"
      ]
     },
     "execution_count": 99,
     "metadata": {},
     "output_type": "execute_result"
    }
   ],
   "source": [
    "crosstab_P1S"
   ]
  },
  {
   "cell_type": "code",
   "execution_count": 100,
   "metadata": {},
   "outputs": [
    {
     "data": {
      "text/html": [
       "<div>\n",
       "<style scoped>\n",
       "    .dataframe tbody tr th:only-of-type {\n",
       "        vertical-align: middle;\n",
       "    }\n",
       "\n",
       "    .dataframe tbody tr th {\n",
       "        vertical-align: top;\n",
       "    }\n",
       "\n",
       "    .dataframe thead th {\n",
       "        text-align: right;\n",
       "    }\n",
       "</style>\n",
       "<table border=\"1\" class=\"dataframe\">\n",
       "  <thead>\n",
       "    <tr style=\"text-align: right;\">\n",
       "      <th>CZY_KIER</th>\n",
       "      <th>Nie</th>\n",
       "      <th>Tak</th>\n",
       "    </tr>\n",
       "    <tr>\n",
       "      <th>PYT_1</th>\n",
       "      <th></th>\n",
       "      <th></th>\n",
       "    </tr>\n",
       "  </thead>\n",
       "  <tbody>\n",
       "    <tr>\n",
       "      <th>-2</th>\n",
       "      <td>10</td>\n",
       "      <td>4</td>\n",
       "    </tr>\n",
       "    <tr>\n",
       "      <th>-1</th>\n",
       "      <td>14</td>\n",
       "      <td>3</td>\n",
       "    </tr>\n",
       "    <tr>\n",
       "      <th>0</th>\n",
       "      <td>34</td>\n",
       "      <td>6</td>\n",
       "    </tr>\n",
       "    <tr>\n",
       "      <th>1</th>\n",
       "      <td>88</td>\n",
       "      <td>12</td>\n",
       "    </tr>\n",
       "    <tr>\n",
       "      <th>2</th>\n",
       "      <td>27</td>\n",
       "      <td>2</td>\n",
       "    </tr>\n",
       "  </tbody>\n",
       "</table>\n",
       "</div>"
      ],
      "text/plain": [
       "CZY_KIER  Nie  Tak\n",
       "PYT_1             \n",
       "-2         10    4\n",
       "-1         14    3\n",
       " 0         34    6\n",
       " 1         88   12\n",
       " 2         27    2"
      ]
     },
     "execution_count": 100,
     "metadata": {},
     "output_type": "execute_result"
    }
   ],
   "source": [
    "crosstab_P1CzK"
   ]
  },
  {
   "cell_type": "code",
   "execution_count": 101,
   "metadata": {},
   "outputs": [
    {
     "data": {
      "text/html": [
       "<div>\n",
       "<style scoped>\n",
       "    .dataframe tbody tr th:only-of-type {\n",
       "        vertical-align: middle;\n",
       "    }\n",
       "\n",
       "    .dataframe tbody tr th {\n",
       "        vertical-align: top;\n",
       "    }\n",
       "\n",
       "    .dataframe thead th {\n",
       "        text-align: right;\n",
       "    }\n",
       "</style>\n",
       "<table border=\"1\" class=\"dataframe\">\n",
       "  <thead>\n",
       "    <tr style=\"text-align: right;\">\n",
       "      <th>PŁEĆ</th>\n",
       "      <th>K</th>\n",
       "      <th>M</th>\n",
       "    </tr>\n",
       "    <tr>\n",
       "      <th>PYT_1</th>\n",
       "      <th></th>\n",
       "      <th></th>\n",
       "    </tr>\n",
       "  </thead>\n",
       "  <tbody>\n",
       "    <tr>\n",
       "      <th>-2</th>\n",
       "      <td>3</td>\n",
       "      <td>11</td>\n",
       "    </tr>\n",
       "    <tr>\n",
       "      <th>-1</th>\n",
       "      <td>7</td>\n",
       "      <td>10</td>\n",
       "    </tr>\n",
       "    <tr>\n",
       "      <th>0</th>\n",
       "      <td>14</td>\n",
       "      <td>26</td>\n",
       "    </tr>\n",
       "    <tr>\n",
       "      <th>1</th>\n",
       "      <td>36</td>\n",
       "      <td>64</td>\n",
       "    </tr>\n",
       "    <tr>\n",
       "      <th>2</th>\n",
       "      <td>11</td>\n",
       "      <td>18</td>\n",
       "    </tr>\n",
       "  </tbody>\n",
       "</table>\n",
       "</div>"
      ],
      "text/plain": [
       "PŁEĆ    K   M\n",
       "PYT_1        \n",
       "-2      3  11\n",
       "-1      7  10\n",
       " 0     14  26\n",
       " 1     36  64\n",
       " 2     11  18"
      ]
     },
     "execution_count": 101,
     "metadata": {},
     "output_type": "execute_result"
    }
   ],
   "source": [
    "crosstab_P1P"
   ]
  },
  {
   "cell_type": "code",
   "execution_count": 102,
   "metadata": {},
   "outputs": [
    {
     "data": {
      "text/html": [
       "<div>\n",
       "<style scoped>\n",
       "    .dataframe tbody tr th:only-of-type {\n",
       "        vertical-align: middle;\n",
       "    }\n",
       "\n",
       "    .dataframe tbody tr th {\n",
       "        vertical-align: top;\n",
       "    }\n",
       "\n",
       "    .dataframe thead th {\n",
       "        text-align: right;\n",
       "    }\n",
       "</style>\n",
       "<table border=\"1\" class=\"dataframe\">\n",
       "  <thead>\n",
       "    <tr style=\"text-align: right;\">\n",
       "      <th>WIEK_KAT</th>\n",
       "      <th>36-45</th>\n",
       "      <th>46-55</th>\n",
       "      <th>&lt;=35</th>\n",
       "      <th>&gt;55</th>\n",
       "    </tr>\n",
       "    <tr>\n",
       "      <th>PYT_1</th>\n",
       "      <th></th>\n",
       "      <th></th>\n",
       "      <th></th>\n",
       "      <th></th>\n",
       "    </tr>\n",
       "  </thead>\n",
       "  <tbody>\n",
       "    <tr>\n",
       "      <th>-2</th>\n",
       "      <td>11</td>\n",
       "      <td>2</td>\n",
       "      <td>1</td>\n",
       "      <td>0</td>\n",
       "    </tr>\n",
       "    <tr>\n",
       "      <th>-1</th>\n",
       "      <td>7</td>\n",
       "      <td>1</td>\n",
       "      <td>6</td>\n",
       "      <td>3</td>\n",
       "    </tr>\n",
       "    <tr>\n",
       "      <th>0</th>\n",
       "      <td>24</td>\n",
       "      <td>5</td>\n",
       "      <td>3</td>\n",
       "      <td>8</td>\n",
       "    </tr>\n",
       "    <tr>\n",
       "      <th>1</th>\n",
       "      <td>50</td>\n",
       "      <td>25</td>\n",
       "      <td>13</td>\n",
       "      <td>12</td>\n",
       "    </tr>\n",
       "    <tr>\n",
       "      <th>2</th>\n",
       "      <td>12</td>\n",
       "      <td>12</td>\n",
       "      <td>3</td>\n",
       "      <td>2</td>\n",
       "    </tr>\n",
       "  </tbody>\n",
       "</table>\n",
       "</div>"
      ],
      "text/plain": [
       "WIEK_KAT  36-45  46-55  <=35  >55\n",
       "PYT_1                            \n",
       "-2           11      2     1    0\n",
       "-1            7      1     6    3\n",
       " 0           24      5     3    8\n",
       " 1           50     25    13   12\n",
       " 2           12     12     3    2"
      ]
     },
     "execution_count": 102,
     "metadata": {},
     "output_type": "execute_result"
    }
   ],
   "source": [
    "crosstab_P1WK"
   ]
  },
  {
   "cell_type": "markdown",
   "metadata": {},
   "source": [
    "#### ZADANIE 1.6\n",
    "    Sporządź tablicę wielodzielczą dla pary zmiennych: PYT_2 i PYT_3. Sformułuj wnioski."
   ]
  },
  {
   "cell_type": "code",
   "execution_count": 103,
   "metadata": {},
   "outputs": [
    {
     "data": {
      "text/html": [
       "<div>\n",
       "<style scoped>\n",
       "    .dataframe tbody tr th:only-of-type {\n",
       "        vertical-align: middle;\n",
       "    }\n",
       "\n",
       "    .dataframe tbody tr th {\n",
       "        vertical-align: top;\n",
       "    }\n",
       "\n",
       "    .dataframe thead th {\n",
       "        text-align: right;\n",
       "    }\n",
       "</style>\n",
       "<table border=\"1\" class=\"dataframe\">\n",
       "  <thead>\n",
       "    <tr style=\"text-align: right;\">\n",
       "      <th>PYT_3</th>\n",
       "      <th>-2</th>\n",
       "      <th>-1</th>\n",
       "      <th>1</th>\n",
       "      <th>2</th>\n",
       "    </tr>\n",
       "    <tr>\n",
       "      <th>PYT_2</th>\n",
       "      <th></th>\n",
       "      <th></th>\n",
       "      <th></th>\n",
       "      <th></th>\n",
       "    </tr>\n",
       "  </thead>\n",
       "  <tbody>\n",
       "    <tr>\n",
       "      <th>-2</th>\n",
       "      <td>49</td>\n",
       "      <td>16</td>\n",
       "      <td>5</td>\n",
       "      <td>4</td>\n",
       "    </tr>\n",
       "    <tr>\n",
       "      <th>-1</th>\n",
       "      <td>3</td>\n",
       "      <td>6</td>\n",
       "      <td>10</td>\n",
       "      <td>1</td>\n",
       "    </tr>\n",
       "    <tr>\n",
       "      <th>1</th>\n",
       "      <td>0</td>\n",
       "      <td>0</td>\n",
       "      <td>2</td>\n",
       "      <td>0</td>\n",
       "    </tr>\n",
       "    <tr>\n",
       "      <th>2</th>\n",
       "      <td>0</td>\n",
       "      <td>8</td>\n",
       "      <td>15</td>\n",
       "      <td>81</td>\n",
       "    </tr>\n",
       "  </tbody>\n",
       "</table>\n",
       "</div>"
      ],
      "text/plain": [
       "PYT_3  -2  -1   1   2\n",
       "PYT_2                \n",
       "-2     49  16   5   4\n",
       "-1      3   6  10   1\n",
       " 1      0   0   2   0\n",
       " 2      0   8  15  81"
      ]
     },
     "execution_count": 103,
     "metadata": {},
     "output_type": "execute_result"
    }
   ],
   "source": [
    "crosstab_P2P3 = pd.crosstab(data['PYT_2'], data['PYT_3'], margins = False) \n",
    "crosstab_P2P3"
   ]
  },
  {
   "cell_type": "markdown",
   "metadata": {},
   "source": [
    "#### ZADANIE 1.7\n",
    "     Utwórz zmienną CZY_ZADOW na podstawie zmiennej PYT_2 łącząc kategorie \"nie zgadzam się\" i \"zdecydowanie się nie zgadzam\" oraz \"zgadzam się\" i \"zdecydowanie się zgadzam\"."
   ]
  },
  {
   "cell_type": "code",
   "execution_count": 104,
   "metadata": {},
   "outputs": [],
   "source": [
    "def is_satisfied(satisfaction_lvl):\n",
    "    if satisfaction_lvl == -2 or satisfaction_lvl == -1:\n",
    "        return 'NIE'\n",
    "    else:\n",
    "        return 'TAK'\n",
    "\n",
    "data[\"CZY_ZADOW\"] = data[\"PYT_2\"].apply(is_satisfied)"
   ]
  },
  {
   "cell_type": "code",
   "execution_count": 105,
   "metadata": {},
   "outputs": [
    {
     "data": {
      "text/html": [
       "<div>\n",
       "<style scoped>\n",
       "    .dataframe tbody tr th:only-of-type {\n",
       "        vertical-align: middle;\n",
       "    }\n",
       "\n",
       "    .dataframe tbody tr th {\n",
       "        vertical-align: top;\n",
       "    }\n",
       "\n",
       "    .dataframe thead th {\n",
       "        text-align: right;\n",
       "    }\n",
       "</style>\n",
       "<table border=\"1\" class=\"dataframe\">\n",
       "  <thead>\n",
       "    <tr style=\"text-align: right;\">\n",
       "      <th></th>\n",
       "      <th>DZIAŁ</th>\n",
       "      <th>STAŻ</th>\n",
       "      <th>CZY_KIER</th>\n",
       "      <th>PYT_1</th>\n",
       "      <th>PYT_2</th>\n",
       "      <th>PYT_3</th>\n",
       "      <th>PŁEĆ</th>\n",
       "      <th>WIEK</th>\n",
       "      <th>WIEK_KAT</th>\n",
       "      <th>CZY_ZADOW</th>\n",
       "    </tr>\n",
       "  </thead>\n",
       "  <tbody>\n",
       "    <tr>\n",
       "      <th>0</th>\n",
       "      <td>IT</td>\n",
       "      <td>2</td>\n",
       "      <td>Nie</td>\n",
       "      <td>1</td>\n",
       "      <td>-2</td>\n",
       "      <td>1</td>\n",
       "      <td>M</td>\n",
       "      <td>64</td>\n",
       "      <td>&gt;55</td>\n",
       "      <td>NIE</td>\n",
       "    </tr>\n",
       "    <tr>\n",
       "      <th>1</th>\n",
       "      <td>IT</td>\n",
       "      <td>2</td>\n",
       "      <td>Nie</td>\n",
       "      <td>0</td>\n",
       "      <td>-2</td>\n",
       "      <td>-2</td>\n",
       "      <td>M</td>\n",
       "      <td>67</td>\n",
       "      <td>&gt;55</td>\n",
       "      <td>NIE</td>\n",
       "    </tr>\n",
       "    <tr>\n",
       "      <th>2</th>\n",
       "      <td>IT</td>\n",
       "      <td>2</td>\n",
       "      <td>Nie</td>\n",
       "      <td>1</td>\n",
       "      <td>2</td>\n",
       "      <td>2</td>\n",
       "      <td>M</td>\n",
       "      <td>65</td>\n",
       "      <td>&gt;55</td>\n",
       "      <td>TAK</td>\n",
       "    </tr>\n",
       "    <tr>\n",
       "      <th>3</th>\n",
       "      <td>IT</td>\n",
       "      <td>2</td>\n",
       "      <td>Nie</td>\n",
       "      <td>-1</td>\n",
       "      <td>-2</td>\n",
       "      <td>-2</td>\n",
       "      <td>K</td>\n",
       "      <td>68</td>\n",
       "      <td>&gt;55</td>\n",
       "      <td>NIE</td>\n",
       "    </tr>\n",
       "    <tr>\n",
       "      <th>4</th>\n",
       "      <td>IT</td>\n",
       "      <td>3</td>\n",
       "      <td>Tak</td>\n",
       "      <td>1</td>\n",
       "      <td>2</td>\n",
       "      <td>-1</td>\n",
       "      <td>K</td>\n",
       "      <td>65</td>\n",
       "      <td>&gt;55</td>\n",
       "      <td>TAK</td>\n",
       "    </tr>\n",
       "  </tbody>\n",
       "</table>\n",
       "</div>"
      ],
      "text/plain": [
       "  DZIAŁ  STAŻ CZY_KIER  PYT_1  PYT_2  PYT_3 PŁEĆ  WIEK WIEK_KAT CZY_ZADOW\n",
       "0    IT     2      Nie      1     -2      1    M    64      >55       NIE\n",
       "1    IT     2      Nie      0     -2     -2    M    67      >55       NIE\n",
       "2    IT     2      Nie      1      2      2    M    65      >55       TAK\n",
       "3    IT     2      Nie     -1     -2     -2    K    68      >55       NIE\n",
       "4    IT     3      Tak      1      2     -1    K    65      >55       TAK"
      ]
     },
     "execution_count": 105,
     "metadata": {},
     "output_type": "execute_result"
    }
   ],
   "source": [
    "data.head()"
   ]
  },
  {
   "cell_type": "markdown",
   "metadata": {},
   "source": [
    "#### ZADANIE 1.8\n",
    "    Sporządź wykresy mozaikowe odpowiadające parom zmiennych: CZY_ZADOW i DZIAŁ, CZY_ZADOW i STAŻ, CZY_ZADOW i CZY_KIER, CZY_ZADOW i PŁEĆ oraz CZY_ZADOW i WIEK_KAT. Czy na podstawie uzyskanych wykresów można postawić pewne hipotezy dotyczące realicji między powyższymi zmiennymi? Spróbuj sformułować kilka takich hipotez."
   ]
  },
  {
   "cell_type": "code",
   "execution_count": 106,
   "metadata": {},
   "outputs": [
    {
     "data": {
      "image/png": "[encoded data removed]",
      "text/plain": [
       "<Figure size 640x480 with 3 Axes>"
      ]
     },
     "metadata": {},
     "output_type": "display_data"
    }
   ],
   "source": [
    "mosaic(data, ['CZY_ZADOW', 'DZIAŁ'], title='CZY_ZADOW vs DZIAŁ')\n",
    "plt.show()"
   ]
  },
  {
   "cell_type": "code",
   "execution_count": 107,
   "metadata": {},
   "outputs": [
    {
     "data": {
      "image/png": "[encoded data removed]",
      "text/plain": [
       "<Figure size 640x480 with 3 Axes>"
      ]
     },
     "metadata": {},
     "output_type": "display_data"
    }
   ],
   "source": [
    "mosaic(data, ['CZY_ZADOW', 'STAŻ'], title='CZY_ZADOW vs STAŻ')\n",
    "plt.show()"
   ]
  },
  {
   "cell_type": "code",
   "execution_count": 108,
   "metadata": {},
   "outputs": [
    {
     "data": {
      "image/png": "[encoded data removed]",
      "text/plain": [
       "<Figure size 640x480 with 3 Axes>"
      ]
     },
     "metadata": {},
     "output_type": "display_data"
    }
   ],
   "source": [
    "mosaic(data, ['CZY_ZADOW', 'CZY_KIER'], title='CZY_ZADOW vs CZY_KIER')\n",
    "plt.show()"
   ]
  },
  {
   "cell_type": "code",
   "execution_count": 109,
   "metadata": {},
   "outputs": [
    {
     "data": {
      "image/png": "[encoded data removed]",
      "text/plain": [
       "<Figure size 640x480 with 3 Axes>"
      ]
     },
     "metadata": {},
     "output_type": "display_data"
    }
   ],
   "source": [
    "mosaic(data, ['CZY_ZADOW', 'PŁEĆ'], title='CZY_ZADOW vs PŁEĆ')\n",
    "plt.show()"
   ]
  },
  {
   "cell_type": "code",
   "execution_count": 110,
   "metadata": {},
   "outputs": [
    {
     "data": {
      "image/png": "[encoded data removed]",
      "text/plain": [
       "<Figure size 640x480 with 3 Axes>"
      ]
     },
     "metadata": {},
     "output_type": "display_data"
    }
   ],
   "source": [
    "mosaic(data, ['CZY_ZADOW', 'WIEK_KAT'], title='CZY_ZADOW vs WIEK_KAT')\n",
    "plt.show()"
   ]
  },
  {
   "cell_type": "markdown",
   "metadata": {},
   "source": [
    "## CZĘŚĆ II"
   ]
  },
  {
   "cell_type": "markdown",
   "metadata": {},
   "source": [
    "### ZADANIE 2 \n",
    "    Zilustruj odpowiedzi na pytanie \"Jak bardzo zgadzasz się ze stwierdzeniem, że firma pozwala na (...)?\" (zmienna PYT_1) w całej badanej grupie oraz w podgrupach ze względu na zmienną CZY_KIER. W tym celu możesz zaproponować własne metody wizualizacji lub zapozać się z biblioteką likert i dostępnymi tam funkcjami summary oraz plot (jeśli korzystarz z R) oraz z biblioteką Altair lub plot-likert (jeśli korzystarz z Pythona)."
   ]
  },
  {
   "cell_type": "code",
   "execution_count": null,
   "metadata": {},
   "outputs": [],
   "source": []
  },
  {
   "cell_type": "markdown",
   "metadata": {},
   "source": [
    "### ZADANIE 3\n",
    "    Zapoznaj się z funkcją sample z biblioteki stats (w R) lub z funkcją random.choice z biblioteki numpy (w Pythonie). Przetestuj jej działanie dla różnych wartości argumentów wejściowych. Następnie wylosuj próbkę o liczności 10% wszystkich rekordów z pliku \"ankieta.csv\" w dwóch wersjach: ze zwracaniem oraz bez zwracania."
   ]
  },
  {
   "cell_type": "markdown",
   "metadata": {},
   "source": [
    "-> Testowanie funkcji random.choice dla różnych wartości wejściowych"
   ]
  },
  {
   "cell_type": "code",
   "execution_count": 111,
   "metadata": {},
   "outputs": [],
   "source": [
    "example_data = np.array([-10,-8,-6,-4,-2,0,2,4,6,8,10])\n",
    "example_prob = np.array([0.1,0.05,0.2,0.02,0.03,0.3,0.025,0.025,0.05,0.1,0.1])"
   ]
  },
  {
   "cell_type": "code",
   "execution_count": 112,
   "metadata": {},
   "outputs": [
    {
     "data": {
      "text/plain": [
       "array([-2,  4, -4, -8,  2])"
      ]
     },
     "execution_count": 112,
     "metadata": {},
     "output_type": "execute_result"
    }
   ],
   "source": [
    "example_with_replacement = np.random.choice(example_data, size=5, replace=True)\n",
    "example_with_replacement"
   ]
  },
  {
   "cell_type": "code",
   "execution_count": 113,
   "metadata": {},
   "outputs": [
    {
     "data": {
      "text/plain": [
       "array([-6,  6,  2, -8,  0])"
      ]
     },
     "execution_count": 113,
     "metadata": {},
     "output_type": "execute_result"
    }
   ],
   "source": [
    "example_without_replacement = np.random.choice(example_data, size=5, replace=False)\n",
    "example_without_replacement"
   ]
  },
  {
   "cell_type": "code",
   "execution_count": 114,
   "metadata": {},
   "outputs": [
    {
     "data": {
      "text/plain": [
       "array([  0,  -2, -10,  -6,  -6])"
      ]
     },
     "execution_count": 114,
     "metadata": {},
     "output_type": "execute_result"
    }
   ],
   "source": [
    "example_with_prob = np.random.choice(example_data, size=5, replace=True, p=example_prob)\n",
    "example_with_prob"
   ]
  },
  {
   "cell_type": "markdown",
   "metadata": {},
   "source": [
    "-> Próbka o liczności 10% wszystkich rekordów z pliku 'ankieta.csv'"
   ]
  },
  {
   "cell_type": "code",
   "execution_count": 115,
   "metadata": {},
   "outputs": [
    {
     "data": {
      "text/html": [
       "<div>\n",
       "<style scoped>\n",
       "    .dataframe tbody tr th:only-of-type {\n",
       "        vertical-align: middle;\n",
       "    }\n",
       "\n",
       "    .dataframe tbody tr th {\n",
       "        vertical-align: top;\n",
       "    }\n",
       "\n",
       "    .dataframe thead th {\n",
       "        text-align: right;\n",
       "    }\n",
       "</style>\n",
       "<table border=\"1\" class=\"dataframe\">\n",
       "  <thead>\n",
       "    <tr style=\"text-align: right;\">\n",
       "      <th></th>\n",
       "      <th>DZIAŁ</th>\n",
       "      <th>STAŻ</th>\n",
       "      <th>CZY_KIER</th>\n",
       "      <th>PYT_1</th>\n",
       "      <th>PYT_2</th>\n",
       "      <th>PYT_3</th>\n",
       "      <th>PŁEĆ</th>\n",
       "      <th>WIEK</th>\n",
       "      <th>WIEK_KAT</th>\n",
       "      <th>CZY_ZADOW</th>\n",
       "    </tr>\n",
       "  </thead>\n",
       "  <tbody>\n",
       "    <tr>\n",
       "      <th>25</th>\n",
       "      <td>IT</td>\n",
       "      <td>3</td>\n",
       "      <td>Nie</td>\n",
       "      <td>1</td>\n",
       "      <td>2</td>\n",
       "      <td>2</td>\n",
       "      <td>K</td>\n",
       "      <td>51</td>\n",
       "      <td>46-55</td>\n",
       "      <td>TAK</td>\n",
       "    </tr>\n",
       "    <tr>\n",
       "      <th>0</th>\n",
       "      <td>IT</td>\n",
       "      <td>2</td>\n",
       "      <td>Nie</td>\n",
       "      <td>1</td>\n",
       "      <td>-2</td>\n",
       "      <td>1</td>\n",
       "      <td>M</td>\n",
       "      <td>64</td>\n",
       "      <td>&gt;55</td>\n",
       "      <td>NIE</td>\n",
       "    </tr>\n",
       "    <tr>\n",
       "      <th>155</th>\n",
       "      <td>MK</td>\n",
       "      <td>2</td>\n",
       "      <td>Nie</td>\n",
       "      <td>0</td>\n",
       "      <td>-2</td>\n",
       "      <td>-2</td>\n",
       "      <td>M</td>\n",
       "      <td>37</td>\n",
       "      <td>36-45</td>\n",
       "      <td>NIE</td>\n",
       "    </tr>\n",
       "    <tr>\n",
       "      <th>124</th>\n",
       "      <td>MK</td>\n",
       "      <td>2</td>\n",
       "      <td>Nie</td>\n",
       "      <td>1</td>\n",
       "      <td>2</td>\n",
       "      <td>2</td>\n",
       "      <td>K</td>\n",
       "      <td>40</td>\n",
       "      <td>36-45</td>\n",
       "      <td>TAK</td>\n",
       "    </tr>\n",
       "    <tr>\n",
       "      <th>9</th>\n",
       "      <td>IT</td>\n",
       "      <td>2</td>\n",
       "      <td>Nie</td>\n",
       "      <td>2</td>\n",
       "      <td>-1</td>\n",
       "      <td>1</td>\n",
       "      <td>K</td>\n",
       "      <td>47</td>\n",
       "      <td>46-55</td>\n",
       "      <td>NIE</td>\n",
       "    </tr>\n",
       "  </tbody>\n",
       "</table>\n",
       "</div>"
      ],
      "text/plain": [
       "    DZIAŁ  STAŻ CZY_KIER  PYT_1  PYT_2  PYT_3 PŁEĆ  WIEK WIEK_KAT CZY_ZADOW\n",
       "25     IT     3      Nie      1      2      2    K    51    46-55       TAK\n",
       "0      IT     2      Nie      1     -2      1    M    64      >55       NIE\n",
       "155    MK     2      Nie      0     -2     -2    M    37    36-45       NIE\n",
       "124    MK     2      Nie      1      2      2    K    40    36-45       TAK\n",
       "9      IT     2      Nie      2     -1      1    K    47    46-55       NIE"
      ]
     },
     "execution_count": 115,
     "metadata": {},
     "output_type": "execute_result"
    }
   ],
   "source": [
    "#ze zwracaniem\n",
    "\n",
    "sample10_percent = int(0.1 * len(data))\n",
    "\n",
    "sample_with_replacement = np.random.choice(data.index, size=sample10_percent, replace=True)\n",
    "frame_with_replacement = data.loc[sample_with_replacement]\n",
    "frame_with_replacement.head()"
   ]
  },
  {
   "cell_type": "code",
   "execution_count": 116,
   "metadata": {},
   "outputs": [
    {
     "data": {
      "text/html": [
       "<div>\n",
       "<style scoped>\n",
       "    .dataframe tbody tr th:only-of-type {\n",
       "        vertical-align: middle;\n",
       "    }\n",
       "\n",
       "    .dataframe tbody tr th {\n",
       "        vertical-align: top;\n",
       "    }\n",
       "\n",
       "    .dataframe thead th {\n",
       "        text-align: right;\n",
       "    }\n",
       "</style>\n",
       "<table border=\"1\" class=\"dataframe\">\n",
       "  <thead>\n",
       "    <tr style=\"text-align: right;\">\n",
       "      <th></th>\n",
       "      <th>DZIAŁ</th>\n",
       "      <th>STAŻ</th>\n",
       "      <th>CZY_KIER</th>\n",
       "      <th>PYT_1</th>\n",
       "      <th>PYT_2</th>\n",
       "      <th>PYT_3</th>\n",
       "      <th>PŁEĆ</th>\n",
       "      <th>WIEK</th>\n",
       "      <th>WIEK_KAT</th>\n",
       "      <th>CZY_ZADOW</th>\n",
       "    </tr>\n",
       "  </thead>\n",
       "  <tbody>\n",
       "    <tr>\n",
       "      <th>5</th>\n",
       "      <td>IT</td>\n",
       "      <td>3</td>\n",
       "      <td>Tak</td>\n",
       "      <td>0</td>\n",
       "      <td>1</td>\n",
       "      <td>1</td>\n",
       "      <td>K</td>\n",
       "      <td>57</td>\n",
       "      <td>&gt;55</td>\n",
       "      <td>TAK</td>\n",
       "    </tr>\n",
       "    <tr>\n",
       "      <th>13</th>\n",
       "      <td>IT</td>\n",
       "      <td>2</td>\n",
       "      <td>Nie</td>\n",
       "      <td>1</td>\n",
       "      <td>2</td>\n",
       "      <td>2</td>\n",
       "      <td>K</td>\n",
       "      <td>53</td>\n",
       "      <td>46-55</td>\n",
       "      <td>TAK</td>\n",
       "    </tr>\n",
       "    <tr>\n",
       "      <th>126</th>\n",
       "      <td>MK</td>\n",
       "      <td>2</td>\n",
       "      <td>Nie</td>\n",
       "      <td>1</td>\n",
       "      <td>2</td>\n",
       "      <td>2</td>\n",
       "      <td>K</td>\n",
       "      <td>36</td>\n",
       "      <td>36-45</td>\n",
       "      <td>TAK</td>\n",
       "    </tr>\n",
       "    <tr>\n",
       "      <th>26</th>\n",
       "      <td>PD</td>\n",
       "      <td>2</td>\n",
       "      <td>Tak</td>\n",
       "      <td>1</td>\n",
       "      <td>2</td>\n",
       "      <td>2</td>\n",
       "      <td>M</td>\n",
       "      <td>28</td>\n",
       "      <td>&lt;=35</td>\n",
       "      <td>TAK</td>\n",
       "    </tr>\n",
       "    <tr>\n",
       "      <th>199</th>\n",
       "      <td>HR</td>\n",
       "      <td>2</td>\n",
       "      <td>Nie</td>\n",
       "      <td>1</td>\n",
       "      <td>2</td>\n",
       "      <td>2</td>\n",
       "      <td>K</td>\n",
       "      <td>42</td>\n",
       "      <td>36-45</td>\n",
       "      <td>TAK</td>\n",
       "    </tr>\n",
       "  </tbody>\n",
       "</table>\n",
       "</div>"
      ],
      "text/plain": [
       "    DZIAŁ  STAŻ CZY_KIER  PYT_1  PYT_2  PYT_3 PŁEĆ  WIEK WIEK_KAT CZY_ZADOW\n",
       "5      IT     3      Tak      0      1      1    K    57      >55       TAK\n",
       "13     IT     2      Nie      1      2      2    K    53    46-55       TAK\n",
       "126    MK     2      Nie      1      2      2    K    36    36-45       TAK\n",
       "26     PD     2      Tak      1      2      2    M    28     <=35       TAK\n",
       "199    HR     2      Nie      1      2      2    K    42    36-45       TAK"
      ]
     },
     "execution_count": 116,
     "metadata": {},
     "output_type": "execute_result"
    }
   ],
   "source": [
    "#bez zwracania\n",
    "\n",
    "sample_without_replacement = np.random.choice(data.index, size=sample10_percent, replace=False)\n",
    "frame_without_replacement = data.loc[sample_without_replacement]\n",
    "frame_without_replacement.head()"
   ]
  },
  {
   "cell_type": "markdown",
   "metadata": {},
   "source": [
    "### ZADANIE 4\n",
    "    Zaproponuj metodę symulowania zmiennych losowych z rozkładu dwumianowego. Napisz funkcję do generowania realizacji, a następnie zaprezentuj jej działanie porównując wybrane teoretyczne i empiryczne charakterystyki dla przykładowych wartości paramertów rozkładu: n i p."
   ]
  },
  {
   "cell_type": "code",
   "execution_count": 117,
   "metadata": {},
   "outputs": [],
   "source": [
    "def binomial_simulate(n, p, size):\n",
    "    return np.random.binomial(n, p, size)"
   ]
  },
  {
   "cell_type": "code",
   "execution_count": 118,
   "metadata": {},
   "outputs": [],
   "source": [
    "n_binomial = 10 \n",
    "p_binomial = 0.3 \n",
    "size_binomial = 10000  \n",
    "\n",
    "binomial_sample = binomial_simulate(n_binomial, p_binomial, size_binomial)\n",
    "\n",
    "xs_binomial = np.arange(0, n_binomial)\n",
    "pmf_values = binom.pmf(xs_binomial, n_binomial, p_binomial)"
   ]
  },
  {
   "cell_type": "code",
   "execution_count": 119,
   "metadata": {},
   "outputs": [
    {
     "data": {
      "image/png": "[encoded data removed]",
      "text/plain": [
       "<Figure size 600x400 with 1 Axes>"
      ]
     },
     "metadata": {},
     "output_type": "display_data"
    }
   ],
   "source": [
    "plt.figure(figsize=(6, 4))\n",
    "\n",
    "sns.histplot(binomial_sample, discrete=True, stat=\"probability\", label=\"Wartości empiryczne\")\n",
    "plt.plot(xs_binomial, pmf_values, 'r', label=\"Wartości teoretyczne\")\n",
    "plt.xlabel(\"Liczba sukcesów\")\n",
    "plt.ylabel(\"Prawdopodobieństwo\")\n",
    "plt.title(f\"Rozkład dwumianowy dla n={n_binomial}, p={p_binomial}\")\n",
    "plt.legend()\n",
    "plt.grid(True, linestyle='--')\n",
    "\n",
    "plt.show()\n"
   ]
  },
  {
   "cell_type": "code",
   "execution_count": 120,
   "metadata": {},
   "outputs": [
    {
     "name": "stdout",
     "output_type": "stream",
     "text": [
      "Teoretyczna wartość oczekiwana: 3.0\n",
      "Empiryczna wartość oczekiwana: 3.0108\n",
      "\n",
      "\n",
      "Teoretyczna wariancja: 2.0999999999999996\n",
      "Empiryczna wariancja: 2.1022833600000004\n",
      "\n",
      "\n",
      "Teoretyczna wartość współczynnika skośności: 0.27602622373694174\n",
      "Empiryczna wartość współczynnika skośności: 0.3105108256581161\n"
     ]
    }
   ],
   "source": [
    "binomial_mean_teo = n_binomial * p_binomial\n",
    "binomial_mean_emp = np.mean(binomial_sample)\n",
    "\n",
    "binomial_var_teo = n_binomial * p_binomial * (1-p_binomial)\n",
    "binomial_var_emp = np.var(binomial_sample)\n",
    "\n",
    "binomial_skew_teo = (1 - 2*p_binomial)/ (np.sqrt(n_binomial*p_binomial*(1-p_binomial)))\n",
    "binomial_skew_emp = skew(binomial_sample)\n",
    "\n",
    "print('Teoretyczna wartość oczekiwana:', binomial_mean_teo)\n",
    "print('Empiryczna wartość oczekiwana:', binomial_mean_emp)\n",
    "print('\\n')\n",
    "print('Teoretyczna wariancja:', binomial_var_teo)\n",
    "print('Empiryczna wariancja:', binomial_var_emp)\n",
    "print('\\n')\n",
    "print('Teoretyczna wartość współczynnika skośności:', binomial_skew_teo)\n",
    "print('Empiryczna wartość współczynnika skośności:', binomial_skew_emp)"
   ]
  },
  {
   "cell_type": "markdown",
   "metadata": {},
   "source": [
    "### ZADANIE 5\n",
    "    Zaproponuj metodę symulowania wektorów losowych z rozkładu wielomianowego. Napisz funkcję do generowania realizacji, a następnie zaprezentuj jej działanie porównując wybrane teoretyczne i empiryczne charakterystyki dla przykładowych wartości paramertów rozkładu: n i p.\n"
   ]
  },
  {
   "cell_type": "code",
   "execution_count": 121,
   "metadata": {},
   "outputs": [],
   "source": [
    "def multinomial_simulate(n, p, size):\n",
    "    return np.random.multinomial(n, p, size)"
   ]
  },
  {
   "cell_type": "code",
   "execution_count": 122,
   "metadata": {},
   "outputs": [],
   "source": [
    "n_multinomial = 10 \n",
    "p_multinomial = np.array([0.3, 0.2, 0.5])\n",
    "size_multinomial = 10000  \n",
    "\n",
    "multinomial_sample = multinomial_simulate(n_multinomial, p_multinomial, size_multinomial)\n"
   ]
  },
  {
   "cell_type": "code",
   "execution_count": 123,
   "metadata": {},
   "outputs": [
    {
     "name": "stdout",
     "output_type": "stream",
     "text": [
      "Teoretyczna wartość oczekiwana: [3. 2. 5.]\n",
      "Empiryczna wartość oczekiwana: [2.9948 2.0076 4.9976]\n",
      "\n",
      "\n",
      "Teoretyczna wariancja: [2.1 1.6 2.5]\n",
      "Empiryczna wariancja: [2.07817296 1.59834224 2.45539424]\n"
     ]
    }
   ],
   "source": [
    "multinomial_mean_teo = n_multinomial * p_multinomial\n",
    "multinomial_mean_emp = np.mean(multinomial_sample, axis=0)\n",
    "\n",
    "multinomial_var_teo = n_multinomial * p_multinomial * (1-p_multinomial)\n",
    "multinomial_var_emp = np.var(multinomial_sample, axis=0)\n",
    "\n",
    "print('Teoretyczna wartość oczekiwana:', multinomial_mean_teo)\n",
    "print('Empiryczna wartość oczekiwana:', multinomial_mean_emp)\n",
    "print('\\n')\n",
    "print('Teoretyczna wariancja:', multinomial_var_teo)\n",
    "print('Empiryczna wariancja:', multinomial_var_emp)"
   ]
  },
  {
   "cell_type": "markdown",
   "metadata": {},
   "source": [
    "## CZĘŚĆ III i IV"
   ]
  },
  {
   "cell_type": "markdown",
   "metadata": {},
   "source": [
    "### ZADANIE 6\n",
    "    Napisz funkcję do wyznaczania realizacji przedziału ufności Cloppera-Pearsona. Niech argumentem wejściowym będzie poziom ufności, liczba sukcesów i liczba prób lub poziom ufności i wektor danych (funkcja powinna obsługiwać oba przypadki)."
   ]
  },
  {
   "cell_type": "code",
   "execution_count": null,
   "metadata": {},
   "outputs": [],
   "source": []
  },
  {
   "cell_type": "markdown",
   "metadata": {},
   "source": [
    "### ZADANIE 7\n",
    "    Korzystając z funkcji napisanej w zadaniu 6. wyznacz realizacje przedziałów ufności dla prawdopodobieństwa, że pracownik uważa szkolenia za przystosowane do swoich potrzeb w pierwszym badanym okresie oraz w drugim badanym okresie. Skorzystaj ze zmiennych CZY_ZADW oraz CZY_ZADW_2 (utwórz zmienną analogicznie jak w zadaniu 1.7). Przyjmij 1−α = 0.95."
   ]
  },
  {
   "cell_type": "code",
   "execution_count": null,
   "metadata": {},
   "outputs": [],
   "source": []
  },
  {
   "cell_type": "markdown",
   "metadata": {},
   "source": [
    "### ZADANIE 8\n",
    "     Zapoznaj się z funkcjami do generowania zmiennych losowych z rozkładu dwumianowego oraz do wyznaczania przedziałów ufności dla parametru p. Przetestuj ich działanie."
   ]
  },
  {
   "cell_type": "code",
   "execution_count": null,
   "metadata": {},
   "outputs": [],
   "source": []
  },
  {
   "cell_type": "markdown",
   "metadata": {},
   "source": [
    "### ZADANIE 9\n",
    "    Przeprowadź symulacje, których celem jest porównanie prawdopodobieństwa pokrycia i długości przedziałów ufności Cloppera-Pearsona, Walda i trzeciego dowolnego typu zaimplementowanego w wybranej funkcji. Rozważ 1−α = 0.95, rozmiar próby n ∈ {30,100,1000} i różne wartości prawdopodobieństwa p. Wyniki umieść na wykresach i sformułuj wnioski, które dla konkretnych danych ułatwią wybór konkretenego typu przedziału ufności.\n",
    "\n",
    "     * W zadaniu 8. w pakiecie R możesz skorzystać z funkcji rbinom z biblioteki stats oraz binom.confint z biblioteki binom. W Pythonie możesz skorzystać z binomial z biblioteki random oraz stats.proportion.proportion_confint z biblioteki statsmodels."
   ]
  },
  {
   "cell_type": "code",
   "execution_count": null,
   "metadata": {},
   "outputs": [],
   "source": []
  },
  {
   "cell_type": "markdown",
   "metadata": {},
   "source": [
    "## CZĘŚĆ V\n",
    "\n",
    "### ZADANIE 10\n",
    "    Zapoznaj siĘ z funkcjami służącymi do wykonania testu dokładnego oraz asympotycznego weryfikującego hipoteze zerową dotycząca prawodopodobieństwa sukcesu z rozkładu dwumianowego. W pakiecie R możesz skorzystać z binom.test oraz prop.test z biblioteki stats, nastomiast w Pythonie użyj stats.binomtest z biblioteki scipy oraz stats.proportion.proportions_ztest z biblioteki statsmodels. Przetestuj działanie funkcji.\n",
    "    "
   ]
  },
  {
   "cell_type": "code",
   "execution_count": null,
   "metadata": {},
   "outputs": [],
   "source": []
  },
  {
   "cell_type": "markdown",
   "metadata": {},
   "source": [
    "### ZADANIE 11\n",
    "    Dla danych z pliku \"ankieta.csv\" korzystajćc z funkcji z zadania 10., przyjmując 1−α =0.95, zweryfikuj następujące hipotezy i sformułuj wnioski:\n",
    "     1. Prawdopodobieństwo, że w firmie pracuje kobieta wynosi 0.5.\n",
    "     2. Prawdopodbieństwo, że pracownik uważa szkolenia za przystosowane do swoich potrzeb wpierwszym badanym okresie jest większe bądź równe 0.7.\n",
    "     3. Prawdopodobieństwo, że kobieta pracuje na stanowisku kierowniczym jest równe prawdopodobieństwu, że mężczczyzna pracuje na stanowisku kierowniczym.\n",
    "     4. Prawdopodobieństwo, że kobieta uważa szkolenia za przystosowane do swoich potrzeb w pierwszym badanym okresie jest równe prawdopodobieństwu, że mężczczyzna uważa szkolenia za przystosowane do swoich potrzeb w pierwszym badanym okresie.\n",
    "     5. Prawdopodobieństwo, że kobieta pracuje w dziale zasobów ludzkich jest większe lub równe prawdopodobieństwu, że mężczczyzna pracuje w dziale zasobów ludzkich."
   ]
  },
  {
   "cell_type": "code",
   "execution_count": null,
   "metadata": {},
   "outputs": [],
   "source": []
  },
  {
   "cell_type": "markdown",
   "metadata": {},
   "source": [
    "### ZADANIE 12\n",
    "    Wyznacz symulacyjnie moc testu dokładnego oraz moc testu asymptotycznego w przypadku weryfikacji hipotezy zerowej H0 : p = 0.9 przeciwko H1 : p= 0.9 przyjmując wartość 1−α =0.95. Uwzględnij różne wartości alternatyw i różne rozmiary próby. Sformułuj wnioski."
   ]
  },
  {
   "cell_type": "code",
   "execution_count": null,
   "metadata": {},
   "outputs": [],
   "source": []
  },
  {
   "cell_type": "markdown",
   "metadata": {},
   "source": [
    "----------------------------------------------------------------------\n",
    "\n",
    "## Zadania dodatkowe\n",
    "\n",
    "### ZADANIE *1. \n",
    "    Wyznacz granice asymptotycznego przedziału ufności dla prawdopodobieństwa sukcesu bazując na przekształceniu logit korzystając z metody delta. Zaimplementuj metodę oraz porównaj wyniki z funkcją zaimplementowaną w wybranym pakiecie."
   ]
  },
  {
   "cell_type": "code",
   "execution_count": null,
   "metadata": {},
   "outputs": [],
   "source": []
  }
 ],
 "metadata": {
  "kernelspec": {
   "display_name": "Python 3",
   "language": "python",
   "name": "python3"
  },
  "language_info": {
   "codemirror_mode": {
    "name": "ipython",
    "version": 3
   },
   "file_extension": ".py",
   "mimetype": "text/x-python",
   "name": "python",
   "nbconvert_exporter": "python",
   "pygments_lexer": "ipython3",
   "version": "3.12.5"
  }
 },
 "nbformat": 4,
 "nbformat_minor": 2
}
