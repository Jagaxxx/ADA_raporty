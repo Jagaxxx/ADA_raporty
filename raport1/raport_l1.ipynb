{
 "cells": [
  {
   "cell_type": "markdown",
   "metadata": {},
   "source": [
    "$$\\Huge \\text{RAPORT}$$\n",
    "$$\\huge \\text{LISTA 1}$$\n",
    "$$\\large \\text{Autorzy: Katarzyna Rudzińska, Jagoda Płócienniczak}$$"
   ]
  },
  {
   "cell_type": "markdown",
   "metadata": {},
   "source": [
    "PYTANIA OD K: zernikj na opisz i wnioski z zad. 10"
   ]
  },
  {
   "cell_type": "code",
   "execution_count": 277,
   "metadata": {},
   "outputs": [],
   "source": [
    "import matplotlib.pyplot as plt\n",
    "import numpy as np\n",
    "import pandas as pd\n",
    "import seaborn as sns\n",
    "from numpy.random import binomial\n",
    "from scipy.stats import beta, binom, binomtest, multinomial, skew\n",
    "from statsmodels.graphics.mosaicplot import mosaic\n",
    "from statsmodels.stats.proportion import proportion_confint, proportions_ztest\n",
    "\n",
    "import plot_likert\n"
   ]
  },
  {
   "cell_type": "markdown",
   "metadata": {},
   "source": [
    "W niniejszym raporcie przedstawiono analizę odpowiedzi z ankiety oceniającej skuteczność programów szkoleniowych dla pracowników pewnej firmy technologicznej. Analiza została przeprowadzona na podstawie zadań podzielonych na V części, a uzyskane wyniki wraz z ich interpretacją zaprezentowano w dalszej części raportu."
   ]
  },
  {
   "cell_type": "markdown",
   "metadata": {},
   "source": [
    "## CZĘŚĆ I"
   ]
  },
  {
   "cell_type": "markdown",
   "metadata": {},
   "source": [
    "### ZADANIE 1\n",
    "\n",
    "#### ZADANIE 1.1\n",
    "    Wczytaj dane i przygotuj je do analizy. Zadbaj o odpowiednie typy zmiennych, zweryfikuj czy przyjmują wartości zgodne z powyższym opisem, zbadaj czy nie występują braki w danych."
   ]
  },
  {
   "cell_type": "markdown",
   "metadata": {},
   "source": [
    "Na etapie wczytywania danych zastosowano kodowanie *Windows-1250*, co umożliwiło poprawne odczytanie polskich znaków."
   ]
  },
  {
   "cell_type": "code",
   "execution_count": 278,
   "metadata": {},
   "outputs": [
    {
     "data": {
      "text/html": [
       "<div>\n",
       "<style scoped>\n",
       "    .dataframe tbody tr th:only-of-type {\n",
       "        vertical-align: middle;\n",
       "    }\n",
       "\n",
       "    .dataframe tbody tr th {\n",
       "        vertical-align: top;\n",
       "    }\n",
       "\n",
       "    .dataframe thead th {\n",
       "        text-align: right;\n",
       "    }\n",
       "</style>\n",
       "<table border=\"1\" class=\"dataframe\">\n",
       "  <thead>\n",
       "    <tr style=\"text-align: right;\">\n",
       "      <th></th>\n",
       "      <th>DZIAŁ</th>\n",
       "      <th>STAŻ</th>\n",
       "      <th>CZY_KIER</th>\n",
       "      <th>PYT_1</th>\n",
       "      <th>PYT_2</th>\n",
       "      <th>PYT_3</th>\n",
       "      <th>PŁEĆ</th>\n",
       "      <th>WIEK</th>\n",
       "    </tr>\n",
       "  </thead>\n",
       "  <tbody>\n",
       "    <tr>\n",
       "      <th>0</th>\n",
       "      <td>IT</td>\n",
       "      <td>2</td>\n",
       "      <td>Nie</td>\n",
       "      <td>1</td>\n",
       "      <td>-2</td>\n",
       "      <td>1</td>\n",
       "      <td>M</td>\n",
       "      <td>64</td>\n",
       "    </tr>\n",
       "    <tr>\n",
       "      <th>1</th>\n",
       "      <td>IT</td>\n",
       "      <td>2</td>\n",
       "      <td>Nie</td>\n",
       "      <td>0</td>\n",
       "      <td>-2</td>\n",
       "      <td>-2</td>\n",
       "      <td>M</td>\n",
       "      <td>67</td>\n",
       "    </tr>\n",
       "    <tr>\n",
       "      <th>2</th>\n",
       "      <td>IT</td>\n",
       "      <td>2</td>\n",
       "      <td>Nie</td>\n",
       "      <td>1</td>\n",
       "      <td>2</td>\n",
       "      <td>2</td>\n",
       "      <td>M</td>\n",
       "      <td>65</td>\n",
       "    </tr>\n",
       "    <tr>\n",
       "      <th>3</th>\n",
       "      <td>IT</td>\n",
       "      <td>2</td>\n",
       "      <td>Nie</td>\n",
       "      <td>-1</td>\n",
       "      <td>-2</td>\n",
       "      <td>-2</td>\n",
       "      <td>K</td>\n",
       "      <td>68</td>\n",
       "    </tr>\n",
       "    <tr>\n",
       "      <th>4</th>\n",
       "      <td>IT</td>\n",
       "      <td>3</td>\n",
       "      <td>Tak</td>\n",
       "      <td>1</td>\n",
       "      <td>2</td>\n",
       "      <td>-1</td>\n",
       "      <td>K</td>\n",
       "      <td>65</td>\n",
       "    </tr>\n",
       "  </tbody>\n",
       "</table>\n",
       "</div>"
      ],
      "text/plain": [
       "  DZIAŁ  STAŻ CZY_KIER  PYT_1  PYT_2  PYT_3 PŁEĆ  WIEK\n",
       "0    IT     2      Nie      1     -2      1    M    64\n",
       "1    IT     2      Nie      0     -2     -2    M    67\n",
       "2    IT     2      Nie      1      2      2    M    65\n",
       "3    IT     2      Nie     -1     -2     -2    K    68\n",
       "4    IT     3      Tak      1      2     -1    K    65"
      ]
     },
     "execution_count": 278,
     "metadata": {},
     "output_type": "execute_result"
    }
   ],
   "source": [
    "data = pd.read_csv('ankieta.csv', encoding='Windows-1250', sep=';')\n",
    "data.head()"
   ]
  },
  {
   "cell_type": "markdown",
   "metadata": {},
   "source": [
    "Następnie sprawdzono, czy w zestawie danych występują braki. Okazało się, że dane są kompletne."
   ]
  },
  {
   "cell_type": "code",
   "execution_count": 279,
   "metadata": {},
   "outputs": [
    {
     "data": {
      "text/plain": [
       "DZIAŁ       0\n",
       "STAŻ        0\n",
       "CZY_KIER    0\n",
       "PYT_1       0\n",
       "PYT_2       0\n",
       "PYT_3       0\n",
       "PŁEĆ        0\n",
       "WIEK        0\n",
       "dtype: int64"
      ]
     },
     "execution_count": 279,
     "metadata": {},
     "output_type": "execute_result"
    }
   ],
   "source": [
    "data.isnull().sum()"
   ]
  },
  {
   "cell_type": "markdown",
   "metadata": {},
   "source": [
    "Zweryfikowano typy danych w zbiorze. Zmiennym 'DZIAŁ', 'CZY_KIER' oraz 'PŁEĆ', które pierwotnie zaklasyfikowano jako typ *object*, przypisano typ *category*, co w dalszej części pozwoli na bardziej efektywne operacje. Pozostałe zmienne - 'STAŻ', 'PYT_1', 'PYT_2', 'PYT_3' oraz 'WIEK' - zostały prawidłowo zaklasyfikowane jako typ *int64*."
   ]
  },
  {
   "cell_type": "code",
   "execution_count": 280,
   "metadata": {},
   "outputs": [
    {
     "name": "stdout",
     "output_type": "stream",
     "text": [
      "<class 'pandas.core.frame.DataFrame'>\n",
      "RangeIndex: 200 entries, 0 to 199\n",
      "Data columns (total 8 columns):\n",
      " #   Column    Non-Null Count  Dtype \n",
      "---  ------    --------------  ----- \n",
      " 0   DZIAŁ     200 non-null    object\n",
      " 1   STAŻ      200 non-null    int64 \n",
      " 2   CZY_KIER  200 non-null    object\n",
      " 3   PYT_1     200 non-null    int64 \n",
      " 4   PYT_2     200 non-null    int64 \n",
      " 5   PYT_3     200 non-null    int64 \n",
      " 6   PŁEĆ      200 non-null    object\n",
      " 7   WIEK      200 non-null    int64 \n",
      "dtypes: int64(5), object(3)\n",
      "memory usage: 12.6+ KB\n"
     ]
    }
   ],
   "source": [
    "data.info()"
   ]
  },
  {
   "cell_type": "code",
   "execution_count": 281,
   "metadata": {},
   "outputs": [
    {
     "name": "stdout",
     "output_type": "stream",
     "text": [
      "<class 'pandas.core.frame.DataFrame'>\n",
      "RangeIndex: 200 entries, 0 to 199\n",
      "Data columns (total 8 columns):\n",
      " #   Column    Non-Null Count  Dtype   \n",
      "---  ------    --------------  -----   \n",
      " 0   DZIAŁ     200 non-null    category\n",
      " 1   STAŻ      200 non-null    int64   \n",
      " 2   CZY_KIER  200 non-null    category\n",
      " 3   PYT_1     200 non-null    int64   \n",
      " 4   PYT_2     200 non-null    int64   \n",
      " 5   PYT_3     200 non-null    int64   \n",
      " 6   PŁEĆ      200 non-null    category\n",
      " 7   WIEK      200 non-null    int64   \n",
      "dtypes: category(3), int64(5)\n",
      "memory usage: 9.0 KB\n"
     ]
    }
   ],
   "source": [
    "data['DZIAŁ'] = data['DZIAŁ'].astype(\"category\")\n",
    "data['CZY_KIER'] = data['CZY_KIER'].astype(\"category\")\n",
    "data['PŁEĆ'] = data['PŁEĆ'].astype(\"category\")\n",
    "data.info()"
   ]
  },
  {
   "cell_type": "markdown",
   "metadata": {},
   "source": [
    "W ostatnim kroku tej części analizy sprawdzono zakresy przyjmowanych wartości. Wszystkie dane są zgodne z teoretycznym opisem zmiennych, co potwierdzają tablice liczności przedstawione poniżej jak i w *zadaniu 1.3*. Ze względu na dużą liczbę unikalnych wartości zmiennej 'WIEK' ograniczono się do analizy wartości minimalnej i maksymalnej. Uzyskany zakres (25–70 lat) mieści się w granicach uznawanych za rozsądne, co nie wzbudziło zastrzeżeń co do jakości danych."
   ]
  },
  {
   "cell_type": "code",
   "execution_count": 282,
   "metadata": {},
   "outputs": [
    {
     "name": "stdout",
     "output_type": "stream",
     "text": [
      "PYT_1\n",
      " 1    100\n",
      " 0     40\n",
      " 2     29\n",
      "-1     17\n",
      "-2     14\n",
      "Name: count, dtype: int64\n",
      "\n",
      "\n",
      "PYT_2\n",
      " 2    104\n",
      "-2     74\n",
      "-1     20\n",
      " 1      2\n",
      "Name: count, dtype: int64\n",
      "\n",
      "\n",
      "PYT_3\n",
      " 2    86\n",
      "-2    52\n",
      " 1    32\n",
      "-1    30\n",
      "Name: count, dtype: int64\n",
      "\n",
      "\n"
     ]
    }
   ],
   "source": [
    "variables = [\"PYT_1\", \"PYT_2\", \"PYT_3\"]\n",
    "for var in variables:\n",
    "    print(data[var].value_counts())\n",
    "    print('\\n')"
   ]
  },
  {
   "cell_type": "code",
   "execution_count": 283,
   "metadata": {},
   "outputs": [
    {
     "data": {
      "text/plain": [
       "WIEK\n",
       "<class 'int'>    200\n",
       "Name: count, dtype: int64"
      ]
     },
     "execution_count": 283,
     "metadata": {},
     "output_type": "execute_result"
    }
   ],
   "source": [
    "data['WIEK'].apply(type).value_counts()"
   ]
  },
  {
   "cell_type": "code",
   "execution_count": 284,
   "metadata": {},
   "outputs": [
    {
     "name": "stdout",
     "output_type": "stream",
     "text": [
      "Najmłodszy pracownik:  25\n",
      "Najstarszy pracownik:  70\n"
     ]
    }
   ],
   "source": [
    "print('Najmłodszy pracownik: ',np.min(data['WIEK']))\n",
    "print('Najstarszy pracownik: ',np.max(data['WIEK']))"
   ]
  },
  {
   "cell_type": "markdown",
   "metadata": {},
   "source": [
    "#### ZADANIE 1.2\n",
    "    Utwórz zmienną WIEK_KAT przeprowadzając kategoryzację zmiennej WIEK korzystając z następujących przedziałów: do 35 lat, między 36 a 45 lat, między 46 a 55 lat, powyżej 55 lat.\n"
   ]
  },
  {
   "cell_type": "markdown",
   "metadata": {},
   "source": [
    "Na podstawie zmiennej *WIEK* utworzono nową zmienną *WIEK_KAT*, kategoryzującą respondentów zgodnie z wytycznymi zadania. W tym celu zastosowano funkcję *categorize_age*, która przypisuje każdą osobę do jednej z czterech zdefiniowanych kategorii wiekowych."
   ]
  },
  {
   "cell_type": "code",
   "execution_count": 285,
   "metadata": {},
   "outputs": [],
   "source": [
    "def categorize_age(age):\n",
    "    if age <= 35:\n",
    "        return \"<=35\"\n",
    "    elif 36 <= age <= 45:\n",
    "        return \"36-45\"\n",
    "    elif 46 <= age <= 55:\n",
    "        return \"46-55\"\n",
    "    else:\n",
    "        return \">55\"\n",
    "\n",
    "data[\"WIEK_KAT\"] = data[\"WIEK\"].apply(categorize_age)\n",
    "data['WIEK_KAT'] = data['WIEK_KAT'].astype(\"category\")"
   ]
  },
  {
   "cell_type": "code",
   "execution_count": 286,
   "metadata": {},
   "outputs": [
    {
     "data": {
      "text/html": [
       "<div>\n",
       "<style scoped>\n",
       "    .dataframe tbody tr th:only-of-type {\n",
       "        vertical-align: middle;\n",
       "    }\n",
       "\n",
       "    .dataframe tbody tr th {\n",
       "        vertical-align: top;\n",
       "    }\n",
       "\n",
       "    .dataframe thead th {\n",
       "        text-align: right;\n",
       "    }\n",
       "</style>\n",
       "<table border=\"1\" class=\"dataframe\">\n",
       "  <thead>\n",
       "    <tr style=\"text-align: right;\">\n",
       "      <th></th>\n",
       "      <th>DZIAŁ</th>\n",
       "      <th>STAŻ</th>\n",
       "      <th>CZY_KIER</th>\n",
       "      <th>PYT_1</th>\n",
       "      <th>PYT_2</th>\n",
       "      <th>PYT_3</th>\n",
       "      <th>PŁEĆ</th>\n",
       "      <th>WIEK</th>\n",
       "      <th>WIEK_KAT</th>\n",
       "    </tr>\n",
       "  </thead>\n",
       "  <tbody>\n",
       "    <tr>\n",
       "      <th>0</th>\n",
       "      <td>IT</td>\n",
       "      <td>2</td>\n",
       "      <td>Nie</td>\n",
       "      <td>1</td>\n",
       "      <td>-2</td>\n",
       "      <td>1</td>\n",
       "      <td>M</td>\n",
       "      <td>64</td>\n",
       "      <td>&gt;55</td>\n",
       "    </tr>\n",
       "    <tr>\n",
       "      <th>1</th>\n",
       "      <td>IT</td>\n",
       "      <td>2</td>\n",
       "      <td>Nie</td>\n",
       "      <td>0</td>\n",
       "      <td>-2</td>\n",
       "      <td>-2</td>\n",
       "      <td>M</td>\n",
       "      <td>67</td>\n",
       "      <td>&gt;55</td>\n",
       "    </tr>\n",
       "    <tr>\n",
       "      <th>2</th>\n",
       "      <td>IT</td>\n",
       "      <td>2</td>\n",
       "      <td>Nie</td>\n",
       "      <td>1</td>\n",
       "      <td>2</td>\n",
       "      <td>2</td>\n",
       "      <td>M</td>\n",
       "      <td>65</td>\n",
       "      <td>&gt;55</td>\n",
       "    </tr>\n",
       "    <tr>\n",
       "      <th>3</th>\n",
       "      <td>IT</td>\n",
       "      <td>2</td>\n",
       "      <td>Nie</td>\n",
       "      <td>-1</td>\n",
       "      <td>-2</td>\n",
       "      <td>-2</td>\n",
       "      <td>K</td>\n",
       "      <td>68</td>\n",
       "      <td>&gt;55</td>\n",
       "    </tr>\n",
       "    <tr>\n",
       "      <th>4</th>\n",
       "      <td>IT</td>\n",
       "      <td>3</td>\n",
       "      <td>Tak</td>\n",
       "      <td>1</td>\n",
       "      <td>2</td>\n",
       "      <td>-1</td>\n",
       "      <td>K</td>\n",
       "      <td>65</td>\n",
       "      <td>&gt;55</td>\n",
       "    </tr>\n",
       "  </tbody>\n",
       "</table>\n",
       "</div>"
      ],
      "text/plain": [
       "  DZIAŁ  STAŻ CZY_KIER  PYT_1  PYT_2  PYT_3 PŁEĆ  WIEK WIEK_KAT\n",
       "0    IT     2      Nie      1     -2      1    M    64      >55\n",
       "1    IT     2      Nie      0     -2     -2    M    67      >55\n",
       "2    IT     2      Nie      1      2      2    M    65      >55\n",
       "3    IT     2      Nie     -1     -2     -2    K    68      >55\n",
       "4    IT     3      Tak      1      2     -1    K    65      >55"
      ]
     },
     "execution_count": 286,
     "metadata": {},
     "output_type": "execute_result"
    }
   ],
   "source": [
    "data.head()"
   ]
  },
  {
   "cell_type": "markdown",
   "metadata": {},
   "source": [
    "#### ZADANIE 1.3\n",
    "    Sporządź tablice liczności dla zmiennych: DZIAŁ, STAŻ, CZY_KIER, PŁEĆ, WIEK_KAT. Sformułuj wnioski."
   ]
  },
  {
   "cell_type": "markdown",
   "metadata": {},
   "source": [
    "- tablica liczności: *DZIAŁ*"
   ]
  },
  {
   "cell_type": "code",
   "execution_count": 287,
   "metadata": {},
   "outputs": [
    {
     "data": {
      "text/plain": [
       "DZIAŁ\n",
       "PD    98\n",
       "MK    45\n",
       "HR    31\n",
       "IT    26\n",
       "Name: count, dtype: int64"
      ]
     },
     "execution_count": 287,
     "metadata": {},
     "output_type": "execute_result"
    }
   ],
   "source": [
    "data['DZIAŁ'].value_counts()"
   ]
  },
  {
   "cell_type": "markdown",
   "metadata": {},
   "source": [
    "Jak się okazuje, najwięcej osób pracuje w dziale PD (98 pracowników), co sugeruje, że jest to kluczowy dział w firmie. Działy MK, HR i IT są mniejsze, liczą odpowiednio 45, 31 i 26 pracowników. Mniejsza liczba pracowników w tych działach może wynikać z węższego zakresu obowiązków, ale również z bardziej wyspecjalizowanej roli, jaką pełnią. "
   ]
  },
  {
   "cell_type": "markdown",
   "metadata": {},
   "source": [
    "- tablica liczności: *STAŻ*"
   ]
  },
  {
   "cell_type": "code",
   "execution_count": 288,
   "metadata": {},
   "outputs": [
    {
     "data": {
      "text/plain": [
       "STAŻ\n",
       "2    140\n",
       "1     41\n",
       "3     19\n",
       "Name: count, dtype: int64"
      ]
     },
     "execution_count": 288,
     "metadata": {},
     "output_type": "execute_result"
    }
   ],
   "source": [
    "data['STAŻ'].value_counts()"
   ]
  },
  {
   "cell_type": "markdown",
   "metadata": {},
   "source": [
    "W firmie zatrudnionych jest wielu pracowników o młodszym stażu (140 osób), którzy posiadają już pewne doświadczenie – pracują dłużej niż rok, ale krócej niż 3 lata. Firma prawdopodobnie przyciąga również nowych pracowników, z których 41 osób ma staż poniżej 1 roku. Jednakże, firma może mieć trudności z utrzymywaniem pracowników na dłużej, ponieważ tylko 19 osób pracuje tam ponad 3 lata."
   ]
  },
  {
   "cell_type": "markdown",
   "metadata": {},
   "source": [
    "- tablica liczności: *CZY_KIER*"
   ]
  },
  {
   "cell_type": "code",
   "execution_count": 289,
   "metadata": {},
   "outputs": [
    {
     "data": {
      "text/plain": [
       "CZY_KIER\n",
       "Nie    173\n",
       "Tak     27\n",
       "Name: count, dtype: int64"
      ]
     },
     "execution_count": 289,
     "metadata": {},
     "output_type": "execute_result"
    }
   ],
   "source": [
    "data['CZY_KIER'].value_counts()"
   ]
  },
  {
   "cell_type": "markdown",
   "metadata": {},
   "source": [
    "W firmie stanowisko kierownicze pełni 27 osób, co wydaje się być adekwatną liczbą w porównaniu do całkowitej liczby zatrudnionych pracowników. W teorii każda osoba na stanowisku kierowniczym ma średnio pod sobą około 9 pracowników, co może sprzyjać efektywnej pracy w zespołach i umożliwiać skuteczne zarządzanie."
   ]
  },
  {
   "cell_type": "markdown",
   "metadata": {},
   "source": [
    "- tablica liczności: *PŁEĆ*"
   ]
  },
  {
   "cell_type": "code",
   "execution_count": 290,
   "metadata": {},
   "outputs": [
    {
     "data": {
      "text/plain": [
       "PŁEĆ\n",
       "M    129\n",
       "K     71\n",
       "Name: count, dtype: int64"
      ]
     },
     "execution_count": 290,
     "metadata": {},
     "output_type": "execute_result"
    }
   ],
   "source": [
    "data['PŁEĆ'].value_counts()"
   ]
  },
  {
   "cell_type": "markdown",
   "metadata": {},
   "source": [
    "W firmie dominują mężczyźni (129 osób), podczas gdy liczba kobiet zatrudnionych wynosi 71. Taki rozkład płci jest często typowy dla firm z branży technologicznej, gdzie mężczyźni w większości przypadków stanowią większy odsetek pracowników."
   ]
  },
  {
   "cell_type": "markdown",
   "metadata": {},
   "source": [
    "- tablica liczności: *WIEK_KAT*"
   ]
  },
  {
   "cell_type": "code",
   "execution_count": 291,
   "metadata": {},
   "outputs": [
    {
     "data": {
      "text/plain": [
       "WIEK_KAT\n",
       "36-45    104\n",
       "46-55     45\n",
       "<=35      26\n",
       ">55       25\n",
       "Name: count, dtype: int64"
      ]
     },
     "execution_count": 291,
     "metadata": {},
     "output_type": "execute_result"
    }
   ],
   "source": [
    "data['WIEK_KAT'].value_counts()"
   ]
  },
  {
   "cell_type": "markdown",
   "metadata": {},
   "source": [
    "Największa grupa pracowników mieści się w przedziale wiekowym $36-45$ lat ($104$ osoby), co sugeruje, że firma zatrudnia wielu pracowników z dużym doświadczeniem zawodowym. Pracownicy młodsi ($\\leq$ 35 lat) oraz w średnim wieku (46-55 lat) stanowią mniejszy odsetek zatrudnionych, odpowiednio 26 i 45 osób. Najmniej liczną grupę stanowią osoby powyżej 55. roku życia (25 osób), co może sugerować stopniowe przechodzenie tych pracowników na emeryturę lub preferencje firmy dotyczące zatrudniania młodszych pracowników."
   ]
  },
  {
   "cell_type": "markdown",
   "metadata": {},
   "source": [
    "#### ZADANIE 1.4\n",
    "     Sporządź wykresy kołowe oraz wykresy słupkowe dla zmiennych: PYT_1 oraz PYT_2. Sformułuj wnioski."
   ]
  },
  {
   "cell_type": "code",
   "execution_count": 292,
   "metadata": {},
   "outputs": [],
   "source": [
    "pyt1_value = data[\"PYT_1\"].value_counts()\n",
    "pyt2_value = data[\"PYT_2\"].value_counts()"
   ]
  },
  {
   "cell_type": "code",
   "execution_count": 293,
   "metadata": {},
   "outputs": [],
   "source": [
    "response_labels_pyt1 = {\n",
    "    -2: \"Zdecydowanie się nie zgadzam\",\n",
    "    -1: \"Nie zgadzam się\",\n",
    "    0: \"Nie mam zdania\",\n",
    "    1: \"Zgadzam się\",\n",
    "    2: \"Zdecydowanie się zgadzam\"\n",
    "}\n",
    "\n",
    "response_labels_pyt2 = {\n",
    "    -2: \"Zdecydowanie się nie zgadzam\",\n",
    "    -1: \"Nie zgadzam się\",\n",
    "    1: \"Zgadzam się\",\n",
    "    2: \"Zdecydowanie się zgadzam\"\n",
    "}\n",
    "pyt1_labels = [response_labels_pyt1[val] for val in pyt1_value.index]\n",
    "pyt2_labels = [response_labels_pyt2[val] for val in pyt2_value.index]"
   ]
  },
  {
   "cell_type": "code",
   "execution_count": 294,
   "metadata": {},
   "outputs": [
    {
     "data": {
      "image/png": "[encoded data removed]",
      "text/plain": [
       "<Figure size 1400x400 with 2 Axes>"
      ]
     },
     "metadata": {},
     "output_type": "display_data"
    }
   ],
   "source": [
    "plt.figure(figsize=(14, 4))\n",
    "plt.suptitle('Wykres kołowy i rozkład odpowiedzi na pytanie 1 (PYT_1)')\n",
    "\n",
    "plt.subplot(1, 2, 1)\n",
    "plt.pie(pyt1_value, autopct=\"%.1f%%\")\n",
    "plt.legend(labels=pyt1_labels,  bbox_to_anchor=(0.4, 0.3))\n",
    "\n",
    "plt.subplot(1, 2, 2)\n",
    "sns.countplot(x=\"PYT_1\", data=data)\n",
    "plt.ylabel('Liczba odpowiedzi')\n",
    "param_text = \"ODPOWIEDZI:\\n-2: Zdecydowanie się nie zgadzam\\n-1: Nie zgadzam się\\n 0: Nie mam zdania\\n 1: Zgadzam się\\n 2: Zdecydowanie się zgadzam\"\n",
    "plt.text(0.05, 0.95, param_text,\n",
    "         transform=plt.gca().transAxes,  \n",
    "         fontsize=9,\n",
    "         verticalalignment='top',\n",
    "         horizontalalignment='left',\n",
    "         bbox=dict(boxstyle='round', facecolor='white', edgecolor='gray', alpha=0.5))\n",
    "plt.grid(True, linestyle='--')\n",
    "\n",
    "\n",
    "plt.show()"
   ]
  },
  {
   "cell_type": "markdown",
   "metadata": {},
   "source": [
    "- PYTANIE 1: \"Jak bardzo zgadzasz się ze stwierdzeniem, że firma zapewnia odpowiednie wsparcie i materiały umożliwiające skuteczne wykorzystanie w praktyce wiedzy zdobytej w trakcie szkoleń?\"\n",
    "\n",
    "Na podstawie wyników przedstawionych na wykresie kołowym oraz wykresie słupkowym, możemy zauważyć, że dominująca część ankietowanych pozytywnie ocenia wsparcie firmy w kontekście wykorzystania wiedzy zdobytej podczas szkoleń. Aż 64,5% respondentów (w sumie 129 osób) odpowiedziało twierdząco, wybierając odpowiedzi „Zdecydowanie się zgadzam” lub „Zgadzam się”. To sugeruje, że większość pracowników uważa, iż firma rzeczywiście zapewnia odpowiednie wsparcie w skuteczne wdrożenie nowo nabytej wiedzy.\n",
    "\n",
    "40 osób (około 20%) odpowiedziało „Nie mam zdania” - taka odpowiedź może sugerować, że firma nie w pełni komunikuje dostępne zasoby lub nie wszystkie osoby miały okazję w pełni z nich skorzystać.\n",
    "\n",
    "Co więcej, 31 respondentów (14 osób - „Zdecydowanie się nie zgadzam”, 17 osób - „Nie zgadzam się”) wyraziło negatywne opinie na temat wsparcia po szkoleniu (około 15,5% wszystkich ankietowanych). Mimo, iż jest to mniejszość głosów, wskazuje to jednak na możliwe problemy, które mogą dotyczyć jakości wsparcia, dostępności materiałów czy sposobu ich wykorzystywania. Może to sugerować, że firma powinna zwrócić szczególną uwagę na te osoby, by zidentyfikować obszary, w których wsparcie może wymagać poprawy, lub na które grupy pracowników należy skierować większą pomoc."
   ]
  },
  {
   "cell_type": "code",
   "execution_count": 295,
   "metadata": {},
   "outputs": [
    {
     "data": {
      "image/png": "[encoded data removed]",
      "text/plain": [
       "<Figure size 1400x400 with 2 Axes>"
      ]
     },
     "metadata": {},
     "output_type": "display_data"
    }
   ],
   "source": [
    "plt.figure(figsize=(14, 4))\n",
    "plt.suptitle('Wykres kołowy i rozkład odpowiedzi na pytanie 2 (PYT_2)')\n",
    "\n",
    "plt.subplot(1, 2, 1)\n",
    "plt.pie(pyt2_value, autopct=\"%.1f%%\")\n",
    "plt.legend(labels=pyt2_labels,  bbox_to_anchor=(0.4, 0.25))\n",
    "\n",
    "plt.subplot(1, 2, 2)\n",
    "sns.countplot(x=\"PYT_2\", data=data)\n",
    "plt.ylabel('Liczba odpowiedzi')\n",
    "param_text = \"ODPOWIEDZI:\\n-2: Zdecydowanie się nie zgadzam\\n-1: Nie zgadzam się\\n 1: Zgadzam się\\n 2: Zdecydowanie się zgadzam\"\n",
    "plt.text(0.05, 0.95, param_text,\n",
    "         transform=plt.gca().transAxes,  \n",
    "         fontsize=9,\n",
    "         verticalalignment='top',\n",
    "         horizontalalignment='left',\n",
    "         bbox=dict(boxstyle='round', facecolor='white', edgecolor='gray', alpha=0.5))\n",
    "plt.grid(True, linestyle='--')\n",
    "\n",
    "plt.show()"
   ]
  },
  {
   "cell_type": "markdown",
   "metadata": {},
   "source": [
    "- PYTANIE 2: \"Jak bardzo zgadzasz się ze stwierdzeniem, że firma oferuje szkolenia dostosowane do twoich potrzeb, wspierając twój rozwój zawodowy i szanse na awans?\"\n",
    "\n",
    "W przypadku pytania dotyczącego oferty szkoleniowej, odpowiedzi wskazują na podzielone opinie wśród pracowników. 52% ankietowanych pozytywnie ocenia dostosowanie szkoleń do swoich potrzeb, co sugeruje, że część pracowników uważa, iż firma skutecznie wspiera ich rozwój zawodowy oraz oferuje szkolenia sprzyjające awansom. Jednakże, warto zwrócić uwagę na wysoki odsetek negatywnych odpowiedzi, który wynosi 47%.\n",
    "\n",
    "Taka rozbieżność, gdzie niemal połowa pracowników wyraża niezadowolenie, sugeruje istotne problemy związane z jakością i dopasowaniem oferty szkoleniowej do indywidualnych potrzeb pracowników. Wskazuje to, że firma powinna przeanalizować swoje podejście do szkoleń i dostosować je lepiej do oczekiwań oraz potrzeb różnych grup pracowników. "
   ]
  },
  {
   "cell_type": "markdown",
   "metadata": {},
   "source": [
    "#### ZADANIE 1.5\n",
    "    Sporządź tablice wielodzielcze dla par zmiennych: PYT_1 i DZIAŁ, PYT_1 i STAŻ, PYT_1 i CZY_KIER, PYT_1 i PŁEĆ oraz PYT_1 i WIEK_KAT. Sformułuj wnioski."
   ]
  },
  {
   "cell_type": "code",
   "execution_count": 296,
   "metadata": {},
   "outputs": [],
   "source": [
    "crosstab_P1D = pd.crosstab(data['PYT_1'], data['DZIAŁ'], margins = False) \n",
    "crosstab_P1S = pd.crosstab(data['PYT_1'], data['STAŻ'], margins = False) \n",
    "crosstab_P1CzK = pd.crosstab(data['PYT_1'], data['CZY_KIER'], margins = False) \n",
    "crosstab_P1P = pd.crosstab(data['PYT_1'], data['PŁEĆ'], margins = False) \n",
    "crosstab_P1WK = pd.crosstab(data['PYT_1'], data['WIEK_KAT'], margins = False) "
   ]
  },
  {
   "cell_type": "markdown",
   "metadata": {},
   "source": [
    "a) PYT_1 i DZIAŁ"
   ]
  },
  {
   "cell_type": "code",
   "execution_count": 297,
   "metadata": {},
   "outputs": [
    {
     "data": {
      "text/html": [
       "<div>\n",
       "<style scoped>\n",
       "    .dataframe tbody tr th:only-of-type {\n",
       "        vertical-align: middle;\n",
       "    }\n",
       "\n",
       "    .dataframe tbody tr th {\n",
       "        vertical-align: top;\n",
       "    }\n",
       "\n",
       "    .dataframe thead th {\n",
       "        text-align: right;\n",
       "    }\n",
       "</style>\n",
       "<table border=\"1\" class=\"dataframe\">\n",
       "  <thead>\n",
       "    <tr style=\"text-align: right;\">\n",
       "      <th>DZIAŁ</th>\n",
       "      <th>HR</th>\n",
       "      <th>IT</th>\n",
       "      <th>MK</th>\n",
       "      <th>PD</th>\n",
       "    </tr>\n",
       "    <tr>\n",
       "      <th>PYT_1</th>\n",
       "      <th></th>\n",
       "      <th></th>\n",
       "      <th></th>\n",
       "      <th></th>\n",
       "    </tr>\n",
       "  </thead>\n",
       "  <tbody>\n",
       "    <tr>\n",
       "      <th>-2</th>\n",
       "      <td>2</td>\n",
       "      <td>0</td>\n",
       "      <td>3</td>\n",
       "      <td>9</td>\n",
       "    </tr>\n",
       "    <tr>\n",
       "      <th>-1</th>\n",
       "      <td>2</td>\n",
       "      <td>2</td>\n",
       "      <td>3</td>\n",
       "      <td>10</td>\n",
       "    </tr>\n",
       "    <tr>\n",
       "      <th>0</th>\n",
       "      <td>5</td>\n",
       "      <td>4</td>\n",
       "      <td>14</td>\n",
       "      <td>17</td>\n",
       "    </tr>\n",
       "    <tr>\n",
       "      <th>1</th>\n",
       "      <td>19</td>\n",
       "      <td>15</td>\n",
       "      <td>15</td>\n",
       "      <td>51</td>\n",
       "    </tr>\n",
       "    <tr>\n",
       "      <th>2</th>\n",
       "      <td>3</td>\n",
       "      <td>5</td>\n",
       "      <td>10</td>\n",
       "      <td>11</td>\n",
       "    </tr>\n",
       "  </tbody>\n",
       "</table>\n",
       "</div>"
      ],
      "text/plain": [
       "DZIAŁ  HR  IT  MK  PD\n",
       "PYT_1                \n",
       "-2      2   0   3   9\n",
       "-1      2   2   3  10\n",
       " 0      5   4  14  17\n",
       " 1     19  15  15  51\n",
       " 2      3   5  10  11"
      ]
     },
     "execution_count": 297,
     "metadata": {},
     "output_type": "execute_result"
    }
   ],
   "source": [
    "crosstab_P1D"
   ]
  },
  {
   "cell_type": "markdown",
   "metadata": {},
   "source": [
    "Pracownicy działów HR, IT i MK w większości pozytywnie oceniają wsparcie firmy w kontekście skutecznego wykorzystania w praktyce wiedzy zdobytej w trakcie szkoleń. Niemniej jednak, warto zwrócić szczególną uwagę na dział MK, gdzie zauważalny odsetek osób (14) wybrało odpowiedź \"Nie mam zdania\". Sugeruje to, że część pracowników może nie być w pełni świadoma dostępnych szkoleń lub nie miała okazji skorzystać z nich w pełni – warto więc upewnić się w tej kwestii.\n",
    "\n",
    "Choć dział PD udzielił najwyższego odsetka odpowiedzi pozytywnych spośród wszystkich działów, również w tym przypadku warto zauważyć stosunkowo dużą liczbę odpowiedzi \"Nie mam zdania\" (17 osób) oraz odpowiedzi negatywnych (19 osób). To może sugerować, że mimo ogólnej pozytywnej oceny, część pracowników z tego działu nie jest do końca przekonana o skuteczności szkoleń, co warto uwzględnić przy kolejnym ich planowaniu."
   ]
  },
  {
   "cell_type": "markdown",
   "metadata": {},
   "source": [
    "b) PYT_1 i STAŻ"
   ]
  },
  {
   "cell_type": "code",
   "execution_count": 298,
   "metadata": {},
   "outputs": [
    {
     "data": {
      "text/html": [
       "<div>\n",
       "<style scoped>\n",
       "    .dataframe tbody tr th:only-of-type {\n",
       "        vertical-align: middle;\n",
       "    }\n",
       "\n",
       "    .dataframe tbody tr th {\n",
       "        vertical-align: top;\n",
       "    }\n",
       "\n",
       "    .dataframe thead th {\n",
       "        text-align: right;\n",
       "    }\n",
       "</style>\n",
       "<table border=\"1\" class=\"dataframe\">\n",
       "  <thead>\n",
       "    <tr style=\"text-align: right;\">\n",
       "      <th>STAŻ</th>\n",
       "      <th>1</th>\n",
       "      <th>2</th>\n",
       "      <th>3</th>\n",
       "    </tr>\n",
       "    <tr>\n",
       "      <th>PYT_1</th>\n",
       "      <th></th>\n",
       "      <th></th>\n",
       "      <th></th>\n",
       "    </tr>\n",
       "  </thead>\n",
       "  <tbody>\n",
       "    <tr>\n",
       "      <th>-2</th>\n",
       "      <td>5</td>\n",
       "      <td>5</td>\n",
       "      <td>4</td>\n",
       "    </tr>\n",
       "    <tr>\n",
       "      <th>-1</th>\n",
       "      <td>6</td>\n",
       "      <td>10</td>\n",
       "      <td>1</td>\n",
       "    </tr>\n",
       "    <tr>\n",
       "      <th>0</th>\n",
       "      <td>8</td>\n",
       "      <td>26</td>\n",
       "      <td>6</td>\n",
       "    </tr>\n",
       "    <tr>\n",
       "      <th>1</th>\n",
       "      <td>19</td>\n",
       "      <td>75</td>\n",
       "      <td>6</td>\n",
       "    </tr>\n",
       "    <tr>\n",
       "      <th>2</th>\n",
       "      <td>3</td>\n",
       "      <td>24</td>\n",
       "      <td>2</td>\n",
       "    </tr>\n",
       "  </tbody>\n",
       "</table>\n",
       "</div>"
      ],
      "text/plain": [
       "STAŻ    1   2  3\n",
       "PYT_1           \n",
       "-2      5   5  4\n",
       "-1      6  10  1\n",
       " 0      8  26  6\n",
       " 1     19  75  6\n",
       " 2      3  24  2"
      ]
     },
     "execution_count": 298,
     "metadata": {},
     "output_type": "execute_result"
    }
   ],
   "source": [
    "crosstab_P1S"
   ]
  },
  {
   "cell_type": "markdown",
   "metadata": {},
   "source": [
    "Osoby z stażem 2 (od roku do trzech lat) mają zdecydowanie większą tendencję do pozytywnego oceniania wsparcia firmy w wykorzystaniu wiedzy zdobytej na szkoleniu. Aż 99 osób uznało, że firma skutecznie wspiera ich w praktycznym zastosowaniu szkolenia. Warto jednak zauważyć, że 26 osób z tej grupy miało opinię neutralną, co sugeruje, że część pracowników wciąż nie jest do końca przekonana o efektywności tego wsparcia.\n",
    "\n",
    "Z kolei osoby z krótkim stażem (poniżej roku) oraz osoby z długim stażem (powyżej 3 lat) mają podzielone opinie. Wśród nich odpowiedzi pozytywne i negatywne występują w podobnych proporcjach, co wskazuje na różnorodność doświadczeń związanych z wdrażaniem zdobytej wiedzy w praktyce."
   ]
  },
  {
   "cell_type": "markdown",
   "metadata": {},
   "source": [
    "c) PYT_1 i CZY_KIER"
   ]
  },
  {
   "cell_type": "code",
   "execution_count": 299,
   "metadata": {},
   "outputs": [
    {
     "data": {
      "text/html": [
       "<div>\n",
       "<style scoped>\n",
       "    .dataframe tbody tr th:only-of-type {\n",
       "        vertical-align: middle;\n",
       "    }\n",
       "\n",
       "    .dataframe tbody tr th {\n",
       "        vertical-align: top;\n",
       "    }\n",
       "\n",
       "    .dataframe thead th {\n",
       "        text-align: right;\n",
       "    }\n",
       "</style>\n",
       "<table border=\"1\" class=\"dataframe\">\n",
       "  <thead>\n",
       "    <tr style=\"text-align: right;\">\n",
       "      <th>CZY_KIER</th>\n",
       "      <th>Nie</th>\n",
       "      <th>Tak</th>\n",
       "    </tr>\n",
       "    <tr>\n",
       "      <th>PYT_1</th>\n",
       "      <th></th>\n",
       "      <th></th>\n",
       "    </tr>\n",
       "  </thead>\n",
       "  <tbody>\n",
       "    <tr>\n",
       "      <th>-2</th>\n",
       "      <td>10</td>\n",
       "      <td>4</td>\n",
       "    </tr>\n",
       "    <tr>\n",
       "      <th>-1</th>\n",
       "      <td>14</td>\n",
       "      <td>3</td>\n",
       "    </tr>\n",
       "    <tr>\n",
       "      <th>0</th>\n",
       "      <td>34</td>\n",
       "      <td>6</td>\n",
       "    </tr>\n",
       "    <tr>\n",
       "      <th>1</th>\n",
       "      <td>88</td>\n",
       "      <td>12</td>\n",
       "    </tr>\n",
       "    <tr>\n",
       "      <th>2</th>\n",
       "      <td>27</td>\n",
       "      <td>2</td>\n",
       "    </tr>\n",
       "  </tbody>\n",
       "</table>\n",
       "</div>"
      ],
      "text/plain": [
       "CZY_KIER  Nie  Tak\n",
       "PYT_1             \n",
       "-2         10    4\n",
       "-1         14    3\n",
       " 0         34    6\n",
       " 1         88   12\n",
       " 2         27    2"
      ]
     },
     "execution_count": 299,
     "metadata": {},
     "output_type": "execute_result"
    }
   ],
   "source": [
    "crosstab_P1CzK"
   ]
  },
  {
   "cell_type": "markdown",
   "metadata": {},
   "source": [
    "Osoby, które nie pełnią funkcji kierowniczych (CZY_KIER = „Nie”), wykazują zdecydowanie wyższy odsetek odpowiedzi pozytywnych. W tej grupie 115 osób zgodziło się ze stwierdzeniem, że firma skutecznie wspiera ich w wykorzystaniu wiedzy zdobytej podczas szkoleń, co wskazuje na dużą satysfakcję z oferowanych programów rozwojowych.\n",
    "\n",
    "Natomiast wśród osób pełniących funkcje kierownicze odpowiedzi są bardziej zróżnicowane. Choć większość kierowników wyraziła pozytywne opinie, różnica między odpowiedziami pozytywnymi a negatywnymi nie jest na tyle duża, aby uznać ją za znaczącą. Może to sugerować, że osoby na stanowiskach kierowniczych mają bardziej specyficzne potrzeby szkoleniowe, które nie zawsze są w pełni zaspokajane przez oferowane programy. "
   ]
  },
  {
   "cell_type": "markdown",
   "metadata": {},
   "source": [
    "d) PYT_1 i PŁEĆ"
   ]
  },
  {
   "cell_type": "code",
   "execution_count": 300,
   "metadata": {},
   "outputs": [
    {
     "data": {
      "text/html": [
       "<div>\n",
       "<style scoped>\n",
       "    .dataframe tbody tr th:only-of-type {\n",
       "        vertical-align: middle;\n",
       "    }\n",
       "\n",
       "    .dataframe tbody tr th {\n",
       "        vertical-align: top;\n",
       "    }\n",
       "\n",
       "    .dataframe thead th {\n",
       "        text-align: right;\n",
       "    }\n",
       "</style>\n",
       "<table border=\"1\" class=\"dataframe\">\n",
       "  <thead>\n",
       "    <tr style=\"text-align: right;\">\n",
       "      <th>PŁEĆ</th>\n",
       "      <th>K</th>\n",
       "      <th>M</th>\n",
       "    </tr>\n",
       "    <tr>\n",
       "      <th>PYT_1</th>\n",
       "      <th></th>\n",
       "      <th></th>\n",
       "    </tr>\n",
       "  </thead>\n",
       "  <tbody>\n",
       "    <tr>\n",
       "      <th>-2</th>\n",
       "      <td>3</td>\n",
       "      <td>11</td>\n",
       "    </tr>\n",
       "    <tr>\n",
       "      <th>-1</th>\n",
       "      <td>7</td>\n",
       "      <td>10</td>\n",
       "    </tr>\n",
       "    <tr>\n",
       "      <th>0</th>\n",
       "      <td>14</td>\n",
       "      <td>26</td>\n",
       "    </tr>\n",
       "    <tr>\n",
       "      <th>1</th>\n",
       "      <td>36</td>\n",
       "      <td>64</td>\n",
       "    </tr>\n",
       "    <tr>\n",
       "      <th>2</th>\n",
       "      <td>11</td>\n",
       "      <td>18</td>\n",
       "    </tr>\n",
       "  </tbody>\n",
       "</table>\n",
       "</div>"
      ],
      "text/plain": [
       "PŁEĆ    K   M\n",
       "PYT_1        \n",
       "-2      3  11\n",
       "-1      7  10\n",
       " 0     14  26\n",
       " 1     36  64\n",
       " 2     11  18"
      ]
     },
     "execution_count": 300,
     "metadata": {},
     "output_type": "execute_result"
    }
   ],
   "source": [
    "crosstab_P1P"
   ]
  },
  {
   "cell_type": "markdown",
   "metadata": {},
   "source": [
    "Porównując odsetek odpowiedzi między kobietami a mężczyznami, żadna z grup nie wykazuje znaczącego niezadowolenia związanego ze szkoleniami. Zarówno kobiety, jak i mężczyźni w dużej mierze wyrażają zadowolenie z wiedzy zdobytej na szkoleniach oraz jej zastosowania w praktyce. To sugeruje, że oferowane szkolenia są neutralne płciowo i odpowiadają na potrzeby wszystkich pracowników, niezależnie od płci."
   ]
  },
  {
   "cell_type": "markdown",
   "metadata": {},
   "source": [
    "e) PYT_1 i WIEK_KAT"
   ]
  },
  {
   "cell_type": "code",
   "execution_count": 301,
   "metadata": {},
   "outputs": [
    {
     "data": {
      "text/html": [
       "<div>\n",
       "<style scoped>\n",
       "    .dataframe tbody tr th:only-of-type {\n",
       "        vertical-align: middle;\n",
       "    }\n",
       "\n",
       "    .dataframe tbody tr th {\n",
       "        vertical-align: top;\n",
       "    }\n",
       "\n",
       "    .dataframe thead th {\n",
       "        text-align: right;\n",
       "    }\n",
       "</style>\n",
       "<table border=\"1\" class=\"dataframe\">\n",
       "  <thead>\n",
       "    <tr style=\"text-align: right;\">\n",
       "      <th>WIEK_KAT</th>\n",
       "      <th>36-45</th>\n",
       "      <th>46-55</th>\n",
       "      <th>&lt;=35</th>\n",
       "      <th>&gt;55</th>\n",
       "    </tr>\n",
       "    <tr>\n",
       "      <th>PYT_1</th>\n",
       "      <th></th>\n",
       "      <th></th>\n",
       "      <th></th>\n",
       "      <th></th>\n",
       "    </tr>\n",
       "  </thead>\n",
       "  <tbody>\n",
       "    <tr>\n",
       "      <th>-2</th>\n",
       "      <td>11</td>\n",
       "      <td>2</td>\n",
       "      <td>1</td>\n",
       "      <td>0</td>\n",
       "    </tr>\n",
       "    <tr>\n",
       "      <th>-1</th>\n",
       "      <td>7</td>\n",
       "      <td>1</td>\n",
       "      <td>6</td>\n",
       "      <td>3</td>\n",
       "    </tr>\n",
       "    <tr>\n",
       "      <th>0</th>\n",
       "      <td>24</td>\n",
       "      <td>5</td>\n",
       "      <td>3</td>\n",
       "      <td>8</td>\n",
       "    </tr>\n",
       "    <tr>\n",
       "      <th>1</th>\n",
       "      <td>50</td>\n",
       "      <td>25</td>\n",
       "      <td>13</td>\n",
       "      <td>12</td>\n",
       "    </tr>\n",
       "    <tr>\n",
       "      <th>2</th>\n",
       "      <td>12</td>\n",
       "      <td>12</td>\n",
       "      <td>3</td>\n",
       "      <td>2</td>\n",
       "    </tr>\n",
       "  </tbody>\n",
       "</table>\n",
       "</div>"
      ],
      "text/plain": [
       "WIEK_KAT  36-45  46-55  <=35  >55\n",
       "PYT_1                            \n",
       "-2           11      2     1    0\n",
       "-1            7      1     6    3\n",
       " 0           24      5     3    8\n",
       " 1           50     25    13   12\n",
       " 2           12     12     3    2"
      ]
     },
     "execution_count": 301,
     "metadata": {},
     "output_type": "execute_result"
    }
   ],
   "source": [
    "crosstab_P1WK"
   ]
  },
  {
   "cell_type": "markdown",
   "metadata": {},
   "source": [
    "Analizując odpowiedzi, widać, że firma dość dobrze zapewnia wsparcie w skutecznym wykorzystywaniu wiedzy zdobytej na szkoleniach, niezależnie od wieku pracowników. Jednak jedynym wyjątkiem wydaje się być grupa wiekowa 36-45 lat, gdzie w porównaniu do innych grup pojawia się większy odsetek odpowiedzi negatywnych oraz odpowiedzi „Nie mam zdania”. To może sugerować, że ta grupa pracowników może mieć specyficzne potrzeby lub oczekiwania wobec szkoleń, które nie są w pełni zaspokajane przez oferowane programy. Należy więc rozważyć, czy firma dostosowuje swoje oferty szkoleniowe w wystarczający sposób do potrzeb tej grupy wiekowej."
   ]
  },
  {
   "cell_type": "markdown",
   "metadata": {},
   "source": [
    "#### ZADANIE 1.6\n",
    "    Sporządź tablicę wielodzielczą dla pary zmiennych: PYT_2 i PYT_3. Sformułuj wnioski."
   ]
  },
  {
   "cell_type": "markdown",
   "metadata": {},
   "source": [
    "- PYTANIE 3 (zadano ponownie po kilku tygodniach): \"Jak bardzo zgadzasz się ze stwierdzeniem, że firma oferuje szkolenia dostosowane do twoich potrzeb, wspierając twój rozwój zawodowy i szanse na awans?\"  "
   ]
  },
  {
   "cell_type": "code",
   "execution_count": 302,
   "metadata": {},
   "outputs": [
    {
     "data": {
      "text/html": [
       "<div>\n",
       "<style scoped>\n",
       "    .dataframe tbody tr th:only-of-type {\n",
       "        vertical-align: middle;\n",
       "    }\n",
       "\n",
       "    .dataframe tbody tr th {\n",
       "        vertical-align: top;\n",
       "    }\n",
       "\n",
       "    .dataframe thead th {\n",
       "        text-align: right;\n",
       "    }\n",
       "</style>\n",
       "<table border=\"1\" class=\"dataframe\">\n",
       "  <thead>\n",
       "    <tr style=\"text-align: right;\">\n",
       "      <th>PYT_3</th>\n",
       "      <th>-2</th>\n",
       "      <th>-1</th>\n",
       "      <th>1</th>\n",
       "      <th>2</th>\n",
       "    </tr>\n",
       "    <tr>\n",
       "      <th>PYT_2</th>\n",
       "      <th></th>\n",
       "      <th></th>\n",
       "      <th></th>\n",
       "      <th></th>\n",
       "    </tr>\n",
       "  </thead>\n",
       "  <tbody>\n",
       "    <tr>\n",
       "      <th>-2</th>\n",
       "      <td>49</td>\n",
       "      <td>16</td>\n",
       "      <td>5</td>\n",
       "      <td>4</td>\n",
       "    </tr>\n",
       "    <tr>\n",
       "      <th>-1</th>\n",
       "      <td>3</td>\n",
       "      <td>6</td>\n",
       "      <td>10</td>\n",
       "      <td>1</td>\n",
       "    </tr>\n",
       "    <tr>\n",
       "      <th>1</th>\n",
       "      <td>0</td>\n",
       "      <td>0</td>\n",
       "      <td>2</td>\n",
       "      <td>0</td>\n",
       "    </tr>\n",
       "    <tr>\n",
       "      <th>2</th>\n",
       "      <td>0</td>\n",
       "      <td>8</td>\n",
       "      <td>15</td>\n",
       "      <td>81</td>\n",
       "    </tr>\n",
       "  </tbody>\n",
       "</table>\n",
       "</div>"
      ],
      "text/plain": [
       "PYT_3  -2  -1   1   2\n",
       "PYT_2                \n",
       "-2     49  16   5   4\n",
       "-1      3   6  10   1\n",
       " 1      0   0   2   0\n",
       " 2      0   8  15  81"
      ]
     },
     "execution_count": 302,
     "metadata": {},
     "output_type": "execute_result"
    }
   ],
   "source": [
    "crosstab_P2P3 = pd.crosstab(data['PYT_2'], data['PYT_3'], margins = False) \n",
    "crosstab_P2P3"
   ]
  },
  {
   "cell_type": "markdown",
   "metadata": {},
   "source": [
    "Po zakończeniu dodatkowego cyklu szkoleń, dostosowanego do potrzeb różnych grup pracowników, ponownie zapytano jak oceniają jakość oferty szkoleniowej.\n",
    "\n",
    "Wyniki nie wskazują na znaczącą poprawę. Spośród wszystkich respondentów, 62 osoby zmieniły swoje odpowiedzi - jednak zmiany te nie były jednoznacznie pozytywne. Co prawda 36 osób oceniło szkolenia lepiej niż wcześniej, jednak aż 16 z nich nadal wyraziło opinię negatywną (zmieniając odpowiedź z „Zdecydowanie się nie zgadzam” na „Nie zgadzam się”). Z kolei 26 osób oceniło szkolenia gorzej niż w pierwszym badaniu.\n",
    "\n",
    "Co istotne, aż 138 respondentów nie zmieniło swojej oceny – w tej grupie znajdują się 83 pozytywne opinie, ale również 55 negatywnych.\n",
    "\n",
    "Podsumowując, pomimo ponownego przeprowadzenia szkoleń, ich jakość nie uległa wyraźnej poprawie, a potrzeby pracowników pozostają w dużej mierze niezaspokojone."
   ]
  },
  {
   "cell_type": "markdown",
   "metadata": {},
   "source": [
    "#### ZADANIE 1.7\n",
    "     Utwórz zmienną CZY_ZADOW na podstawie zmiennej PYT_2 łącząc kategorie \"nie zgadzam się\" i \"zdecydowanie się nie zgadzam\" oraz \"zgadzam się\" i \"zdecydowanie się zgadzam\"."
   ]
  },
  {
   "cell_type": "markdown",
   "metadata": {},
   "source": [
    "W tej części dodano nową kolumnę o nazwie *CZY_ZADOW*, która wskazuje poziom zadowolenia respondentów w zależności od ich odpowiedzi na pytanie PYT_2. Jeśli ankietowany odpowiedział na PYT_2 „Zdecydowanie się zgadzam” lub „Zgadzam się”, przypisano mu wartość „TAK”, co oznacza pozytywną ocenę wsparcia firmy. W przeciwnym przypadku, jeśli odpowiedź była negatywna („Nie zgadzam się” lub „Zdecydowanie się nie zgadzam”), przypisano mu wartość „NIE”, co wskazuje na brak zadowolenia względem wsparcia oferowanego przez firmę."
   ]
  },
  {
   "cell_type": "code",
   "execution_count": 303,
   "metadata": {},
   "outputs": [],
   "source": [
    "def is_satisfied(satisfaction_lvl):\n",
    "    if satisfaction_lvl == -2 or satisfaction_lvl == -1:\n",
    "        return 'NIE'\n",
    "    else:\n",
    "        return 'TAK'\n",
    "\n",
    "data[\"CZY_ZADOW\"] = data[\"PYT_2\"].apply(is_satisfied)\n",
    "data[\"CZY_ZADOW\"] = data[\"CZY_ZADOW\"].astype(\"category\")"
   ]
  },
  {
   "cell_type": "code",
   "execution_count": 304,
   "metadata": {},
   "outputs": [
    {
     "data": {
      "text/html": [
       "<div>\n",
       "<style scoped>\n",
       "    .dataframe tbody tr th:only-of-type {\n",
       "        vertical-align: middle;\n",
       "    }\n",
       "\n",
       "    .dataframe tbody tr th {\n",
       "        vertical-align: top;\n",
       "    }\n",
       "\n",
       "    .dataframe thead th {\n",
       "        text-align: right;\n",
       "    }\n",
       "</style>\n",
       "<table border=\"1\" class=\"dataframe\">\n",
       "  <thead>\n",
       "    <tr style=\"text-align: right;\">\n",
       "      <th></th>\n",
       "      <th>DZIAŁ</th>\n",
       "      <th>STAŻ</th>\n",
       "      <th>CZY_KIER</th>\n",
       "      <th>PYT_1</th>\n",
       "      <th>PYT_2</th>\n",
       "      <th>PYT_3</th>\n",
       "      <th>PŁEĆ</th>\n",
       "      <th>WIEK</th>\n",
       "      <th>WIEK_KAT</th>\n",
       "      <th>CZY_ZADOW</th>\n",
       "    </tr>\n",
       "  </thead>\n",
       "  <tbody>\n",
       "    <tr>\n",
       "      <th>0</th>\n",
       "      <td>IT</td>\n",
       "      <td>2</td>\n",
       "      <td>Nie</td>\n",
       "      <td>1</td>\n",
       "      <td>-2</td>\n",
       "      <td>1</td>\n",
       "      <td>M</td>\n",
       "      <td>64</td>\n",
       "      <td>&gt;55</td>\n",
       "      <td>NIE</td>\n",
       "    </tr>\n",
       "    <tr>\n",
       "      <th>1</th>\n",
       "      <td>IT</td>\n",
       "      <td>2</td>\n",
       "      <td>Nie</td>\n",
       "      <td>0</td>\n",
       "      <td>-2</td>\n",
       "      <td>-2</td>\n",
       "      <td>M</td>\n",
       "      <td>67</td>\n",
       "      <td>&gt;55</td>\n",
       "      <td>NIE</td>\n",
       "    </tr>\n",
       "    <tr>\n",
       "      <th>2</th>\n",
       "      <td>IT</td>\n",
       "      <td>2</td>\n",
       "      <td>Nie</td>\n",
       "      <td>1</td>\n",
       "      <td>2</td>\n",
       "      <td>2</td>\n",
       "      <td>M</td>\n",
       "      <td>65</td>\n",
       "      <td>&gt;55</td>\n",
       "      <td>TAK</td>\n",
       "    </tr>\n",
       "    <tr>\n",
       "      <th>3</th>\n",
       "      <td>IT</td>\n",
       "      <td>2</td>\n",
       "      <td>Nie</td>\n",
       "      <td>-1</td>\n",
       "      <td>-2</td>\n",
       "      <td>-2</td>\n",
       "      <td>K</td>\n",
       "      <td>68</td>\n",
       "      <td>&gt;55</td>\n",
       "      <td>NIE</td>\n",
       "    </tr>\n",
       "    <tr>\n",
       "      <th>4</th>\n",
       "      <td>IT</td>\n",
       "      <td>3</td>\n",
       "      <td>Tak</td>\n",
       "      <td>1</td>\n",
       "      <td>2</td>\n",
       "      <td>-1</td>\n",
       "      <td>K</td>\n",
       "      <td>65</td>\n",
       "      <td>&gt;55</td>\n",
       "      <td>TAK</td>\n",
       "    </tr>\n",
       "  </tbody>\n",
       "</table>\n",
       "</div>"
      ],
      "text/plain": [
       "  DZIAŁ  STAŻ CZY_KIER  PYT_1  PYT_2  PYT_3 PŁEĆ  WIEK WIEK_KAT CZY_ZADOW\n",
       "0    IT     2      Nie      1     -2      1    M    64      >55       NIE\n",
       "1    IT     2      Nie      0     -2     -2    M    67      >55       NIE\n",
       "2    IT     2      Nie      1      2      2    M    65      >55       TAK\n",
       "3    IT     2      Nie     -1     -2     -2    K    68      >55       NIE\n",
       "4    IT     3      Tak      1      2     -1    K    65      >55       TAK"
      ]
     },
     "execution_count": 304,
     "metadata": {},
     "output_type": "execute_result"
    }
   ],
   "source": [
    "data.head()"
   ]
  },
  {
   "cell_type": "markdown",
   "metadata": {},
   "source": [
    "#### ZADANIE 1.8\n",
    "    Sporządź wykresy mozaikowe odpowiadające parom zmiennych: CZY_ZADOW i DZIAŁ, CZY_ZADOW i STAŻ, CZY_ZADOW i CZY_KIER, CZY_ZADOW i PŁEĆ oraz CZY_ZADOW i WIEK_KAT. Czy na podstawie uzyskanych wykresów można postawić pewne hipotezy dotyczące relacji między powyższymi zmiennymi? Spróbuj sformułować kilka takich hipotez."
   ]
  },
  {
   "cell_type": "markdown",
   "metadata": {},
   "source": [
    "a) CZY_ZADOW i DZIAŁ"
   ]
  },
  {
   "cell_type": "code",
   "execution_count": 305,
   "metadata": {},
   "outputs": [
    {
     "data": {
      "image/png": "[encoded data removed]",
      "text/plain": [
       "<Figure size 640x480 with 3 Axes>"
      ]
     },
     "metadata": {},
     "output_type": "display_data"
    }
   ],
   "source": [
    "mosaic(data, ['CZY_ZADOW', 'DZIAŁ'], title='CZY_ZADOW vs DZIAŁ')\n",
    "plt.show()"
   ]
  },
  {
   "cell_type": "markdown",
   "metadata": {},
   "source": [
    "- HIPOTEZA: Oferowane szkolenia nie odpowiadają w pełni na potrzeby pracowników w żadnym z działów, co znajduje odzwierciedlenie w niemal równomiernym podziale opinii pozytywnych i negatywnych (odpowiedzi „TAK” i „NIE”) wśród wszystkich badanych działów."
   ]
  },
  {
   "cell_type": "markdown",
   "metadata": {},
   "source": [
    "b) CZY_ZADOW i STAŻ"
   ]
  },
  {
   "cell_type": "code",
   "execution_count": 306,
   "metadata": {},
   "outputs": [
    {
     "data": {
      "image/png": "[encoded data removed]",
      "text/plain": [
       "<Figure size 640x480 with 3 Axes>"
      ]
     },
     "metadata": {},
     "output_type": "display_data"
    }
   ],
   "source": [
    "mosaic(data, ['CZY_ZADOW', 'STAŻ'], title='CZY_ZADOW vs STAŻ')\n",
    "plt.show()"
   ]
  },
  {
   "cell_type": "markdown",
   "metadata": {},
   "source": [
    "- HIPOTEZA: Pracownicy z najkrótszym stażem pracy są bardziej zadowoleni z oferowanych szkoleń i wsparcia, ponieważ są to dla nich nowe doświadczenia (gdzie np. osoby z dłuższym stażem mogą być bardziej wymagające lub mieć wyższe oczekiwania)."
   ]
  },
  {
   "cell_type": "markdown",
   "metadata": {},
   "source": [
    "c) CZY_ZADOW i CZY_KIER"
   ]
  },
  {
   "cell_type": "markdown",
   "metadata": {},
   "source": [
    "Ze względu na identyczne zestawy odpowiedzi w zmiennych *CZY_ZADOW* i *CZY_KIER*, warto doprecyzować interpretację wykresu: oś X przedstawia odpowiedzi na pytanie dotyczące zmiennej *CZY_ZADOW*, natomiast oś Y odnosi się do zmiennej *CZY_KIER*."
   ]
  },
  {
   "cell_type": "code",
   "execution_count": 307,
   "metadata": {},
   "outputs": [
    {
     "data": {
      "image/png": "[encoded data removed]",
      "text/plain": [
       "<Figure size 640x480 with 3 Axes>"
      ]
     },
     "metadata": {},
     "output_type": "display_data"
    }
   ],
   "source": [
    "mosaic(data, ['CZY_ZADOW', 'CZY_KIER'], title='CZY_ZADOW vs CZY_KIER')\n",
    "plt.show()"
   ]
  },
  {
   "cell_type": "markdown",
   "metadata": {},
   "source": [
    "- HIPOTEZA: Osoby zajmujące stanowiska kierownicze mogą być bardziej krytyczne wobec jakości i dopasowania oferowanych szkoleń w porównaniu do pracowników zajmujących niższe stanowiska."
   ]
  },
  {
   "cell_type": "markdown",
   "metadata": {},
   "source": [
    "d) CZY_ZADOW i PŁEĆ"
   ]
  },
  {
   "cell_type": "code",
   "execution_count": 308,
   "metadata": {},
   "outputs": [
    {
     "data": {
      "image/png": "[encoded data removed]",
      "text/plain": [
       "<Figure size 640x480 with 3 Axes>"
      ]
     },
     "metadata": {},
     "output_type": "display_data"
    }
   ],
   "source": [
    "mosaic(data, ['CZY_ZADOW', 'PŁEĆ'], title='CZY_ZADOW vs PŁEĆ')\n",
    "plt.show()"
   ]
  },
  {
   "cell_type": "markdown",
   "metadata": {},
   "source": [
    "- HIPOTEZA: Mężczyźni i kobiety mają różne oczekiwania względem szkoleń i wsparcia firmy, co skutkuje różnicami w poziomie zadowolenia."
   ]
  },
  {
   "cell_type": "markdown",
   "metadata": {},
   "source": [
    "e) CZY_ZADOW i WIEK_KAT"
   ]
  },
  {
   "cell_type": "code",
   "execution_count": 309,
   "metadata": {},
   "outputs": [
    {
     "data": {
      "image/png": "[encoded data removed]",
      "text/plain": [
       "<Figure size 640x480 with 3 Axes>"
      ]
     },
     "metadata": {},
     "output_type": "display_data"
    }
   ],
   "source": [
    "mosaic(data, ['CZY_ZADOW', 'WIEK_KAT'], title='CZY_ZADOW vs WIEK_KAT')\n",
    "plt.show()"
   ]
  },
  {
   "cell_type": "markdown",
   "metadata": {},
   "source": [
    "- HIPOTEZA: Starsi pracownicy (w wieku starszym niż 55 lat) są najmniej zadowoleni z oferty firmy odnośnie awansów i wsparcia w rozwoju kariery."
   ]
  },
  {
   "cell_type": "markdown",
   "metadata": {},
   "source": [
    "## CZĘŚĆ II"
   ]
  },
  {
   "cell_type": "markdown",
   "metadata": {},
   "source": [
    "### ZADANIE 2 \n",
    "    Zilustruj odpowiedzi na pytanie \"Jak bardzo zgadzasz się ze stwierdzeniem, że firma pozwala na (...)?\" (zmienna PYT_1) w całej badanej grupie oraz w podgrupach ze względu na zmienną CZY_KIER. W tym celu możesz zaproponować własne metody wizualizacji lub zapozać się z biblioteką likert i dostępnymi tam funkcjami summary oraz plot (jeśli korzystarz z R) oraz z biblioteką Altair lub plot-likert (jeśli korzystarz z Pythona)."
   ]
  },
  {
   "cell_type": "markdown",
   "metadata": {},
   "source": [
    "Poniższy wykres przedstawia zestawienie odpowiedzi na pytanie PYT_1 z podziałem na grupy według zmiennej *CZY_KIER*. Wyniki zostały wyrażone w procentach, dlatego należy mieć na uwadze, że grupa osób pełniących funkcje kierownicze stanowi wyraźną mniejszość — 27 osób wobec 173 pracowników niekierujących zespołami.\n",
    "\n",
    "Od strony technicznej: Ostrzeżenia typu *FutureWarning*, które pojawiają się podczas generowania wykresu, odnoszą się do przestarzałego użycia funkcji *applymap* oraz indeksowania pozycyjnego w kodzie źródłowym biblioteki plot_likert. Nie są one wynikiem błędów w implementacji analizy, lecz informacją o przyszłych zmianach w działaniu biblioteki. Dodatkowo, komunikat *UserWarning* informuje (jak wspomniano wcześniej), że liczba odpowiedzi na poszczególne pytania (w tym przypadku - *CZY_KIER*) może się znacząco różnić, co może wpłynąć na porównywalność procentowych wyników między pytaniami."
   ]
  },
  {
   "cell_type": "code",
   "execution_count": 310,
   "metadata": {},
   "outputs": [
    {
     "name": "stderr",
     "output_type": "stream",
     "text": [
      "C:\\Users\\ploci\\AppData\\Roaming\\Python\\Python312\\site-packages\\plot_likert\\plot_likert.py:257: FutureWarning: DataFrame.applymap has been deprecated. Use DataFrame.map instead.\n",
      "  df.applymap(validate)\n",
      "C:\\Users\\ploci\\AppData\\Roaming\\Python\\Python312\\site-packages\\plot_likert\\plot_likert.py:310: FutureWarning: Series.__getitem__ treating keys as positions is deprecated. In a future version, integer keys will always be treated as labels (consistent with DataFrame behavior). To access a value by position, use `ser.iloc[pos]`\n",
      "  responses_to_first_question = responses_per_question[0]\n",
      "C:\\Users\\ploci\\AppData\\Roaming\\Python\\Python312\\site-packages\\plot_likert\\plot_likert.py:313: UserWarning: In your data, not all questions have the same number of responses. i.e., different numbers of people answered each question. Therefore, the percentages aren't directly comparable: X% for one question represents a different number of responses than X% for another question, yet they will appear the same in the percentage graph. This may be misleading to your reader.\n",
      "  warn(\n"
     ]
    },
    {
     "data": {
      "image/png": "[encoded data removed]",
      "text/plain": [
       "<Figure size 640x480 with 1 Axes>"
      ]
     },
     "metadata": {},
     "output_type": "display_data"
    }
   ],
   "source": [
    "myscale_p1 = {\n",
    "    -2: \"Zdecydowanie się nie zgadzam\",\n",
    "    -1: \"Nie zgadzam się\",\n",
    "     0: \"Nie mam zdania\",\n",
    "     1: \"Zgadzam się\",\n",
    "     2: \"Zdecydowanie się zgadzam\"\n",
    "}\n",
    "\n",
    "data[\"PYT_1_LABEL\"] = data[\"PYT_1\"].map(myscale_p1)\n",
    "data[\"PYT_1_LABEL\"] = data[\"PYT_1_LABEL\"].astype(\"category\")\n",
    "df_likert = data.pivot(columns=\"CZY_KIER\", values=\"PYT_1_LABEL\")\n",
    "myscale_p1_labels = list(myscale_p1.values())\n",
    "\n",
    "\n",
    "plot_likert.plot_likert(df_likert, myscale_p1_labels, plot_percentage=True)\n",
    "plt.ylabel('Grupa (CZY_KIER)')\n",
    "plt.xlabel('Liczba odpowiedzi (%)')\n",
    "plt.legend(title='Odpowiedzi (PYT_1):', bbox_to_anchor=(1.6, 1))\n",
    "plt.grid(True, linestyle = '--')\n",
    "plt.show()\n"
   ]
  },
  {
   "cell_type": "markdown",
   "metadata": {},
   "source": [
    "Na podstawie wykresu można zauważyć wyraźne różnice w rozkładzie opinii między pracownikami pełniącymi funkcje kierownicze a pozostałymi. W grupie osób, które nie zajmują stanowisk kierowniczych (stanowiących zdecydowaną większość – 173 osoby), dominują odpowiedzi pozytywne, które stanowią około 60% wszystkich wypowiedzi. Odpowiedzi neutralne oscylują wokół 20%, natomiast odpowiedzi negatywne przekraczają 10%, ale nie przekraczają 15%. Taki rozkład wskazuje na ogólne zadowolenie w tej grupie, przy jednocześnie umiarkowanej liczbie głosów krytycznych.\n",
    "\n",
    "Z kolei wśród osób pełniących funkcje kierownicze (co stanowi mniejszość badanych – 27 osób), pozytywne odpowiedzi stanowią około 50%, co jest wyraźnie niższym wynikiem niż wśród pozostałych pracowników. Odpowiedzi neutralne przekraczają 20%, natomiast odpowiedzi negatywne są zdecydowanie wyższe i wynoszą ponad 20% (prawdopodobnie bliżej nawet do  25%). Może to sugerować, że osoby na stanowiskach kierowniczych są bardziej krytyczne lub mają inne oczekiwania względem badanego obszaru.\n",
    "\n",
    "Ze względu na znaczącą różnicę w liczności obu grup, należy ostrożnie interpretować wartości procentowe — szczególnie dla mniejszej grupy kierowników, w której każda odpowiedź ma większy wpływ na ogólny wynik. Niemniej jednak, obserwowane różnice mogą wskazywać na istotne zróżnicowanie doświadczeń i potrzeb pomiędzy grupami, co warto wziąć pod uwagę w dalszych działaniach organizacyjnych."
   ]
  },
  {
   "cell_type": "markdown",
   "metadata": {},
   "source": [
    "### ZADANIE 3\n",
    "    Zapoznaj się z funkcją sample z biblioteki stats (w R) lub z funkcją random.choice z biblioteki numpy (w Pythonie). Przetestuj jej działanie dla różnych wartości argumentów wejściowych. Następnie wylosuj próbkę o liczności 10% wszystkich rekordów z pliku \"ankieta.csv\" w dwóch wersjach: ze zwracaniem oraz bez zwracania."
   ]
  },
  {
   "cell_type": "markdown",
   "metadata": {},
   "source": [
    "W pierwszej kolejności przetestujmy działanie funkcji *random.choice* dla różnych wartości argumentów wejściowych."
   ]
  },
  {
   "cell_type": "code",
   "execution_count": 311,
   "metadata": {},
   "outputs": [],
   "source": [
    "example_data = np.array([-10,-8,-6,-4,-2,0,2,4,6,8,10])\n",
    "example_prob = np.array([0.1,0.05,0.2,0.02,0.03,0.3,0.025,0.025,0.05,0.1,0.1])"
   ]
  },
  {
   "cell_type": "markdown",
   "metadata": {},
   "source": [
    "- Wersja: bez zwracania"
   ]
  },
  {
   "cell_type": "code",
   "execution_count": 312,
   "metadata": {},
   "outputs": [
    {
     "data": {
      "text/plain": [
       "array([10,  2, -4, -8,  0])"
      ]
     },
     "execution_count": 312,
     "metadata": {},
     "output_type": "execute_result"
    }
   ],
   "source": [
    "example_without_replacement = np.random.choice(example_data, size=5, replace=False)\n",
    "example_without_replacement"
   ]
  },
  {
   "cell_type": "markdown",
   "metadata": {},
   "source": [
    "- Wersja: ze zwracaniem, takie same prawdopodobieństwo wylosowania wszystkich wartości"
   ]
  },
  {
   "cell_type": "code",
   "execution_count": 313,
   "metadata": {},
   "outputs": [
    {
     "data": {
      "text/plain": [
       "array([ -4, -10,   8,   2,  -4])"
      ]
     },
     "execution_count": 313,
     "metadata": {},
     "output_type": "execute_result"
    }
   ],
   "source": [
    "example_with_replacement = np.random.choice(example_data, size=5, replace=True)\n",
    "example_with_replacement"
   ]
  },
  {
   "cell_type": "markdown",
   "metadata": {},
   "source": [
    "- Wersja: ze zwracaniem, różne prawdopodobieństwa wylosowania wartości"
   ]
  },
  {
   "cell_type": "code",
   "execution_count": 314,
   "metadata": {},
   "outputs": [
    {
     "data": {
      "text/plain": [
       "array([-10,  10,  -6,   6, -10])"
      ]
     },
     "execution_count": 314,
     "metadata": {},
     "output_type": "execute_result"
    }
   ],
   "source": [
    "example_with_prob = np.random.choice(example_data, size=5, replace=True, p=example_prob)\n",
    "example_with_prob"
   ]
  },
  {
   "cell_type": "markdown",
   "metadata": {},
   "source": [
    "Wylosujmy teraz próbkę o liczności 10% wszystkich rekordów z analizowanego do tej pory pliku 'ankieta.csv'"
   ]
  },
  {
   "cell_type": "markdown",
   "metadata": {},
   "source": [
    "- Wersja: ze zwracaniem, takie same prawdopodobieństwo wylosowania wszystkich wartości"
   ]
  },
  {
   "cell_type": "code",
   "execution_count": 315,
   "metadata": {},
   "outputs": [
    {
     "data": {
      "text/html": [
       "<div>\n",
       "<style scoped>\n",
       "    .dataframe tbody tr th:only-of-type {\n",
       "        vertical-align: middle;\n",
       "    }\n",
       "\n",
       "    .dataframe tbody tr th {\n",
       "        vertical-align: top;\n",
       "    }\n",
       "\n",
       "    .dataframe thead th {\n",
       "        text-align: right;\n",
       "    }\n",
       "</style>\n",
       "<table border=\"1\" class=\"dataframe\">\n",
       "  <thead>\n",
       "    <tr style=\"text-align: right;\">\n",
       "      <th></th>\n",
       "      <th>DZIAŁ</th>\n",
       "      <th>STAŻ</th>\n",
       "      <th>CZY_KIER</th>\n",
       "      <th>PYT_1</th>\n",
       "      <th>PYT_2</th>\n",
       "      <th>PYT_3</th>\n",
       "      <th>PŁEĆ</th>\n",
       "      <th>WIEK</th>\n",
       "      <th>WIEK_KAT</th>\n",
       "      <th>CZY_ZADOW</th>\n",
       "      <th>PYT_1_LABEL</th>\n",
       "    </tr>\n",
       "  </thead>\n",
       "  <tbody>\n",
       "    <tr>\n",
       "      <th>64</th>\n",
       "      <td>PD</td>\n",
       "      <td>2</td>\n",
       "      <td>Tak</td>\n",
       "      <td>0</td>\n",
       "      <td>-2</td>\n",
       "      <td>-2</td>\n",
       "      <td>M</td>\n",
       "      <td>53</td>\n",
       "      <td>46-55</td>\n",
       "      <td>NIE</td>\n",
       "      <td>Nie mam zdania</td>\n",
       "    </tr>\n",
       "    <tr>\n",
       "      <th>38</th>\n",
       "      <td>PD</td>\n",
       "      <td>1</td>\n",
       "      <td>Nie</td>\n",
       "      <td>1</td>\n",
       "      <td>2</td>\n",
       "      <td>2</td>\n",
       "      <td>M</td>\n",
       "      <td>40</td>\n",
       "      <td>36-45</td>\n",
       "      <td>TAK</td>\n",
       "      <td>Zgadzam się</td>\n",
       "    </tr>\n",
       "    <tr>\n",
       "      <th>27</th>\n",
       "      <td>PD</td>\n",
       "      <td>1</td>\n",
       "      <td>Nie</td>\n",
       "      <td>1</td>\n",
       "      <td>2</td>\n",
       "      <td>2</td>\n",
       "      <td>M</td>\n",
       "      <td>26</td>\n",
       "      <td>&lt;=35</td>\n",
       "      <td>TAK</td>\n",
       "      <td>Zgadzam się</td>\n",
       "    </tr>\n",
       "    <tr>\n",
       "      <th>97</th>\n",
       "      <td>PD</td>\n",
       "      <td>2</td>\n",
       "      <td>Nie</td>\n",
       "      <td>0</td>\n",
       "      <td>-2</td>\n",
       "      <td>-2</td>\n",
       "      <td>M</td>\n",
       "      <td>40</td>\n",
       "      <td>36-45</td>\n",
       "      <td>NIE</td>\n",
       "      <td>Nie mam zdania</td>\n",
       "    </tr>\n",
       "    <tr>\n",
       "      <th>70</th>\n",
       "      <td>PD</td>\n",
       "      <td>2</td>\n",
       "      <td>Nie</td>\n",
       "      <td>1</td>\n",
       "      <td>2</td>\n",
       "      <td>1</td>\n",
       "      <td>M</td>\n",
       "      <td>28</td>\n",
       "      <td>&lt;=35</td>\n",
       "      <td>TAK</td>\n",
       "      <td>Zgadzam się</td>\n",
       "    </tr>\n",
       "  </tbody>\n",
       "</table>\n",
       "</div>"
      ],
      "text/plain": [
       "   DZIAŁ  STAŻ CZY_KIER  PYT_1  PYT_2  PYT_3 PŁEĆ  WIEK WIEK_KAT CZY_ZADOW  \\\n",
       "64    PD     2      Tak      0     -2     -2    M    53    46-55       NIE   \n",
       "38    PD     1      Nie      1      2      2    M    40    36-45       TAK   \n",
       "27    PD     1      Nie      1      2      2    M    26     <=35       TAK   \n",
       "97    PD     2      Nie      0     -2     -2    M    40    36-45       NIE   \n",
       "70    PD     2      Nie      1      2      1    M    28     <=35       TAK   \n",
       "\n",
       "       PYT_1_LABEL  \n",
       "64  Nie mam zdania  \n",
       "38     Zgadzam się  \n",
       "27     Zgadzam się  \n",
       "97  Nie mam zdania  \n",
       "70     Zgadzam się  "
      ]
     },
     "execution_count": 315,
     "metadata": {},
     "output_type": "execute_result"
    }
   ],
   "source": [
    "sample10_percent = int(0.1 * len(data))\n",
    "\n",
    "sample_with_replacement = np.random.choice(data.index, size=sample10_percent, replace=True)\n",
    "frame_with_replacement = data.loc[sample_with_replacement]\n",
    "frame_with_replacement.head()"
   ]
  },
  {
   "cell_type": "markdown",
   "metadata": {},
   "source": [
    "Sprawdźmy, czy w wyniku naszego losowania uzyskaliśmy dwie lub więcej takich samych próbek."
   ]
  },
  {
   "cell_type": "code",
   "execution_count": 316,
   "metadata": {},
   "outputs": [
    {
     "data": {
      "text/html": [
       "<div>\n",
       "<style scoped>\n",
       "    .dataframe tbody tr th:only-of-type {\n",
       "        vertical-align: middle;\n",
       "    }\n",
       "\n",
       "    .dataframe tbody tr th {\n",
       "        vertical-align: top;\n",
       "    }\n",
       "\n",
       "    .dataframe thead th {\n",
       "        text-align: right;\n",
       "    }\n",
       "</style>\n",
       "<table border=\"1\" class=\"dataframe\">\n",
       "  <thead>\n",
       "    <tr style=\"text-align: right;\">\n",
       "      <th></th>\n",
       "      <th>DZIAŁ</th>\n",
       "      <th>STAŻ</th>\n",
       "      <th>CZY_KIER</th>\n",
       "      <th>PYT_1</th>\n",
       "      <th>PYT_2</th>\n",
       "      <th>PYT_3</th>\n",
       "      <th>PŁEĆ</th>\n",
       "      <th>WIEK</th>\n",
       "      <th>WIEK_KAT</th>\n",
       "      <th>CZY_ZADOW</th>\n",
       "      <th>PYT_1_LABEL</th>\n",
       "    </tr>\n",
       "  </thead>\n",
       "  <tbody>\n",
       "  </tbody>\n",
       "</table>\n",
       "</div>"
      ],
      "text/plain": [
       "Empty DataFrame\n",
       "Columns: [DZIAŁ, STAŻ, CZY_KIER, PYT_1, PYT_2, PYT_3, PŁEĆ, WIEK, WIEK_KAT, CZY_ZADOW, PYT_1_LABEL]\n",
       "Index: []"
      ]
     },
     "execution_count": 316,
     "metadata": {},
     "output_type": "execute_result"
    }
   ],
   "source": [
    "repeated_samples = pd.Series(sample_with_replacement).value_counts()\n",
    "repeated_idx = repeated_samples[repeated_samples > 1].index\n",
    "repeated = data.loc[repeated_idx]\n",
    "repeated\n"
   ]
  },
  {
   "cell_type": "markdown",
   "metadata": {},
   "source": [
    "- Wersja: ze zwracaniem, różne prawdopodobieństwo wylosowania wartości"
   ]
  },
  {
   "cell_type": "markdown",
   "metadata": {},
   "source": [
    "Np. stwierdzamy, że dział IT stanowi niewielki odsetek ogółu pracowników, co w przypadku prostego losowania mogłoby skutkować niedostateczną reprezentacją jego opinii w analizowanej próbce. Aby temu zapobiec, stosujemy losowanie ze zwracaniem z różnicowaniem wag (prawdopodobieństw) — odpowiedzi pracowników działu IT będą losowane pięciokrotnie częściej niż odpowiedzi pracowników innych działów."
   ]
  },
  {
   "cell_type": "code",
   "execution_count": 348,
   "metadata": {},
   "outputs": [
    {
     "data": {
      "text/html": [
       "<div>\n",
       "<style scoped>\n",
       "    .dataframe tbody tr th:only-of-type {\n",
       "        vertical-align: middle;\n",
       "    }\n",
       "\n",
       "    .dataframe tbody tr th {\n",
       "        vertical-align: top;\n",
       "    }\n",
       "\n",
       "    .dataframe thead th {\n",
       "        text-align: right;\n",
       "    }\n",
       "</style>\n",
       "<table border=\"1\" class=\"dataframe\">\n",
       "  <thead>\n",
       "    <tr style=\"text-align: right;\">\n",
       "      <th></th>\n",
       "      <th>DZIAŁ</th>\n",
       "      <th>STAŻ</th>\n",
       "      <th>CZY_KIER</th>\n",
       "      <th>PYT_1</th>\n",
       "      <th>PYT_2</th>\n",
       "      <th>PYT_3</th>\n",
       "      <th>PŁEĆ</th>\n",
       "      <th>WIEK</th>\n",
       "      <th>WIEK_KAT</th>\n",
       "      <th>CZY_ZADOW</th>\n",
       "      <th>PYT_1_LABEL</th>\n",
       "      <th>CZY_ZADOW_2</th>\n",
       "    </tr>\n",
       "  </thead>\n",
       "  <tbody>\n",
       "    <tr>\n",
       "      <th>77</th>\n",
       "      <td>PD</td>\n",
       "      <td>1</td>\n",
       "      <td>Nie</td>\n",
       "      <td>1</td>\n",
       "      <td>-1</td>\n",
       "      <td>2</td>\n",
       "      <td>K</td>\n",
       "      <td>39</td>\n",
       "      <td>36-45</td>\n",
       "      <td>NIE</td>\n",
       "      <td>Zgadzam się</td>\n",
       "      <td>TAK</td>\n",
       "    </tr>\n",
       "    <tr>\n",
       "      <th>190</th>\n",
       "      <td>HR</td>\n",
       "      <td>2</td>\n",
       "      <td>Nie</td>\n",
       "      <td>-1</td>\n",
       "      <td>-2</td>\n",
       "      <td>-2</td>\n",
       "      <td>M</td>\n",
       "      <td>64</td>\n",
       "      <td>&gt;55</td>\n",
       "      <td>NIE</td>\n",
       "      <td>Nie zgadzam się</td>\n",
       "      <td>NIE</td>\n",
       "    </tr>\n",
       "    <tr>\n",
       "      <th>13</th>\n",
       "      <td>IT</td>\n",
       "      <td>2</td>\n",
       "      <td>Nie</td>\n",
       "      <td>1</td>\n",
       "      <td>2</td>\n",
       "      <td>2</td>\n",
       "      <td>K</td>\n",
       "      <td>53</td>\n",
       "      <td>46-55</td>\n",
       "      <td>TAK</td>\n",
       "      <td>Zgadzam się</td>\n",
       "      <td>TAK</td>\n",
       "    </tr>\n",
       "    <tr>\n",
       "      <th>22</th>\n",
       "      <td>IT</td>\n",
       "      <td>2</td>\n",
       "      <td>Nie</td>\n",
       "      <td>-1</td>\n",
       "      <td>-2</td>\n",
       "      <td>-2</td>\n",
       "      <td>K</td>\n",
       "      <td>60</td>\n",
       "      <td>&gt;55</td>\n",
       "      <td>NIE</td>\n",
       "      <td>Nie zgadzam się</td>\n",
       "      <td>NIE</td>\n",
       "    </tr>\n",
       "    <tr>\n",
       "      <th>136</th>\n",
       "      <td>MK</td>\n",
       "      <td>2</td>\n",
       "      <td>Nie</td>\n",
       "      <td>2</td>\n",
       "      <td>2</td>\n",
       "      <td>2</td>\n",
       "      <td>K</td>\n",
       "      <td>41</td>\n",
       "      <td>36-45</td>\n",
       "      <td>TAK</td>\n",
       "      <td>Zdecydowanie się zgadzam</td>\n",
       "      <td>TAK</td>\n",
       "    </tr>\n",
       "  </tbody>\n",
       "</table>\n",
       "</div>"
      ],
      "text/plain": [
       "    DZIAŁ  STAŻ CZY_KIER  PYT_1  PYT_2  PYT_3 PŁEĆ  WIEK WIEK_KAT CZY_ZADOW  \\\n",
       "77     PD     1      Nie      1     -1      2    K    39    36-45       NIE   \n",
       "190    HR     2      Nie     -1     -2     -2    M    64      >55       NIE   \n",
       "13     IT     2      Nie      1      2      2    K    53    46-55       TAK   \n",
       "22     IT     2      Nie     -1     -2     -2    K    60      >55       NIE   \n",
       "136    MK     2      Nie      2      2      2    K    41    36-45       TAK   \n",
       "\n",
       "                  PYT_1_LABEL CZY_ZADOW_2  \n",
       "77                Zgadzam się         TAK  \n",
       "190           Nie zgadzam się         NIE  \n",
       "13                Zgadzam się         TAK  \n",
       "22            Nie zgadzam się         NIE  \n",
       "136  Zdecydowanie się zgadzam         TAK  "
      ]
     },
     "execution_count": 348,
     "metadata": {},
     "output_type": "execute_result"
    }
   ],
   "source": [
    "weights = data[\"DZIAŁ\"].apply(lambda x: 5 if x == \"IT\" else 1).astype(float)\n",
    "probs = weights / weights.sum()\n",
    "\n",
    "sample_with_prob = np.random.choice(data.index, size=sample10_percent, replace=True, p=probs.values)\n",
    "\n",
    "frame_with_prob = data.loc[sample_with_prob]\n",
    "frame_with_prob.head()"
   ]
  },
  {
   "cell_type": "markdown",
   "metadata": {},
   "source": [
    "Sprawdźmy, czy w wyniku naszego losowania uzyskaliśmy dwie lub więcej takich samych próbek."
   ]
  },
  {
   "cell_type": "code",
   "execution_count": 352,
   "metadata": {},
   "outputs": [
    {
     "data": {
      "text/html": [
       "<div>\n",
       "<style scoped>\n",
       "    .dataframe tbody tr th:only-of-type {\n",
       "        vertical-align: middle;\n",
       "    }\n",
       "\n",
       "    .dataframe tbody tr th {\n",
       "        vertical-align: top;\n",
       "    }\n",
       "\n",
       "    .dataframe thead th {\n",
       "        text-align: right;\n",
       "    }\n",
       "</style>\n",
       "<table border=\"1\" class=\"dataframe\">\n",
       "  <thead>\n",
       "    <tr style=\"text-align: right;\">\n",
       "      <th></th>\n",
       "      <th>DZIAŁ</th>\n",
       "      <th>STAŻ</th>\n",
       "      <th>CZY_KIER</th>\n",
       "      <th>PYT_1</th>\n",
       "      <th>PYT_2</th>\n",
       "      <th>PYT_3</th>\n",
       "      <th>PŁEĆ</th>\n",
       "      <th>WIEK</th>\n",
       "      <th>WIEK_KAT</th>\n",
       "      <th>CZY_ZADOW</th>\n",
       "      <th>PYT_1_LABEL</th>\n",
       "      <th>CZY_ZADOW_2</th>\n",
       "    </tr>\n",
       "  </thead>\n",
       "  <tbody>\n",
       "    <tr>\n",
       "      <th>4</th>\n",
       "      <td>IT</td>\n",
       "      <td>3</td>\n",
       "      <td>Tak</td>\n",
       "      <td>1</td>\n",
       "      <td>2</td>\n",
       "      <td>-1</td>\n",
       "      <td>K</td>\n",
       "      <td>65</td>\n",
       "      <td>&gt;55</td>\n",
       "      <td>TAK</td>\n",
       "      <td>Zgadzam się</td>\n",
       "      <td>NIE</td>\n",
       "    </tr>\n",
       "  </tbody>\n",
       "</table>\n",
       "</div>"
      ],
      "text/plain": [
       "  DZIAŁ  STAŻ CZY_KIER  PYT_1  PYT_2  PYT_3 PŁEĆ  WIEK WIEK_KAT CZY_ZADOW  \\\n",
       "4    IT     3      Tak      1      2     -1    K    65      >55       TAK   \n",
       "\n",
       "   PYT_1_LABEL CZY_ZADOW_2  \n",
       "4  Zgadzam się         NIE  "
      ]
     },
     "execution_count": 352,
     "metadata": {},
     "output_type": "execute_result"
    }
   ],
   "source": [
    "repeated_samples_with_prob = pd.Series(sample_with_prob).value_counts()\n",
    "repeated_idx_with_prob = repeated_samples_with_prob[repeated_samples_with_prob > 1].index\n",
    "repeated_with_prob = data.loc[repeated_idx_with_prob]\n",
    "repeated_with_prob\n"
   ]
  },
  {
   "cell_type": "markdown",
   "metadata": {},
   "source": [
    "- Wersja: bez zwracania"
   ]
  },
  {
   "cell_type": "code",
   "execution_count": 319,
   "metadata": {},
   "outputs": [
    {
     "data": {
      "text/html": [
       "<div>\n",
       "<style scoped>\n",
       "    .dataframe tbody tr th:only-of-type {\n",
       "        vertical-align: middle;\n",
       "    }\n",
       "\n",
       "    .dataframe tbody tr th {\n",
       "        vertical-align: top;\n",
       "    }\n",
       "\n",
       "    .dataframe thead th {\n",
       "        text-align: right;\n",
       "    }\n",
       "</style>\n",
       "<table border=\"1\" class=\"dataframe\">\n",
       "  <thead>\n",
       "    <tr style=\"text-align: right;\">\n",
       "      <th></th>\n",
       "      <th>DZIAŁ</th>\n",
       "      <th>STAŻ</th>\n",
       "      <th>CZY_KIER</th>\n",
       "      <th>PYT_1</th>\n",
       "      <th>PYT_2</th>\n",
       "      <th>PYT_3</th>\n",
       "      <th>PŁEĆ</th>\n",
       "      <th>WIEK</th>\n",
       "      <th>WIEK_KAT</th>\n",
       "      <th>CZY_ZADOW</th>\n",
       "      <th>PYT_1_LABEL</th>\n",
       "    </tr>\n",
       "  </thead>\n",
       "  <tbody>\n",
       "    <tr>\n",
       "      <th>53</th>\n",
       "      <td>PD</td>\n",
       "      <td>1</td>\n",
       "      <td>Nie</td>\n",
       "      <td>0</td>\n",
       "      <td>-2</td>\n",
       "      <td>-2</td>\n",
       "      <td>M</td>\n",
       "      <td>41</td>\n",
       "      <td>36-45</td>\n",
       "      <td>NIE</td>\n",
       "      <td>Nie mam zdania</td>\n",
       "    </tr>\n",
       "    <tr>\n",
       "      <th>157</th>\n",
       "      <td>MK</td>\n",
       "      <td>2</td>\n",
       "      <td>Nie</td>\n",
       "      <td>0</td>\n",
       "      <td>-2</td>\n",
       "      <td>-2</td>\n",
       "      <td>M</td>\n",
       "      <td>63</td>\n",
       "      <td>&gt;55</td>\n",
       "      <td>NIE</td>\n",
       "      <td>Nie mam zdania</td>\n",
       "    </tr>\n",
       "    <tr>\n",
       "      <th>183</th>\n",
       "      <td>HR</td>\n",
       "      <td>2</td>\n",
       "      <td>Nie</td>\n",
       "      <td>1</td>\n",
       "      <td>2</td>\n",
       "      <td>1</td>\n",
       "      <td>M</td>\n",
       "      <td>39</td>\n",
       "      <td>36-45</td>\n",
       "      <td>TAK</td>\n",
       "      <td>Zgadzam się</td>\n",
       "    </tr>\n",
       "    <tr>\n",
       "      <th>173</th>\n",
       "      <td>HR</td>\n",
       "      <td>2</td>\n",
       "      <td>Nie</td>\n",
       "      <td>1</td>\n",
       "      <td>2</td>\n",
       "      <td>1</td>\n",
       "      <td>M</td>\n",
       "      <td>36</td>\n",
       "      <td>36-45</td>\n",
       "      <td>TAK</td>\n",
       "      <td>Zgadzam się</td>\n",
       "    </tr>\n",
       "    <tr>\n",
       "      <th>169</th>\n",
       "      <td>HR</td>\n",
       "      <td>2</td>\n",
       "      <td>Nie</td>\n",
       "      <td>1</td>\n",
       "      <td>2</td>\n",
       "      <td>2</td>\n",
       "      <td>M</td>\n",
       "      <td>46</td>\n",
       "      <td>46-55</td>\n",
       "      <td>TAK</td>\n",
       "      <td>Zgadzam się</td>\n",
       "    </tr>\n",
       "  </tbody>\n",
       "</table>\n",
       "</div>"
      ],
      "text/plain": [
       "    DZIAŁ  STAŻ CZY_KIER  PYT_1  PYT_2  PYT_3 PŁEĆ  WIEK WIEK_KAT CZY_ZADOW  \\\n",
       "53     PD     1      Nie      0     -2     -2    M    41    36-45       NIE   \n",
       "157    MK     2      Nie      0     -2     -2    M    63      >55       NIE   \n",
       "183    HR     2      Nie      1      2      1    M    39    36-45       TAK   \n",
       "173    HR     2      Nie      1      2      1    M    36    36-45       TAK   \n",
       "169    HR     2      Nie      1      2      2    M    46    46-55       TAK   \n",
       "\n",
       "        PYT_1_LABEL  \n",
       "53   Nie mam zdania  \n",
       "157  Nie mam zdania  \n",
       "183     Zgadzam się  \n",
       "173     Zgadzam się  \n",
       "169     Zgadzam się  "
      ]
     },
     "execution_count": 319,
     "metadata": {},
     "output_type": "execute_result"
    }
   ],
   "source": [
    "sample_without_replacement = np.random.choice(data.index, size=sample10_percent, replace=False)\n",
    "frame_without_replacement = data.loc[sample_without_replacement]\n",
    "frame_without_replacement.head()"
   ]
  },
  {
   "cell_type": "markdown",
   "metadata": {},
   "source": [
    "### ZADANIE 4\n",
    "    Zaproponuj metodę symulowania zmiennych losowych z rozkładu dwumianowego. Napisz funkcję do generowania realizacji, a następnie zaprezentuj jej działanie porównując wybrane teoretyczne i empiryczne charakterystyki dla przykładowych wartości paramertów rozkładu: n i p."
   ]
  },
  {
   "cell_type": "code",
   "execution_count": 320,
   "metadata": {},
   "outputs": [],
   "source": [
    "def binomial_simulate(n, p, size):\n",
    "    return np.random.binomial(n, p, size)"
   ]
  },
  {
   "cell_type": "code",
   "execution_count": 321,
   "metadata": {},
   "outputs": [],
   "source": [
    "n_binomial = 10 \n",
    "p_binomial = 0.3 \n",
    "size_binomial = 10000  \n",
    "\n",
    "binomial_sample = binomial_simulate(n_binomial, p_binomial, size_binomial)"
   ]
  },
  {
   "cell_type": "markdown",
   "metadata": {},
   "source": [
    "Jak możemy zauważyć poniżej, zaproponowana metoda symulowania zmiennych losowych z rozkładu dwumianowego jest poprawna - otrzymane wartości statystyk empirycznych zgadzają się z wartościami teoretycznymi."
   ]
  },
  {
   "cell_type": "code",
   "execution_count": 322,
   "metadata": {},
   "outputs": [
    {
     "name": "stdout",
     "output_type": "stream",
     "text": [
      "Teoretyczna wartość oczekiwana: 3.0\n",
      "Empiryczna wartość oczekiwana: 2.9872\n",
      "\n",
      "\n",
      "Teoretyczna wariancja: 2.0999999999999996\n",
      "Empiryczna wariancja: 2.1224361600000003\n",
      "\n",
      "\n",
      "Teoretyczna wartość współczynnika skośności: 0.27602622373694174\n",
      "Empiryczna wartość współczynnika skośności: 0.26147491372831266\n"
     ]
    }
   ],
   "source": [
    "binomial_mean_teo = n_binomial * p_binomial\n",
    "binomial_mean_emp = np.mean(binomial_sample)\n",
    "\n",
    "binomial_var_teo = n_binomial * p_binomial * (1-p_binomial)\n",
    "binomial_var_emp = np.var(binomial_sample)\n",
    "\n",
    "binomial_skew_teo = (1 - 2*p_binomial)/ (np.sqrt(n_binomial*p_binomial*(1-p_binomial)))\n",
    "binomial_skew_emp = skew(binomial_sample)\n",
    "\n",
    "print('Teoretyczna wartość oczekiwana:', binomial_mean_teo)\n",
    "print('Empiryczna wartość oczekiwana:', binomial_mean_emp)\n",
    "print('\\n')\n",
    "print('Teoretyczna wariancja:', binomial_var_teo)\n",
    "print('Empiryczna wariancja:', binomial_var_emp)\n",
    "print('\\n')\n",
    "print('Teoretyczna wartość współczynnika skośności:', binomial_skew_teo)\n",
    "print('Empiryczna wartość współczynnika skośności:', binomial_skew_emp)"
   ]
  },
  {
   "cell_type": "markdown",
   "metadata": {},
   "source": [
    "### ZADANIE 5\n",
    "    Zaproponuj metodę symulowania wektorów losowych z rozkładu wielomianowego. Napisz funkcję do generowania realizacji, a następnie zaprezentuj jej działanie porównując wybrane teoretyczne i empiryczne charakterystyki dla przykładowych wartości paramertów rozkładu: n i p.\n"
   ]
  },
  {
   "cell_type": "code",
   "execution_count": 325,
   "metadata": {},
   "outputs": [],
   "source": [
    "def multinomial_simulate(n, p, size):\n",
    "    return np.random.multinomial(n, p, size)"
   ]
  },
  {
   "cell_type": "markdown",
   "metadata": {},
   "source": [
    "Jak możemy zauważyć poniżej, zaproponowana metoda symulowania wektorów losowych z rozkładu wielomianowego jest poprawna - otrzymane wartości statystyk empirycznych zgadzają się z wartościami teoretycznymi."
   ]
  },
  {
   "cell_type": "code",
   "execution_count": 326,
   "metadata": {},
   "outputs": [],
   "source": [
    "n_multinomial = 10 \n",
    "p_multinomial = np.array([0.3, 0.2, 0.5])\n",
    "size_multinomial = 10000  \n",
    "\n",
    "multinomial_sample = multinomial_simulate(n_multinomial, p_multinomial, size_multinomial)\n"
   ]
  },
  {
   "cell_type": "code",
   "execution_count": 327,
   "metadata": {},
   "outputs": [
    {
     "name": "stdout",
     "output_type": "stream",
     "text": [
      "Teoretyczna wartość oczekiwana: [3. 2. 5.]\n",
      "Empiryczna wartość oczekiwana: [2.9863 2.0109 5.0028]\n",
      "\n",
      "\n",
      "Teoretyczna wariancja: [2.1 1.6 2.5]\n",
      "Empiryczna wariancja: [2.07451231 1.58758119 2.49719216]\n"
     ]
    }
   ],
   "source": [
    "multinomial_mean_teo = n_multinomial * p_multinomial\n",
    "multinomial_mean_emp = np.mean(multinomial_sample, axis=0)\n",
    "\n",
    "multinomial_var_teo = n_multinomial * p_multinomial * (1-p_multinomial)\n",
    "multinomial_var_emp = np.var(multinomial_sample, axis=0)\n",
    "\n",
    "print('Teoretyczna wartość oczekiwana:', multinomial_mean_teo)\n",
    "print('Empiryczna wartość oczekiwana:', multinomial_mean_emp)\n",
    "print('\\n')\n",
    "print('Teoretyczna wariancja:', multinomial_var_teo)\n",
    "print('Empiryczna wariancja:', multinomial_var_emp)"
   ]
  },
  {
   "cell_type": "markdown",
   "metadata": {},
   "source": [
    "## CZĘŚĆ III i IV"
   ]
  },
  {
   "cell_type": "markdown",
   "metadata": {},
   "source": [
    "### ZADANIE 6\n",
    "    Napisz funkcję do wyznaczania realizacji przedziału ufności Cloppera-Pearsona. Niech argumentem wejściowym będzie poziom ufności, liczba sukcesów i liczba prób lub poziom ufności i wektor danych (funkcja powinna obsługiwać oba przypadki)."
   ]
  },
  {
   "cell_type": "markdown",
   "metadata": {},
   "source": [
    "Zimplementowano funkcję służącą do wyznaczania przedziału ufności Cloppera–Pearsona dla parametru p rozkładu dwumianowego. Metoda ta bazuje na rozkładzie beta i zapewnia tzw. \"dokładny\" przedział ufności."
   ]
  },
  {
   "cell_type": "code",
   "execution_count": 328,
   "metadata": {},
   "outputs": [],
   "source": [
    "def clopper_pearson_ci(confidence_level, successes=None, trials=None, data=None):\n",
    "    \"\"\"\n",
    "    Oblicza przedział ufności Cloppera-Pearsona dla rozkładu dwumianowego.\n",
    "\n",
    "    Parametry:\n",
    "        confidence_level (float): Poziom ufności (np. 0.95 dla 95%)\n",
    "        successes (int): Liczba sukcesów (jeśli podano trials)\n",
    "        trials (int): Liczba prób (jeśli podano successes)\n",
    "        data (array-like): Wektor danych (wartości 0 lub 1)\n",
    "\n",
    "    Zwraca:\n",
    "        (float, float): Dolna i górna granica przedziału ufności\n",
    "    \"\"\"\n",
    "    if data is not None:\n",
    "        successes = np.sum(data)\n",
    "        trials = len(data)\n",
    "    elif successes is None or trials is None:\n",
    "        raise ValueError(\"Należy podać albo (successes i trials) albo data.\")\n",
    "    \n",
    "    if not (0 < confidence_level < 1):\n",
    "        raise ValueError(\"Poziom ufności musi być z przedziału (0,1).\")\n",
    "    \n",
    "    alpha = 1 - confidence_level\n",
    "    lower_bound = beta.ppf(alpha / 2, successes, trials - successes + 1)\n",
    "    upper_bound = beta.ppf(1 - alpha / 2, successes + 1, trials - successes)\n",
    "    \n",
    "    if successes == 0:\n",
    "        lower_bound = 0.0\n",
    "    if successes == trials:\n",
    "        upper_bound = 1.0\n",
    "    \n",
    "    return lower_bound, upper_bound"
   ]
  },
  {
   "cell_type": "markdown",
   "metadata": {},
   "source": [
    "Obliczenia wykorzystują rozkład beta:\n",
    "\n",
    "- Dolna granica:\n",
    "  \n",
    "  $\\text{Beta}^{-1} \\left( \\frac{\\alpha}{2},\\ k,\\ n-k+1 \\right)$\n",
    "  \n",
    "- Górna granica:\n",
    "  \n",
    "  $\\text{Beta}^{-1} \\left( 1 - \\frac{\\alpha}{2},\\ k+1,\\ n-k \\right)$\n",
    "  \n",
    "\n",
    "Gdzie:\n",
    "- k  – liczba sukcesów,\n",
    "- n  – liczba prób."
   ]
  },
  {
   "cell_type": "code",
   "execution_count": 329,
   "metadata": {},
   "outputs": [
    {
     "name": "stdout",
     "output_type": "stream",
     "text": [
      "(np.float64(0.2124064204895366), np.float64(0.39981467617980415))\n",
      "(np.float64(0.2623780766069451), np.float64(0.8784477418801728))\n"
     ]
    }
   ],
   "source": [
    "print(clopper_pearson_ci(0.95, successes=30, trials=100))\n",
    "print(clopper_pearson_ci(0.95, data=[1, 0, 1, 1, 0, 1, 0, 1, 0, 1]))"
   ]
  },
  {
   "cell_type": "markdown",
   "metadata": {},
   "source": [
    "Metoda Cloppera–Pearsona zapewnia konserwatywne oszacowanie przedziału ufności, które może być nieco szersze od przybliżonych metod (np. Wilsona), ale daje gwarancję minimalnego pokrycia nawet przy małych próbach. Jest szczególnie użyteczna w analizie danych binarnych o ograniczonej liczbie obserwacji."
   ]
  },
  {
   "cell_type": "markdown",
   "metadata": {},
   "source": [
    "### ZADANIE 7\n",
    "    Korzystając z funkcji napisanej w zadaniu 6. wyznacz realizacje przedziałów ufności dla prawdopodobieństwa, że pracownik uważa szkolenia za przystosowane do swoich potrzeb w pierwszym badanym okresie oraz w drugim badanym okresie. Skorzystaj ze zmiennych CZY_ZADW oraz CZY_ZADW_2 (utwórz zmienną analogicznie jak w zadaniu 1.7). Przyjmij 1−α = 0.95."
   ]
  },
  {
   "cell_type": "code",
   "execution_count": 330,
   "metadata": {},
   "outputs": [],
   "source": [
    "data[\"CZY_ZADOW_2\"] = data[\"PYT_3\"].apply(is_satisfied)\n",
    "data[\"CZY_ZADOW_2\"] = data[\"CZY_ZADOW_2\"].astype(\"category\")\n",
    "\n",
    "czy_zadow = data[\"CZY_ZADOW\"].apply(lambda x: 1 if x == \"TAK\" else 0).astype(int)\n",
    "czy_zadow_2 = data[\"CZY_ZADOW_2\"].apply(lambda x: 1 if x == \"TAK\" else 0).astype(int)"
   ]
  },
  {
   "cell_type": "code",
   "execution_count": 331,
   "metadata": {},
   "outputs": [
    {
     "name": "stdout",
     "output_type": "stream",
     "text": [
      "Przedział ufności dla pierwszego okresu: (np.float64(0.45833050041147494), np.float64(0.6007670588028857))\n",
      "Przedział ufności dla drugiego okresu: (np.float64(0.5184215852127789), np.float64(0.6588693543285324))\n"
     ]
    }
   ],
   "source": [
    "confidence = 0.95\n",
    "ci_first_period = clopper_pearson_ci(confidence_level=confidence, data=czy_zadow.values)\n",
    "ci_second_period = clopper_pearson_ci(confidence_level=confidence, data=czy_zadow_2.values)\n",
    "\n",
    "print(f\"Przedział ufności dla pierwszego okresu: {ci_first_period}\")\n",
    "print(f\"Przedział ufności dla drugiego okresu: {ci_second_period}\")"
   ]
  },
  {
   "cell_type": "markdown",
   "metadata": {},
   "source": [
    "Porównując oba przedziały, można zauważyć, że drugi okres cechuje się wyższym poziomem zadowolenia. Wskazuje to na wzrost poziomu zadowolenia w drugim okresie. Przedziały częściowo się pokrywają, co sugeruje, że różnica może nie być statystycznie istotna, ale widoczna jest tendencja poprawy."
   ]
  },
  {
   "cell_type": "markdown",
   "metadata": {},
   "source": [
    "### ZADANIE 8\n",
    "     Zapoznaj się z funkcjami do generowania zmiennych losowych z rozkładu dwumianowego oraz do wyznaczania przedziałów ufności dla parametru p. Przetestuj ich działanie."
   ]
  },
  {
   "cell_type": "markdown",
   "metadata": {},
   "source": [
    "Wygenerowano dane losowe za pomocą funkcji $binomial$ z biblioteki NumPy z parametrami n=100 i p=0.5. Następnie zliczono liczbę sukcesów w wygenerowanym ciągu prób.\n",
    "Na podstawie uzyskanych danych obliczono przedział ufności dla parametru p z poziomem ufności 95% przy użyciu metody Wilsona, dostępnej w bibliotece statsmodels."
   ]
  },
  {
   "cell_type": "code",
   "execution_count": 332,
   "metadata": {},
   "outputs": [
    {
     "name": "stdout",
     "output_type": "stream",
     "text": [
      "Przedział ufności dla symulowanych danych: (0.384645517580519, 0.5768342223477603)\n"
     ]
    }
   ],
   "source": [
    "n = 100  \n",
    "p = 0.5  \n",
    "\n",
    "simulated_data = binomial(n=1, p=p, size=n)\n",
    "successes = np.sum(simulated_data)\n",
    "\n",
    "confidence = 0.95\n",
    "ci_statsmodels = proportion_confint(count=successes, nobs=n, alpha=1-confidence, method='wilson')\n",
    "\n",
    "print(f\"Przedział ufności dla symulowanych danych: {ci_statsmodels}\")"
   ]
  },
  {
   "cell_type": "markdown",
   "metadata": {},
   "source": [
    "Uzyskany wynik oznacza, że z 95% pewnością można stwierdzić, iż prawdziwa wartość parametru p leży w tym przedziale, biorąc pod uwagę uzyskane dane losowe."
   ]
  },
  {
   "cell_type": "markdown",
   "metadata": {},
   "source": [
    "### ZADANIE 9\n",
    "    Przeprowadź symulacje, których celem jest porównanie prawdopodobieństwa pokrycia i długości przedziałów ufności Cloppera-Pearsona, Walda i trzeciego dowolnego typu zaimplementowanego w wybranej funkcji. Rozważ 1−α = 0.95, rozmiar próby n ∈ {30,100,1000} i różne wartości prawdopodobieństwa p. Wyniki umieść na wykresach i sformułuj wnioski, które dla konkretnych danych ułatwią wybór konkretenego typu przedziału ufności."
   ]
  },
  {
   "cell_type": "code",
   "execution_count": 333,
   "metadata": {},
   "outputs": [],
   "source": [
    "def wald_ci(successes, trials, confidence):\n",
    "    \"\"\"\n",
    "    Oblicza przybliżony przedział ufności Walda dla parametru p w rozkładzie dwumianowym.\n",
    "\n",
    "    Parametry:\n",
    "        successes (int): Liczba sukcesów w próbie.\n",
    "        trials (int): Łączna liczba prób.\n",
    "        confidence (float): Poziom ufności (np. 0.95 dla 95%).\n",
    "\n",
    "    Zwraca:\n",
    "        (float, float): Dolna i górna granica przedziału ufności.\"\n",
    "    \"\"\"\n",
    "    p_hat = successes / trials\n",
    "    z = 1.96  \n",
    "    error = z * np.sqrt((p_hat * (1 - p_hat)) / trials)\n",
    "    return max(0, p_hat - error), min(1, p_hat + error)"
   ]
  },
  {
   "cell_type": "code",
   "execution_count": 334,
   "metadata": {},
   "outputs": [],
   "source": [
    "def simulate_intervals(n_values, p_values, confidence, iterations):\n",
    "    \"\"\"\n",
    "    Symuluje pokrycie i długość trzech przedziałów ufności (Cloppera–Pearsona, Walda i Wilsona)\n",
    "    dla różnych liczności prób i wartości parametru p w rozkładzie dwumianowym.\n",
    "\n",
    "    Parametry:\n",
    "        n_values (list[int]): Lista liczności prób.\n",
    "        p_values (list[float]): Lista wartości prawdopodobieństwa sukcesu p.\n",
    "        confidence (float): Poziom ufności.\n",
    "        iterations (int): Liczba powtórzeń symulacji dla każdej kombinacji n i p.\n",
    "\n",
    "    Zwraca:\n",
    "        dict: Słownik, w którym kluczami są wartości n, a wartościami są krotki (coverage, avg_length), gdzie:\n",
    "            - coverage (dict): Słownik zawierający pokrycia dla każdej metody\n",
    "            - avg_length (dict): Słownik zawierający średnie długości przedziałów ufności\n",
    "    \"\"\"\n",
    "    results = {}\n",
    "    for n in n_values:\n",
    "        coverage = {\"Clopper-Pearson\": [], \"Wald\": [], \"Wilson\": []}\n",
    "        avg_length = {\"Clopper-Pearson\": [], \"Wald\": [], \"Wilson\": []}\n",
    "\n",
    "        for p in p_values:\n",
    "            cp_cover, wald_cover, wilson_cover = 0, 0, 0\n",
    "            cp_length, wald_length, wilson_length = 0, 0, 0\n",
    "\n",
    "            for _ in range(iterations):\n",
    "                data = np.random.binomial(n=1, p=p, size=n)\n",
    "                successes = np.sum(data)\n",
    "\n",
    "                cp_low, cp_high = clopper_pearson_ci(confidence_level=confidence, successes=successes, trials=n)\n",
    "\n",
    "                if cp_low <= p <= cp_high:\n",
    "                    cp_cover += 1\n",
    "                cp_length += cp_high - cp_low\n",
    "\n",
    "                wald_low, wald_high = wald_ci(successes=successes, trials=n, confidence=confidence)\n",
    "                if wald_low <= p <= wald_high:\n",
    "                    wald_cover += 1\n",
    "                wald_length += wald_high - wald_low\n",
    "\n",
    "                wilson_low, wilson_high = proportion_confint(count=successes, nobs=n, alpha=1-confidence, method='wilson')\n",
    "                if wilson_low <= p <= wilson_high:\n",
    "                    wilson_cover += 1\n",
    "                wilson_length += wilson_high - wilson_low\n",
    "\n",
    "            coverage[\"Clopper-Pearson\"].append(cp_cover / iterations)\n",
    "            coverage[\"Wald\"].append(wald_cover / iterations)\n",
    "            coverage[\"Wilson\"].append(wilson_cover / iterations)\n",
    "\n",
    "            avg_length[\"Clopper-Pearson\"].append(cp_length / iterations)\n",
    "            avg_length[\"Wald\"].append(wald_length / iterations)\n",
    "            avg_length[\"Wilson\"].append(wilson_length / iterations)\n",
    "\n",
    "        results[n] = (coverage, avg_length)\n",
    "    return results"
   ]
  },
  {
   "cell_type": "code",
   "execution_count": 335,
   "metadata": {},
   "outputs": [
    {
     "ename": "KeyboardInterrupt",
     "evalue": "",
     "output_type": "error",
     "traceback": [
      "\u001b[1;31m---------------------------------------------------------------------------\u001b[0m",
      "\u001b[1;31mKeyboardInterrupt\u001b[0m                         Traceback (most recent call last)",
      "Cell \u001b[1;32mIn[335], line 6\u001b[0m\n\u001b[0;32m      3\u001b[0m confidence \u001b[38;5;241m=\u001b[39m \u001b[38;5;241m0.95\u001b[39m\n\u001b[0;32m      4\u001b[0m iterations \u001b[38;5;241m=\u001b[39m \u001b[38;5;241m1000\u001b[39m\n\u001b[1;32m----> 6\u001b[0m results \u001b[38;5;241m=\u001b[39m \u001b[43msimulate_intervals\u001b[49m\u001b[43m(\u001b[49m\u001b[43mn_values\u001b[49m\u001b[43m,\u001b[49m\u001b[43m \u001b[49m\u001b[43mp_values\u001b[49m\u001b[43m,\u001b[49m\u001b[43m \u001b[49m\u001b[43mconfidence\u001b[49m\u001b[43m,\u001b[49m\u001b[43m \u001b[49m\u001b[43miterations\u001b[49m\u001b[43m)\u001b[49m\n\u001b[0;32m      8\u001b[0m fig, axes \u001b[38;5;241m=\u001b[39m plt\u001b[38;5;241m.\u001b[39msubplots(\u001b[38;5;241m2\u001b[39m, \u001b[38;5;28mlen\u001b[39m(n_values), figsize\u001b[38;5;241m=\u001b[39m(\u001b[38;5;241m18\u001b[39m, \u001b[38;5;241m8\u001b[39m))\n\u001b[0;32m     10\u001b[0m \u001b[38;5;28;01mfor\u001b[39;00m i, n \u001b[38;5;129;01min\u001b[39;00m \u001b[38;5;28menumerate\u001b[39m(n_values):\n",
      "Cell \u001b[1;32mIn[334], line 27\u001b[0m, in \u001b[0;36msimulate_intervals\u001b[1;34m(n_values, p_values, confidence, iterations)\u001b[0m\n\u001b[0;32m     24\u001b[0m cp_length, wald_length, wilson_length \u001b[38;5;241m=\u001b[39m \u001b[38;5;241m0\u001b[39m, \u001b[38;5;241m0\u001b[39m, \u001b[38;5;241m0\u001b[39m\n\u001b[0;32m     26\u001b[0m \u001b[38;5;28;01mfor\u001b[39;00m _ \u001b[38;5;129;01min\u001b[39;00m \u001b[38;5;28mrange\u001b[39m(iterations):\n\u001b[1;32m---> 27\u001b[0m     data \u001b[38;5;241m=\u001b[39m \u001b[43mnp\u001b[49m\u001b[38;5;241;43m.\u001b[39;49m\u001b[43mrandom\u001b[49m\u001b[38;5;241;43m.\u001b[39;49m\u001b[43mbinomial\u001b[49m\u001b[43m(\u001b[49m\u001b[43mn\u001b[49m\u001b[38;5;241;43m=\u001b[39;49m\u001b[38;5;241;43m1\u001b[39;49m\u001b[43m,\u001b[49m\u001b[43m \u001b[49m\u001b[43mp\u001b[49m\u001b[38;5;241;43m=\u001b[39;49m\u001b[43mp\u001b[49m\u001b[43m,\u001b[49m\u001b[43m \u001b[49m\u001b[43msize\u001b[49m\u001b[38;5;241;43m=\u001b[39;49m\u001b[43mn\u001b[49m\u001b[43m)\u001b[49m\n\u001b[0;32m     28\u001b[0m     successes \u001b[38;5;241m=\u001b[39m np\u001b[38;5;241m.\u001b[39msum(data)\n\u001b[0;32m     30\u001b[0m     cp_low, cp_high \u001b[38;5;241m=\u001b[39m clopper_pearson_ci(confidence_level\u001b[38;5;241m=\u001b[39mconfidence, successes\u001b[38;5;241m=\u001b[39msuccesses, trials\u001b[38;5;241m=\u001b[39mn)\n",
      "\u001b[1;31mKeyboardInterrupt\u001b[0m: "
     ]
    }
   ],
   "source": [
    "n_values = [30, 100, 1000]\n",
    "p_values = np.linspace(0.1, 0.9, 9)\n",
    "confidence = 0.95\n",
    "iterations = 1000\n",
    "\n",
    "results = simulate_intervals(n_values, p_values, confidence, iterations)\n",
    "\n",
    "fig, axes = plt.subplots(2, len(n_values), figsize=(18, 8))\n",
    "\n",
    "for i, n in enumerate(n_values):\n",
    "    coverage, avg_length = results[n]\n",
    "\n",
    "    for method in coverage:\n",
    "        axes[0, i].plot(p_values, coverage[method], label=method)\n",
    "    axes[0, i].axhline(y=confidence, color='black', linestyle='--', linewidth=1)\n",
    "    axes[0, i].set_title(f'Pokrycie (n={n})')\n",
    "    axes[0, i].set_xlabel('p')\n",
    "    axes[0, i].set_ylabel('Prawdopodobieństwo pokrycia')\n",
    "    axes[0, i].legend()\n",
    "\n",
    "    for method in avg_length:\n",
    "        axes[1, i].plot(p_values, avg_length[method], label=method)\n",
    "    axes[1, i].set_title(f'Długość przedziału (n={n})')\n",
    "    axes[1, i].set_xlabel('p')\n",
    "    axes[1, i].set_ylabel('Średnia długość przedziału')\n",
    "    axes[1, i].legend()\n",
    "\n",
    "plt.tight_layout()\n",
    "plt.show()\n"
   ]
  },
  {
   "cell_type": "markdown",
   "metadata": {},
   "source": [
    "Analizując górny rząd wykresów (pokrycie), można zauważyć, że metoda Cloppera-Pearsona niezależnie od wartości p i liczności próby zapewnia pokrycie co najmniej na poziomie 95%. W przypadku metody Walda pokrycie jest silnie zależne od wartości p, szczególnie przy mniejszych próbach. Dla skrajnych wartości parametru (np. p=0,1 i p=0,9) pokrycie spada znacznie poniżej poziomu 95%, co świadczy o niedoszacowaniu i potencjalnej zawodności tej metody w takich przypadkach. Dla większych prób, takich jak n=1000, pokrycie uzyskiwane metodą Walda jest bardziej stabilne, choć nadal nieco zaniżone. Z kolei metoda Wilsona okazuje się bardziej niezawodna niż Wald – nawet dla małych prób pokrycie jest bliższe wartości nominalnej, a jego zmienność w funkcji p jest mniejsza.\n",
    "\n",
    "Przechodząc do dolnego rzędu wykresów (średnia długość przedziałów), widać, że Clopper-Pearson generuje najdłuższe przedziały spośród trzech analizowanych metod, zwłaszcza dla małych prób. Metoda Wilsona daje najkrótsze przedziały, szczególnie dla małych n i ekstremalnych wartości p, co jednak łączy się z problemem zaniżonego pokrycia. Metoda Walda wypada pod tym względem bardzo korzystnie – oferuje umiarkowaną długość przy zachowaniu dobrego poziomu pokrycia. "
   ]
  },
  {
   "cell_type": "markdown",
   "metadata": {},
   "source": [
    "## CZĘŚĆ V\n",
    "\n",
    "### ZADANIE 10\n",
    "    Zapoznaj siĘ z funkcjami służącymi do wykonania testu dokładnego oraz asympotycznego weryfikującego hipoteze zerową dotycząca prawodopodobieństwa sukcesu z rozkładu dwumianowego. W pakiecie R możesz skorzystać z binom.test oraz prop.test z biblioteki stats, nastomiast w Pythonie użyj stats.binomtest z biblioteki scipy oraz stats.proportion.proportions_ztest z biblioteki statsmodels. Przetestuj działanie funkcji.\n",
    "    "
   ]
  },
  {
   "cell_type": "markdown",
   "metadata": {},
   "source": [
    "Przeprowadzono porównanie dwóch testów statystycznych służących do weryfikacji hipotezy zerowej dotyczącej prawdopodobieństwa sukcesu w rozkładzie dwumianowym: testu dokładnego oraz testu asymptotycznego."
   ]
  },
  {
   "cell_type": "code",
   "execution_count": null,
   "metadata": {},
   "outputs": [],
   "source": [
    "n = 100  \n",
    "successes = 60  \n",
    "p0 = 0.5  "
   ]
  },
  {
   "cell_type": "code",
   "execution_count": null,
   "metadata": {},
   "outputs": [
    {
     "name": "stdout",
     "output_type": "stream",
     "text": [
      "Test dokładny (binomtest):\n",
      "P-wartość: 0.056887933640980784\n",
      "\n"
     ]
    }
   ],
   "source": [
    "exact_test = binomtest(k=successes, n=n, p=p0, alternative='two-sided')\n",
    "print(f\"Test dokładny (binomtest):\\nP-wartość: {exact_test.pvalue}\\n\")"
   ]
  },
  {
   "cell_type": "code",
   "execution_count": null,
   "metadata": {},
   "outputs": [
    {
     "name": "stdout",
     "output_type": "stream",
     "text": [
      "Test z (proportions_ztest):\n",
      "Statystyka Z: 2.0412414523193148\n",
      "P-wartość: 0.0412268333371637\n"
     ]
    }
   ],
   "source": [
    "stat, p_value = proportions_ztest(count=successes, nobs=n, value=p0, alternative='two-sided')\n",
    "print(f\"Test z (proportions_ztest):\\nStatystyka Z: {stat}\\nP-wartość: {p_value}\")"
   ]
  },
  {
   "cell_type": "markdown",
   "metadata": {},
   "source": [
    "Z testu dokładnego uzyskano p-wartość równą 0.0569, co oznacza, że nie ma podstaw do odrzucenia hipotezy zerowej na standardowym poziomie istotności 0.05. Natomiast w teście z otrzymano statystykę Z równą 2.041 oraz p-wartość 0.0412, co może prowadzić do odrzucenia hipotezy zerowej na tym samym poziomie istotności.\n",
    "\n",
    "Różnica w wynikach wynika z natury obu testów. Test dokładny oparty jest na rzeczywistym rozkładzie dwumianowym i jest bardziej konserwatywny, co prowadzi do większej ostrożności w odrzucaniu $H_0$. Test z wykorzystuje przybliżenie normalne, które działa dobrze przy dużych próbach, ale może być mniej precyzyjne przy mniejszych rozmiarach danych."
   ]
  },
  {
   "cell_type": "markdown",
   "metadata": {},
   "source": [
    "### ZADANIE 11\n",
    "    Dla danych z pliku \"ankieta.csv\" korzystając z funkcji z zadania 10., przyjmując 1−α =0.95, zweryfikuj następujące hipotezy i sformułuj wnioski:\n",
    "     1. Prawdopodobieństwo, że w firmie pracuje kobieta wynosi 0.5.\n",
    "     2. Prawdopodbieństwo, że pracownik uważa szkolenia za przystosowane do swoich potrzeb wpierwszym badanym okresie jest większe bądź równe 0.7.\n",
    "     3. Prawdopodobieństwo, że kobieta pracuje na stanowisku kierowniczym jest równe prawdopodobieństwu, że mężczczyzna pracuje na stanowisku kierowniczym.\n",
    "     4. Prawdopodobieństwo, że kobieta uważa szkolenia za przystosowane do swoich potrzeb w pierwszym badanym okresie jest równe prawdopodobieństwu, że mężczczyzna uważa szkolenia za przystosowane do swoich potrzeb w pierwszym badanym okresie.\n",
    "     5. Prawdopodobieństwo, że kobieta pracuje w dziale zasobów ludzkich jest większe lub równe prawdopodobieństwu, że mężczczyzna pracuje w dziale zasobów ludzkich."
   ]
  },
  {
   "cell_type": "markdown",
   "metadata": {},
   "source": [
    "#### Ad. 1\n",
    "    Prawdopodobieństwo, że w firmie pracuje kobieta wynosi 0.5."
   ]
  },
  {
   "cell_type": "code",
   "execution_count": null,
   "metadata": {},
   "outputs": [
    {
     "name": "stdout",
     "output_type": "stream",
     "text": [
      "Hipoteza 1: 4.97297347921355e-05\n"
     ]
    }
   ],
   "source": [
    "women_count = (data['PŁEĆ'] == 'K').sum()\n",
    "total_count = len(data)\n",
    "result1 = binomtest(k=women_count, n=total_count, p=0.5, alternative='two-sided')\n",
    "print(f\"Hipoteza 1: {result1.pvalue}\")"
   ]
  },
  {
   "cell_type": "markdown",
   "metadata": {},
   "source": [
    "Na podstawie otzrymanego wyniku można stwierdzić, że istnieją statystycznie istotne podstawy do odrzucenia hipotezy zerowej mówiącej, że połowa pracowników to kobiety."
   ]
  },
  {
   "cell_type": "markdown",
   "metadata": {},
   "source": [
    "#### Ad. 2\n",
    "    Prawdopodbieństwo, że pracownik uważa szkolenia za przystosowane do swoich potrzeb wpierwszym badanym okresie jest większe bądź równe 0.7."
   ]
  },
  {
   "cell_type": "code",
   "execution_count": null,
   "metadata": {},
   "outputs": [
    {
     "name": "stdout",
     "output_type": "stream",
     "text": [
      "\n",
      "Hipoteza 2: 1.0\n"
     ]
    }
   ],
   "source": [
    "satisfied_count = (data['CZY_ZADOW'] == 1).sum()\n",
    "total_satisfied = len(data)\n",
    "result2 = binomtest(k=satisfied_count, n=total_satisfied, p=0.7, alternative='greater')\n",
    "print(f\"\\nHipoteza 2: {result2.pvalue}\")"
   ]
  },
  {
   "cell_type": "markdown",
   "metadata": {},
   "source": [
    "Wartość p otrzymana z testu dokładnego wynosi 1.0, co jest znacznie większe od poziomu istotności α = 0.05. Nie ma podstaw do odrzucenia hipotezy zerowej. Dane są zgodne z założeniem, że ten odsetek wynosi co najmniej 70%."
   ]
  },
  {
   "cell_type": "markdown",
   "metadata": {},
   "source": [
    "#### Ad. 3\n",
    "    Prawdopodobieństwo, że kobieta pracuje na stanowisku kierowniczym jest równe prawdopodobieństwu, że mężczczyzna pracuje na stanowisku kierowniczym."
   ]
  },
  {
   "cell_type": "code",
   "execution_count": null,
   "metadata": {},
   "outputs": [
    {
     "name": "stdout",
     "output_type": "stream",
     "text": [
      "\n",
      "Hipoteza 3:\n",
      "Statystyka Z: -0.685401888787059, P-wartość: 0.49309035250452393\n"
     ]
    }
   ],
   "source": [
    "num_women_kierownik = len(data[(data['PŁEĆ'] == 'K') & (data['CZY_KIER'] == 'Tak')])\n",
    "num_men_kierownik = len(data[(data['PŁEĆ'] == 'M') & (data['CZY_KIER'] == 'Tak')])\n",
    "total_women = len(data[data['PŁEĆ'] == 'K'])\n",
    "total_men = len(data[data['PŁEĆ'] == 'M'])\n",
    "\n",
    "count = [num_women_kierownik, num_men_kierownik]\n",
    "nobs = [total_women, total_men]\n",
    "\n",
    "result3 = proportions_ztest(count, nobs, alternative='two-sided')\n",
    "\n",
    "print(\"\\nHipoteza 3:\")\n",
    "print(f\"Statystyka Z: {result3[0]}, P-wartość: {result3[1]}\")"
   ]
  },
  {
   "cell_type": "markdown",
   "metadata": {},
   "source": [
    "Nie ma podstaw do odrzucenia hipotezy zerowej. Nie stwierdzono istotnej statystycznie różnicy między odsetkiem kobiet i mężczyzn zajmujących stanowiska kierownicze."
   ]
  },
  {
   "cell_type": "markdown",
   "metadata": {},
   "source": [
    "#### Ad. 4\n",
    "    Prawdopodobieństwo, że kobieta uważa szkolenia za przystosowane do swoich potrzeb w pierwszym badanym okresie jest równe prawdopodobieństwu, że mężczczyzna uważa szkolenia za przystosowane do swoich potrzeb w pierwszym badanym okresie."
   ]
  },
  {
   "cell_type": "code",
   "execution_count": null,
   "metadata": {},
   "outputs": [
    {
     "name": "stdout",
     "output_type": "stream",
     "text": [
      "\n",
      "Hipoteza 4:\n",
      "Statystyka Z: -0.4826048798535866, P-wartość: 0.6293763135675485\n"
     ]
    }
   ],
   "source": [
    "women_satisfied = ((data['PŁEĆ'] == 'K') & (data['PYT_2'] >= 1)).sum()\n",
    "men_satisfied = ((data['PŁEĆ'] == 'M') & (data['PYT_2'] >= 1)).sum()\n",
    "count = [women_satisfied, men_satisfied]\n",
    "nobs = [total_women, total_men]\n",
    "result4 = proportions_ztest(count, nobs, alternative='two-sided')\n",
    "\n",
    "print(\"\\nHipoteza 4:\")\n",
    "print(f\"Statystyka Z: {result4[0]}, P-wartość: {result4[1]}\")"
   ]
  },
  {
   "cell_type": "markdown",
   "metadata": {},
   "source": [
    "Wyniki testu wskazują, że nie ma istotnej różnicy między kobietami a mężczyznami w ocenie przystosowania szkoleń do ich potrzeb. P-wartość jest wyższa od 0.05, więc nie ma podstaw do odrzucenia hipotezy zerowej. Oznacza to, że obie grupy oceniają szkolenia podobnie."
   ]
  },
  {
   "cell_type": "markdown",
   "metadata": {},
   "source": [
    "#### Ad. 5\n",
    "    Prawdopodobieństwo, że kobieta pracuje w dziale zasobów ludzkich jest większe lub równe prawdopodobieństwu, że mężczczyzna pracuje w dziale zasobów ludzkich."
   ]
  },
  {
   "cell_type": "code",
   "execution_count": null,
   "metadata": {},
   "outputs": [
    {
     "name": "stdout",
     "output_type": "stream",
     "text": [
      "\n",
      "Hipoteza 5:\n",
      "Statystyka Z: -2.860255993964788, P-wartość: 0.9978835042003623\n"
     ]
    }
   ],
   "source": [
    "women_hr = ((data['PŁEĆ'] == 'K') & (data['DZIAŁ'] == 'HR')).sum()\n",
    "men_hr = ((data['PŁEĆ'] == 'M') & (data['DZIAŁ'] == 'HR')).sum()\n",
    "count = [women_hr, men_hr]\n",
    "nobs = [total_women, total_men]\n",
    "result5 = proportions_ztest(count, nobs, alternative='larger')\n",
    "\n",
    "print(\"\\nHipoteza 5:\")\n",
    "print(f\"Statystyka Z: {result5[0]}, P-wartość: {result5[1]}\")"
   ]
  },
  {
   "cell_type": "markdown",
   "metadata": {},
   "source": [
    "Możemy wnioskować, że różnica między kobietami a mężczyznami pracującymi w dziale HR nie jest statystycznie istotna. P-wartość jest znacznie wyższa niż 0.05, więc nie ma podstaw, by stwierdzić, że kobiety częściej pracują w dziale HR niż mężczyźni."
   ]
  },
  {
   "cell_type": "markdown",
   "metadata": {},
   "source": [
    "#### Ogólne wnioski \n",
    "Wyniki testów statystycznych wskazują na brak istotnych różnic między kobietami a mężczyznami w wielu analizowanych aspektach, takich jak percepcja szkoleń, obecność na stanowiskach kierowniczych, czy praca w dziale HR. Wnioskujemy, że w badanych obszarach (szkolenia, stanowiska kierownicze, dział HR) kobiety i mężczyźni nie różnią się istotnie w swoich opiniach i obecności w tych rolach. Prawdopodobieństwa, które zostały testowane, w większości przypadków są podobne dla obu płci, co sugeruje równowagę w postrzeganiu i zatrudnieniu w analizowanych obszarach."
   ]
  },
  {
   "cell_type": "markdown",
   "metadata": {},
   "source": [
    "### ZADANIE 12\n",
    "    Wyznacz symulacyjnie moc testu dokładnego oraz moc testu asymptotycznego w przypadku weryfikacji hipotezy zerowej H0 : p = 0.9 przeciwko H1 : p= 0.9 przyjmując wartość 1−α =0.95. Uwzględnij różne wartości alternatyw i różne rozmiary próby. Sformułuj wnioski."
   ]
  },
  {
   "cell_type": "code",
   "execution_count": null,
   "metadata": {},
   "outputs": [],
   "source": [
    "confidence_level = 0.95\n",
    "alpha = 1 - confidence_level\n",
    "n_values = [30, 100, 1000]\n",
    "p_values = np.linspace(0.5, 0.95, 20)\n",
    "n_simulations = 1000\n",
    "epsilon = 1e-9  "
   ]
  },
  {
   "cell_type": "code",
   "execution_count": null,
   "metadata": {},
   "outputs": [],
   "source": [
    "def compute_power(test_type, p_true, p_h0, n):\n",
    "    \"\"\"\n",
    "    Oblicza moc testu statystycznego dla rozkładu dwumianowego.\n",
    "\n",
    "    Parametry:\n",
    "        test_type (str): Typ testu do wykorzystania.\n",
    "        p_true (float): Rzeczywiste prawdopodobieństwo sukcesu (hipoteza alternatywna).\n",
    "        p_h0 (float): Wartość prawdopodobieństwa zakładana w hipotezie zerowej (H0).\n",
    "        n (int): Liczba prób (rozmiar próby).\n",
    "\n",
    "    Zwraca:\n",
    "        float: Oszacowanie mocy testu, czyli częstości odrzucania hipotezy zerowej.\n",
    "    \"\"\"\n",
    "    rejections = 0\n",
    "    for _ in range(n_simulations):\n",
    "        data = np.random.binomial(n, p_true)\n",
    "        if test_type == 'exact':\n",
    "            with np.errstate(divide='ignore', invalid='ignore'):\n",
    "                p_value = binomtest(data, n, p_h0, alternative='two-sided').pvalue\n",
    "        elif test_type == 'ztest':\n",
    "            with np.errstate(divide='ignore', invalid='ignore'):\n",
    "                stat, p_value = proportions_ztest(count=max(data, epsilon), nobs=n, value=p_h0, alternative='two-sided')\n",
    "        if p_value < alpha:\n",
    "            rejections += 1\n",
    "    return rejections / n_simulations"
   ]
  },
  {
   "cell_type": "code",
   "execution_count": null,
   "metadata": {},
   "outputs": [
    {
     "ename": "KeyboardInterrupt",
     "evalue": "",
     "output_type": "error",
     "traceback": [
      "\u001b[1;31m---------------------------------------------------------------------------\u001b[0m",
      "\u001b[1;31mKeyboardInterrupt\u001b[0m                         Traceback (most recent call last)",
      "Cell \u001b[1;32mIn[276], line 7\u001b[0m\n\u001b[0;32m      5\u001b[0m power_ztest \u001b[38;5;241m=\u001b[39m []\n\u001b[0;32m      6\u001b[0m \u001b[38;5;28;01mfor\u001b[39;00m p \u001b[38;5;129;01min\u001b[39;00m p_values:\n\u001b[1;32m----> 7\u001b[0m     power_exact\u001b[38;5;241m.\u001b[39mappend(\u001b[43mcompute_power\u001b[49m\u001b[43m(\u001b[49m\u001b[38;5;124;43m'\u001b[39;49m\u001b[38;5;124;43mexact\u001b[39;49m\u001b[38;5;124;43m'\u001b[39;49m\u001b[43m,\u001b[49m\u001b[43m \u001b[49m\u001b[43mp\u001b[49m\u001b[43m,\u001b[49m\u001b[43m \u001b[49m\u001b[38;5;241;43m0.9\u001b[39;49m\u001b[43m,\u001b[49m\u001b[43m \u001b[49m\u001b[43mn\u001b[49m\u001b[43m)\u001b[49m)\n\u001b[0;32m      8\u001b[0m     power_ztest\u001b[38;5;241m.\u001b[39mappend(compute_power(\u001b[38;5;124m'\u001b[39m\u001b[38;5;124mztest\u001b[39m\u001b[38;5;124m'\u001b[39m, p, \u001b[38;5;241m0.9\u001b[39m, n))\n\u001b[0;32m     10\u001b[0m axes[idx]\u001b[38;5;241m.\u001b[39mplot(p_values, power_exact, label\u001b[38;5;241m=\u001b[39m\u001b[38;5;124m'\u001b[39m\u001b[38;5;124mTest dokładny (Binomialny)\u001b[39m\u001b[38;5;124m'\u001b[39m, marker\u001b[38;5;241m=\u001b[39m\u001b[38;5;124m'\u001b[39m\u001b[38;5;124mo\u001b[39m\u001b[38;5;124m'\u001b[39m)\n",
      "Cell \u001b[1;32mIn[275], line 18\u001b[0m, in \u001b[0;36mcompute_power\u001b[1;34m(test_type, p_true, p_h0, n)\u001b[0m\n\u001b[0;32m     16\u001b[0m data \u001b[38;5;241m=\u001b[39m np\u001b[38;5;241m.\u001b[39mrandom\u001b[38;5;241m.\u001b[39mbinomial(n, p_true)\n\u001b[0;32m     17\u001b[0m \u001b[38;5;28;01mif\u001b[39;00m test_type \u001b[38;5;241m==\u001b[39m \u001b[38;5;124m'\u001b[39m\u001b[38;5;124mexact\u001b[39m\u001b[38;5;124m'\u001b[39m:\n\u001b[1;32m---> 18\u001b[0m \u001b[43m    \u001b[49m\u001b[38;5;28;43;01mwith\u001b[39;49;00m\u001b[43m \u001b[49m\u001b[43mnp\u001b[49m\u001b[38;5;241;43m.\u001b[39;49m\u001b[43merrstate\u001b[49m\u001b[43m(\u001b[49m\u001b[43mdivide\u001b[49m\u001b[38;5;241;43m=\u001b[39;49m\u001b[38;5;124;43m'\u001b[39;49m\u001b[38;5;124;43mignore\u001b[39;49m\u001b[38;5;124;43m'\u001b[39;49m\u001b[43m,\u001b[49m\u001b[43m \u001b[49m\u001b[43minvalid\u001b[49m\u001b[38;5;241;43m=\u001b[39;49m\u001b[38;5;124;43m'\u001b[39;49m\u001b[38;5;124;43mignore\u001b[39;49m\u001b[38;5;124;43m'\u001b[39;49m\u001b[43m)\u001b[49m\u001b[43m:\u001b[49m\n\u001b[0;32m     19\u001b[0m \u001b[43m        \u001b[49m\u001b[43mp_value\u001b[49m\u001b[43m \u001b[49m\u001b[38;5;241;43m=\u001b[39;49m\u001b[43m \u001b[49m\u001b[43mbinomtest\u001b[49m\u001b[43m(\u001b[49m\u001b[43mdata\u001b[49m\u001b[43m,\u001b[49m\u001b[43m \u001b[49m\u001b[43mn\u001b[49m\u001b[43m,\u001b[49m\u001b[43m \u001b[49m\u001b[43mp_h0\u001b[49m\u001b[43m,\u001b[49m\u001b[43m \u001b[49m\u001b[43malternative\u001b[49m\u001b[38;5;241;43m=\u001b[39;49m\u001b[38;5;124;43m'\u001b[39;49m\u001b[38;5;124;43mtwo-sided\u001b[39;49m\u001b[38;5;124;43m'\u001b[39;49m\u001b[43m)\u001b[49m\u001b[38;5;241;43m.\u001b[39;49m\u001b[43mpvalue\u001b[49m\n\u001b[0;32m     20\u001b[0m \u001b[38;5;28;01melif\u001b[39;00m test_type \u001b[38;5;241m==\u001b[39m \u001b[38;5;124m'\u001b[39m\u001b[38;5;124mztest\u001b[39m\u001b[38;5;124m'\u001b[39m:\n",
      "File \u001b[1;32m~\\AppData\\Roaming\\Python\\Python312\\site-packages\\numpy\\_core\\_ufunc_config.py:426\u001b[0m, in \u001b[0;36merrstate.__exit__\u001b[1;34m(self, *exc_info)\u001b[0m\n\u001b[0;32m    419\u001b[0m         extobj \u001b[38;5;241m=\u001b[39m _make_extobj(\n\u001b[0;32m    420\u001b[0m                 call\u001b[38;5;241m=\u001b[39m\u001b[38;5;28mself\u001b[39m\u001b[38;5;241m.\u001b[39m_call,\n\u001b[0;32m    421\u001b[0m                 \u001b[38;5;28mall\u001b[39m\u001b[38;5;241m=\u001b[39m\u001b[38;5;28mself\u001b[39m\u001b[38;5;241m.\u001b[39m_all, divide\u001b[38;5;241m=\u001b[39m\u001b[38;5;28mself\u001b[39m\u001b[38;5;241m.\u001b[39m_divide, over\u001b[38;5;241m=\u001b[39m\u001b[38;5;28mself\u001b[39m\u001b[38;5;241m.\u001b[39m_over,\n\u001b[0;32m    422\u001b[0m                 under\u001b[38;5;241m=\u001b[39m\u001b[38;5;28mself\u001b[39m\u001b[38;5;241m.\u001b[39m_under, invalid\u001b[38;5;241m=\u001b[39m\u001b[38;5;28mself\u001b[39m\u001b[38;5;241m.\u001b[39m_invalid)\n\u001b[0;32m    424\u001b[0m     \u001b[38;5;28mself\u001b[39m\u001b[38;5;241m.\u001b[39m_token \u001b[38;5;241m=\u001b[39m _extobj_contextvar\u001b[38;5;241m.\u001b[39mset(extobj)\n\u001b[1;32m--> 426\u001b[0m \u001b[38;5;28;01mdef\u001b[39;00m \u001b[38;5;21m__exit__\u001b[39m(\u001b[38;5;28mself\u001b[39m, \u001b[38;5;241m*\u001b[39mexc_info):\n\u001b[0;32m    427\u001b[0m     _extobj_contextvar\u001b[38;5;241m.\u001b[39mreset(\u001b[38;5;28mself\u001b[39m\u001b[38;5;241m.\u001b[39m_token)\n\u001b[0;32m    429\u001b[0m \u001b[38;5;28;01mdef\u001b[39;00m \u001b[38;5;21m__call__\u001b[39m(\u001b[38;5;28mself\u001b[39m, func):\n\u001b[0;32m    430\u001b[0m     \u001b[38;5;66;03m# We need to customize `__call__` compared to `ContextDecorator`\u001b[39;00m\n\u001b[0;32m    431\u001b[0m     \u001b[38;5;66;03m# because we must store the token per-thread so cannot store it on\u001b[39;00m\n\u001b[0;32m    432\u001b[0m     \u001b[38;5;66;03m# the instance (we could create a new instance for this).\u001b[39;00m\n\u001b[0;32m    433\u001b[0m     \u001b[38;5;66;03m# This duplicates the code from `__enter__`.\u001b[39;00m\n",
      "\u001b[1;31mKeyboardInterrupt\u001b[0m: "
     ]
    },
    {
     "data": {
      "image/png": "[encoded data removed]",
      "text/plain": [
       "<Figure size 1800x500 with 3 Axes>"
      ]
     },
     "metadata": {},
     "output_type": "display_data"
    }
   ],
   "source": [
    "fig, axes = plt.subplots(1, 3, figsize=(18, 5))\n",
    "\n",
    "for idx, n in enumerate(n_values):\n",
    "    power_exact = []\n",
    "    power_ztest = []\n",
    "    for p in p_values:\n",
    "        power_exact.append(compute_power('exact', p, 0.9, n))\n",
    "        power_ztest.append(compute_power('ztest', p, 0.9, n))\n",
    "\n",
    "    axes[idx].plot(p_values, power_exact, label='Test dokładny (Binomialny)', marker='o')\n",
    "    axes[idx].plot(p_values, power_ztest, label='Test asymptotyczny (Z-test)', marker='x')\n",
    "    axes[idx].axhline(y=0.95, color='r', linestyle='--', linewidth=0.8)\n",
    "    axes[idx].set_title(f'Moc testu (n={n})')\n",
    "    axes[idx].set_xlabel('Prawdziwe p')\n",
    "    axes[idx].set_ylabel('Moc testu')\n",
    "    axes[idx].legend()\n",
    "\n",
    "plt.tight_layout()\n",
    "plt.show()"
   ]
  },
  {
   "cell_type": "markdown",
   "metadata": {},
   "source": [
    "Na podstawie przeprowadzonych symulacji można zauważyć, że test dokładny lepiej utrzymuje założony poziom istotności przy małych próbach (np. n = 30), ale jego moc, czyli zdolność do wykrycia różnicy, jest wtedy mniejsza, szczególnie gdy prawdziwa wartość parametru jest blisko wartości z hipotezy zerowej. Test asymptotyczny w takich przypadkach częściej odrzuca hipotezę zerową, nawet gdy nie powinien, co zwiększa ryzyko błędnej decyzji. Dla większych prób (n = 100 i n = 1000) różnice między testami stają się mniejsze – oba testy osiągają wysoką moc i dają zbliżone wyniki. W praktyce oznacza to, że test dokładny jest bezpieczniejszy przy małych próbach, a przy dużych można z powodzeniem stosować test asymptotyczny, który jest szybszy w obliczeniach."
   ]
  },
  {
   "cell_type": "markdown",
   "metadata": {},
   "source": [
    "----------------------------------------------------------------------\n",
    "\n",
    "## Zadania dodatkowe\n",
    "\n",
    "### ZADANIE *1. \n",
    "    Wyznacz granice asymptotycznego przedziału ufności dla prawdopodobieństwa sukcesu bazując na przekształceniu logit korzystając z metody delta. Zaimplementuj metodę oraz porównaj wyniki z funkcją zaimplementowaną w wybranym pakiecie."
   ]
  },
  {
   "cell_type": "code",
   "execution_count": null,
   "metadata": {},
   "outputs": [],
   "source": []
  }
 ],
 "metadata": {
  "kernelspec": {
   "display_name": "Python 3",
   "language": "python",
   "name": "python3"
  },
  "language_info": {
   "codemirror_mode": {
    "name": "ipython",
    "version": 3
   },
   "file_extension": ".py",
   "mimetype": "text/x-python",
   "name": "python",
   "nbconvert_exporter": "python",
   "pygments_lexer": "ipython3",
   "version": "3.12.5"
  }
 },
 "nbformat": 4,
 "nbformat_minor": 2
}
